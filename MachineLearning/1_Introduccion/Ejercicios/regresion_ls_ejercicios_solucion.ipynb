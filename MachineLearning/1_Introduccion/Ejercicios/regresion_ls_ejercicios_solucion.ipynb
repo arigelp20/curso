{
 "cells": [
  {
   "cell_type": "markdown",
   "metadata": {
    "id": "HtxYCjX4w6t5"
   },
   "source": [
    "<a href=\"https://colab.research.google.com/github/institutohumai/cursos-python/blob/master/MachineLearning/1_Introduccion/Ejercicios/regresion_ls_ejercicios_solucion.ipynb\"> <img src='https://colab.research.google.com/assets/colab-badge.svg' /> </a>"
   ]
  },
  {
   "cell_type": "markdown",
   "metadata": {
    "id": "nTORVO-lwqQN"
   },
   "source": [
    "# Prediciendo ventas de productos\n",
    "\n",
    "En este ejercicio continuaremos viendo el dataset visto en la notebook anterior. Queremos predecir las ventas del producto y nuestro conjunto de datos tiene las ventas en 200 mercados, y el presupuesto dedicado en publicidad en 3 medios: TV, radio y diario.\n",
    "\n",
    "Carguemos este dataset y algunas librerías:"
   ]
  },
  {
   "cell_type": "code",
   "execution_count": 2,
   "metadata": {
    "executionInfo": {
     "elapsed": 335,
     "status": "ok",
     "timestamp": 1655347362622,
     "user": {
      "displayName": "Gaston Bujia",
      "userId": "15901710506675448257"
     },
     "user_tz": 180
    },
    "id": "ilh4zsmcvsFK"
   },
   "outputs": [],
   "source": [
    "import pandas as pd\n",
    "import numpy as np\n",
    "import matplotlib.pyplot as plt\n",
    "import statsmodels.api as sm\n",
    "import seaborn as sns; sns.set()"
   ]
  },
  {
   "cell_type": "code",
   "execution_count": 3,
   "metadata": {
    "id": "USR-jTAYZGcW"
   },
   "outputs": [],
   "source": [
    "df = pd.read_csv('https://datasets-humai.s3.amazonaws.com/datasets/advertising.csv')"
   ]
  },
  {
   "cell_type": "markdown",
   "metadata": {
    "id": "kWWoHD24xfMQ"
   },
   "source": [
    "Como habiamos visto antes la relación parece ser lineal con la variable TV, es decir cuanta plata se invirtió ahí. Crear un `X` dataframe que tenga solo las variables TV, Radio y Newspaper, y crear una variable `y` que tenga solo el dato de las ventas."
   ]
  },
  {
   "cell_type": "code",
   "execution_count": 4,
   "metadata": {
    "executionInfo": {
     "elapsed": 9,
     "status": "ok",
     "timestamp": 1655337786840,
     "user": {
      "displayName": "Gaston Bujia",
      "userId": "15901710506675448257"
     },
     "user_tz": 180
    },
    "id": "pDsTqF60xeiW"
   },
   "outputs": [],
   "source": [
    "# Completar\n",
    "X = df[['TV', 'Radio', 'Newspaper']]\n",
    "y = df['Sales']"
   ]
  },
  {
   "cell_type": "markdown",
   "metadata": {
    "id": "_yg1LtRexl_x"
   },
   "source": [
    "## Ejercicio 1 - Train Test Split\n",
    "\n",
    "a) En este ejericio elaborar una separación de datos en entrenamiento, dejando un 25% de datos para prueba. Para eso utilicen `train_test_split` de Scikit-Learn basandose en el ejemplo presente en la [documentación](https://scikit-learn.org/stable/modules/generated/sklearn.model_selection.train_test_split.html), deberían crear una variable `X_train`, `X_test` con los features, y con los targets `y_train`, e `y_test`. ¿Qué tamaño tiene cada conjunto? ¿El conjunto que crearon tiene el mismo orden de filas?\n"
   ]
  },
  {
   "cell_type": "code",
   "execution_count": 5,
   "metadata": {
    "colab": {
     "base_uri": "https://localhost:8080/"
    },
    "executionInfo": {
     "elapsed": 312,
     "status": "ok",
     "timestamp": 1655337908257,
     "user": {
      "displayName": "Gaston Bujia",
      "userId": "15901710506675448257"
     },
     "user_tz": 180
    },
    "id": "k7TjRDZYyf9O",
    "outputId": "841fbc82-d516-41c7-ead3-63b2388b5586"
   },
   "outputs": [
    {
     "data": {
      "text/plain": [
       "((150, 3), (50, 3), (150,), (50,))"
      ]
     },
     "execution_count": 5,
     "metadata": {},
     "output_type": "execute_result"
    }
   ],
   "source": [
    "from sklearn.model_selection import train_test_split\n",
    "\n",
    "# Completar\n",
    "X_train, X_test, y_train, y_test = train_test_split(X, y, test_size=0.25, random_state=42)\n",
    "X_train.shape, X_test.shape, y_train.shape, y_test.shape "
   ]
  },
  {
   "cell_type": "markdown",
   "metadata": {
    "id": "F4xtbz8a0x5M"
   },
   "source": [
    "b) Quedarse solo con la columna que corresponde a TV, y ajustar un modelo de regresion lineal al conjunto de entrenamiento con intercept. Tambien construir una matriz que tenga solo la columna de TV en el conjunto de test. "
   ]
  },
  {
   "cell_type": "code",
   "execution_count": 6,
   "metadata": {
    "colab": {
     "base_uri": "https://localhost:8080/"
    },
    "executionInfo": {
     "elapsed": 314,
     "status": "ok",
     "timestamp": 1655339251446,
     "user": {
      "displayName": "Gaston Bujia",
      "userId": "15901710506675448257"
     },
     "user_tz": 180
    },
    "id": "6wLIeb-U1ffP",
    "outputId": "83e5cbad-df95-40c3-80cb-73501a3024b0"
   },
   "outputs": [
    {
     "data": {
      "text/plain": [
       "LinearRegression()"
      ]
     },
     "execution_count": 6,
     "metadata": {},
     "output_type": "execute_result"
    }
   ],
   "source": [
    "from sklearn.linear_model import LinearRegression\n",
    "\n",
    "# Completar\n",
    "X_train_tv = X_train.loc[:,['TV']]\n",
    "X_test_tv  = X_test.loc[:,['TV']]\n",
    "\n",
    "model = LinearRegression(fit_intercept=True)\n",
    "model.fit(X_train_tv, y_train)"
   ]
  },
  {
   "cell_type": "code",
   "execution_count": 7,
   "metadata": {},
   "outputs": [
    {
     "data": {
      "text/html": [
       "<div>\n",
       "<style scoped>\n",
       "    .dataframe tbody tr th:only-of-type {\n",
       "        vertical-align: middle;\n",
       "    }\n",
       "\n",
       "    .dataframe tbody tr th {\n",
       "        vertical-align: top;\n",
       "    }\n",
       "\n",
       "    .dataframe thead th {\n",
       "        text-align: right;\n",
       "    }\n",
       "</style>\n",
       "<table border=\"1\" class=\"dataframe\">\n",
       "  <thead>\n",
       "    <tr style=\"text-align: right;\">\n",
       "      <th></th>\n",
       "      <th>TV</th>\n",
       "    </tr>\n",
       "  </thead>\n",
       "  <tbody>\n",
       "    <tr>\n",
       "      <th>114</th>\n",
       "      <td>78.2</td>\n",
       "    </tr>\n",
       "    <tr>\n",
       "      <th>173</th>\n",
       "      <td>168.4</td>\n",
       "    </tr>\n",
       "    <tr>\n",
       "      <th>5</th>\n",
       "      <td>8.7</td>\n",
       "    </tr>\n",
       "    <tr>\n",
       "      <th>126</th>\n",
       "      <td>7.8</td>\n",
       "    </tr>\n",
       "    <tr>\n",
       "      <th>117</th>\n",
       "      <td>76.4</td>\n",
       "    </tr>\n",
       "    <tr>\n",
       "      <th>...</th>\n",
       "      <td>...</td>\n",
       "    </tr>\n",
       "    <tr>\n",
       "      <th>106</th>\n",
       "      <td>25.0</td>\n",
       "    </tr>\n",
       "    <tr>\n",
       "      <th>14</th>\n",
       "      <td>204.1</td>\n",
       "    </tr>\n",
       "    <tr>\n",
       "      <th>92</th>\n",
       "      <td>217.7</td>\n",
       "    </tr>\n",
       "    <tr>\n",
       "      <th>179</th>\n",
       "      <td>165.6</td>\n",
       "    </tr>\n",
       "    <tr>\n",
       "      <th>102</th>\n",
       "      <td>280.2</td>\n",
       "    </tr>\n",
       "  </tbody>\n",
       "</table>\n",
       "<p>150 rows × 1 columns</p>\n",
       "</div>"
      ],
      "text/plain": [
       "        TV\n",
       "114   78.2\n",
       "173  168.4\n",
       "5      8.7\n",
       "126    7.8\n",
       "117   76.4\n",
       "..     ...\n",
       "106   25.0\n",
       "14   204.1\n",
       "92   217.7\n",
       "179  165.6\n",
       "102  280.2\n",
       "\n",
       "[150 rows x 1 columns]"
      ]
     },
     "execution_count": 7,
     "metadata": {},
     "output_type": "execute_result"
    }
   ],
   "source": [
    "X_train_tv"
   ]
  },
  {
   "cell_type": "markdown",
   "metadata": {
    "id": "I6epDgvv1qF7"
   },
   "source": [
    "c) Ahora vamos a querer evaluar nuestro modelo en nuestro conjunto de testeo, para eso tenemos que calcular las predicciones del modelo $\\hat{y}$, y para esto usamos el método `predict` sobre todo el conjunto de testeo.\n",
    "\n",
    "`y_predicted = modelo.predict(X_test)`\n",
    "\n",
    "Luego, usando los valores reales de `y` en el conjunto de test, nos interesa calcular el error de nuestro modelo en datos que no vio, justamente el conjunto de test. Para eso vamos a calcular uno de los errores más populares, el [Error Cuadrático Medio](https://es.wikipedia.org/wiki/Error_cuadr%C3%A1tico_medio):\n",
    "\n",
    "$ ECM = \\dfrac{1}{n} \\sum (y_i - \\hat{y}_i)^2$\n",
    "\n",
    "Es decir que el ECM es el promedio de la diferencia entre los vectores `y_test` e `y_predict` elevadas al cuadrado. Calcular el ECM usando solo herramientas de `numpy`:"
   ]
  },
  {
   "cell_type": "code",
   "execution_count": 8,
   "metadata": {
    "colab": {
     "base_uri": "https://localhost:8080/"
    },
    "executionInfo": {
     "elapsed": 276,
     "status": "ok",
     "timestamp": 1655339671109,
     "user": {
      "displayName": "Gaston Bujia",
      "userId": "15901710506675448257"
     },
     "user_tz": 180
    },
    "id": "r7qpBxyX1quB",
    "outputId": "ecc1851a-edb8-472f-97d6-a062d400ed8c"
   },
   "outputs": [
    {
     "name": "stdout",
     "output_type": "stream",
     "text": [
      "El ECM fue de:  5.513351187165512\n"
     ]
    }
   ],
   "source": [
    "# Completar\n",
    "\n",
    "# calculamos las predicciones sobre test\n",
    "y_predict = model.predict(X_test_tv)\n",
    "\n",
    "# calculamos el cuadrado de las diferencias de estos vectores\n",
    "ecm = (y_test - y_predict)**2\n",
    "\n",
    "# calculamos el promedio usando mean\n",
    "print('El ECM fue de: ', ecm.mean())"
   ]
  },
  {
   "cell_type": "markdown",
   "metadata": {
    "id": "GIbJK_Ka29hK"
   },
   "source": [
    "d) Podemos usar el ECM que nos brinda SkLearn: [RMS](https://scikit-learn.org/stable/modules/generated/sklearn.metrics.mean_squared_error.html?highlight=rms). Calcularlo el ECM para cada conjunto, entrenamiento y testo. ¿En que conjunto rindió mejor nuestro modelo?"
   ]
  },
  {
   "cell_type": "code",
   "execution_count": 9,
   "metadata": {
    "colab": {
     "base_uri": "https://localhost:8080/"
    },
    "executionInfo": {
     "elapsed": 311,
     "status": "ok",
     "timestamp": 1655340637438,
     "user": {
      "displayName": "Gaston Bujia",
      "userId": "15901710506675448257"
     },
     "user_tz": 180
    },
    "id": "E0HV-ZiH7I04",
    "outputId": "36e5e803-e941-4d94-b00f-f2ea1fd53ccc"
   },
   "outputs": [
    {
     "data": {
      "text/plain": [
       "5.513351187165511"
      ]
     },
     "execution_count": 9,
     "metadata": {},
     "output_type": "execute_result"
    }
   ],
   "source": [
    "from sklearn.metrics import mean_squared_error\n",
    "\n",
    "# Completar (debería dar lo mismo que el item anterior)\n",
    "mean_squared_error(y_test, y_predict)"
   ]
  },
  {
   "cell_type": "markdown",
   "metadata": {
    "id": "rLhkpva20gBr"
   },
   "source": [
    "## Ejercicio 2 - Probando otras variables\n",
    "\n",
    "Ajustar un modelo lineal para cada variable sobre el conjunto que entrenamiento y calcular el error sobre cada conjunto para cada modelo. Comparar el rendimiento de cada modelo en ambos conjuntos, ¿cuál fue el mejor modelo?. Por lo visto en clase, ¿era esperable este resultado?"
   ]
  },
  {
   "cell_type": "code",
   "execution_count": 10,
   "metadata": {
    "colab": {
     "base_uri": "https://localhost:8080/"
    },
    "executionInfo": {
     "elapsed": 310,
     "status": "ok",
     "timestamp": 1655340589003,
     "user": {
      "displayName": "Gaston Bujia",
      "userId": "15901710506675448257"
     },
     "user_tz": 180
    },
    "id": "hMsoUOCJ601-",
    "outputId": "d578b483-be0f-4c79-f3e6-5164d67b87e7"
   },
   "outputs": [
    {
     "name": "stdout",
     "output_type": "stream",
     "text": [
      "El ECM usando la variable Radio es de 25.517129841551355 y en entrenamiento fue de 24.25715106339045\n",
      "El ECM usando la variable Newspaper es de 29.134781012313784 y en entrenamiento fue de 26.67228614304226\n"
     ]
    }
   ],
   "source": [
    "from sklearn.metrics import mean_squared_error\n",
    "\n",
    "# Completar\n",
    "\n",
    "# sugerencia (pueden no usarla)\n",
    "def regresion_ls(X_train:pd.DataFrame, \n",
    "                 X_test :pd.DataFrame,\n",
    "                 y_train:pd.Series, \n",
    "                 y_test :pd.Series,\n",
    "                 var: str):\n",
    "  \"\"\"\n",
    "  Input\n",
    "    X, y: Datos\n",
    "    var: Nombre del feature a utilizar para ajustar un modelo de regresion simple\n",
    "  Output\n",
    "    El modelo y métricas\n",
    "  \"\"\"\n",
    "  # datos\n",
    "  X_train_aux = X_train.loc[:,[var]]\n",
    "  X_test_aux  = X_test.loc[:,[var]]\n",
    "\n",
    "  modelo = LinearRegression(fit_intercept=True)\n",
    "  modelo.fit(X_train_aux, y_train)\n",
    "  # predigo y evaluo en test\n",
    "  ecm_test_aux  = mean_squared_error(modelo.predict(X_test_aux), y_test)\n",
    "  # predigo y evaluo en entrenamiento\n",
    "  ecm_train_aux  = mean_squared_error(modelo.predict(X_train_aux), y_train)\n",
    "\n",
    "  print(f'El ECM usando la variable {var} es de {ecm_test_aux} y en entrenamiento fue de {ecm_train_aux}')\n",
    "  \n",
    "  return modelo\n",
    "\n",
    "# modelo de la radio\n",
    "modelo_radio = regresion_ls(X_train, X_test, y_train, y_test, var='Radio')\n",
    "\n",
    "# modelo del diario\n",
    "modelo_diario = regresion_ls(X_train, X_test, y_train, y_test, var='Newspaper')"
   ]
  },
  {
   "cell_type": "markdown",
   "metadata": {
    "id": "AM2gOKfd9JKY"
   },
   "source": [
    "¿Cuál es el peso asignado a cada variable por nuestros modelos? ¿Utilizaría solo este dato para hacer una recomendación sobre donde invertir de los tres medios?"
   ]
  },
  {
   "cell_type": "code",
   "execution_count": 11,
   "metadata": {
    "colab": {
     "base_uri": "https://localhost:8080/"
    },
    "executionInfo": {
     "elapsed": 418,
     "status": "ok",
     "timestamp": 1655340883719,
     "user": {
      "displayName": "Gaston Bujia",
      "userId": "15901710506675448257"
     },
     "user_tz": 180
    },
    "id": "Wn1mBdUA9G5E",
    "outputId": "cca3ed5c-1979-4f0d-8527-82f50b3eb9b4"
   },
   "outputs": [
    {
     "data": {
      "text/plain": [
       "(array([0.05538653]), array([0.11553615]), array([0.03527123]))"
      ]
     },
     "execution_count": 11,
     "metadata": {},
     "output_type": "execute_result"
    }
   ],
   "source": [
    "# Completar\n",
    "model.coef_, modelo_radio.coef_, modelo_diario.coef_"
   ]
  },
  {
   "cell_type": "markdown",
   "metadata": {
    "id": "mTz1eJgw2n8K"
   },
   "source": [
    "# Haciendo regresiones en conjuntos de juguete\n",
    "\n",
    "Scikit-Learn es una librería muy versátil que nos brinda herramientas no solo relacionados a los tipos de modelos, sino que tambíen nos deja crear datasets de juguete según la tarea que nos interese, en este caso la regresión. Para eso contamos con la función [`make_regresion`](https://scikit-learn.org/stable/modules/generated/sklearn.datasets.make_regression.html#sklearn.datasets.make_regression), donde no solo obtenemos las features y los targets, sino que también nos devuelve el coeficiente utilizado para generar este conjunto. "
   ]
  },
  {
   "cell_type": "code",
   "execution_count": 12,
   "metadata": {
    "colab": {
     "base_uri": "https://localhost:8080/",
     "height": 285
    },
    "executionInfo": {
     "elapsed": 671,
     "status": "ok",
     "timestamp": 1655348026642,
     "user": {
      "displayName": "Gaston Bujia",
      "userId": "15901710506675448257"
     },
     "user_tz": 180
    },
    "id": "19bqwWBrA8vX",
    "outputId": "a6dc6043-75f6-47f0-ac32-5b56b24c7324"
   },
   "outputs": [
    {
     "name": "stdout",
     "output_type": "stream",
     "text": [
      "17.685270409065257\n"
     ]
    },
    {
     "data": {
      "image/png": "[encoded data removed]",
      "text/plain": [
       "<Figure size 432x288 with 1 Axes>"
      ]
     },
     "metadata": {},
     "output_type": "display_data"
    }
   ],
   "source": [
    "from sklearn.datasets import make_regression\n",
    "from sklearn.model_selection import train_test_split\n",
    "\n",
    "# Ejemplo\n",
    "n_samples_train, n_samples_test, n_features = 4000, 1000, 1\n",
    "\n",
    "X, y, coef = make_regression(\n",
    "    n_samples=n_samples_train + n_samples_test,\n",
    "    n_features=n_features,\n",
    "    n_informative=1,\n",
    "    shuffle=False,\n",
    "    noise=10.0,\n",
    "    coef=True,\n",
    "    bias = -7,\n",
    "    random_state = 2022\n",
    ")\n",
    "\n",
    "plt.scatter(X,y);\n",
    "print(coef)"
   ]
  },
  {
   "cell_type": "markdown",
   "metadata": {
    "id": "pF8SSslTPb1g"
   },
   "source": [
    "Esto nos crea un dataset donde con la cantidad de muestras solicitadas, la cantidad de features, pudiendo controlar el ruido que se utiliza para generar estas instancias. Vamos a utilizar este dataset para evaluar nuestros modelos de regresión, aprovechando que sabemos el *coeficiente* que se utilizó para generar los datos."
   ]
  },
  {
   "cell_type": "markdown",
   "metadata": {
    "id": "1QWS1iuC75Vt"
   },
   "source": [
    "## Ejercicio 1 - Toy Dataset\n",
    "\n",
    "A partir del X e y creados anteriormente, seleccione los últimos 1000 datos para el conjunto de testeo y los primeros 4000 para entrenamiento. Ajuste un modelo lineal con intercept y reporte el *error cuadrático* tanto en entrenamiento como en test. Reporten el error cuadrático en test."
   ]
  },
  {
   "cell_type": "code",
   "execution_count": 13,
   "metadata": {
    "colab": {
     "base_uri": "https://localhost:8080/"
    },
    "executionInfo": {
     "elapsed": 393,
     "status": "ok",
     "timestamp": 1655347169943,
     "user": {
      "displayName": "Gaston Bujia",
      "userId": "15901710506675448257"
     },
     "user_tz": 180
    },
    "id": "PuFRMyfH745h",
    "outputId": "2a094a04-bba6-4e30-a42d-ba1025451e24"
   },
   "outputs": [
    {
     "data": {
      "text/plain": [
       "98.01671442472826"
      ]
     },
     "execution_count": 13,
     "metadata": {},
     "output_type": "execute_result"
    }
   ],
   "source": [
    "# Completar\n",
    "X_train = X[:n_samples_train,:]\n",
    "y_train = y[:n_samples_train]\n",
    "X_test = X[:n_samples_test,:]\n",
    "y_test = y[:n_samples_test]\n",
    "\n",
    "model = LinearRegression(fit_intercept=True)\n",
    "model.fit(X_train, y_train)\n",
    "mean_squared_error(y_test, model.predict(X_test))"
   ]
  },
  {
   "cell_type": "markdown",
   "metadata": {
    "id": "GUBpLmcIYXm9"
   },
   "source": [
    "¿Qué tan parecidos quedaron los coeficientes de nuestro modelo en comparación de los que se usaron para generar nuestro dataset?"
   ]
  },
  {
   "cell_type": "code",
   "execution_count": 14,
   "metadata": {
    "colab": {
     "base_uri": "https://localhost:8080/"
    },
    "executionInfo": {
     "elapsed": 8,
     "status": "ok",
     "timestamp": 1655347172585,
     "user": {
      "displayName": "Gaston Bujia",
      "userId": "15901710506675448257"
     },
     "user_tz": 180
    },
    "id": "aWS93JkPYIe9",
    "outputId": "0ddd636f-0f00-473b-d623-49ada31fc47b"
   },
   "outputs": [
    {
     "data": {
      "text/plain": [
       "(array([17.63217468]), -7.049825469975118)"
      ]
     },
     "execution_count": 14,
     "metadata": {},
     "output_type": "execute_result"
    }
   ],
   "source": [
    "# Completar\n",
    "model.coef_, model.intercept_"
   ]
  },
  {
   "cell_type": "markdown",
   "metadata": {
    "id": "7XHUMrOoYmgp"
   },
   "source": [
    "Graficar los datos junto a nuestro modelo. "
   ]
  },
  {
   "cell_type": "code",
   "execution_count": 15,
   "metadata": {
    "colab": {
     "base_uri": "https://localhost:8080/",
     "height": 268
    },
    "executionInfo": {
     "elapsed": 1139,
     "status": "ok",
     "timestamp": 1655347647535,
     "user": {
      "displayName": "Gaston Bujia",
      "userId": "15901710506675448257"
     },
     "user_tz": 180
    },
    "id": "6tP5nZKAYmLS",
    "outputId": "fccb7d4a-a363-4ed8-f3ae-c582507f6be7"
   },
   "outputs": [
    {
     "data": {
      "image/png": "[encoded data removed]",
      "text/plain": [
       "<Figure size 432x288 with 1 Axes>"
      ]
     },
     "metadata": {},
     "output_type": "display_data"
    }
   ],
   "source": [
    "# Completar\n",
    "\n",
    "# para graficar la recta\n",
    "xfit = np.linspace(-4, 4, 1000)\n",
    "yfit = model.predict(xfit[:,np.newaxis])\n",
    "\n",
    "plt.scatter(X_train, y_train, label = 'train')\n",
    "plt.scatter(X_test, y_test, label = 'test')\n",
    "plt.plot(xfit, yfit, 'r', label = 'modelo');\n",
    "plt.legend();"
   ]
  },
  {
   "cell_type": "markdown",
   "metadata": {
    "id": "p8CKHtzW0oAr"
   },
   "source": [
    "## Ejercicio 2 - Comparando nuestros modelos con $R^2$\n",
    "\n",
    "$R^2$ es una métrica que nos permite evaluar cuanta variabilidad del conjunto original de datos camptura nuestro modelo. Se lo conoce también como el [*coeficiente de determinación*](https://es.wikipedia.org/wiki/Coeficiente_de_determinaci%C3%B3n), y sklearn tiene su [implementación](https://scikit-learn.org/stable/modules/generated/sklearn.metrics.r2_score.html?highlight=r2#sklearn.metrics.r2_score). A diferencia del ECM, no se trata de una función de error, que mide que tan lejos esta nuestro modelo de los datos reales (errores más chicos es mejor), sino de un *score* o puntaje, es decir que más grande es mejor y lo máximo que pude valer es 1.\n",
    "\n",
    "$ R^2 = 1 - \\frac{\\text{variación no explicada}}{\\text{variación total}} = 1 - \\dfrac{(\\sum y_i - \\hat{y}_i)^2}{(\\sum y_i - \\bar{y})^2}$\n",
    "\n",
    "\n",
    "Calcular el valor de $R^2$ para nuestro modelo:"
   ]
  },
  {
   "cell_type": "code",
   "execution_count": 16,
   "metadata": {
    "colab": {
     "base_uri": "https://localhost:8080/"
    },
    "executionInfo": {
     "elapsed": 410,
     "status": "ok",
     "timestamp": 1655347657870,
     "user": {
      "displayName": "Gaston Bujia",
      "userId": "15901710506675448257"
     },
     "user_tz": 180
    },
    "id": "KeFCAfFT1LGy",
    "outputId": "52506d78-d863-4938-958e-455b5ffa42bb"
   },
   "outputs": [
    {
     "name": "stdout",
     "output_type": "stream",
     "text": [
      "0.7426826106911857\n"
     ]
    }
   ],
   "source": [
    "from sklearn.metrics import r2_score\n",
    "\n",
    "# Completar\n",
    "r2 = r2_score(y_test, model.predict(X_test))\n",
    "print(r2)"
   ]
  },
  {
   "cell_type": "markdown",
   "metadata": {
    "id": "5DoQn-R38Cbu"
   },
   "source": [
    "## Ejercicio 3 - Efecto del conjunto de entrenamiento: Learning Curves\n",
    "\n",
    "Muchas veces escucharemos aseverar que tener más datos es mejor, pero eso no es necesariamente cierto. Para ver si nuestro modelo necesita mas datos para mejorar su rendimiento podemos armar lo que se conoce como *curvas de aprendizaje* o *Learning curves*.\n",
    "\n",
    "Básicamente lo que haremos es empezar de un conjunto de entrenamiento muy pequeño e iremos incrementando la cantidad de datos del mismo, para ver si el rendimiento de cada modelo mejor o no al incorporar más datos. Scikit Learn nos provee una [función](https://scikit-learn.org/stable/modules/generated/sklearn.model_selection.learning_curve.html#sklearn.model_selection.learning_curve) para hacerlo, sin embargo vamos a hacer algo similar pero de manera manual.\n",
    "\n",
    "Completar el código siguiente para calcular un modelo para cada subconjunto de entrenamiento considerado, en el cual nos iremos quedando con distintos porcentajes de entrenamiento desde el 5% al 100%. Guardarse los $R^2$ en entrenamiento y testeo para cada modelo y finalmente realizar un gráfico donde veamos el error en función del porcentaje total de datos usado."
   ]
  },
  {
   "cell_type": "code",
   "execution_count": 17,
   "metadata": {
    "colab": {
     "base_uri": "https://localhost:8080/",
     "height": 268
    },
    "executionInfo": {
     "elapsed": 1117,
     "status": "ok",
     "timestamp": 1655348224748,
     "user": {
      "displayName": "Gaston Bujia",
      "userId": "15901710506675448257"
     },
     "user_tz": 180
    },
    "id": "tQRHyAt28BrQ",
    "outputId": "688ecbc1-8e65-4942-8a5b-a7bd1bd019a6"
   },
   "outputs": [
    {
     "data": {
      "image/png": "[encoded data removed]",
      "text/plain": [
       "<Figure size 432x288 with 1 Axes>"
      ]
     },
     "metadata": {},
     "output_type": "display_data"
    }
   ],
   "source": [
    "# Completar - \n",
    "\n",
    "train_errs = []\n",
    "test_errs  = []\n",
    "n = X_train.shape[0]\n",
    "\n",
    "for perc in np.linspace(0.05,1,20):\n",
    "  \n",
    "  X_train_aux = X_train[:int(n*perc),:]\n",
    "  y_train_aux = y_train[:int(n*perc)]\n",
    "  modelo = LinearRegression(fit_intercept=True)\n",
    "  modelo.fit(X_train_aux, y_train_aux)\n",
    "  # guardo scores en train\n",
    "  train_errs.append(r2_score(y_train_aux, modelo.predict(X_train_aux)))\n",
    "  # guardo scores en test\n",
    "  test_errs.append(r2_score(y_test, modelo.predict(X_test)))\n",
    "\n",
    "plt.plot(np.linspace(0.05,1,20), train_errs)\n",
    "plt.plot(np.linspace(0.05,1,20), test_errs)\n",
    "plt.legend(['train', 'test']);"
   ]
  },
  {
   "cell_type": "markdown",
   "metadata": {
    "id": "9KmQ8tyIWFxg"
   },
   "source": [
    "Vemos finalmente que nuestro modelo mejora con más datos de entrenamiento su rendimiento en entrenamiento, como era esperable. Sin embargo, satura rapidamente el rendimiento en test.\n",
    "\n",
    "*Aclaración*: Lo que acabamos de hacer no es exactamente una curva de aprendizaje, ya que deberiamos, para cada percentil, poder ajustar muchos conjuntos aleatorio con esa cantida de casos. Esto al menos nos garantizará poder estimar los desvíos para poder tener mayor rigurosidad estadística.\n",
    "\n",
    "Para más detalles analizar este [ejemplo](https://scikit-learn.org/stable/auto_examples/model_selection/plot_learning_curve.html)."
   ]
  }
 ],
 "metadata": {
  "colab": {
   "authorship_tag": "ABX9TyNR61iOfbioQNkwgsBmkOH8",
   "collapsed_sections": [],
   "name": "regresion_ls_ejercicios_solucion.ipynb",
   "provenance": [],
   "toc_visible": true
  },
  "kernelspec": {
   "display_name": "Python 3",
   "language": "python",
   "name": "python3"
  },
  "language_info": {
   "codemirror_mode": {
    "name": "ipython",
    "version": 3
   },
   "file_extension": ".py",
   "mimetype": "text/x-python",
   "name": "python",
   "nbconvert_exporter": "python",
   "pygments_lexer": "ipython3",
   "version": "3.8.8"
  }
 },
 "nbformat": 4,
 "nbformat_minor": 4
}
