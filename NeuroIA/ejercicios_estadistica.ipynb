{
 "cells": [
  {
   "cell_type": "markdown",
   "metadata": {},
   "source": [
    "## Frecuencia absoluta y relativa"
   ]
  },
  {
   "cell_type": "code",
   "execution_count": 72,
   "metadata": {
    "scrolled": true
   },
   "outputs": [
    {
     "name": "stdout",
     "output_type": "stream",
     "text": [
      "5      |      1\n",
      "888    |      1\n",
      "8      |      2\n",
      "1      |      2\n",
      "3      |      4\n"
     ]
    },
    {
     "data": {
      "text/plain": [
       "{1: 2, 3: 4, 5: 1, 8: 2, 888: 1}"
      ]
     },
     "execution_count": 72,
     "metadata": {},
     "output_type": "execute_result"
    }
   ],
   "source": [
    "Ejemplo:\n",
    "tabla([1, 8, 3, 888, 8, 3, 3, 1, 5, 3])"
   ]
  },
  {
   "cell_type": "markdown",
   "metadata": {},
   "source": [
    "### Calculá, usando la tabla, la media"
   ]
  },
  {
   "cell_type": "raw",
   "metadata": {},
   "source": [
    "[10, 10, 10, 12, 20, 10, 20, 9, 15, 12, 9, 10, 12, 10, 9, 15, 12, 10, 12, 12, 10, 12, 9, 10, 15, 12, 9, 15, 20, 15, 15, 9, 9, 10, 15, 15, 15, 9, 9, 10, 12, 20, 9, 10, 12, 10, 9, 15, 20, 15, 9, 12, 12, 9, 15, 12, 10, 12, 20, 9, 15, 9, 12, 12, 20, 10, 10, 20, 10, 15, 15, 15, 15, 10, 9, 10, 12, 15]"
   ]
  },
  {
   "cell_type": "markdown",
   "metadata": {},
   "source": [
    "## Medidas de dispersión"
   ]
  },
  {
   "cell_type": "markdown",
   "metadata": {},
   "source": [
    "#### Hacé una función que devuelva el rango de los datos"
   ]
  },
  {
   "cell_type": "markdown",
   "metadata": {},
   "source": [
    "Rango:\n",
    "$$ Max - Min $$"
   ]
  },
  {
   "cell_type": "code",
   "execution_count": null,
   "metadata": {},
   "outputs": [],
   "source": []
  },
  {
   "cell_type": "markdown",
   "metadata": {},
   "source": [
    "### Cuantiles\n",
    "- Cuartil\n",
    "- Decil\n",
    "- Percentil"
   ]
  },
  {
   "cell_type": "markdown",
   "metadata": {},
   "source": [
    "Percentiles:"
   ]
  },
  {
   "cell_type": "raw",
   "metadata": {},
   "source": [
    "Hacé una función que te de los cuartiles, o los percentiles.\n",
    "Para los percentiles tené en cuenta que el número correspindiente "
   ]
  },
  {
   "cell_type": "markdown",
   "metadata": {},
   "source": [
    "$$x={\\frac {n\\cdot i}{100}}$$"
   ]
  },
  {
   "cell_type": "markdown",
   "metadata": {},
   "source": [
    "$$P_{i}={\\begin{cases}elemento(E+1),&{\\mbox{para }}D<>0\\\\{\\frac {elemento(E)+elemento(E+1)}{2}},&{\\mbox{para }}D=0\\end{cases}}$$"
   ]
  },
  {
   "cell_type": "raw",
   "metadata": {},
   "source": [
    "n = n de la muestra\n",
    "i = percentil "
   ]
  },
  {
   "cell_type": "raw",
   "metadata": {},
   "source": [
    "E = Parte entera\n",
    "D = Decimales"
   ]
  },
  {
   "cell_type": "markdown",
   "metadata": {},
   "source": [
    "Rango intercuartil\n",
    "\n",
    "$$ IQR = Q3 −  Q1 $$"
   ]
  },
  {
   "cell_type": "markdown",
   "metadata": {},
   "source": [
    "Varianza\n",
    "\n",
    "$$\\sigma _{n}^{2}={\\frac {1}{n - 1}}\\sum _{i=1}^{n}\\left(X_{i}-{\\overline {X}}\\right)^{2}$$"
   ]
  },
  {
   "cell_type": "code",
   "execution_count": null,
   "metadata": {
    "collapsed": true,
    "jupyter": {
     "outputs_hidden": true
    }
   },
   "outputs": [],
   "source": [
    "#Varianza\n",
    "def var():\n",
    "    pass"
   ]
  },
  {
   "cell_type": "markdown",
   "metadata": {},
   "source": [
    "Desviación Estandar"
   ]
  },
  {
   "cell_type": "markdown",
   "metadata": {},
   "source": [
    "$${s={\\sqrt {{\\frac {1}{n}}\\sum _{i=1}^{n}\\left(x_{i}-{\\overline {x}}\\right)^{2}}}}$$"
   ]
  },
  {
   "cell_type": "code",
   "execution_count": 4,
   "metadata": {
    "collapsed": true,
    "jupyter": {
     "outputs_hidden": true
    }
   },
   "outputs": [],
   "source": [
    "#standard deviation\n",
    "def sd():\n",
    "    pass"
   ]
  },
  {
   "cell_type": "code",
   "execution_count": 2,
   "metadata": {
    "collapsed": true,
    "jupyter": {
     "outputs_hidden": true
    }
   },
   "outputs": [],
   "source": [
    "def asimetria(datos):\n",
    "    #los datos tienen asimetria negativa o positiva?\n",
    "    return asim"
   ]
  },
  {
   "cell_type": "markdown",
   "metadata": {},
   "source": [
    "- Bonus! Usa el coeficiente de asimetría de Pearson\n",
    "\n",
    "$$A_{p}={\\frac  {\\mu -moda}{\\sigma }},\\!$$"
   ]
  },
  {
   "cell_type": "raw",
   "metadata": {},
   "source": [
    "Una vez que tengamos todas nuestras funciones, vamos a crear nuestra propia librería! \n",
    "Importaremos las funciones, y estudiaremos los datos que generamos con el siguiente programa:"
   ]
  }
 ],
 "metadata": {
  "kernelspec": {
   "display_name": "Python 3",
   "language": "python",
   "name": "python3"
  },
  "language_info": {
   "codemirror_mode": {
    "name": "ipython",
    "version": 3
   },
   "file_extension": ".py",
   "mimetype": "text/x-python",
   "name": "python",
   "nbconvert_exporter": "python",
   "pygments_lexer": "ipython3",
   "version": "3.8.8"
  }
 },
 "nbformat": 4,
 "nbformat_minor": 4
}
