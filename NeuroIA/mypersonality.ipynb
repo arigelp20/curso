{
 "cells": [
  {
   "cell_type": "markdown",
   "metadata": {},
   "source": [
    "<a href=\"https://colab.research.google.com/github/institutohumai/cursos-python/blob/neuro/NeuroIA/mypersonality.ipynb\"> <img src='https://colab.research.google.com/assets/colab-badge.svg' /> </a>\n",
    "    <div align=\"center\"> Recordá abrir en una nueva pestaña </div>"
   ]
  },
  {
   "cell_type": "markdown",
   "metadata": {
    "id": "tIPBq-XweaYC"
   },
   "source": [
    "# MyPersonality"
   ]
  },
  {
   "cell_type": "markdown",
   "metadata": {
    "id": "1Wrsnq91dug0"
   },
   "source": [
    "La prueba Big5 (Costa y Mac Crae 1985, Goldberg et al. 2006) es una taxonomía o clasificación de rasgos de personalidad que analiza la composición de cinco dimensiones de personalidad en su sentido más amplio. Esta disertación se publicó en el Psychological Review, 41, 1-32. Los cinco factores son:\n",
    "\n",
    "- Apertura a la experiencia (inventivo / curioso vs. consistente / cauteloso) O  \n",
    "- Escrupulosidad (eficiente / organizado vs. extravagante / descuidado) C  \n",
    "- Extraversión (sociable / enérgico vs. solitario / reservado) E  \n",
    "- Amabilidad (amigable / compasivo vs. desafiante / insensible) A  \n",
    "- Neuroticismo (susceptible / nervioso vs. resistente / seguro) N"
   ]
  },
  {
   "cell_type": "code",
   "execution_count": null,
   "metadata": {
    "id": "2LAYxcZGeYdN"
   },
   "outputs": [],
   "source": [
    "import pandas as pd\n",
    "import plotly.express as px\n",
    "from scipy.stats import pearsonr\n",
    "import seaborn as sns\n",
    "import numpy as np"
   ]
  },
  {
   "cell_type": "code",
   "execution_count": null,
   "metadata": {
    "id": "jlo9DZIydK0G"
   },
   "outputs": [],
   "source": [
    "df = pd.read_csv('https://unket.s3-sa-east-1.amazonaws.com/data/mypersonality.csv')"
   ]
  },
  {
   "cell_type": "code",
   "execution_count": null,
   "metadata": {
    "colab": {
     "base_uri": "https://localhost:8080/"
    },
    "id": "T2NXopAXulZp",
    "outputId": "7d3d2004-f89b-4e07-f867-1a8cce3222d5"
   },
   "outputs": [
    {
     "data": {
      "text/plain": [
       "0       2.65\n",
       "1       2.65\n",
       "2       2.65\n",
       "3       2.65\n",
       "4       2.65\n",
       "        ... \n",
       "9912    2.15\n",
       "9913    4.05\n",
       "9914    4.05\n",
       "9915    1.40\n",
       "9916    4.25\n",
       "Name: sEXT, Length: 9917, dtype: float64"
      ]
     },
     "execution_count": 5,
     "metadata": {},
     "output_type": "execute_result"
    }
   ],
   "source": [
    "df['sEXT']"
   ]
  },
  {
   "cell_type": "code",
   "execution_count": null,
   "metadata": {
    "id": "duGAkCpE9Bux"
   },
   "outputs": [],
   "source": [
    "df = df.drop_duplicates(subset='#AUTHID')"
   ]
  },
  {
   "cell_type": "code",
   "execution_count": null,
   "metadata": {
    "colab": {
     "base_uri": "https://localhost:8080/",
     "height": 521
    },
    "id": "3Rk7okfReQEC",
    "outputId": "18f3ba28-30ed-4997-8c84-41ec3b8eb5dc"
   },
   "outputs": [
    {
     "data": {
      "text/html": [
       "<div>\n",
       "<style scoped>\n",
       "    .dataframe tbody tr th:only-of-type {\n",
       "        vertical-align: middle;\n",
       "    }\n",
       "\n",
       "    .dataframe tbody tr th {\n",
       "        vertical-align: top;\n",
       "    }\n",
       "\n",
       "    .dataframe thead th {\n",
       "        text-align: right;\n",
       "    }\n",
       "</style>\n",
       "<table border=\"1\" class=\"dataframe\">\n",
       "  <thead>\n",
       "    <tr style=\"text-align: right;\">\n",
       "      <th></th>\n",
       "      <th>#AUTHID</th>\n",
       "      <th>STATUS</th>\n",
       "      <th>sEXT</th>\n",
       "      <th>sNEU</th>\n",
       "      <th>sAGR</th>\n",
       "      <th>sCON</th>\n",
       "      <th>sOPN</th>\n",
       "      <th>cEXT</th>\n",
       "      <th>cNEU</th>\n",
       "      <th>cAGR</th>\n",
       "      <th>cCON</th>\n",
       "      <th>cOPN</th>\n",
       "      <th>DATE</th>\n",
       "      <th>NETWORKSIZE</th>\n",
       "      <th>BETWEENNESS</th>\n",
       "      <th>NBETWEENNESS</th>\n",
       "      <th>DENSITY</th>\n",
       "      <th>BROKERAGE</th>\n",
       "      <th>NBROKERAGE</th>\n",
       "      <th>TRANSITIVITY</th>\n",
       "    </tr>\n",
       "  </thead>\n",
       "  <tbody>\n",
       "    <tr>\n",
       "      <th>0</th>\n",
       "      <td>b7b7764cfa1c523e4e93ab2a79a946c4</td>\n",
       "      <td>likes the sound of thunder.</td>\n",
       "      <td>2.65</td>\n",
       "      <td>3.00</td>\n",
       "      <td>3.15</td>\n",
       "      <td>3.25</td>\n",
       "      <td>4.40</td>\n",
       "      <td>n</td>\n",
       "      <td>y</td>\n",
       "      <td>n</td>\n",
       "      <td>n</td>\n",
       "      <td>y</td>\n",
       "      <td>06/19/09 03:21 PM</td>\n",
       "      <td>180.0</td>\n",
       "      <td>14861.6</td>\n",
       "      <td>93.29</td>\n",
       "      <td>0.03</td>\n",
       "      <td>15661.0</td>\n",
       "      <td>0.49</td>\n",
       "      <td>0.10</td>\n",
       "    </tr>\n",
       "    <tr>\n",
       "      <th>102</th>\n",
       "      <td>318bf822d4f2bd3920367560218619c0</td>\n",
       "      <td>has bed bugs..... ewwwww!</td>\n",
       "      <td>4.50</td>\n",
       "      <td>4.00</td>\n",
       "      <td>3.00</td>\n",
       "      <td>4.50</td>\n",
       "      <td>3.75</td>\n",
       "      <td>y</td>\n",
       "      <td>y</td>\n",
       "      <td>n</td>\n",
       "      <td>y</td>\n",
       "      <td>n</td>\n",
       "      <td>06/27/09 11:21 PM</td>\n",
       "      <td>318.0</td>\n",
       "      <td>49024.8</td>\n",
       "      <td>97.88</td>\n",
       "      <td>0.02</td>\n",
       "      <td>49584.0</td>\n",
       "      <td>0.49</td>\n",
       "      <td>0.06</td>\n",
       "    </tr>\n",
       "    <tr>\n",
       "      <th>171</th>\n",
       "      <td>ecbddbfe00e0f83cfdb802a7186061c7</td>\n",
       "      <td>is stuck on Band-Aid brand, cuz Band-Aid's stu...</td>\n",
       "      <td>4.30</td>\n",
       "      <td>2.15</td>\n",
       "      <td>3.60</td>\n",
       "      <td>3.30</td>\n",
       "      <td>4.10</td>\n",
       "      <td>y</td>\n",
       "      <td>n</td>\n",
       "      <td>y</td>\n",
       "      <td>n</td>\n",
       "      <td>y</td>\n",
       "      <td>06/28/09 05:03 AM</td>\n",
       "      <td>739.0</td>\n",
       "      <td>267574.0</td>\n",
       "      <td>98.39</td>\n",
       "      <td>0.01</td>\n",
       "      <td>270029.0</td>\n",
       "      <td>0.50</td>\n",
       "      <td>0.07</td>\n",
       "    </tr>\n",
       "    <tr>\n",
       "      <th>236</th>\n",
       "      <td>db39f7b2aad360b1033ec1f8fcd57f9c</td>\n",
       "      <td>Back from vacation and tired</td>\n",
       "      <td>4.65</td>\n",
       "      <td>3.20</td>\n",
       "      <td>3.05</td>\n",
       "      <td>3.65</td>\n",
       "      <td>4.75</td>\n",
       "      <td>y</td>\n",
       "      <td>y</td>\n",
       "      <td>n</td>\n",
       "      <td>y</td>\n",
       "      <td>y</td>\n",
       "      <td>07/15/09 10:59 PM</td>\n",
       "      <td>102.0</td>\n",
       "      <td>4359.8</td>\n",
       "      <td>86.33</td>\n",
       "      <td>0.09</td>\n",
       "      <td>4668.0</td>\n",
       "      <td>0.46</td>\n",
       "      <td>0.36</td>\n",
       "    </tr>\n",
       "    <tr>\n",
       "      <th>246</th>\n",
       "      <td>4d035bd3fd8d9595d15cea9e388964be</td>\n",
       "      <td>had a great day at church...</td>\n",
       "      <td>3.70</td>\n",
       "      <td>2.90</td>\n",
       "      <td>3.40</td>\n",
       "      <td>3.35</td>\n",
       "      <td>4.05</td>\n",
       "      <td>y</td>\n",
       "      <td>y</td>\n",
       "      <td>n</td>\n",
       "      <td>n</td>\n",
       "      <td>y</td>\n",
       "      <td>07/19/09 05:40 PM</td>\n",
       "      <td>57.0</td>\n",
       "      <td>1509.5</td>\n",
       "      <td>98.02</td>\n",
       "      <td>0.05</td>\n",
       "      <td>1522.0</td>\n",
       "      <td>0.49</td>\n",
       "      <td>0.03</td>\n",
       "    </tr>\n",
       "  </tbody>\n",
       "</table>\n",
       "</div>"
      ],
      "text/plain": [
       "                              #AUTHID  ... TRANSITIVITY\n",
       "0    b7b7764cfa1c523e4e93ab2a79a946c4  ...         0.10\n",
       "102  318bf822d4f2bd3920367560218619c0  ...         0.06\n",
       "171  ecbddbfe00e0f83cfdb802a7186061c7  ...         0.07\n",
       "236  db39f7b2aad360b1033ec1f8fcd57f9c  ...         0.36\n",
       "246  4d035bd3fd8d9595d15cea9e388964be  ...         0.03\n",
       "\n",
       "[5 rows x 20 columns]"
      ]
     },
     "execution_count": 7,
     "metadata": {},
     "output_type": "execute_result"
    }
   ],
   "source": [
    "df.head()"
   ]
  },
  {
   "cell_type": "code",
   "execution_count": null,
   "metadata": {
    "colab": {
     "base_uri": "https://localhost:8080/",
     "height": 279
    },
    "id": "JcoBI31h93dY",
    "outputId": "c90daefb-8ea0-4be8-cfa3-5976453b84d5"
   },
   "outputs": [
    {
     "data": {
      "image/png": "[encoded data removed]",
      "text/plain": [
       "<Figure size 432x288 with 1 Axes>"
      ]
     },
     "metadata": {
      "needs_background": "light"
     },
     "output_type": "display_data"
    }
   ],
   "source": [
    "sns.kdeplot(df['NETWORKSIZE']);"
   ]
  },
  {
   "cell_type": "code",
   "execution_count": null,
   "metadata": {
    "colab": {
     "base_uri": "https://localhost:8080/"
    },
    "id": "tT6QDlnl93gP",
    "outputId": "cf80bf23-9025-4d64-feb1-212af332a027"
   },
   "outputs": [
    {
     "data": {
      "text/plain": [
       "315.0"
      ]
     },
     "execution_count": 11,
     "metadata": {},
     "output_type": "execute_result"
    }
   ],
   "source": [
    "np.median(df['NETWORKSIZE'])"
   ]
  },
  {
   "cell_type": "code",
   "execution_count": null,
   "metadata": {
    "colab": {
     "base_uri": "https://localhost:8080/"
    },
    "id": "td1gF3Ekdpnl",
    "outputId": "f5cafb65-a0a9-4aca-b2c3-9705257be89e"
   },
   "outputs": [
    {
     "data": {
      "text/plain": [
       "(0.3621394116038834, 3.664654662842724e-09)"
      ]
     },
     "execution_count": 12,
     "metadata": {},
     "output_type": "execute_result"
    }
   ],
   "source": [
    "rho, p = pearsonr(df['sEXT'], df['NETWORKSIZE'])\n",
    "rho, p"
   ]
  },
  {
   "cell_type": "code",
   "execution_count": null,
   "metadata": {
    "colab": {
     "base_uri": "https://localhost:8080/",
     "height": 35
    },
    "id": "u8kQDLYK93is",
    "outputId": "86d484e6-a0b3-4c7c-de8a-edc4aa219cc1"
   },
   "outputs": [
    {
     "data": {
      "application/vnd.google.colaboratory.intrinsic+json": {
       "type": "string"
      },
      "text/plain": [
       "'0.0000000037'"
      ]
     },
     "execution_count": 13,
     "metadata": {},
     "output_type": "execute_result"
    }
   ],
   "source": [
    "f'{p:.10f}'"
   ]
  },
  {
   "cell_type": "code",
   "execution_count": null,
   "metadata": {
    "colab": {
     "base_uri": "https://localhost:8080/"
    },
    "id": "sBOkIi5udriq",
    "outputId": "51ea5420-f99c-45ca-882c-4188b45178ea"
   },
   "outputs": [
    {
     "data": {
      "text/plain": [
       "(-0.18020241658633415, 0.004257725510543998)"
      ]
     },
     "execution_count": 61,
     "metadata": {
      "tags": []
     },
     "output_type": "execute_result"
    }
   ],
   "source": [
    "# Neuroticismo\n",
    "pearsonr(df['sNEU'], df['NETWORKSIZE'])"
   ]
  },
  {
   "cell_type": "code",
   "execution_count": null,
   "metadata": {
    "colab": {
     "base_uri": "https://localhost:8080/"
    },
    "id": "JqN5qpopek3H",
    "outputId": "77dd4452-44f4-4a12-cba0-8a169460a11e"
   },
   "outputs": [
    {
     "data": {
      "text/plain": [
       "(0.11133128697465432, 0.07892697855400191)"
      ]
     },
     "execution_count": 14,
     "metadata": {},
     "output_type": "execute_result"
    }
   ],
   "source": [
    "# Amabilidad\n",
    "pearsonr(df['sAGR'], df['NETWORKSIZE'])"
   ]
  },
  {
   "cell_type": "code",
   "execution_count": null,
   "metadata": {
    "colab": {
     "base_uri": "https://localhost:8080/",
     "height": 609
    },
    "id": "Di0XGO6Kdme8",
    "outputId": "f5d0e741-673c-4d1e-a6a4-57aadfeaee70"
   },
   "outputs": [
    {
     "name": "stderr",
     "output_type": "stream",
     "text": [
      "/usr/local/lib/python3.7/dist-packages/statsmodels/tools/_testing.py:19: FutureWarning:\n",
      "\n",
      "pandas.util.testing is deprecated. Use the functions in the public API at pandas.testing instead.\n",
      "\n"
     ]
    },
    {
     "data": {
      "text/html": [
       "<html>\n",
       "<head><meta charset=\"utf-8\" /></head>\n",
       "<body>\n",
       "    <div>\n",
       "            <script src=\"https://cdnjs.cloudflare.com/ajax/libs/mathjax/2.7.5/MathJax.js?config=TeX-AMS-MML_SVG\"></script><script type=\"text/javascript\">if (window.MathJax) {MathJax.Hub.Config({SVG: {font: \"STIX-Web\"}});}</script>\n",
       "                <script type=\"text/javascript\">window.PlotlyConfig = {MathJaxConfig: 'local'};</script>\n",
       "        <script src=\"https://cdn.plot.ly/plotly-latest.min.js\"></script>    \n",
       "            <div id=\"0a339138-74bb-43fa-8599-c465e10fbf15\" class=\"plotly-graph-div\" style=\"height:525px; width:100%;\"></div>\n",
       "            <script type=\"text/javascript\">\n",
       "                \n",
       "                    window.PLOTLYENV=window.PLOTLYENV || {};\n",
       "                    \n",
       "                if (document.getElementById(\"0a339138-74bb-43fa-8599-c465e10fbf15\")) {\n",
       "                    Plotly.newPlot(\n",
       "                        '0a339138-74bb-43fa-8599-c465e10fbf15',\n",
       "                        [{\"hoverlabel\": {\"namelength\": 0}, \"hovertemplate\": \"sEXT=%{x}<br>NETWORKSIZE=%{y}\", \"legendgroup\": \"\", \"marker\": {\"color\": \"#636efa\", \"symbol\": \"circle\"}, \"mode\": \"markers\", \"name\": \"\", \"showlegend\": false, \"type\": \"scatter\", \"x\": [2.65, 4.5, 4.3, 4.65, 3.7, 3.45, 3.15, 4.15, 3.65, 3.75, 3.35, 1.5, 3.25, 1.8, 3.55, 2.6, 3.35, 1.35, 3.15, 2.45, 4.1, 2.65, 4.3, 2.3, 4.5, 2.8, 2.45, 2.5, 2.9, 4.33, 2.55, 2.45, 4.2, 1.75, 2.0, 4.0, 3.4, 2.75, 4.0, 3.75, 2.05, 3.7, 3.6, 4.7, 4.55, 2.1, 4.2, 3.75, 4.5, 3.7, 3.6, 1.8, 1.8, 5.0, 3.5, 1.75, 4.0, 1.55, 2.7, 2.95, 3.7, 4.45, 3.0, 2.65, 3.25, 2.71, 4.25, 3.4, 3.8, 2.75, 2.7, 3.25, 2.7, 3.5, 3.3, 2.25, 3.75, 3.3, 2.1, 3.75, 2.9, 2.8, 3.5, 3.75, 3.3, 2.75, 4.5, 3.0, 3.55, 4.0, 4.75, 4.25, 2.0, 2.5, 3.7, 2.75, 4.75, 3.2, 2.75, 3.84, 2.35, 4.5, 3.65, 3.0, 5.0, 4.13, 3.2, 4.5, 2.95, 2.7, 3.0, 3.5, 3.1, 3.6, 3.0, 4.33, 4.5, 4.15, 3.25, 2.45, 3.75, 4.25, 4.15, 1.95, 4.0, 4.75, 3.8, 2.63, 4.5, 2.4, 4.5, 4.0, 1.6, 4.2, 3.0, 2.9, 1.75, 3.0, 3.05, 2.6, 2.9, 2.38, 3.25, 3.65, 2.55, 2.75, 3.0, 2.9, 3.2, 2.5, 4.6, 4.5, 4.65, 3.25, 4.0, 3.35, 2.55, 2.15, 2.25, 2.65, 3.25, 3.45, 3.5, 4.6, 1.33, 2.25, 3.25, 4.5, 4.0, 3.4, 3.65, 3.0, 4.6, 3.7, 4.75, 2.35, 3.4, 1.75, 3.45, 3.4, 3.4, 4.05, 4.55, 2.5, 1.9, 3.05, 3.5, 3.84, 4.5, 2.35, 3.45, 4.35, 3.25, 4.95, 3.35, 2.4, 1.7, 2.45, 2.75, 4.05, 3.4, 3.9, 4.5, 3.65, 3.68, 4.35, 2.6, 3.13, 2.85, 3.6, 2.85, 4.75, 2.25, 2.85, 3.4, 2.05, 4.38, 3.55, 3.5, 4.05, 1.9, 1.95, 2.15, 3.3, 2.35, 3.17, 3.6, 3.25, 4.0, 3.3, 2.9, 3.5, 2.4, 4.25, 2.8, 2.2, 1.85, 4.25, 2.75, 4.75, 3.2, 2.75, 4.75, 3.25, 2.45, 3.7, 2.15, 4.05, 1.4, 4.25], \"xaxis\": \"x\", \"y\": [180.0, 318.0, 739.0, 102.0, 57.0, 122.0, 75.0, 950.0, 475.0, 251.0, 789.0, 223.0, 671.0, 89.0, 379.0, 139.0, 431.0, 99.0, 255.0, 130.0, 947.0, 446.0, 494.0, 297.0, 535.0, 340.0, 285.0, 356.0, 222.0, 145.0, 145.0, 633.0, 332.0, 50.0, 628.0, 89.0, 1225.0, 731.0, 899.0, 376.0, 322.0, 385.0, 644.0, 457.0, 254.0, 307.0, 294.0, 289.0, 369.0, 1264.0, 290.0, 198.0, 171.0, 326.0, 241.0, 177.0, 464.0, 265.0, 102.0, 802.0, 216.0, 315.0, 1596.0, 245.0, 146.0, 731.0, 317.0, 209.0, 58.0, 270.0, 135.0, 335.0, 312.0, 306.0, 1460.0, 300.0, 775.0, 381.0, 573.0, 332.0, 354.0, 463.0, 256.0, 1350.0, 196.0, 258.0, 606.0, 134.0, 77.0, 959.0, 699.0, 900.0, 721.0, 239.0, 29.0, 160.0, 289.0, 222.0, 332.0, 254.0, 115.0, 676.0, 112.0, 431.0, 855.0, 694.0, 188.0, 822.0, 689.0, 177.0, 315.0, 562.0, 758.0, 804.0, 493.0, 654.0, 845.0, 714.0, 549.0, 1560.0, 278.0, 298.0, 298.0, 686.0, 631.0, 1091.0, 622.0, 267.0, 1151.0, 313.0, 965.0, 241.0, 159.0, 907.0, 459.0, 72.0, 91.0, 512.0, 144.0, 126.0, 414.0, 82.0, 169.0, 41.0, 81.0, 440.0, 77.0, 24.0, 565.0, 159.0, 775.0, 826.0, 175.0, 486.0, 302.0, 322.0, 436.0, 127.0, 1098.0, 313.0, 457.0, 95.0, 243.0, 1118.0, 85.0, 361.0, 216.0, 962.0, 559.0, 238.0, 138.0, 236.0, 1071.0, 187.0, 477.0, 361.0, 497.0, 99.0, 831.0, 278.0, 374.0, 46.0, 405.0, 381.0, 56.0, 367.0, 139.0, 584.0, 1043.0, 457.0, 695.0, 40.0, 277.0, 378.0, 144.0, 167.0, 197.0, 119.0, 262.0, 563.0, 266.0, 1267.0, 288.0, 322.0, 419.0, 595.0, 294.0, 333.0, 194.0, 174.0, 176.0, 1323.0, 38.0, 175.0, 274.0, 134.0, 622.0, 257.0, 413.0, 1226.0, 141.0, 415.0, 84.0, 253.0, 213.0, 343.0, 295.0, 443.0, 329.0, 714.0, 478.0, 61.0, 166.0, 955.0, 436.0, 94.0, 542.0, 321.0, 70.0, 447.0, 149.0, 161.0, 325.0, 231.0, 65.0, 451.0, 36.0, 83.0, 154.0, 539.0], \"yaxis\": \"y\"}, {\"hoverlabel\": {\"namelength\": 0}, \"hovertemplate\": \"<b>OLS trendline</b><br>NETWORKSIZE = 133.121422 * sEXT + -30.239697<br>R<sup>2</sup>=0.131145<br><br>sEXT=%{x}<br>NETWORKSIZE=%{y} <b>(trend)</b>\", \"legendgroup\": \"\", \"line\": {\"color\": \"red\"}, \"marker\": {\"color\": \"#636efa\", \"symbol\": \"circle\"}, \"mode\": \"lines\", \"name\": \"\", \"showlegend\": false, \"type\": \"scatter\", \"x\": [1.33, 1.35, 1.4, 1.5, 1.55, 1.6, 1.7, 1.75, 1.75, 1.75, 1.75, 1.8, 1.8, 1.8, 1.85, 1.9, 1.9, 1.95, 1.95, 2.0, 2.0, 2.05, 2.05, 2.1, 2.1, 2.15, 2.15, 2.15, 2.2, 2.25, 2.25, 2.25, 2.25, 2.3, 2.35, 2.35, 2.35, 2.35, 2.38, 2.4, 2.4, 2.4, 2.45, 2.45, 2.45, 2.45, 2.45, 2.45, 2.5, 2.5, 2.5, 2.5, 2.55, 2.55, 2.55, 2.6, 2.6, 2.6, 2.63, 2.65, 2.65, 2.65, 2.65, 2.7, 2.7, 2.7, 2.7, 2.71, 2.75, 2.75, 2.75, 2.75, 2.75, 2.75, 2.75, 2.75, 2.75, 2.8, 2.8, 2.8, 2.85, 2.85, 2.85, 2.9, 2.9, 2.9, 2.9, 2.9, 2.9, 2.95, 2.95, 3.0, 3.0, 3.0, 3.0, 3.0, 3.0, 3.0, 3.0, 3.0, 3.05, 3.05, 3.1, 3.13, 3.15, 3.15, 3.17, 3.2, 3.2, 3.2, 3.2, 3.25, 3.25, 3.25, 3.25, 3.25, 3.25, 3.25, 3.25, 3.25, 3.25, 3.25, 3.3, 3.3, 3.3, 3.3, 3.3, 3.35, 3.35, 3.35, 3.35, 3.4, 3.4, 3.4, 3.4, 3.4, 3.4, 3.4, 3.4, 3.45, 3.45, 3.45, 3.45, 3.5, 3.5, 3.5, 3.5, 3.5, 3.5, 3.5, 3.5, 3.55, 3.55, 3.55, 3.6, 3.6, 3.6, 3.6, 3.6, 3.65, 3.65, 3.65, 3.65, 3.65, 3.68, 3.7, 3.7, 3.7, 3.7, 3.7, 3.7, 3.7, 3.75, 3.75, 3.75, 3.75, 3.75, 3.75, 3.75, 3.8, 3.8, 3.84, 3.84, 3.9, 4.0, 4.0, 4.0, 4.0, 4.0, 4.0, 4.0, 4.0, 4.0, 4.05, 4.05, 4.05, 4.05, 4.1, 4.13, 4.15, 4.15, 4.15, 4.2, 4.2, 4.2, 4.25, 4.25, 4.25, 4.25, 4.25, 4.25, 4.3, 4.3, 4.33, 4.33, 4.35, 4.35, 4.38, 4.45, 4.5, 4.5, 4.5, 4.5, 4.5, 4.5, 4.5, 4.5, 4.5, 4.5, 4.5, 4.5, 4.5, 4.55, 4.55, 4.6, 4.6, 4.6, 4.65, 4.65, 4.7, 4.75, 4.75, 4.75, 4.75, 4.75, 4.75, 4.75, 4.95, 5.0, 5.0], \"xaxis\": \"x\", \"y\": [146.81179487362337, 149.47422331965498, 156.13029443473397, 169.442436664892, 176.09850777997102, 182.75457889505003, 196.06672112520803, 202.72279224028705, 202.72279224028705, 202.72279224028705, 202.72279224028705, 209.37886335536606, 209.37886335536606, 209.37886335536606, 216.03493447044508, 222.69100558552407, 222.69100558552407, 229.34707670060305, 229.34707670060305, 236.0031478156821, 236.0031478156821, 242.65921893076109, 242.65921893076109, 249.31529004584013, 249.31529004584013, 255.97136116091912, 255.97136116091912, 255.97136116091912, 262.62743227599816, 269.28350339107715, 269.28350339107715, 269.28350339107715, 269.28350339107715, 275.93957450615613, 282.5956456212352, 282.5956456212352, 282.5956456212352, 282.5956456212352, 286.5892882902826, 289.25171673631417, 289.25171673631417, 289.25171673631417, 295.9077878513932, 295.9077878513932, 295.9077878513932, 295.9077878513932, 295.9077878513932, 295.9077878513932, 302.5638589664722, 302.5638589664722, 302.5638589664722, 302.5638589664722, 309.2199300815512, 309.2199300815512, 309.2199300815512, 315.8760011966302, 315.8760011966302, 315.8760011966302, 319.86964386567763, 322.5320723117092, 322.5320723117092, 322.5320723117092, 322.5320723117092, 329.18814342678826, 329.18814342678826, 329.18814342678826, 329.18814342678826, 330.519357649804, 335.84421454186725, 335.84421454186725, 335.84421454186725, 335.84421454186725, 335.84421454186725, 335.84421454186725, 335.84421454186725, 335.84421454186725, 335.84421454186725, 342.50028565694623, 342.50028565694623, 342.50028565694623, 349.1563567720253, 349.1563567720253, 349.1563567720253, 355.81242788710426, 355.81242788710426, 355.81242788710426, 355.81242788710426, 355.81242788710426, 355.81242788710426, 362.4684990021833, 362.4684990021833, 369.1245701172623, 369.1245701172623, 369.1245701172623, 369.1245701172623, 369.1245701172623, 369.1245701172623, 369.1245701172623, 369.1245701172623, 369.1245701172623, 375.7806412323413, 375.7806412323413, 382.4367123474203, 386.43035501646773, 389.0927834624993, 389.0927834624993, 391.7552119085309, 395.74885457757836, 395.74885457757836, 395.74885457757836, 395.74885457757836, 402.40492569265734, 402.40492569265734, 402.40492569265734, 402.40492569265734, 402.40492569265734, 402.40492569265734, 402.40492569265734, 402.40492569265734, 402.40492569265734, 402.40492569265734, 402.40492569265734, 409.06099680773633, 409.06099680773633, 409.06099680773633, 409.06099680773633, 409.06099680773633, 415.7170679228154, 415.7170679228154, 415.7170679228154, 415.7170679228154, 422.37313903789436, 422.37313903789436, 422.37313903789436, 422.37313903789436, 422.37313903789436, 422.37313903789436, 422.37313903789436, 422.37313903789436, 429.0292101529734, 429.0292101529734, 429.0292101529734, 429.0292101529734, 435.6852812680524, 435.6852812680524, 435.6852812680524, 435.6852812680524, 435.6852812680524, 435.6852812680524, 435.6852812680524, 435.6852812680524, 442.3413523831314, 442.3413523831314, 442.3413523831314, 448.9974234982104, 448.9974234982104, 448.9974234982104, 448.9974234982104, 448.9974234982104, 455.6534946132894, 455.6534946132894, 455.6534946132894, 455.6534946132894, 455.6534946132894, 459.64713728233687, 462.30956572836845, 462.30956572836845, 462.30956572836845, 462.30956572836845, 462.30956572836845, 462.30956572836845, 462.30956572836845, 468.96563684344744, 468.96563684344744, 468.96563684344744, 468.96563684344744, 468.96563684344744, 468.96563684344744, 468.96563684344744, 475.62170795852643, 475.62170795852643, 480.94656485058965, 480.94656485058965, 488.9338501886844, 502.2459924188425, 502.2459924188425, 502.2459924188425, 502.2459924188425, 502.2459924188425, 502.2459924188425, 502.2459924188425, 502.2459924188425, 502.2459924188425, 508.9020635339214, 508.9020635339214, 508.9020635339214, 508.9020635339214, 515.5581346490004, 519.5517773180478, 522.2142057640796, 522.2142057640796, 522.2142057640796, 528.8702768791585, 528.8702768791585, 528.8702768791585, 535.5263479942375, 535.5263479942375, 535.5263479942375, 535.5263479942375, 535.5263479942375, 535.5263479942375, 542.1824191093165, 542.1824191093165, 546.1760617783639, 546.1760617783639, 548.8384902243954, 548.8384902243954, 552.8321328934429, 562.1506324545536, 568.8067035696325, 568.8067035696325, 568.8067035696325, 568.8067035696325, 568.8067035696325, 568.8067035696325, 568.8067035696325, 568.8067035696325, 568.8067035696325, 568.8067035696325, 568.8067035696325, 568.8067035696325, 568.8067035696325, 575.4627746847115, 575.4627746847115, 582.1188457997905, 582.1188457997905, 582.1188457997905, 588.7749169148697, 588.7749169148697, 595.4309880299486, 602.0870591450275, 602.0870591450275, 602.0870591450275, 602.0870591450275, 602.0870591450275, 602.0870591450275, 602.0870591450275, 628.7113436053437, 635.3674147204226, 635.3674147204226], \"yaxis\": \"y\"}],\n",
       "                        {\"legend\": {\"tracegroupgap\": 0}, \"template\": {\"data\": {\"bar\": [{\"error_x\": {\"color\": \"#2a3f5f\"}, \"error_y\": {\"color\": \"#2a3f5f\"}, \"marker\": {\"line\": {\"color\": \"#E5ECF6\", \"width\": 0.5}}, \"type\": \"bar\"}], \"barpolar\": [{\"marker\": {\"line\": {\"color\": \"#E5ECF6\", \"width\": 0.5}}, \"type\": \"barpolar\"}], \"carpet\": [{\"aaxis\": {\"endlinecolor\": \"#2a3f5f\", \"gridcolor\": \"white\", \"linecolor\": \"white\", \"minorgridcolor\": \"white\", \"startlinecolor\": \"#2a3f5f\"}, \"baxis\": {\"endlinecolor\": \"#2a3f5f\", \"gridcolor\": \"white\", \"linecolor\": \"white\", \"minorgridcolor\": \"white\", \"startlinecolor\": \"#2a3f5f\"}, \"type\": \"carpet\"}], \"choropleth\": [{\"colorbar\": {\"outlinewidth\": 0, \"ticks\": \"\"}, \"type\": \"choropleth\"}], \"contour\": [{\"colorbar\": {\"outlinewidth\": 0, \"ticks\": \"\"}, \"colorscale\": [[0.0, \"#0d0887\"], [0.1111111111111111, \"#46039f\"], [0.2222222222222222, \"#7201a8\"], [0.3333333333333333, \"#9c179e\"], [0.4444444444444444, \"#bd3786\"], [0.5555555555555556, \"#d8576b\"], [0.6666666666666666, \"#ed7953\"], [0.7777777777777778, \"#fb9f3a\"], [0.8888888888888888, \"#fdca26\"], [1.0, \"#f0f921\"]], \"type\": \"contour\"}], \"contourcarpet\": [{\"colorbar\": {\"outlinewidth\": 0, \"ticks\": \"\"}, \"type\": \"contourcarpet\"}], \"heatmap\": [{\"colorbar\": {\"outlinewidth\": 0, \"ticks\": \"\"}, \"colorscale\": [[0.0, \"#0d0887\"], [0.1111111111111111, \"#46039f\"], [0.2222222222222222, \"#7201a8\"], [0.3333333333333333, \"#9c179e\"], [0.4444444444444444, \"#bd3786\"], [0.5555555555555556, \"#d8576b\"], [0.6666666666666666, \"#ed7953\"], [0.7777777777777778, \"#fb9f3a\"], [0.8888888888888888, \"#fdca26\"], [1.0, \"#f0f921\"]], \"type\": \"heatmap\"}], \"heatmapgl\": [{\"colorbar\": {\"outlinewidth\": 0, \"ticks\": \"\"}, \"colorscale\": [[0.0, \"#0d0887\"], [0.1111111111111111, \"#46039f\"], [0.2222222222222222, \"#7201a8\"], [0.3333333333333333, \"#9c179e\"], [0.4444444444444444, \"#bd3786\"], [0.5555555555555556, \"#d8576b\"], [0.6666666666666666, \"#ed7953\"], [0.7777777777777778, \"#fb9f3a\"], [0.8888888888888888, \"#fdca26\"], [1.0, \"#f0f921\"]], \"type\": \"heatmapgl\"}], \"histogram\": [{\"marker\": {\"colorbar\": {\"outlinewidth\": 0, \"ticks\": \"\"}}, \"type\": \"histogram\"}], \"histogram2d\": [{\"colorbar\": {\"outlinewidth\": 0, \"ticks\": \"\"}, \"colorscale\": [[0.0, \"#0d0887\"], [0.1111111111111111, \"#46039f\"], [0.2222222222222222, \"#7201a8\"], [0.3333333333333333, \"#9c179e\"], [0.4444444444444444, \"#bd3786\"], [0.5555555555555556, \"#d8576b\"], [0.6666666666666666, \"#ed7953\"], [0.7777777777777778, \"#fb9f3a\"], [0.8888888888888888, \"#fdca26\"], [1.0, \"#f0f921\"]], \"type\": \"histogram2d\"}], \"histogram2dcontour\": [{\"colorbar\": {\"outlinewidth\": 0, \"ticks\": \"\"}, \"colorscale\": [[0.0, \"#0d0887\"], [0.1111111111111111, \"#46039f\"], [0.2222222222222222, \"#7201a8\"], [0.3333333333333333, \"#9c179e\"], [0.4444444444444444, \"#bd3786\"], [0.5555555555555556, \"#d8576b\"], [0.6666666666666666, \"#ed7953\"], [0.7777777777777778, \"#fb9f3a\"], [0.8888888888888888, \"#fdca26\"], [1.0, \"#f0f921\"]], \"type\": \"histogram2dcontour\"}], \"mesh3d\": [{\"colorbar\": {\"outlinewidth\": 0, \"ticks\": \"\"}, \"type\": \"mesh3d\"}], \"parcoords\": [{\"line\": {\"colorbar\": {\"outlinewidth\": 0, \"ticks\": \"\"}}, \"type\": \"parcoords\"}], \"pie\": [{\"automargin\": true, \"type\": \"pie\"}], \"scatter\": [{\"marker\": {\"colorbar\": {\"outlinewidth\": 0, \"ticks\": \"\"}}, \"type\": \"scatter\"}], \"scatter3d\": [{\"line\": {\"colorbar\": {\"outlinewidth\": 0, \"ticks\": \"\"}}, \"marker\": {\"colorbar\": {\"outlinewidth\": 0, \"ticks\": \"\"}}, \"type\": \"scatter3d\"}], \"scattercarpet\": [{\"marker\": {\"colorbar\": {\"outlinewidth\": 0, \"ticks\": \"\"}}, \"type\": \"scattercarpet\"}], \"scattergeo\": [{\"marker\": {\"colorbar\": {\"outlinewidth\": 0, \"ticks\": \"\"}}, \"type\": \"scattergeo\"}], \"scattergl\": [{\"marker\": {\"colorbar\": {\"outlinewidth\": 0, \"ticks\": \"\"}}, \"type\": \"scattergl\"}], \"scattermapbox\": [{\"marker\": {\"colorbar\": {\"outlinewidth\": 0, \"ticks\": \"\"}}, \"type\": \"scattermapbox\"}], \"scatterpolar\": [{\"marker\": {\"colorbar\": {\"outlinewidth\": 0, \"ticks\": \"\"}}, \"type\": \"scatterpolar\"}], \"scatterpolargl\": [{\"marker\": {\"colorbar\": {\"outlinewidth\": 0, \"ticks\": \"\"}}, \"type\": \"scatterpolargl\"}], \"scatterternary\": [{\"marker\": {\"colorbar\": {\"outlinewidth\": 0, \"ticks\": \"\"}}, \"type\": \"scatterternary\"}], \"surface\": [{\"colorbar\": {\"outlinewidth\": 0, \"ticks\": \"\"}, \"colorscale\": [[0.0, \"#0d0887\"], [0.1111111111111111, \"#46039f\"], [0.2222222222222222, \"#7201a8\"], [0.3333333333333333, \"#9c179e\"], [0.4444444444444444, \"#bd3786\"], [0.5555555555555556, \"#d8576b\"], [0.6666666666666666, \"#ed7953\"], [0.7777777777777778, \"#fb9f3a\"], [0.8888888888888888, \"#fdca26\"], [1.0, \"#f0f921\"]], \"type\": \"surface\"}], \"table\": [{\"cells\": {\"fill\": {\"color\": \"#EBF0F8\"}, \"line\": {\"color\": \"white\"}}, \"header\": {\"fill\": {\"color\": \"#C8D4E3\"}, \"line\": {\"color\": \"white\"}}, \"type\": \"table\"}]}, \"layout\": {\"annotationdefaults\": {\"arrowcolor\": \"#2a3f5f\", \"arrowhead\": 0, \"arrowwidth\": 1}, \"coloraxis\": {\"colorbar\": {\"outlinewidth\": 0, \"ticks\": \"\"}}, \"colorscale\": {\"diverging\": [[0, \"#8e0152\"], [0.1, \"#c51b7d\"], [0.2, \"#de77ae\"], [0.3, \"#f1b6da\"], [0.4, \"#fde0ef\"], [0.5, \"#f7f7f7\"], [0.6, \"#e6f5d0\"], [0.7, \"#b8e186\"], [0.8, \"#7fbc41\"], [0.9, \"#4d9221\"], [1, \"#276419\"]], \"sequential\": [[0.0, \"#0d0887\"], [0.1111111111111111, \"#46039f\"], [0.2222222222222222, \"#7201a8\"], [0.3333333333333333, \"#9c179e\"], [0.4444444444444444, \"#bd3786\"], [0.5555555555555556, \"#d8576b\"], [0.6666666666666666, \"#ed7953\"], [0.7777777777777778, \"#fb9f3a\"], [0.8888888888888888, \"#fdca26\"], [1.0, \"#f0f921\"]], \"sequentialminus\": [[0.0, \"#0d0887\"], [0.1111111111111111, \"#46039f\"], [0.2222222222222222, \"#7201a8\"], [0.3333333333333333, \"#9c179e\"], [0.4444444444444444, \"#bd3786\"], [0.5555555555555556, \"#d8576b\"], [0.6666666666666666, \"#ed7953\"], [0.7777777777777778, \"#fb9f3a\"], [0.8888888888888888, \"#fdca26\"], [1.0, \"#f0f921\"]]}, \"colorway\": [\"#636efa\", \"#EF553B\", \"#00cc96\", \"#ab63fa\", \"#FFA15A\", \"#19d3f3\", \"#FF6692\", \"#B6E880\", \"#FF97FF\", \"#FECB52\"], \"font\": {\"color\": \"#2a3f5f\"}, \"geo\": {\"bgcolor\": \"white\", \"lakecolor\": \"white\", \"landcolor\": \"#E5ECF6\", \"showlakes\": true, \"showland\": true, \"subunitcolor\": \"white\"}, \"hoverlabel\": {\"align\": \"left\"}, \"hovermode\": \"closest\", \"mapbox\": {\"style\": \"light\"}, \"paper_bgcolor\": \"white\", \"plot_bgcolor\": \"#E5ECF6\", \"polar\": {\"angularaxis\": {\"gridcolor\": \"white\", \"linecolor\": \"white\", \"ticks\": \"\"}, \"bgcolor\": \"#E5ECF6\", \"radialaxis\": {\"gridcolor\": \"white\", \"linecolor\": \"white\", \"ticks\": \"\"}}, \"scene\": {\"xaxis\": {\"backgroundcolor\": \"#E5ECF6\", \"gridcolor\": \"white\", \"gridwidth\": 2, \"linecolor\": \"white\", \"showbackground\": true, \"ticks\": \"\", \"zerolinecolor\": \"white\"}, \"yaxis\": {\"backgroundcolor\": \"#E5ECF6\", \"gridcolor\": \"white\", \"gridwidth\": 2, \"linecolor\": \"white\", \"showbackground\": true, \"ticks\": \"\", \"zerolinecolor\": \"white\"}, \"zaxis\": {\"backgroundcolor\": \"#E5ECF6\", \"gridcolor\": \"white\", \"gridwidth\": 2, \"linecolor\": \"white\", \"showbackground\": true, \"ticks\": \"\", \"zerolinecolor\": \"white\"}}, \"shapedefaults\": {\"line\": {\"color\": \"#2a3f5f\"}}, \"ternary\": {\"aaxis\": {\"gridcolor\": \"white\", \"linecolor\": \"white\", \"ticks\": \"\"}, \"baxis\": {\"gridcolor\": \"white\", \"linecolor\": \"white\", \"ticks\": \"\"}, \"bgcolor\": \"#E5ECF6\", \"caxis\": {\"gridcolor\": \"white\", \"linecolor\": \"white\", \"ticks\": \"\"}}, \"title\": {\"x\": 0.05}, \"xaxis\": {\"automargin\": true, \"gridcolor\": \"white\", \"linecolor\": \"white\", \"ticks\": \"\", \"title\": {\"standoff\": 15}, \"zerolinecolor\": \"white\", \"zerolinewidth\": 2}, \"yaxis\": {\"automargin\": true, \"gridcolor\": \"white\", \"linecolor\": \"white\", \"ticks\": \"\", \"title\": {\"standoff\": 15}, \"zerolinecolor\": \"white\", \"zerolinewidth\": 2}}}, \"title\": {\"text\": \"Extroversi\\u00f3n\"}, \"xaxis\": {\"anchor\": \"y\", \"domain\": [0.0, 1.0], \"title\": {\"text\": \"sEXT\"}}, \"yaxis\": {\"anchor\": \"x\", \"domain\": [0.0, 1.0], \"title\": {\"text\": \"NETWORKSIZE\"}}},\n",
       "                        {\"responsive\": true}\n",
       "                    ).then(function(){\n",
       "                            \n",
       "var gd = document.getElementById('0a339138-74bb-43fa-8599-c465e10fbf15');\n",
       "var x = new MutationObserver(function (mutations, observer) {{\n",
       "        var display = window.getComputedStyle(gd).display;\n",
       "        if (!display || display === 'none') {{\n",
       "            console.log([gd, 'removed!']);\n",
       "            Plotly.purge(gd);\n",
       "            observer.disconnect();\n",
       "        }}\n",
       "}});\n",
       "\n",
       "// Listen for the removal of the full notebook cells\n",
       "var notebookContainer = gd.closest('#notebook-container');\n",
       "if (notebookContainer) {{\n",
       "    x.observe(notebookContainer, {childList: true});\n",
       "}}\n",
       "\n",
       "// Listen for the clearing of the current output cell\n",
       "var outputEl = gd.closest('.output');\n",
       "if (outputEl) {{\n",
       "    x.observe(outputEl, {childList: true});\n",
       "}}\n",
       "\n",
       "                        })\n",
       "                };\n",
       "                \n",
       "            </script>\n",
       "        </div>\n",
       "</body>\n",
       "</html>"
      ]
     },
     "metadata": {
      "tags": []
     },
     "output_type": "display_data"
    }
   ],
   "source": [
    "fig = px.scatter(df, x=\"sEXT\", y=\"NETWORKSIZE\", trendline=\"ols\", trendline_color_override='red', title='Extroversión')\n",
    "fig.show();"
   ]
  },
  {
   "cell_type": "code",
   "execution_count": null,
   "metadata": {
    "colab": {
     "base_uri": "https://localhost:8080/",
     "height": 960
    },
    "id": "4WhcXhi_UWen",
    "outputId": "3f804f72-bbfa-4e9f-d16f-230cf50f0bfc"
   },
   "outputs": [
    {
     "data": {
      "text/html": [
       "<div>\n",
       "<style scoped>\n",
       "    .dataframe tbody tr th:only-of-type {\n",
       "        vertical-align: middle;\n",
       "    }\n",
       "\n",
       "    .dataframe tbody tr th {\n",
       "        vertical-align: top;\n",
       "    }\n",
       "\n",
       "    .dataframe thead th {\n",
       "        text-align: right;\n",
       "    }\n",
       "</style>\n",
       "<table border=\"1\" class=\"dataframe\">\n",
       "  <thead>\n",
       "    <tr style=\"text-align: right;\">\n",
       "      <th></th>\n",
       "      <th>#AUTHID</th>\n",
       "      <th>STATUS</th>\n",
       "      <th>sEXT</th>\n",
       "      <th>sNEU</th>\n",
       "      <th>sAGR</th>\n",
       "      <th>sCON</th>\n",
       "      <th>sOPN</th>\n",
       "      <th>cEXT</th>\n",
       "      <th>cNEU</th>\n",
       "      <th>cAGR</th>\n",
       "      <th>cCON</th>\n",
       "      <th>cOPN</th>\n",
       "      <th>DATE</th>\n",
       "      <th>NETWORKSIZE</th>\n",
       "      <th>BETWEENNESS</th>\n",
       "      <th>NBETWEENNESS</th>\n",
       "      <th>DENSITY</th>\n",
       "      <th>BROKERAGE</th>\n",
       "      <th>NBROKERAGE</th>\n",
       "      <th>TRANSITIVITY</th>\n",
       "    </tr>\n",
       "  </thead>\n",
       "  <tbody>\n",
       "    <tr>\n",
       "      <th>171</th>\n",
       "      <td>ecbddbfe00e0f83cfdb802a7186061c7</td>\n",
       "      <td>is stuck on Band-Aid brand, cuz Band-Aid's stu...</td>\n",
       "      <td>4.30</td>\n",
       "      <td>2.15</td>\n",
       "      <td>3.6</td>\n",
       "      <td>3.30</td>\n",
       "      <td>4.1</td>\n",
       "      <td>y</td>\n",
       "      <td>n</td>\n",
       "      <td>y</td>\n",
       "      <td>n</td>\n",
       "      <td>y</td>\n",
       "      <td>06/28/09 05:03 AM</td>\n",
       "      <td>739.0</td>\n",
       "      <td>267574.0</td>\n",
       "      <td>98.39</td>\n",
       "      <td>0.01</td>\n",
       "      <td>270029.0</td>\n",
       "      <td>0.5</td>\n",
       "      <td>0.07</td>\n",
       "    </tr>\n",
       "    <tr>\n",
       "      <th>172</th>\n",
       "      <td>ecbddbfe00e0f83cfdb802a7186061c7</td>\n",
       "      <td>Just going to grab some raw fish................</td>\n",
       "      <td>4.30</td>\n",
       "      <td>2.15</td>\n",
       "      <td>3.6</td>\n",
       "      <td>3.30</td>\n",
       "      <td>4.1</td>\n",
       "      <td>y</td>\n",
       "      <td>n</td>\n",
       "      <td>y</td>\n",
       "      <td>n</td>\n",
       "      <td>y</td>\n",
       "      <td>06/14/09 08:33 PM</td>\n",
       "      <td>739.0</td>\n",
       "      <td>267574.0</td>\n",
       "      <td>98.39</td>\n",
       "      <td>0.01</td>\n",
       "      <td>270029.0</td>\n",
       "      <td>0.5</td>\n",
       "      <td>0.07</td>\n",
       "    </tr>\n",
       "    <tr>\n",
       "      <th>173</th>\n",
       "      <td>ecbddbfe00e0f83cfdb802a7186061c7</td>\n",
       "      <td>saw HP6... funny, lots of awesome awkward sile...</td>\n",
       "      <td>4.30</td>\n",
       "      <td>2.15</td>\n",
       "      <td>3.6</td>\n",
       "      <td>3.30</td>\n",
       "      <td>4.1</td>\n",
       "      <td>y</td>\n",
       "      <td>n</td>\n",
       "      <td>y</td>\n",
       "      <td>n</td>\n",
       "      <td>y</td>\n",
       "      <td>07/15/09 07:04 AM</td>\n",
       "      <td>739.0</td>\n",
       "      <td>267574.0</td>\n",
       "      <td>98.39</td>\n",
       "      <td>0.01</td>\n",
       "      <td>270029.0</td>\n",
       "      <td>0.5</td>\n",
       "      <td>0.07</td>\n",
       "    </tr>\n",
       "    <tr>\n",
       "      <th>174</th>\n",
       "      <td>ecbddbfe00e0f83cfdb802a7186061c7</td>\n",
       "      <td>Need to re-learn my patterns again... awesome...</td>\n",
       "      <td>4.30</td>\n",
       "      <td>2.15</td>\n",
       "      <td>3.6</td>\n",
       "      <td>3.30</td>\n",
       "      <td>4.1</td>\n",
       "      <td>y</td>\n",
       "      <td>n</td>\n",
       "      <td>y</td>\n",
       "      <td>n</td>\n",
       "      <td>y</td>\n",
       "      <td>07/09/09 12:13 AM</td>\n",
       "      <td>739.0</td>\n",
       "      <td>267574.0</td>\n",
       "      <td>98.39</td>\n",
       "      <td>0.01</td>\n",
       "      <td>270029.0</td>\n",
       "      <td>0.5</td>\n",
       "      <td>0.07</td>\n",
       "    </tr>\n",
       "    <tr>\n",
       "      <th>175</th>\n",
       "      <td>ecbddbfe00e0f83cfdb802a7186061c7</td>\n",
       "      <td>FREE SLURPEE DAY!!!</td>\n",
       "      <td>4.30</td>\n",
       "      <td>2.15</td>\n",
       "      <td>3.6</td>\n",
       "      <td>3.30</td>\n",
       "      <td>4.1</td>\n",
       "      <td>y</td>\n",
       "      <td>n</td>\n",
       "      <td>y</td>\n",
       "      <td>n</td>\n",
       "      <td>y</td>\n",
       "      <td>07/11/09 03:18 PM</td>\n",
       "      <td>739.0</td>\n",
       "      <td>267574.0</td>\n",
       "      <td>98.39</td>\n",
       "      <td>0.01</td>\n",
       "      <td>270029.0</td>\n",
       "      <td>0.5</td>\n",
       "      <td>0.07</td>\n",
       "    </tr>\n",
       "    <tr>\n",
       "      <th>...</th>\n",
       "      <td>...</td>\n",
       "      <td>...</td>\n",
       "      <td>...</td>\n",
       "      <td>...</td>\n",
       "      <td>...</td>\n",
       "      <td>...</td>\n",
       "      <td>...</td>\n",
       "      <td>...</td>\n",
       "      <td>...</td>\n",
       "      <td>...</td>\n",
       "      <td>...</td>\n",
       "      <td>...</td>\n",
       "      <td>...</td>\n",
       "      <td>...</td>\n",
       "      <td>...</td>\n",
       "      <td>...</td>\n",
       "      <td>...</td>\n",
       "      <td>...</td>\n",
       "      <td>...</td>\n",
       "      <td>...</td>\n",
       "    </tr>\n",
       "    <tr>\n",
       "      <th>9867</th>\n",
       "      <td>b4de950df13c0765018013237c6a1b3d</td>\n",
       "      <td>is sorry if she did not reply to text messages...</td>\n",
       "      <td>4.25</td>\n",
       "      <td>1.75</td>\n",
       "      <td>5.0</td>\n",
       "      <td>4.25</td>\n",
       "      <td>3.5</td>\n",
       "      <td>y</td>\n",
       "      <td>n</td>\n",
       "      <td>y</td>\n",
       "      <td>y</td>\n",
       "      <td>n</td>\n",
       "      <td>11/07/09 06:35 AM</td>\n",
       "      <td>955.0</td>\n",
       "      <td>441841.0</td>\n",
       "      <td>97.20</td>\n",
       "      <td>0.01</td>\n",
       "      <td>450439.0</td>\n",
       "      <td>0.5</td>\n",
       "      <td>0.08</td>\n",
       "    </tr>\n",
       "    <tr>\n",
       "      <th>9868</th>\n",
       "      <td>b4de950df13c0765018013237c6a1b3d</td>\n",
       "      <td>is back in the US.</td>\n",
       "      <td>4.25</td>\n",
       "      <td>1.75</td>\n",
       "      <td>5.0</td>\n",
       "      <td>4.25</td>\n",
       "      <td>3.5</td>\n",
       "      <td>y</td>\n",
       "      <td>n</td>\n",
       "      <td>y</td>\n",
       "      <td>y</td>\n",
       "      <td>n</td>\n",
       "      <td>12/16/09 09:50 PM</td>\n",
       "      <td>955.0</td>\n",
       "      <td>441841.0</td>\n",
       "      <td>97.20</td>\n",
       "      <td>0.01</td>\n",
       "      <td>450439.0</td>\n",
       "      <td>0.5</td>\n",
       "      <td>0.08</td>\n",
       "    </tr>\n",
       "    <tr>\n",
       "      <th>9869</th>\n",
       "      <td>b4de950df13c0765018013237c6a1b3d</td>\n",
       "      <td>Me \"Will you X me?\" *PROPNAME* \"No. I don't do...</td>\n",
       "      <td>4.25</td>\n",
       "      <td>1.75</td>\n",
       "      <td>5.0</td>\n",
       "      <td>4.25</td>\n",
       "      <td>3.5</td>\n",
       "      <td>y</td>\n",
       "      <td>n</td>\n",
       "      <td>y</td>\n",
       "      <td>y</td>\n",
       "      <td>n</td>\n",
       "      <td>01/02/09 04:05 PM</td>\n",
       "      <td>955.0</td>\n",
       "      <td>441841.0</td>\n",
       "      <td>97.20</td>\n",
       "      <td>0.01</td>\n",
       "      <td>450439.0</td>\n",
       "      <td>0.5</td>\n",
       "      <td>0.08</td>\n",
       "    </tr>\n",
       "    <tr>\n",
       "      <th>9870</th>\n",
       "      <td>b4de950df13c0765018013237c6a1b3d</td>\n",
       "      <td>thinks she should throw more clothes away so s...</td>\n",
       "      <td>4.25</td>\n",
       "      <td>1.75</td>\n",
       "      <td>5.0</td>\n",
       "      <td>4.25</td>\n",
       "      <td>3.5</td>\n",
       "      <td>y</td>\n",
       "      <td>n</td>\n",
       "      <td>y</td>\n",
       "      <td>y</td>\n",
       "      <td>n</td>\n",
       "      <td>01/27/10 02:45 AM</td>\n",
       "      <td>955.0</td>\n",
       "      <td>441841.0</td>\n",
       "      <td>97.20</td>\n",
       "      <td>0.01</td>\n",
       "      <td>450439.0</td>\n",
       "      <td>0.5</td>\n",
       "      <td>0.08</td>\n",
       "    </tr>\n",
       "    <tr>\n",
       "      <th>9871</th>\n",
       "      <td>b4de950df13c0765018013237c6a1b3d</td>\n",
       "      <td>My Indian address: 109 Blincoe Avon, Belmont A...</td>\n",
       "      <td>4.25</td>\n",
       "      <td>1.75</td>\n",
       "      <td>5.0</td>\n",
       "      <td>4.25</td>\n",
       "      <td>3.5</td>\n",
       "      <td>y</td>\n",
       "      <td>n</td>\n",
       "      <td>y</td>\n",
       "      <td>y</td>\n",
       "      <td>n</td>\n",
       "      <td>01/20/10 02:18 AM</td>\n",
       "      <td>955.0</td>\n",
       "      <td>441841.0</td>\n",
       "      <td>97.20</td>\n",
       "      <td>0.01</td>\n",
       "      <td>450439.0</td>\n",
       "      <td>0.5</td>\n",
       "      <td>0.08</td>\n",
       "    </tr>\n",
       "  </tbody>\n",
       "</table>\n",
       "<p>1976 rows × 20 columns</p>\n",
       "</div>"
      ],
      "text/plain": [
       "                               #AUTHID  ... TRANSITIVITY\n",
       "171   ecbddbfe00e0f83cfdb802a7186061c7  ...         0.07\n",
       "172   ecbddbfe00e0f83cfdb802a7186061c7  ...         0.07\n",
       "173   ecbddbfe00e0f83cfdb802a7186061c7  ...         0.07\n",
       "174   ecbddbfe00e0f83cfdb802a7186061c7  ...         0.07\n",
       "175   ecbddbfe00e0f83cfdb802a7186061c7  ...         0.07\n",
       "...                                ...  ...          ...\n",
       "9867  b4de950df13c0765018013237c6a1b3d  ...         0.08\n",
       "9868  b4de950df13c0765018013237c6a1b3d  ...         0.08\n",
       "9869  b4de950df13c0765018013237c6a1b3d  ...         0.08\n",
       "9870  b4de950df13c0765018013237c6a1b3d  ...         0.08\n",
       "9871  b4de950df13c0765018013237c6a1b3d  ...         0.08\n",
       "\n",
       "[1976 rows x 20 columns]"
      ]
     },
     "execution_count": 150,
     "metadata": {
      "tags": []
     },
     "output_type": "execute_result"
    }
   ],
   "source": [
    "# mascara booleana\n",
    "df[df['NETWORKSIZE'] > 700]"
   ]
  },
  {
   "cell_type": "code",
   "execution_count": null,
   "metadata": {
    "id": "D8cCx8HpUWen"
   },
   "outputs": [],
   "source": [
    "mascara_booleana = df['NETWORKSIZE'] > 100"
   ]
  },
  {
   "cell_type": "markdown",
   "metadata": {
    "id": "o62zOwnsUWen"
   },
   "source": [
    "Nos devuelve una serie de la misma longitud que la original y que contiene sólo valores True o False. "
   ]
  },
  {
   "cell_type": "code",
   "execution_count": null,
   "metadata": {
    "colab": {
     "base_uri": "https://localhost:8080/"
    },
    "id": "1jfFr84HUWeo",
    "outputId": "b1b301a4-b19a-4c80-f4c0-fc41070af673"
   },
   "outputs": [
    {
     "data": {
      "text/plain": [
       "pandas.core.series.Series"
      ]
     },
     "execution_count": 152,
     "metadata": {
      "tags": []
     },
     "output_type": "execute_result"
    }
   ],
   "source": [
    "type(mascara_booleana)"
   ]
  },
  {
   "cell_type": "code",
   "execution_count": null,
   "metadata": {
    "colab": {
     "base_uri": "https://localhost:8080/"
    },
    "id": "8D7qi7j0UWeo",
    "outputId": "5e2e7a39-0366-4773-d5e6-d1969d14756b"
   },
   "outputs": [
    {
     "data": {
      "text/plain": [
       "(9917,)"
      ]
     },
     "execution_count": 153,
     "metadata": {
      "tags": []
     },
     "output_type": "execute_result"
    }
   ],
   "source": [
    "mascara_booleana.shape"
   ]
  },
  {
   "cell_type": "code",
   "execution_count": null,
   "metadata": {
    "colab": {
     "base_uri": "https://localhost:8080/"
    },
    "id": "CxtyT7mJUWeo",
    "outputId": "353a38c4-a443-4f06-f0f0-7c12f6f779ab"
   },
   "outputs": [
    {
     "data": {
      "text/plain": [
       "dtype('bool')"
      ]
     },
     "execution_count": 154,
     "metadata": {
      "tags": []
     },
     "output_type": "execute_result"
    }
   ],
   "source": [
    "mascara_booleana.dtype"
   ]
  },
  {
   "cell_type": "code",
   "execution_count": null,
   "metadata": {
    "colab": {
     "base_uri": "https://localhost:8080/"
    },
    "id": "uWlgxq4FUWeo",
    "outputId": "0b6b1c64-7edc-4217-cc77-041db821153d"
   },
   "outputs": [
    {
     "data": {
      "text/plain": [
       "(1976, 20)"
      ]
     },
     "execution_count": 158,
     "metadata": {
      "tags": []
     },
     "output_type": "execute_result"
    }
   ],
   "source": [
    "# Veamos la cantidad de casos\n",
    "df.shape"
   ]
  },
  {
   "cell_type": "code",
   "execution_count": null,
   "metadata": {
    "colab": {
     "base_uri": "https://localhost:8080/",
     "height": 181
    },
    "id": "twW1S4WiCHRG",
    "outputId": "209e3bd9-78b7-46ba-fd80-391487e366d0"
   },
   "outputs": [
    {
     "data": {
      "text/html": [
       "<div>\n",
       "<style scoped>\n",
       "    .dataframe tbody tr th:only-of-type {\n",
       "        vertical-align: middle;\n",
       "    }\n",
       "\n",
       "    .dataframe tbody tr th {\n",
       "        vertical-align: top;\n",
       "    }\n",
       "\n",
       "    .dataframe thead th {\n",
       "        text-align: right;\n",
       "    }\n",
       "</style>\n",
       "<table border=\"1\" class=\"dataframe\">\n",
       "  <thead>\n",
       "    <tr style=\"text-align: right;\">\n",
       "      <th></th>\n",
       "      <th>#AUTHID</th>\n",
       "      <th>STATUS</th>\n",
       "      <th>sEXT</th>\n",
       "      <th>sNEU</th>\n",
       "      <th>sAGR</th>\n",
       "      <th>sCON</th>\n",
       "      <th>sOPN</th>\n",
       "      <th>cEXT</th>\n",
       "      <th>cNEU</th>\n",
       "      <th>cAGR</th>\n",
       "      <th>cCON</th>\n",
       "      <th>cOPN</th>\n",
       "      <th>DATE</th>\n",
       "      <th>NETWORKSIZE</th>\n",
       "      <th>BETWEENNESS</th>\n",
       "      <th>NBETWEENNESS</th>\n",
       "      <th>DENSITY</th>\n",
       "      <th>BROKERAGE</th>\n",
       "      <th>NBROKERAGE</th>\n",
       "      <th>TRANSITIVITY</th>\n",
       "    </tr>\n",
       "  </thead>\n",
       "  <tbody>\n",
       "    <tr>\n",
       "      <th>1262</th>\n",
       "      <td>0737e4e4980f56c9fb1cb5743001c917</td>\n",
       "      <td>Live as if you will die tomorrow.  Learn as if...</td>\n",
       "      <td>3.35</td>\n",
       "      <td>2.3</td>\n",
       "      <td>4.1</td>\n",
       "      <td>2.4</td>\n",
       "      <td>4.5</td>\n",
       "      <td>n</td>\n",
       "      <td>n</td>\n",
       "      <td>y</td>\n",
       "      <td>n</td>\n",
       "      <td>y</td>\n",
       "      <td>01/02/09 05:54 AM</td>\n",
       "      <td>431.0</td>\n",
       "      <td>91298.5</td>\n",
       "      <td>98.98</td>\n",
       "      <td>0.01</td>\n",
       "      <td>91701.0</td>\n",
       "      <td>0.5</td>\n",
       "      <td>0.03</td>\n",
       "    </tr>\n",
       "  </tbody>\n",
       "</table>\n",
       "</div>"
      ],
      "text/plain": [
       "                               #AUTHID  ... TRANSITIVITY\n",
       "1262  0737e4e4980f56c9fb1cb5743001c917  ...         0.03\n",
       "\n",
       "[1 rows x 20 columns]"
      ]
     },
     "execution_count": 165,
     "metadata": {
      "tags": []
     },
     "output_type": "execute_result"
    }
   ],
   "source": [
    "df.sample(1)"
   ]
  },
  {
   "cell_type": "markdown",
   "metadata": {
    "id": "Vx0uWgOTUWep"
   },
   "source": [
    "### Ejercicio\n",
    "Con el mismo dataset, \n",
    "\n",
    "¿Cuántos tienen más de 500 conexiones?\n",
    "¿Cuántos dan positivo para el rasgo de Apertura (Openness)?"
   ]
  },
  {
   "cell_type": "code",
   "execution_count": null,
   "metadata": {
    "colab": {
     "base_uri": "https://localhost:8080/"
    },
    "id": "Z4RaO2XzUWer",
    "outputId": "3998a0f6-60ba-40dd-d114-8b3bae706c4a"
   },
   "outputs": [
    {
     "data": {
      "text/plain": [
       "(2928, 20)"
      ]
     },
     "execution_count": 164,
     "metadata": {
      "tags": []
     },
     "output_type": "execute_result"
    }
   ],
   "source": [
    "df[df['NETWORKSIZE'] > 500].shape"
   ]
  },
  {
   "cell_type": "code",
   "execution_count": null,
   "metadata": {
    "colab": {
     "base_uri": "https://localhost:8080/"
    },
    "id": "bochv6ZkCe0B",
    "outputId": "ee3e2464-3d2c-406e-e39a-c39cdc0eb1ce"
   },
   "outputs": [
    {
     "data": {
      "text/plain": [
       "0.743168296863971"
      ]
     },
     "execution_count": 176,
     "metadata": {
      "tags": []
     },
     "output_type": "execute_result"
    }
   ],
   "source": [
    "df[df['cOPN'] == 'y'].shape[0] / df.shape[0]"
   ]
  },
  {
   "cell_type": "code",
   "execution_count": null,
   "metadata": {
    "colab": {
     "base_uri": "https://localhost:8080/",
     "height": 960
    },
    "id": "f_WEjdkzCGJM",
    "outputId": "057c4302-bd28-4c49-dab5-a02729139ead"
   },
   "outputs": [
    {
     "data": {
      "text/html": [
       "<div>\n",
       "<style scoped>\n",
       "    .dataframe tbody tr th:only-of-type {\n",
       "        vertical-align: middle;\n",
       "    }\n",
       "\n",
       "    .dataframe tbody tr th {\n",
       "        vertical-align: top;\n",
       "    }\n",
       "\n",
       "    .dataframe thead th {\n",
       "        text-align: right;\n",
       "    }\n",
       "</style>\n",
       "<table border=\"1\" class=\"dataframe\">\n",
       "  <thead>\n",
       "    <tr style=\"text-align: right;\">\n",
       "      <th></th>\n",
       "      <th>#AUTHID</th>\n",
       "      <th>STATUS</th>\n",
       "      <th>sEXT</th>\n",
       "      <th>sNEU</th>\n",
       "      <th>sAGR</th>\n",
       "      <th>sCON</th>\n",
       "      <th>sOPN</th>\n",
       "      <th>cEXT</th>\n",
       "      <th>cNEU</th>\n",
       "      <th>cAGR</th>\n",
       "      <th>cCON</th>\n",
       "      <th>cOPN</th>\n",
       "      <th>DATE</th>\n",
       "      <th>NETWORKSIZE</th>\n",
       "      <th>BETWEENNESS</th>\n",
       "      <th>NBETWEENNESS</th>\n",
       "      <th>DENSITY</th>\n",
       "      <th>BROKERAGE</th>\n",
       "      <th>NBROKERAGE</th>\n",
       "      <th>TRANSITIVITY</th>\n",
       "    </tr>\n",
       "  </thead>\n",
       "  <tbody>\n",
       "    <tr>\n",
       "      <th>171</th>\n",
       "      <td>ecbddbfe00e0f83cfdb802a7186061c7</td>\n",
       "      <td>is stuck on Band-Aid brand, cuz Band-Aid's stu...</td>\n",
       "      <td>4.30</td>\n",
       "      <td>2.15</td>\n",
       "      <td>3.60</td>\n",
       "      <td>3.30</td>\n",
       "      <td>4.10</td>\n",
       "      <td>y</td>\n",
       "      <td>n</td>\n",
       "      <td>y</td>\n",
       "      <td>n</td>\n",
       "      <td>y</td>\n",
       "      <td>06/28/09 05:03 AM</td>\n",
       "      <td>739.0</td>\n",
       "      <td>267574.0</td>\n",
       "      <td>98.39</td>\n",
       "      <td>0.01</td>\n",
       "      <td>270029.0</td>\n",
       "      <td>0.50</td>\n",
       "      <td>0.07</td>\n",
       "    </tr>\n",
       "    <tr>\n",
       "      <th>172</th>\n",
       "      <td>ecbddbfe00e0f83cfdb802a7186061c7</td>\n",
       "      <td>Just going to grab some raw fish................</td>\n",
       "      <td>4.30</td>\n",
       "      <td>2.15</td>\n",
       "      <td>3.60</td>\n",
       "      <td>3.30</td>\n",
       "      <td>4.10</td>\n",
       "      <td>y</td>\n",
       "      <td>n</td>\n",
       "      <td>y</td>\n",
       "      <td>n</td>\n",
       "      <td>y</td>\n",
       "      <td>06/14/09 08:33 PM</td>\n",
       "      <td>739.0</td>\n",
       "      <td>267574.0</td>\n",
       "      <td>98.39</td>\n",
       "      <td>0.01</td>\n",
       "      <td>270029.0</td>\n",
       "      <td>0.50</td>\n",
       "      <td>0.07</td>\n",
       "    </tr>\n",
       "    <tr>\n",
       "      <th>173</th>\n",
       "      <td>ecbddbfe00e0f83cfdb802a7186061c7</td>\n",
       "      <td>saw HP6... funny, lots of awesome awkward sile...</td>\n",
       "      <td>4.30</td>\n",
       "      <td>2.15</td>\n",
       "      <td>3.60</td>\n",
       "      <td>3.30</td>\n",
       "      <td>4.10</td>\n",
       "      <td>y</td>\n",
       "      <td>n</td>\n",
       "      <td>y</td>\n",
       "      <td>n</td>\n",
       "      <td>y</td>\n",
       "      <td>07/15/09 07:04 AM</td>\n",
       "      <td>739.0</td>\n",
       "      <td>267574.0</td>\n",
       "      <td>98.39</td>\n",
       "      <td>0.01</td>\n",
       "      <td>270029.0</td>\n",
       "      <td>0.50</td>\n",
       "      <td>0.07</td>\n",
       "    </tr>\n",
       "    <tr>\n",
       "      <th>174</th>\n",
       "      <td>ecbddbfe00e0f83cfdb802a7186061c7</td>\n",
       "      <td>Need to re-learn my patterns again... awesome...</td>\n",
       "      <td>4.30</td>\n",
       "      <td>2.15</td>\n",
       "      <td>3.60</td>\n",
       "      <td>3.30</td>\n",
       "      <td>4.10</td>\n",
       "      <td>y</td>\n",
       "      <td>n</td>\n",
       "      <td>y</td>\n",
       "      <td>n</td>\n",
       "      <td>y</td>\n",
       "      <td>07/09/09 12:13 AM</td>\n",
       "      <td>739.0</td>\n",
       "      <td>267574.0</td>\n",
       "      <td>98.39</td>\n",
       "      <td>0.01</td>\n",
       "      <td>270029.0</td>\n",
       "      <td>0.50</td>\n",
       "      <td>0.07</td>\n",
       "    </tr>\n",
       "    <tr>\n",
       "      <th>175</th>\n",
       "      <td>ecbddbfe00e0f83cfdb802a7186061c7</td>\n",
       "      <td>FREE SLURPEE DAY!!!</td>\n",
       "      <td>4.30</td>\n",
       "      <td>2.15</td>\n",
       "      <td>3.60</td>\n",
       "      <td>3.30</td>\n",
       "      <td>4.10</td>\n",
       "      <td>y</td>\n",
       "      <td>n</td>\n",
       "      <td>y</td>\n",
       "      <td>n</td>\n",
       "      <td>y</td>\n",
       "      <td>07/11/09 03:18 PM</td>\n",
       "      <td>739.0</td>\n",
       "      <td>267574.0</td>\n",
       "      <td>98.39</td>\n",
       "      <td>0.01</td>\n",
       "      <td>270029.0</td>\n",
       "      <td>0.50</td>\n",
       "      <td>0.07</td>\n",
       "    </tr>\n",
       "    <tr>\n",
       "      <th>...</th>\n",
       "      <td>...</td>\n",
       "      <td>...</td>\n",
       "      <td>...</td>\n",
       "      <td>...</td>\n",
       "      <td>...</td>\n",
       "      <td>...</td>\n",
       "      <td>...</td>\n",
       "      <td>...</td>\n",
       "      <td>...</td>\n",
       "      <td>...</td>\n",
       "      <td>...</td>\n",
       "      <td>...</td>\n",
       "      <td>...</td>\n",
       "      <td>...</td>\n",
       "      <td>...</td>\n",
       "      <td>...</td>\n",
       "      <td>...</td>\n",
       "      <td>...</td>\n",
       "      <td>...</td>\n",
       "      <td>...</td>\n",
       "    </tr>\n",
       "    <tr>\n",
       "      <th>9838</th>\n",
       "      <td>e7b7f5af7d02ec06b3da2edf2053dfed</td>\n",
       "      <td>PURPLE PEOPLE EATERS!!</td>\n",
       "      <td>3.30</td>\n",
       "      <td>3.30</td>\n",
       "      <td>2.30</td>\n",
       "      <td>3.89</td>\n",
       "      <td>4.15</td>\n",
       "      <td>n</td>\n",
       "      <td>y</td>\n",
       "      <td>n</td>\n",
       "      <td>y</td>\n",
       "      <td>y</td>\n",
       "      <td>01/17/10 09:03 PM</td>\n",
       "      <td>714.0</td>\n",
       "      <td>245021.0</td>\n",
       "      <td>96.53</td>\n",
       "      <td>0.02</td>\n",
       "      <td>250442.0</td>\n",
       "      <td>0.49</td>\n",
       "      <td>0.16</td>\n",
       "    </tr>\n",
       "    <tr>\n",
       "      <th>9839</th>\n",
       "      <td>e7b7f5af7d02ec06b3da2edf2053dfed</td>\n",
       "      <td>You just gotta love checks and balances...</td>\n",
       "      <td>3.30</td>\n",
       "      <td>3.30</td>\n",
       "      <td>2.30</td>\n",
       "      <td>3.89</td>\n",
       "      <td>4.15</td>\n",
       "      <td>n</td>\n",
       "      <td>y</td>\n",
       "      <td>n</td>\n",
       "      <td>y</td>\n",
       "      <td>y</td>\n",
       "      <td>01/20/10 03:19 AM</td>\n",
       "      <td>714.0</td>\n",
       "      <td>245021.0</td>\n",
       "      <td>96.53</td>\n",
       "      <td>0.02</td>\n",
       "      <td>250442.0</td>\n",
       "      <td>0.49</td>\n",
       "      <td>0.16</td>\n",
       "    </tr>\n",
       "    <tr>\n",
       "      <th>9840</th>\n",
       "      <td>e7b7f5af7d02ec06b3da2edf2053dfed</td>\n",
       "      <td>GO VIKES!!</td>\n",
       "      <td>3.30</td>\n",
       "      <td>3.30</td>\n",
       "      <td>2.30</td>\n",
       "      <td>3.89</td>\n",
       "      <td>4.15</td>\n",
       "      <td>n</td>\n",
       "      <td>y</td>\n",
       "      <td>n</td>\n",
       "      <td>y</td>\n",
       "      <td>y</td>\n",
       "      <td>01/17/10 05:14 PM</td>\n",
       "      <td>714.0</td>\n",
       "      <td>245021.0</td>\n",
       "      <td>96.53</td>\n",
       "      <td>0.02</td>\n",
       "      <td>250442.0</td>\n",
       "      <td>0.49</td>\n",
       "      <td>0.16</td>\n",
       "    </tr>\n",
       "    <tr>\n",
       "      <th>9841</th>\n",
       "      <td>e7b7f5af7d02ec06b3da2edf2053dfed</td>\n",
       "      <td>TGIF Hopefully I can have some fun too...</td>\n",
       "      <td>3.30</td>\n",
       "      <td>3.30</td>\n",
       "      <td>2.30</td>\n",
       "      <td>3.89</td>\n",
       "      <td>4.15</td>\n",
       "      <td>n</td>\n",
       "      <td>y</td>\n",
       "      <td>n</td>\n",
       "      <td>y</td>\n",
       "      <td>y</td>\n",
       "      <td>01/29/10 06:33 PM</td>\n",
       "      <td>714.0</td>\n",
       "      <td>245021.0</td>\n",
       "      <td>96.53</td>\n",
       "      <td>0.02</td>\n",
       "      <td>250442.0</td>\n",
       "      <td>0.49</td>\n",
       "      <td>0.16</td>\n",
       "    </tr>\n",
       "    <tr>\n",
       "      <th>9916</th>\n",
       "      <td>a286b7286b1247d4a7851709e9f31e1e</td>\n",
       "      <td>Last night was amazing! Not only did I see *PR...</td>\n",
       "      <td>4.25</td>\n",
       "      <td>3.00</td>\n",
       "      <td>3.25</td>\n",
       "      <td>3.50</td>\n",
       "      <td>4.00</td>\n",
       "      <td>y</td>\n",
       "      <td>y</td>\n",
       "      <td>n</td>\n",
       "      <td>y</td>\n",
       "      <td>y</td>\n",
       "      <td>02/08/10 06:28 PM</td>\n",
       "      <td>539.0</td>\n",
       "      <td>138337.0</td>\n",
       "      <td>95.77</td>\n",
       "      <td>0.02</td>\n",
       "      <td>142460.0</td>\n",
       "      <td>0.49</td>\n",
       "      <td>0.13</td>\n",
       "    </tr>\n",
       "  </tbody>\n",
       "</table>\n",
       "<p>1997 rows × 20 columns</p>\n",
       "</div>"
      ],
      "text/plain": [
       "                               #AUTHID  ... TRANSITIVITY\n",
       "171   ecbddbfe00e0f83cfdb802a7186061c7  ...         0.07\n",
       "172   ecbddbfe00e0f83cfdb802a7186061c7  ...         0.07\n",
       "173   ecbddbfe00e0f83cfdb802a7186061c7  ...         0.07\n",
       "174   ecbddbfe00e0f83cfdb802a7186061c7  ...         0.07\n",
       "175   ecbddbfe00e0f83cfdb802a7186061c7  ...         0.07\n",
       "...                                ...  ...          ...\n",
       "9838  e7b7f5af7d02ec06b3da2edf2053dfed  ...         0.16\n",
       "9839  e7b7f5af7d02ec06b3da2edf2053dfed  ...         0.16\n",
       "9840  e7b7f5af7d02ec06b3da2edf2053dfed  ...         0.16\n",
       "9841  e7b7f5af7d02ec06b3da2edf2053dfed  ...         0.16\n",
       "9916  a286b7286b1247d4a7851709e9f31e1e  ...         0.13\n",
       "\n",
       "[1997 rows x 20 columns]"
      ]
     },
     "execution_count": 184,
     "metadata": {
      "tags": []
     },
     "output_type": "execute_result"
    }
   ],
   "source": [
    "df[ (df['cOPN'] == 'y') & (df['NETWORKSIZE'] > 500) ]"
   ]
  },
  {
   "cell_type": "markdown",
   "metadata": {
    "id": "0ZAQiaWUUWer"
   },
   "source": [
    "#### Máscara booleana con muchas condiciones\n",
    "\n",
    "Ahora tratemos de filtrar el dataset por dos condiciones. Para eso tenemos que combinar dos máscaras booleanas con una condición.\n",
    "\n",
    "| S | Descripcion        | S  | Descripcion |   |\n",
    "|---|--------------------|----|-------------|---|\n",
    "| & | AND (y)            | \\| | OR (o)      |   |\n",
    "| ^ | XOR (o exclusivo)  | ~  | NOT (no)    |   |\n",
    "\n",
    "Por ejemplo tomar los STATUS de las personas que cumplen con las dos características del punto anterior.\n"
   ]
  },
  {
   "cell_type": "code",
   "execution_count": null,
   "metadata": {
    "id": "MZTmhtrYUWer"
   },
   "outputs": [],
   "source": []
  },
  {
   "cell_type": "markdown",
   "metadata": {
    "id": "SUGPuFt0UWeu"
   },
   "source": [
    "### Fancy Indexing\n",
    "Ahora vamos a quedarnos con un subconjunto de columnas del DataFrame."
   ]
  },
  {
   "cell_type": "code",
   "execution_count": null,
   "metadata": {
    "id": "1iG-F4bcUWeu"
   },
   "outputs": [],
   "source": [
    "df_view = df.loc[:, ['STATUS','NETWORKSIZE']]"
   ]
  },
  {
   "cell_type": "code",
   "execution_count": null,
   "metadata": {
    "colab": {
     "base_uri": "https://localhost:8080/"
    },
    "id": "_PyOgOm8UWeu",
    "outputId": "9ac7063c-1937-4be4-a2f8-c0ea3437a406"
   },
   "outputs": [
    {
     "data": {
      "text/plain": [
       "(9917, 2)"
      ]
     },
     "execution_count": 40,
     "metadata": {
      "tags": []
     },
     "output_type": "execute_result"
    }
   ],
   "source": [
    "df_view.shape"
   ]
  },
  {
   "cell_type": "markdown",
   "metadata": {
    "id": "5N6tJRtNUWeu"
   },
   "source": [
    "Existe una forma menos explícita de hacer esta misma operación. Si pasamos una lista al indexing, pandas asume que el tipo de indexing es loc y que el filtro es sobre las columnas y no las filas:"
   ]
  },
  {
   "cell_type": "code",
   "execution_count": null,
   "metadata": {
    "id": "dVVbC2QGUWev"
   },
   "outputs": [],
   "source": [
    "df_view = df[['STATUS','NETWORKSIZE']]"
   ]
  },
  {
   "cell_type": "code",
   "execution_count": null,
   "metadata": {
    "colab": {
     "base_uri": "https://localhost:8080/"
    },
    "id": "IyuRR9_rUWev",
    "outputId": "68e80c27-53a4-4804-a320-f35f8b3edcb0"
   },
   "outputs": [
    {
     "data": {
      "text/plain": [
       "(2, 20)"
      ]
     },
     "execution_count": 45,
     "metadata": {
      "tags": []
     },
     "output_type": "execute_result"
    }
   ],
   "source": [
    "df_view.shape"
   ]
  },
  {
   "cell_type": "code",
   "execution_count": null,
   "metadata": {
    "colab": {
     "base_uri": "https://localhost:8080/"
    },
    "id": "lOLQJqENUWez",
    "outputId": "04dac016-413d-428c-fc39-7e034fcd3d82"
   },
   "outputs": [
    {
     "data": {
      "text/plain": [
       "29724.9"
      ]
     },
     "execution_count": 185,
     "metadata": {
      "tags": []
     },
     "output_type": "execute_result"
    }
   ],
   "source": [
    "df['NETWORKSIZE'].max()"
   ]
  },
  {
   "cell_type": "code",
   "execution_count": null,
   "metadata": {
    "colab": {
     "base_uri": "https://localhost:8080/"
    },
    "id": "ELBbL2PYUWez",
    "outputId": "49747784-d01a-4f60-cb87-625200f0d771"
   },
   "outputs": [
    {
     "data": {
      "text/plain": [
       "429.3771200968035"
      ]
     },
     "execution_count": 186,
     "metadata": {
      "tags": []
     },
     "output_type": "execute_result"
    }
   ],
   "source": [
    "df['NETWORKSIZE'].mean()"
   ]
  },
  {
   "cell_type": "code",
   "execution_count": null,
   "metadata": {
    "colab": {
     "base_uri": "https://localhost:8080/"
    },
    "id": "0mJQCvAIUWe0",
    "outputId": "28cf4290-ee95-4bd7-a8b4-e0f35684af07"
   },
   "outputs": [
    {
     "data": {
      "text/plain": [
       "428.76038150197854"
      ]
     },
     "execution_count": 187,
     "metadata": {
      "tags": []
     },
     "output_type": "execute_result"
    }
   ],
   "source": [
    "df['NETWORKSIZE'].std()"
   ]
  },
  {
   "cell_type": "code",
   "execution_count": null,
   "metadata": {
    "colab": {
     "base_uri": "https://localhost:8080/"
    },
    "id": "z0PZvhlCUWe0",
    "outputId": "24e976a5-e11d-4367-bbb3-7368e9072a90"
   },
   "outputs": [
    {
     "data": {
      "text/plain": [
       "4258132.9"
      ]
     },
     "execution_count": 188,
     "metadata": {
      "tags": []
     },
     "output_type": "execute_result"
    }
   ],
   "source": [
    "df['NETWORKSIZE'].sum()"
   ]
  },
  {
   "cell_type": "markdown",
   "metadata": {
    "id": "q-naiyv8h6-w"
   },
   "source": [
    "Ejercicio:\n",
    "\n",
    "Calcular el total para quienes dan positivo en Extroversión y quienes no. "
   ]
  },
  {
   "cell_type": "code",
   "execution_count": null,
   "metadata": {
    "colab": {
     "base_uri": "https://localhost:8080/"
    },
    "id": "8co94_tjiFc6",
    "outputId": "88caf8b8-a8f1-4e41-f043-43fec8de7881"
   },
   "outputs": [
    {
     "data": {
      "text/plain": [
       "2081929.9"
      ]
     },
     "execution_count": 192,
     "metadata": {
      "tags": []
     },
     "output_type": "execute_result"
    }
   ],
   "source": [
    "df_chico = df[df['cEXT'] == 'y']\n",
    "\n",
    "df_chico['NETWORKSIZE'].sum()"
   ]
  },
  {
   "cell_type": "code",
   "execution_count": null,
   "metadata": {
    "colab": {
     "base_uri": "https://localhost:8080/",
     "height": 279
    },
    "id": "p8CuweWUELVq",
    "outputId": "ea5f20d6-c60a-405f-8d2f-3ca8e47b94b4"
   },
   "outputs": [
    {
     "data": {
      "image/png": "[encoded data removed]",
      "text/plain": [
       "<Figure size 432x288 with 1 Axes>"
      ]
     },
     "metadata": {
      "needs_background": "light",
      "tags": []
     },
     "output_type": "display_data"
    }
   ],
   "source": [
    "df_chico = df[df['cEXT'] == 'n']\n",
    "\n",
    "sns.kdeplot(df[df['cEXT'] == 'n']['NETWORKSIZE'])\n",
    "sns.kdeplot(df[df['cEXT'] == 'y']['NETWORKSIZE'])\n",
    "plt.xlim(-10, 1500);"
   ]
  },
  {
   "cell_type": "markdown",
   "metadata": {
    "id": "uvhzVwEciGKm"
   },
   "source": [
    "¿Podemos concluir que los grupos son diferentes?"
   ]
  },
  {
   "cell_type": "code",
   "execution_count": null,
   "metadata": {
    "colab": {
     "base_uri": "https://localhost:8080/",
     "height": 286
    },
    "id": "d1iQbqTwUWe3",
    "outputId": "2bec5bff-919e-4021-80a0-a0af387cf1cc"
   },
   "outputs": [
    {
     "data": {
      "text/html": [
       "<div>\n",
       "<style scoped>\n",
       "    .dataframe tbody tr th:only-of-type {\n",
       "        vertical-align: middle;\n",
       "    }\n",
       "\n",
       "    .dataframe tbody tr th {\n",
       "        vertical-align: top;\n",
       "    }\n",
       "\n",
       "    .dataframe thead th {\n",
       "        text-align: right;\n",
       "    }\n",
       "</style>\n",
       "<table border=\"1\" class=\"dataframe\">\n",
       "  <thead>\n",
       "    <tr style=\"text-align: right;\">\n",
       "      <th></th>\n",
       "      <th>sEXT</th>\n",
       "      <th>sNEU</th>\n",
       "      <th>sAGR</th>\n",
       "      <th>sCON</th>\n",
       "      <th>sOPN</th>\n",
       "      <th>NETWORKSIZE</th>\n",
       "      <th>BETWEENNESS</th>\n",
       "      <th>NBETWEENNESS</th>\n",
       "      <th>DENSITY</th>\n",
       "      <th>BROKERAGE</th>\n",
       "      <th>NBROKERAGE</th>\n",
       "      <th>TRANSITIVITY</th>\n",
       "    </tr>\n",
       "  </thead>\n",
       "  <tbody>\n",
       "    <tr>\n",
       "      <th>count</th>\n",
       "      <td>9917.000000</td>\n",
       "      <td>9917.000000</td>\n",
       "      <td>9917.000000</td>\n",
       "      <td>9917.000000</td>\n",
       "      <td>9917.000000</td>\n",
       "      <td>9917.000000</td>\n",
       "      <td>9.917000e+03</td>\n",
       "      <td>9917.000000</td>\n",
       "      <td>9917.000000</td>\n",
       "      <td>9.917000e+03</td>\n",
       "      <td>9917.000000</td>\n",
       "      <td>9916.000000</td>\n",
       "    </tr>\n",
       "    <tr>\n",
       "      <th>mean</th>\n",
       "      <td>3.354760</td>\n",
       "      <td>2.609453</td>\n",
       "      <td>3.616643</td>\n",
       "      <td>3.474201</td>\n",
       "      <td>4.130386</td>\n",
       "      <td>429.377120</td>\n",
       "      <td>1.354253e+05</td>\n",
       "      <td>94.665170</td>\n",
       "      <td>3.154012</td>\n",
       "      <td>1.376425e+05</td>\n",
       "      <td>0.489920</td>\n",
       "      <td>0.128821</td>\n",
       "    </tr>\n",
       "    <tr>\n",
       "      <th>std</th>\n",
       "      <td>0.857578</td>\n",
       "      <td>0.760248</td>\n",
       "      <td>0.682485</td>\n",
       "      <td>0.737215</td>\n",
       "      <td>0.585672</td>\n",
       "      <td>428.760382</td>\n",
       "      <td>1.994338e+05</td>\n",
       "      <td>5.506696</td>\n",
       "      <td>311.073343</td>\n",
       "      <td>2.013921e+05</td>\n",
       "      <td>0.011908</td>\n",
       "      <td>0.106063</td>\n",
       "    </tr>\n",
       "    <tr>\n",
       "      <th>min</th>\n",
       "      <td>1.330000</td>\n",
       "      <td>1.250000</td>\n",
       "      <td>1.650000</td>\n",
       "      <td>1.450000</td>\n",
       "      <td>2.250000</td>\n",
       "      <td>24.000000</td>\n",
       "      <td>9.325000e+01</td>\n",
       "      <td>0.040000</td>\n",
       "      <td>0.000000</td>\n",
       "      <td>4.900000e-01</td>\n",
       "      <td>0.180000</td>\n",
       "      <td>0.000000</td>\n",
       "    </tr>\n",
       "    <tr>\n",
       "      <th>25%</th>\n",
       "      <td>2.710000</td>\n",
       "      <td>2.000000</td>\n",
       "      <td>3.140000</td>\n",
       "      <td>3.000000</td>\n",
       "      <td>3.750000</td>\n",
       "      <td>196.000000</td>\n",
       "      <td>1.690220e+04</td>\n",
       "      <td>93.770000</td>\n",
       "      <td>0.010000</td>\n",
       "      <td>1.798200e+04</td>\n",
       "      <td>0.490000</td>\n",
       "      <td>0.060000</td>\n",
       "    </tr>\n",
       "    <tr>\n",
       "      <th>50%</th>\n",
       "      <td>3.400000</td>\n",
       "      <td>2.600000</td>\n",
       "      <td>3.650000</td>\n",
       "      <td>3.400000</td>\n",
       "      <td>4.250000</td>\n",
       "      <td>317.000000</td>\n",
       "      <td>4.716690e+04</td>\n",
       "      <td>96.440000</td>\n",
       "      <td>0.020000</td>\n",
       "      <td>4.868300e+04</td>\n",
       "      <td>0.490000</td>\n",
       "      <td>0.090000</td>\n",
       "    </tr>\n",
       "    <tr>\n",
       "      <th>75%</th>\n",
       "      <td>4.000000</td>\n",
       "      <td>3.050000</td>\n",
       "      <td>4.150000</td>\n",
       "      <td>4.000000</td>\n",
       "      <td>4.550000</td>\n",
       "      <td>633.000000</td>\n",
       "      <td>1.966060e+05</td>\n",
       "      <td>97.880000</td>\n",
       "      <td>0.030000</td>\n",
       "      <td>1.981860e+05</td>\n",
       "      <td>0.500000</td>\n",
       "      <td>0.170000</td>\n",
       "    </tr>\n",
       "    <tr>\n",
       "      <th>max</th>\n",
       "      <td>5.000000</td>\n",
       "      <td>4.750000</td>\n",
       "      <td>5.000000</td>\n",
       "      <td>5.000000</td>\n",
       "      <td>5.000000</td>\n",
       "      <td>29724.900000</td>\n",
       "      <td>1.251780e+06</td>\n",
       "      <td>99.820000</td>\n",
       "      <td>30978.000000</td>\n",
       "      <td>1.263790e+06</td>\n",
       "      <td>0.500000</td>\n",
       "      <td>0.630000</td>\n",
       "    </tr>\n",
       "  </tbody>\n",
       "</table>\n",
       "</div>"
      ],
      "text/plain": [
       "              sEXT         sNEU  ...   NBROKERAGE  TRANSITIVITY\n",
       "count  9917.000000  9917.000000  ...  9917.000000   9916.000000\n",
       "mean      3.354760     2.609453  ...     0.489920      0.128821\n",
       "std       0.857578     0.760248  ...     0.011908      0.106063\n",
       "min       1.330000     1.250000  ...     0.180000      0.000000\n",
       "25%       2.710000     2.000000  ...     0.490000      0.060000\n",
       "50%       3.400000     2.600000  ...     0.490000      0.090000\n",
       "75%       4.000000     3.050000  ...     0.500000      0.170000\n",
       "max       5.000000     4.750000  ...     0.500000      0.630000\n",
       "\n",
       "[8 rows x 12 columns]"
      ]
     },
     "execution_count": 197,
     "metadata": {
      "tags": []
     },
     "output_type": "execute_result"
    }
   ],
   "source": [
    "df.describe()"
   ]
  },
  {
   "cell_type": "code",
   "execution_count": null,
   "metadata": {
    "colab": {
     "base_uri": "https://localhost:8080/"
    },
    "id": "i1AzBbTmUWe3",
    "outputId": "a31de63d-fdba-4c47-b632-6becfd51aacd"
   },
   "outputs": [
    {
     "data": {
      "text/plain": [
       "y    7370\n",
       "n    2547\n",
       "Name: cOPN, dtype: int64"
      ]
     },
     "execution_count": 198,
     "metadata": {
      "tags": []
     },
     "output_type": "execute_result"
    }
   ],
   "source": [
    "df['cOPN'].value_counts()"
   ]
  },
  {
   "cell_type": "code",
   "execution_count": null,
   "metadata": {
    "id": "CKp1eet5UWe5"
   },
   "outputs": [],
   "source": [
    "# Recordemos cómo abrir la documentación de un método\n",
    "df.sort_values?"
   ]
  },
  {
   "cell_type": "code",
   "execution_count": null,
   "metadata": {
    "colab": {
     "base_uri": "https://localhost:8080/",
     "height": 164
    },
    "id": "qWdeDI1SUWe5",
    "outputId": "1a45079a-1d56-4e59-cc4f-754023c5b404"
   },
   "outputs": [
    {
     "data": {
      "text/html": [
       "<div>\n",
       "<style scoped>\n",
       "    .dataframe tbody tr th:only-of-type {\n",
       "        vertical-align: middle;\n",
       "    }\n",
       "\n",
       "    .dataframe tbody tr th {\n",
       "        vertical-align: top;\n",
       "    }\n",
       "\n",
       "    .dataframe thead th {\n",
       "        text-align: right;\n",
       "    }\n",
       "</style>\n",
       "<table border=\"1\" class=\"dataframe\">\n",
       "  <thead>\n",
       "    <tr style=\"text-align: right;\">\n",
       "      <th></th>\n",
       "      <th>#AUTHID</th>\n",
       "      <th>STATUS</th>\n",
       "      <th>sEXT</th>\n",
       "      <th>sNEU</th>\n",
       "      <th>sAGR</th>\n",
       "      <th>sCON</th>\n",
       "      <th>sOPN</th>\n",
       "      <th>cEXT</th>\n",
       "      <th>cNEU</th>\n",
       "      <th>cAGR</th>\n",
       "      <th>cCON</th>\n",
       "      <th>cOPN</th>\n",
       "      <th>DATE</th>\n",
       "      <th>NETWORKSIZE</th>\n",
       "      <th>BETWEENNESS</th>\n",
       "      <th>NBETWEENNESS</th>\n",
       "      <th>DENSITY</th>\n",
       "      <th>BROKERAGE</th>\n",
       "      <th>NBROKERAGE</th>\n",
       "      <th>TRANSITIVITY</th>\n",
       "    </tr>\n",
       "  </thead>\n",
       "  <tbody>\n",
       "    <tr>\n",
       "      <th>6399</th>\n",
       "      <td>b576dc0449e75306c30456902ce0c80b</td>\n",
       "      <td>To those with interest in international politi...</td>\n",
       "      <td>3.84</td>\n",
       "      <td>2.6</td>\n",
       "      <td>3.75</td>\n",
       "      <td>4.0</td>\n",
       "      <td>4.15</td>\n",
       "      <td>y</td>\n",
       "      <td>n</td>\n",
       "      <td>y</td>\n",
       "      <td>y</td>\n",
       "      <td>y</td>\n",
       "      <td>254</td>\n",
       "      <td>29724.9</td>\n",
       "      <td>93.25</td>\n",
       "      <td>0.04</td>\n",
       "      <td>30978.0</td>\n",
       "      <td>0.49</td>\n",
       "      <td>0.18</td>\n",
       "      <td>NaN</td>\n",
       "    </tr>\n",
       "  </tbody>\n",
       "</table>\n",
       "</div>"
      ],
      "text/plain": [
       "                               #AUTHID  ... TRANSITIVITY\n",
       "6399  b576dc0449e75306c30456902ce0c80b  ...          NaN\n",
       "\n",
       "[1 rows x 20 columns]"
      ]
     },
     "execution_count": 201,
     "metadata": {
      "tags": []
     },
     "output_type": "execute_result"
    }
   ],
   "source": [
    "# Calculamos el máximo\n",
    "df.sort_values('NETWORKSIZE', ascending=False).head(1)"
   ]
  },
  {
   "cell_type": "code",
   "execution_count": null,
   "metadata": {
    "colab": {
     "base_uri": "https://localhost:8080/",
     "height": 164
    },
    "id": "4o9_iK7VUWe6",
    "outputId": "d5a9de99-755d-4772-9668-bc962c8a5b88"
   },
   "outputs": [
    {
     "data": {
      "text/html": [
       "<div>\n",
       "<style scoped>\n",
       "    .dataframe tbody tr th:only-of-type {\n",
       "        vertical-align: middle;\n",
       "    }\n",
       "\n",
       "    .dataframe tbody tr th {\n",
       "        vertical-align: top;\n",
       "    }\n",
       "\n",
       "    .dataframe thead th {\n",
       "        text-align: right;\n",
       "    }\n",
       "</style>\n",
       "<table border=\"1\" class=\"dataframe\">\n",
       "  <thead>\n",
       "    <tr style=\"text-align: right;\">\n",
       "      <th></th>\n",
       "      <th>#AUTHID</th>\n",
       "      <th>STATUS</th>\n",
       "      <th>sEXT</th>\n",
       "      <th>sNEU</th>\n",
       "      <th>sAGR</th>\n",
       "      <th>sCON</th>\n",
       "      <th>sOPN</th>\n",
       "      <th>cEXT</th>\n",
       "      <th>cNEU</th>\n",
       "      <th>cAGR</th>\n",
       "      <th>cCON</th>\n",
       "      <th>cOPN</th>\n",
       "      <th>DATE</th>\n",
       "      <th>NETWORKSIZE</th>\n",
       "      <th>BETWEENNESS</th>\n",
       "      <th>NBETWEENNESS</th>\n",
       "      <th>DENSITY</th>\n",
       "      <th>BROKERAGE</th>\n",
       "      <th>NBROKERAGE</th>\n",
       "      <th>TRANSITIVITY</th>\n",
       "    </tr>\n",
       "  </thead>\n",
       "  <tbody>\n",
       "    <tr>\n",
       "      <th>8232</th>\n",
       "      <td>b05f34be807a91ce0325cda601bc5856</td>\n",
       "      <td>I'm flu free. Anyone wanna do something, cause...</td>\n",
       "      <td>2.9</td>\n",
       "      <td>3.35</td>\n",
       "      <td>2.8</td>\n",
       "      <td>3.0</td>\n",
       "      <td>3.95</td>\n",
       "      <td>n</td>\n",
       "      <td>y</td>\n",
       "      <td>n</td>\n",
       "      <td>n</td>\n",
       "      <td>y</td>\n",
       "      <td>10/04/09 05:41 PM</td>\n",
       "      <td>24.0</td>\n",
       "      <td>225.0</td>\n",
       "      <td>88.93</td>\n",
       "      <td>0.13</td>\n",
       "      <td>241.0</td>\n",
       "      <td>0.48</td>\n",
       "      <td>0.12</td>\n",
       "    </tr>\n",
       "  </tbody>\n",
       "</table>\n",
       "</div>"
      ],
      "text/plain": [
       "                               #AUTHID  ... TRANSITIVITY\n",
       "8232  b05f34be807a91ce0325cda601bc5856  ...         0.12\n",
       "\n",
       "[1 rows x 20 columns]"
      ]
     },
     "execution_count": 202,
     "metadata": {
      "tags": []
     },
     "output_type": "execute_result"
    }
   ],
   "source": [
    "# Calculamos el mínimo\n",
    "df.sort_values('NETWORKSIZE').head(1)"
   ]
  }
 ],
 "metadata": {
  "colab": {
   "collapsed_sections": [],
   "name": "Clase 5: Análisis de datos I.ipynb",
   "provenance": []
  },
  "kernelspec": {
   "display_name": "Python 3",
   "language": "python",
   "name": "python3"
  },
  "language_info": {
   "codemirror_mode": {
    "name": "ipython",
    "version": 3
   },
   "file_extension": ".py",
   "mimetype": "text/x-python",
   "name": "python",
   "nbconvert_exporter": "python",
   "pygments_lexer": "ipython3",
   "version": "3.8.8"
  }
 },
 "nbformat": 4,
 "nbformat_minor": 4
}
