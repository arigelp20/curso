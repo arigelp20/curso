{
 "cells": [
  {
   "cell_type": "markdown",
   "metadata": {},
   "source": [
    "<a href=\"https://colab.research.google.com/github/institutohumai/cursos-python/blob/neuro/NeuroIA/social_listening.ipynb\"> <img src='https://colab.research.google.com/assets/colab-badge.svg' /> </a>\n",
    "    <div align=\"center\"> Recordá abrir en una nueva pestaña </div>"
   ]
  },
  {
   "cell_type": "markdown",
   "metadata": {
    "id": "jP1oqVUN7wxd"
   },
   "source": [
    "# Aprendizaje no supervisado"
   ]
  },
  {
   "cell_type": "markdown",
   "metadata": {},
   "source": [
    "# Clustering\n",
    "\n",
    "*Clustering* significa **agrupar** en inglés, o **encontrar grupos**.\n",
    "\n",
    "#### Modelo ejemplo: KMeans (clustering)\n",
    "\n",
    "* Asignar centroides al azar\n",
    "* Calcular qué punto pertenece a cada cluster\n",
    "* Promediar todos los puntos en cada dimensión para recalcular el centroide\n",
    "* Repetir hasta que los puntos dejen de cambiar de cluster.\n",
    "\n",
    "<center><img src=https://github.com/institutohumai/cursos-python/raw/ml0/MachineLearning/media/image34.png width=500></center>\n",
    "\n",
    "Ver animación en: \n",
    "\n",
    "https://stanford.edu/class/engr108/visualizations/kmeans/kmeans.html\n"
   ]
  },
  {
   "cell_type": "markdown",
   "metadata": {
    "id": "1KbNAqEQny2W"
   },
   "source": [
    "# Reducción de dimensiones\n",
    "\n",
    "## Ejemplo: PCA\n",
    "\n",
    "La sigla *PCA* viene del inglés [\"Principal Component Analysis\"](https://en.wikipedia.org/wiki/Principal_component_analysis). La técnica consiste en, dada una cantidad de variables, encontrar **factores latentes** que explican los valores encontrados. \n",
    "\n",
    "Un ejemplo sencillo sería, dadas variables como \"ingresos mensuales\", \"gastos mensuales\", \"gastos recreativos\", \"nivel educativo\", \"años de educación\", encontrar un factor latente que **resume la correlación entre esas variables** y refleja algo que podemos llamar **estado socioeconómico**, por ejemplo."
   ]
  },
  {
   "cell_type": "markdown",
   "metadata": {
    "id": "4mwwCGt7RWYX"
   },
   "source": [
    "# Ejemplo: NLP para Social Listening"
   ]
  },
  {
   "cell_type": "markdown",
   "metadata": {
    "id": "BU6HwQeVrmUJ"
   },
   "source": [
    "# NLTK\n",
    "\n",
    "La librería [Natural Languaje Toolkit](https://www.nltk.org/) es un *de facto* para NLP en Python para diversos idiomas. "
   ]
  },
  {
   "cell_type": "code",
   "execution_count": 59,
   "metadata": {
    "colab": {
     "base_uri": "https://localhost:8080/"
    },
    "id": "YmIwZhK7mAkl",
    "outputId": "4156283c-a41d-4b64-d818-b7dcd1849e02"
   },
   "outputs": [
    {
     "name": "stdout",
     "output_type": "stream",
     "text": [
      "[nltk_data] Downloading package wordnet to /root/nltk_data...\n",
      "[nltk_data]   Package wordnet is already up-to-date!\n"
     ]
    },
    {
     "data": {
      "text/plain": [
       "True"
      ]
     },
     "execution_count": 59,
     "metadata": {
      "tags": []
     },
     "output_type": "execute_result"
    }
   ],
   "source": [
    "import nltk\n",
    "nltk.download('wordnet')"
   ]
  },
  {
   "cell_type": "code",
   "execution_count": 60,
   "metadata": {
    "colab": {
     "base_uri": "https://localhost:8080/"
    },
    "id": "VqfktxZwEO7J",
    "outputId": "cacd4e6a-0228-434f-8d83-1f429e3c4b0f"
   },
   "outputs": [
    {
     "data": {
      "text/plain": [
       "<3x8 sparse matrix of type '<class 'numpy.int64'>'\n",
       "\twith 10 stored elements in Compressed Sparse Row format>"
      ]
     },
     "execution_count": 60,
     "metadata": {
      "tags": []
     },
     "output_type": "execute_result"
    }
   ],
   "source": [
    "from sklearn.feature_extraction.text import CountVectorizer\n",
    "\n",
    "textos = ['Cello de madera', 'Dentífrico de Datos', 'Historia de la Mesopotamia']\n",
    "\n",
    "vec = CountVectorizer()\n",
    "X = vec.fit_transform(textos)\n",
    "X"
   ]
  },
  {
   "cell_type": "code",
   "execution_count": 61,
   "metadata": {
    "colab": {
     "base_uri": "https://localhost:8080/"
    },
    "id": "wwdJIP6nsgl_",
    "outputId": "d9908df4-43ba-434a-90a2-cb0acb129a63"
   },
   "outputs": [
    {
     "data": {
      "text/plain": [
       "matrix([[1, 0, 1, 0, 0, 0, 1, 0],\n",
       "        [0, 1, 1, 1, 0, 0, 0, 0],\n",
       "        [0, 0, 1, 0, 1, 1, 0, 1]])"
      ]
     },
     "execution_count": 61,
     "metadata": {
      "tags": []
     },
     "output_type": "execute_result"
    }
   ],
   "source": [
    "X.todense()"
   ]
  },
  {
   "cell_type": "markdown",
   "metadata": {
    "id": "Ae3xzMeBsgmL"
   },
   "source": [
    "Podemos volcar este resultado en un `DataFrame`. Para obtener el encabezado de las columnas, vamos a utilizar el método `get_feature_names()`, propio del vectorizador."
   ]
  },
  {
   "cell_type": "code",
   "execution_count": 62,
   "metadata": {
    "colab": {
     "base_uri": "https://localhost:8080/",
     "height": 136
    },
    "id": "ggdQ5v7UsgmP",
    "outputId": "88460881-247d-4b6e-a9e7-2c0f9a77fb07"
   },
   "outputs": [
    {
     "data": {
      "text/html": [
       "<div>\n",
       "<style scoped>\n",
       "    .dataframe tbody tr th:only-of-type {\n",
       "        vertical-align: middle;\n",
       "    }\n",
       "\n",
       "    .dataframe tbody tr th {\n",
       "        vertical-align: top;\n",
       "    }\n",
       "\n",
       "    .dataframe thead th {\n",
       "        text-align: right;\n",
       "    }\n",
       "</style>\n",
       "<table border=\"1\" class=\"dataframe\">\n",
       "  <thead>\n",
       "    <tr style=\"text-align: right;\">\n",
       "      <th></th>\n",
       "      <th>cello</th>\n",
       "      <th>datos</th>\n",
       "      <th>de</th>\n",
       "      <th>dentífrico</th>\n",
       "      <th>historia</th>\n",
       "      <th>la</th>\n",
       "      <th>madera</th>\n",
       "      <th>mesopotamia</th>\n",
       "    </tr>\n",
       "  </thead>\n",
       "  <tbody>\n",
       "    <tr>\n",
       "      <th>0</th>\n",
       "      <td>1</td>\n",
       "      <td>0</td>\n",
       "      <td>1</td>\n",
       "      <td>0</td>\n",
       "      <td>0</td>\n",
       "      <td>0</td>\n",
       "      <td>1</td>\n",
       "      <td>0</td>\n",
       "    </tr>\n",
       "    <tr>\n",
       "      <th>1</th>\n",
       "      <td>0</td>\n",
       "      <td>1</td>\n",
       "      <td>1</td>\n",
       "      <td>1</td>\n",
       "      <td>0</td>\n",
       "      <td>0</td>\n",
       "      <td>0</td>\n",
       "      <td>0</td>\n",
       "    </tr>\n",
       "    <tr>\n",
       "      <th>2</th>\n",
       "      <td>0</td>\n",
       "      <td>0</td>\n",
       "      <td>1</td>\n",
       "      <td>0</td>\n",
       "      <td>1</td>\n",
       "      <td>1</td>\n",
       "      <td>0</td>\n",
       "      <td>1</td>\n",
       "    </tr>\n",
       "  </tbody>\n",
       "</table>\n",
       "</div>"
      ],
      "text/plain": [
       "   cello  datos  de  dentífrico  historia  la  madera  mesopotamia\n",
       "0      1      0   1           0         0   0       1            0\n",
       "1      0      1   1           1         0   0       0            0\n",
       "2      0      0   1           0         1   1       0            1"
      ]
     },
     "execution_count": 62,
     "metadata": {
      "tags": []
     },
     "output_type": "execute_result"
    }
   ],
   "source": [
    "import pandas as pd\n",
    "pd.DataFrame(data = X.todense(), columns = vec.get_feature_names())"
   ]
  },
  {
   "cell_type": "markdown",
   "metadata": {
    "id": "VyCd1urdsgmV"
   },
   "source": [
    "**Term frequency-inverse document frequency (TF–IDF)** es una técnica alternativa que computa la frecuencia relativa de cada palabra por documento, ponderada por la inversa de su frecuencia relativa a lo largo del *corpus* (colección de documentos). Este método funciona mejor con ciertos algoritmos de clasificación."
   ]
  },
  {
   "cell_type": "markdown",
   "metadata": {
    "id": "Zhx8CaTasgmd"
   },
   "source": [
    "##### La variación **tf-idf** se calcula del siguiente modo:\n",
    "\n",
    "tf-idf(t, d) = tf(t, d) * idf(t)\n",
    "\n",
    "tf(t, d) es el valor que da CountVectorizer.\n",
    "\n",
    "idf(t) es idf(t) = log [ n / df(t) ] + 1 , donde n es la cantidad total de documentos y df(t) es el número de documentos donde aparece t.\n",
    "\n",
    "###### Cómo ejemplo, calculemos los valores de la primera fila:"
   ]
  },
  {
   "cell_type": "code",
   "execution_count": 63,
   "metadata": {
    "colab": {
     "base_uri": "https://localhost:8080/",
     "height": 136
    },
    "id": "ovn6i9_hsgmX",
    "outputId": "f93e2530-1259-40d0-964d-2fa3d5ac5e3f"
   },
   "outputs": [
    {
     "data": {
      "text/html": [
       "<div>\n",
       "<style scoped>\n",
       "    .dataframe tbody tr th:only-of-type {\n",
       "        vertical-align: middle;\n",
       "    }\n",
       "\n",
       "    .dataframe tbody tr th {\n",
       "        vertical-align: top;\n",
       "    }\n",
       "\n",
       "    .dataframe thead th {\n",
       "        text-align: right;\n",
       "    }\n",
       "</style>\n",
       "<table border=\"1\" class=\"dataframe\">\n",
       "  <thead>\n",
       "    <tr style=\"text-align: right;\">\n",
       "      <th></th>\n",
       "      <th>cello</th>\n",
       "      <th>datos</th>\n",
       "      <th>de</th>\n",
       "      <th>dentífrico</th>\n",
       "      <th>historia</th>\n",
       "      <th>la</th>\n",
       "      <th>madera</th>\n",
       "      <th>mesopotamia</th>\n",
       "    </tr>\n",
       "  </thead>\n",
       "  <tbody>\n",
       "    <tr>\n",
       "      <th>0</th>\n",
       "      <td>0.652491</td>\n",
       "      <td>0.000000</td>\n",
       "      <td>0.385372</td>\n",
       "      <td>0.000000</td>\n",
       "      <td>0.000000</td>\n",
       "      <td>0.000000</td>\n",
       "      <td>0.652491</td>\n",
       "      <td>0.000000</td>\n",
       "    </tr>\n",
       "    <tr>\n",
       "      <th>1</th>\n",
       "      <td>0.000000</td>\n",
       "      <td>0.652491</td>\n",
       "      <td>0.385372</td>\n",
       "      <td>0.652491</td>\n",
       "      <td>0.000000</td>\n",
       "      <td>0.000000</td>\n",
       "      <td>0.000000</td>\n",
       "      <td>0.000000</td>\n",
       "    </tr>\n",
       "    <tr>\n",
       "      <th>2</th>\n",
       "      <td>0.000000</td>\n",
       "      <td>0.000000</td>\n",
       "      <td>0.322745</td>\n",
       "      <td>0.000000</td>\n",
       "      <td>0.546454</td>\n",
       "      <td>0.546454</td>\n",
       "      <td>0.000000</td>\n",
       "      <td>0.546454</td>\n",
       "    </tr>\n",
       "  </tbody>\n",
       "</table>\n",
       "</div>"
      ],
      "text/plain": [
       "      cello     datos        de  ...        la    madera  mesopotamia\n",
       "0  0.652491  0.000000  0.385372  ...  0.000000  0.652491     0.000000\n",
       "1  0.000000  0.652491  0.385372  ...  0.000000  0.000000     0.000000\n",
       "2  0.000000  0.000000  0.322745  ...  0.546454  0.000000     0.546454\n",
       "\n",
       "[3 rows x 8 columns]"
      ]
     },
     "execution_count": 63,
     "metadata": {
      "tags": []
     },
     "output_type": "execute_result"
    }
   ],
   "source": [
    "from sklearn.feature_extraction.text import TfidfVectorizer\n",
    "vec = TfidfVectorizer()\n",
    "X = vec.fit_transform(textos)\n",
    "pd.DataFrame(data = X.todense(), columns = vec.get_feature_names())"
   ]
  },
  {
   "cell_type": "markdown",
   "metadata": {
    "id": "zQo64BUGFAFU"
   },
   "source": [
    "Aplicandolo con estilo a nuestro caso:"
   ]
  },
  {
   "cell_type": "code",
   "execution_count": 64,
   "metadata": {
    "id": "XBICMk8s96Dl"
   },
   "outputs": [],
   "source": [
    "from sklearn.feature_extraction.text import TfidfVectorizer, CountVectorizer\n",
    "\n",
    "lemma = nltk.wordnet.WordNetLemmatizer()\n",
    "\n",
    "class LemmaTfidfVectorizer(TfidfVectorizer):\n",
    "    def build_analyzer(self):\n",
    "        analyzer = super(LemmaTfidfVectorizer, self).build_analyzer()\n",
    "        return lambda doc: [lemma.lemmatize(w) for w in analyzer(doc)]"
   ]
  },
  {
   "cell_type": "code",
   "execution_count": 65,
   "metadata": {
    "colab": {
     "base_uri": "https://localhost:8080/"
    },
    "id": "-QqkEH9P96Dl",
    "outputId": "e2328173-755e-4978-aaeb-0e2480f5f968"
   },
   "outputs": [
    {
     "name": "stdout",
     "output_type": "stream",
     "text": [
      "CPU times: user 599 ms, sys: 867 µs, total: 600 ms\n",
      "Wall time: 600 ms\n"
     ]
    }
   ],
   "source": [
    "%%time\n",
    "vectorizer = LemmaTfidfVectorizer(stop_words='english')\n",
    "\n",
    "X = vectorizer.fit_transform(tweets['tweet'])"
   ]
  },
  {
   "cell_type": "code",
   "execution_count": 66,
   "metadata": {
    "colab": {
     "base_uri": "https://localhost:8080/"
    },
    "id": "nDbWYgio96Dl",
    "outputId": "56a723e4-6e0c-4ac5-f5aa-ab0b1da8bb25"
   },
   "outputs": [
    {
     "data": {
      "text/plain": [
       "(14866, 9673)"
      ]
     },
     "execution_count": 66,
     "metadata": {
      "tags": []
     },
     "output_type": "execute_result"
    }
   ],
   "source": [
    "X.shape"
   ]
  },
  {
   "cell_type": "code",
   "execution_count": 70,
   "metadata": {
    "colab": {
     "base_uri": "https://localhost:8080/"
    },
    "id": "YWMtGrNKAH4L",
    "outputId": "8be3a0fc-590f-4a30-f53f-b503224b3feb"
   },
   "outputs": [
    {
     "data": {
      "text/plain": [
       "['abundantly',\n",
       " 'abuse',\n",
       " 'abusive',\n",
       " 'academia',\n",
       " 'academic',\n",
       " 'academy',\n",
       " 'acast',\n",
       " 'accelerate',\n",
       " 'accelerated',\n",
       " 'accelerating']"
      ]
     },
     "execution_count": 70,
     "metadata": {
      "tags": []
     },
     "output_type": "execute_result"
    }
   ],
   "source": [
    "vectorizer.get_feature_names()[100:110]"
   ]
  },
  {
   "cell_type": "markdown",
   "metadata": {
    "id": "sdUwr6sA96Dl"
   },
   "source": [
    "### Topic modelling con K-Means "
   ]
  },
  {
   "cell_type": "code",
   "execution_count": 93,
   "metadata": {
    "id": "WY4FyAzmGHHs"
   },
   "outputs": [],
   "source": [
    "import seaborn as sns\n",
    "import numpy as np"
   ]
  },
  {
   "cell_type": "markdown",
   "metadata": {
    "id": "FWJSEabtAYod"
   },
   "source": [
    "Ejercicio:\n",
    "\n",
    "- Ajustar KMeans a la matriz de features"
   ]
  },
  {
   "cell_type": "code",
   "execution_count": 71,
   "metadata": {
    "colab": {
     "base_uri": "https://localhost:8080/"
    },
    "id": "D6g6z2ex-JCZ",
    "outputId": "21e3af82-cc92-42ab-cdb4-4cc4b4c71097"
   },
   "outputs": [
    {
     "data": {
      "text/plain": [
       "KMeans(algorithm='auto', copy_x=True, init='k-means++', max_iter=300,\n",
       "       n_clusters=9, n_init=10, n_jobs=None, precompute_distances='auto',\n",
       "       random_state=None, tol=0.0001, verbose=0)"
      ]
     },
     "execution_count": 71,
     "metadata": {
      "tags": []
     },
     "output_type": "execute_result"
    }
   ],
   "source": [
    "from sklearn.cluster import KMeans\n",
    "from sklearn import metrics\n",
    "\n",
    "# Completar \n",
    "n_clusters = 9\n",
    "km = KMeans(n_clusters=n_clusters, init='k-means++')\n",
    "km.fit(X)"
   ]
  },
  {
   "cell_type": "code",
   "execution_count": 72,
   "metadata": {
    "colab": {
     "base_uri": "https://localhost:8080/"
    },
    "id": "BpOYvQocAeAz",
    "outputId": "6d12db83-2d86-4596-c41e-be3ff2679947"
   },
   "outputs": [
    {
     "name": "stdout",
     "output_type": "stream",
     "text": [
      "Silhouette Coefficient: 0.012\n"
     ]
    }
   ],
   "source": [
    "print(\"Silhouette Coefficient: %0.3f\" % metrics.silhouette_score(X, km.labels_, sample_size=1000))"
   ]
  },
  {
   "cell_type": "code",
   "execution_count": 73,
   "metadata": {
    "colab": {
     "base_uri": "https://localhost:8080/"
    },
    "id": "r_rG93TvAXmm",
    "outputId": "26609b0b-fa9d-44e8-d254-521692cdd73d"
   },
   "outputs": [
    {
     "name": "stdout",
     "output_type": "stream",
     "text": [
      "\n",
      "Cluster número 0:\n",
      "need future way coronavirus people country year help make know \n",
      "Cluster número 1:\n",
      "read million year future people day life time planet food \n",
      "Cluster número 2:\n",
      "covid 19 pandemic vaccine know need world global recovery way \n",
      "Cluster número 3:\n",
      "global economy crisis read learn leader economic emission warming world \n",
      "Cluster número 4:\n",
      "world forum economic country read economy city largest biggest chart \n",
      "Cluster número 5:\n",
      "change climate fight world need way tackle read learn help \n",
      "Cluster número 6:\n",
      "best davos world country university city work way economy life \n",
      "Cluster número 7:\n",
      "learn day future quote plastic waste world impact ocean food \n",
      "Cluster número 8:\n",
      "new report read york zealand world book study join just "
     ]
    }
   ],
   "source": [
    "centroides_ordenados = km.cluster_centers_.argsort()[:, ::-1]\n",
    "vocab = vectorizer.get_feature_names()\n",
    "\n",
    "for i in range(n_clusters):\n",
    "    print(\"\\nCluster número %d:\" % i)\n",
    "    for ind in centroides_ordenados[i, :10]:\n",
    "        print('%s ' % vocab[ind], end='')"
   ]
  },
  {
   "cell_type": "markdown",
   "metadata": {
    "id": "7AiE3jkXrt9V"
   },
   "source": [
    "Ejercicio:\n",
    "\n",
    " - Ajustar MiniBatchKMeans en lugar de KMeans\n",
    " - Encontrar el mejor número de clusters según el índice Silhouette"
   ]
  },
  {
   "cell_type": "code",
   "execution_count": 73,
   "metadata": {
    "id": "D4_a9v3kr7XY"
   },
   "outputs": [],
   "source": []
  },
  {
   "cell_type": "markdown",
   "metadata": {
    "id": "VFk0wD2HyI5g"
   },
   "source": [
    "# Reducción de Dimensionalidad"
   ]
  },
  {
   "cell_type": "markdown",
   "metadata": {
    "id": "YX5mLq9l0-LO"
   },
   "source": [
    "Ejercicio:\n",
    "\n",
    "- Reducir la matriz X (del TF-IDF Vectorizer) a 3 dimensiones con PCA"
   ]
  },
  {
   "cell_type": "code",
   "execution_count": 74,
   "metadata": {
    "id": "jLDjc0AstOuN"
   },
   "outputs": [],
   "source": [
    "from sklearn.decomposition import PCA\n",
    "\n",
    "# Completar\n",
    "pca = PCA(n_components=3)\n",
    "reduced_features = pca.fit_transform(X.toarray())"
   ]
  },
  {
   "cell_type": "code",
   "execution_count": 75,
   "metadata": {
    "colab": {
     "base_uri": "https://localhost:8080/"
    },
    "id": "LYEF2N7nt8x_",
    "outputId": "fd50e91d-533d-4211-fe6e-64a0b093f7d3"
   },
   "outputs": [
    {
     "data": {
      "text/plain": [
       "(14866, 3)"
      ]
     },
     "execution_count": 75,
     "metadata": {
      "tags": []
     },
     "output_type": "execute_result"
    }
   ],
   "source": [
    "reduced_features.shape"
   ]
  },
  {
   "cell_type": "code",
   "execution_count": 78,
   "metadata": {
    "id": "_PNrj1OrupCZ"
   },
   "outputs": [],
   "source": [
    "# Generamos una lista de colores\n",
    "palette = sns.color_palette(\"GnBu_d\", n_colors=max(km.labels_) + 1).as_hex()"
   ]
  },
  {
   "cell_type": "code",
   "execution_count": 79,
   "metadata": {
    "id": "znJy1Q1yuEsG"
   },
   "outputs": [],
   "source": [
    "# Armamos un DataFrame con la información para graficar\n",
    "coords = pd.DataFrame(data = reduced_features, columns = ['x', 'y','z'], index = tweets['tweet'].index)\n",
    "coords['text'] = tweets['tweet']\n",
    "coords['color'] = [palette[i] for i in km.labels_]\n",
    "coords['cluster'] = km.labels_"
   ]
  },
  {
   "cell_type": "code",
   "execution_count": 80,
   "metadata": {
    "colab": {
     "base_uri": "https://localhost:8080/",
     "height": 78
    },
    "id": "ePrGrFCNA98F",
    "outputId": "3ac4245b-14ff-46b8-e4f4-4ca9e50fa410"
   },
   "outputs": [
    {
     "data": {
      "text/html": [
       "<div>\n",
       "<style scoped>\n",
       "    .dataframe tbody tr th:only-of-type {\n",
       "        vertical-align: middle;\n",
       "    }\n",
       "\n",
       "    .dataframe tbody tr th {\n",
       "        vertical-align: top;\n",
       "    }\n",
       "\n",
       "    .dataframe thead th {\n",
       "        text-align: right;\n",
       "    }\n",
       "</style>\n",
       "<table border=\"1\" class=\"dataframe\">\n",
       "  <thead>\n",
       "    <tr style=\"text-align: right;\">\n",
       "      <th></th>\n",
       "      <th>x</th>\n",
       "      <th>y</th>\n",
       "      <th>z</th>\n",
       "      <th>text</th>\n",
       "      <th>color</th>\n",
       "      <th>cluster</th>\n",
       "    </tr>\n",
       "  </thead>\n",
       "  <tbody>\n",
       "    <tr>\n",
       "      <th>21901</th>\n",
       "      <td>-0.001613</td>\n",
       "      <td>-0.031181</td>\n",
       "      <td>-0.041595</td>\n",
       "      <td>Live now: How can we shift from technological ...</td>\n",
       "      <td>#9ed6be</td>\n",
       "      <td>0</td>\n",
       "    </tr>\n",
       "  </tbody>\n",
       "</table>\n",
       "</div>"
      ],
      "text/plain": [
       "              x         y  ...    color cluster\n",
       "21901 -0.001613 -0.031181  ...  #9ed6be       0\n",
       "\n",
       "[1 rows x 6 columns]"
      ]
     },
     "execution_count": 80,
     "metadata": {
      "tags": []
     },
     "output_type": "execute_result"
    }
   ],
   "source": [
    "coords.sample(1)"
   ]
  },
  {
   "cell_type": "code",
   "execution_count": 81,
   "metadata": {
    "id": "rORYUISywghX"
   },
   "outputs": [],
   "source": [
    "coords = coords.sample(1000)"
   ]
  },
  {
   "cell_type": "code",
   "execution_count": 82,
   "metadata": {
    "colab": {
     "base_uri": "https://localhost:8080/",
     "height": 817
    },
    "id": "IkArNaQlzGVa",
    "outputId": "07e8f4c3-d1b4-40bd-a0f1-896f6c216af0"
   },
   "outputs": [
    {
     "data": {
      "text/html": [
       "<html>\n",
       "<head><meta charset=\"utf-8\" /></head>\n",
       "<body>\n",
       "    <div>\n",
       "            <script src=\"https://cdnjs.cloudflare.com/ajax/libs/mathjax/2.7.5/MathJax.js?config=TeX-AMS-MML_SVG\"></script><script type=\"text/javascript\">if (window.MathJax) {MathJax.Hub.Config({SVG: {font: \"STIX-Web\"}});}</script>\n",
       "                <script type=\"text/javascript\">window.PlotlyConfig = {MathJaxConfig: 'local'};</script>\n",
       "        <script src=\"https://cdn.plot.ly/plotly-latest.min.js\"></script>    \n",
       "            <div id=\"d7bf2ee9-615e-4679-b023-09b7849824ce\" class=\"plotly-graph-div\" style=\"height:800px; width:800px;\"></div>\n",
       "            <script type=\"text/javascript\">\n",
       "                \n",
       "                    window.PLOTLYENV=window.PLOTLYENV || {};\n",
       "                    \n",
       "                if (document.getElementById(\"d7bf2ee9-615e-4679-b023-09b7849824ce\")) {\n",
       "                    Plotly.newPlot(\n",
       "                        'd7bf2ee9-615e-4679-b023-09b7849824ce',\n",
       "                        [{\"hoverinfo\": \"text\", \"marker\": {\"color\": \"#9ed6be\", \"line\": {\"width\": 1}, \"size\": 8}, \"mode\": \"markers\", \"name\": \"Cluster 0\", \"text\": [\"These countries are doing the most to reduce\", \"Is co-housing the future?\", \"International affairs should not be dictated by one or a few countries, explains Han Zheng, Vice-Premier of the People's Republic of China at . Instead, we need to work together to bring about a brighter future:\", \"These are the four behaviours of successful\", \"You cannot have a plan for the economy if you do not have a plan for the environment. tells ,\", \"The devastation of Australian bushfires in pictures\", \"Good leaders dont give advice they coach\", \"These countries are the most attractive for foreign workers\", \"things to know about China's historic rise\", \"Gaming addiction is now seen as a mental health condition by the\", \"What is the best way to defend human rights? Kumi Naidoo (), Secretary-General of Amnesty International (), shares his thoughts on our Instagram story:\", \"No technology shift has ever gone as fast as what is needed in the transport sector to reach , says\", \"Apple's stock market value has doubled to $2 trillion - in just years\", \"What to know about the coronavirus outbreak in charts and maps\", \"Why building a community for employees can create a thriving workplace\", \"reasons we need a major overhaul of corporate tax, by Christine\", \"Overfishing is a social injustice. To end it, we need to eliminate harmful fisheries subsidies.\", \"These countries have the highest levels of human capital\", \") Her message to violent protesters? Treasure Hong Kong, dont destroy it\", \"These charts show how people are responding to coronavirus\", \"charts that show the of European football\", \"companies join pledge aiming to equip million ASEAN workers with digital skills by\", \"BP data reveals clean electricity matched coal for the first time in\", \"The social universe in\", \"Indian students are choosing over the for their\", \"should be like everything else. An on-demand service\", \"ways to build healthier societies\", \"One-quarter of buildings will be D printed by\", \"Live now: How can leaders pave the way to set up the next generation for success?\", \"There's a tremendous crisis of faith in journalism. But we can fix it, says Harold Feld, VP of Public Knowledge USA\", \"Special Address by , President of Iraq with of Live Stream: Live Blog:\", \"In Sweden you can roam anywhere you like, without the landowner's permission\", \". announced the Social Innovators of the Year for .\", \"Australia's rivers are running dry. This is how it's affecting the locals\", \". says is driven by data and tech, so it's the biggest enabler for a resilient food system. Information is power and should be visible: 'Using satellite tech and smartphones empowers farmers and creates transparency throughout the food system.'\", \"What you need to know about G\", \"Indonesia is buzzing with entrepreneurial spirit. And others in ASEAN arent far behind\", \"This islands dazzling flora makes it the most plant-diverse on the planet\", \"Systemic racism: what is it and how can it be defeated?\", \"Thoughtful blockchain implementation improving supply chains post-COVID\", \"NASA held a contest to design a home on Mars, and this printable pod is the winner\", \"Why Universal Basic Income might not be the answer\", \"This Australian teenager is making a plastic alternative out of prawn shells\", \"This app lets you flatten the curve\", \"Our food systems need transformation. Not just for ourselves, but for the planet.\", \"lessons for the future of universities\", \"One good reason to feel less blue about the future of our oceans\", \"Meet Jaap Korteweg, the vegetarian butcher making kebabs out of animal-feed\", \"This is what our Google searches can teach us about the economic impact of\", \"\\\"I've spent the last years of my life in a camp, and I will go back there next week.\\\" Listen to more of Mohammed's inspiring story here:\", \"How more women politicians in Africa can make a real difference\", \"Be Smart if you feel unwell: stay at home call your . (S)he will ask about your symptoms, where you have been &amp; who you have had contact with. This will help ensure you get the right advice &amp; stop you from infecting others Be Ready:\", \"Why smallpox gives us a reason to be hopeful\", \"Here's how Stan Lee influenced modern\", \"Invisible stamps are the latest weapon in the war on groping in Japan - but are they working?\", \"\\\"We need to engage youth and hear their voices--both politically and economically\\\" says.\", \"This Californian city has just launched a basic income trial\", \"Light pollution: the dark side of keeping the lights on\", \"'There is enough for everyone if we all work together': UK supermarkets are besieged by customers\", \"Seniors in these developed countries are skipping flu shots\", \"challenges to make sure tech benefits human progress in health\", \"ways holiday hotspots can turn the tide on too many tourists\", \"Japan to open door wider to foreign blue-collar workers\", \", and a host of other men and women discuss the importance of inclusion and diversity for society's future.\", \"The Great Barrier Reef has suffered its third mass bleaching event in five years. Submit your solutions to protect our reefs on UpLink:\", \"Chart of the day: These are Americas most dangerous jobs\", \"Tasmania has created a road made from recycled waste\", \"Why working together is the only way to reap the benefits of\", \"Arctic sea ice shrinks to second-lowest summer minimum on record\", \"Here's why smaller companies make the most valuable partners\", \"How sustainable aviation fuel can really take off in Europe\", \"From bottle bans to giant washing machines: here's how music festivals are tackling plastic waste\", \"Coronavirus could push million people into extreme poverty, says\", \"Wildlife populations have plummeted by two-thirds in years\", \"'Behind the food we eat are the faces and silent voices of the farmers who grow it. ... They do the hard work and plant the seeds needed to feed the world, but they desperately need greater investment.'\", \"How your 'thank you' emails are polluting the planet\", \"Saudi women are going to college, running for office and changing the conservative country\", \". says inclusivity is key: \\\"Why as human beings cant we think about including everyone in any technology created? We must include boys and girls and give them tools they need so they can be part of future of workforce.\\\"\", \"Why must ready to take the quantum leap\", \"How big data has revolutionised\", \"Why pessimism is under-rated\", \"Kenyans are using slingshots to replenish forests\", \"Expanding marine protected areas could boost fish yields but there's a catch\", \"Severe air pollution could speed up the degeneration of your childs brain\", \"Morocco will soon unveil Africa's first high-speed rail link\", \"American women are % more likely to die in childbirth than their mothers\", \"How 'potholes' are helping Zimbabwean farmers save precious water\", \"Outcomes: Economic Growth, Revival and Transformation with , , , , ,\", \"Which countries do migrants want to move to?\", \"This mind-reading can tell what you're looking at\", \"Electric vehicles should overtake traditional sales in just years\", \"Investing in Forests with Gill Cassar, , , , , , , , Nicole Schwab\", \"How raised the stakes for electric vehicles\", \"In this Dutch neighbourhood there will be space for car for every households\", \"ways better air data is helping us all\", \") An excellent session featuring and Lord Tony Hall debating the battle against fake news and hate speech online\", \"The mobile phone gap is a $700 billion opportunity\", \"Why unsafe thinking could be the secret to success\", \"This is what happens when a school swaps french fries for quinoa\", \"Live now: How can businesses and government tap into the digital potential of ASEAN?\", \"powerful ways to stay positive\", \"These countries have the most doctors and nurses\", \"David Attenborough: The planet cant cope with overpopulation\", \"From advertising effectiveness to smelting steel: Subscribe to 's weekly LinkedIn newsletter here:\", \"Bangladesh is booming - and its future looks even brighter\", \"Hey Siri, you're sexist, finds UN report on gendered technology\", \"How the is affecting refugees and asylum seekers\", \"Looking for an affordable home in the US? You might want to try these cities\", \"Smashing the class ceiling isn't enough. We need to keep away from the edge of the class cliff\", \"Nearly billion people around the globe under lockdowns - Today's coronavirus updates\", \"Are probiotics the answer to creating climate-friendly cows?\", \": Human evolution is still happening possibly faster than ever\", \"Lights out: A third of Frances population is being put under a nightly curfew\", \"This survey reveals that Americans trust doctors and scientists more than elected officials\", \"Its clean, powerful and available: Are you ready for hydrogen energy?\", \"Hear from our experts: Here's how food trends are changing in the era of climate awareness\", \"Time to make a fundamental choice about the future of healthcare\", \"Shaping the Future of Health and Healthcare Systems with Arnaud Bernaert Gong Yingying Christophe Weber Live Stream: Live Blog:\", \"How soft skills training can make you more successful\", \"Heres what happened when one Guatemalan town went to war on plastic waste\", \"Economic historians have an important lesson about air pollution\", \"We have just selected Arab start-ups who are shaping the Fourth Industrial Revolution. Find out more:\", \"These are the places with the most deniers\", \"Being interrupted at work could be good for you sometimes\", \"billion people still don't have access to clean drinking water\", \"Like ? Join our here:\", \"This is how the Pearl River Delta has transformed from farmland into a megacity\", \"G mobile is nearly here but we should share networks to make it affordable\", \"Are you bilingual? It could help you make better decisions\", \"This Prime Minister wants you to come and live the American Dream - in Europe\", \"This is why employment rates have lagged behind other countries\", \"Good news for teachers in Bhutan the government is doubling their pay\", \") \\\"As of today, companies have signed up. We are in countries, sectors, so its not a tickbox exercise or whitewashing, we asked the CEOs to sign and commit.\\\"\", \"President Trump urges other countries to follow the US's example in cutting bureaucracy, which has helped make the US a hugely attractive place for businesses to invest\", \"If we do it right, we'll only have to do it once calls for a nationwide shutdown in the US\", \"Why the minibus will survive Jakarta's transport revolution. Find out more.\", \"This chart shows the rise of the Asian Middle Class\", \"Who is winning - and losing - the race to build a workforce fit for the future?\", \"A special conversation with\", \"says in Asia, most countries are seeing case numbers of stabilizing or declining. Most Pacific islands have yet to report a case. But there is no room for complacency - we must keep preparing for the possibility of large-scale transmission.\", \"has a plan to end all traffic accident deaths\", \"The recipe for creativity involves a lot of ideas, and a short break\", \"It's time we all made biodiversity loss a priority\", \"How has coronavirus changed consumer spending?\", \"Meet the teen science star using magnetic liquid to remove microplastics from water\", \"How the Great White Shark's genes may help to fight cancer\", \"After the protests, what next for racial justice in the ?\", \"Individuals have real power to invest their money to progress the SDGs, said Richard Curtis. Additionally, pensions could serve as a new frontier for purpose-led investing. \\\"Excellent progress is being made.\\\"\", \"How emerging markets will shape Africa in\", \"We need a digital revolution to improve our fragile food systems\", \"Britain's young royals have launched a mental health phone messaging service. Check out our story to find out more:\", \"How we can \\\"bank\\\" water underground for use later on\", \"Japan's population is shrinking by people every year\", \"Time to bust some myths about genes, inheritance and health\", \"This is what a supermarket looks like when it bans plastic and\", \"This US state is turning millions of oyster shells into artificial reefs\", \"It costs trillions of dollars to settle commercial conflicts. It's time for Alternative Dispute Resolution.\", \"Children are forgetting the names for plants and animals\", \"These US cities are using data to end homelessness\", \"India's record-breaking diaspora in numbers\", \". also discusses the Ebola outbreak in Western DRC, which has now reached cases. This is putting more pressure on local healthcare infrastructure.\", \"Explainer: What we know about China's 'dual circulation' economic strategy\", \"Why Africa must think rather than in to tackle the\", \"Parvathi Santhosh-Kumar of said equity and inclusion are often an afterthought sprinkled to top existing plans and need to be at the heart of the workplace.\", \"% of workers in the US are distracted by work meetings - but there's actually a wealth of hidden benefits\", \"ways Melbourne is planning for the Fourth Industrial Revolution\", \"This is how Americans are spending the time they saved on the commute\", \"LIVE NOW: Pre Annual Meeting Press Conference. Watch here:\", \"Why daily doses of nature in the city matter for people and the planet\", \"Watch discuss the future of jobs with a panel of experts\", \"This is what nearly $14 trillion of household debt looks like\", \"Microsoft implemented a -day working week, here's what happened\", \"The economics of immigration amnesties\", \"The burning Arctic, how causes diabetes, the informality trap and other top stories of the week\", \"Heres what happened as the planet sizzled during the hottest June on record\", \"\\\"The fastest we can estimate that vaccines will be available... is in the first half of next year, and that will be done in emergency use,\\\" according to Paul Stoffels, Chief Scientific Officer .\", \"How behavioural science could help us break up with plastic\", \"Why quantum computing could make today's cybersecurity obsolete\", \"Celebration of the th Anniversary with , President of the Live Stream: Live Blog:\", \"factors that could hold countries back - and limit AI advancement\", \"in Africans had to pay a bribe to access public services last year\", \"'Fake meat' is going to be worth $140 billion by - would you give it a try?\", \"., Prime Minister of Singapore, says the US still has an important role to play in the region to foster security and stability\", \"Here's how much Mexicos spike in crime hurts the economy\", \"make you sadder. Here's why\", \"Outcomes: Education, Skills and Lifelong Learning with Aymen bin Tawfeeq Al Moayed, , John Goodwin, Salil S. Parekh, , ,\", \"Australia has a radical plan to save its fish\", \"Half of all mental illness begins by the age of health\", \"UN: months of lockdown could result in million cases of domestic abuse worldwide\", \"Cities that fly the rainbow flag are also the most innovative\", \"What you need to know about the pandemic on May\", \": Why Sweden's cashless is no longer a utopia\", \"The US economy currently has 'one of the biggest mismatches in history'\", \"Oxford University is giving students extra time to finish exams because women are 'adversely affected by time pressure'\", \"Student mental health is a major issue. So, what's the solution?\", \"How can the African private sector woo China?\", \"From the archive: Jack Ma on the IQ of love - and other top quotes from his Davos interview\", \"The secret to designing a positive vision for AI? Imagination\", \"Citigroup has just appointed the first female CEO of a Wall Street bank\", \"The UN has a recommendation for refugee camps that might surprise you\", \"Here's a snapshot of what's been said about the environment at Davos\", \"Growing up near green space is good for adult mental health\", \"Why economists need to think about freedom\", \"Coronavirus: tips for parents who are homeschooling\", \"From dining pods to see-through masks: ways innovations are helping in the pandemic\", \"These four countries have the happiest people in the European Union\", \"We're running out of room in space\", \"What just happened? highlights from AMNC18\", \"South Korea has limited a working week to hours, in order to stop overwork\", \"Are you an ASEAN start-up? Now is your chance to join the official programme at our upcoming summit in September. Find out more:\", \"Digital trade will not exacerbate inequality, says . Advanced technology is not limited to a few countries, as it was in the s. Digital trade is an opportunity to improve availability and choice and lower prices. It is fundamentally a good thing for development.\", \"This is why Denmark, Sweden and Germany are considering a meat tax\", \"We feel we are at a stage where we, I would say, are cautiously optimistic about having flattened the curve,\\\" said Canadian DPM .\", \"A Chinese economist explains what we get wrong about the trade war\", \"These wild seed hunters go on perilous 'Indiana Jones' adventures to secure the food of our future\", \"These are the life-saving lessons we learned from the tsunami\", \"Here's how you can make quarantine a productive time for your kids\", \"This is how smart cities are paving the way towards an inclusive future\", \"This is why your company may need grumpy employees\", \"The India-US trade relationship is a delicate balance. Heres why\", \"Why women of colour take more risks in the workplace\", \": skills you'll need to survive the rise of\", \"How can we make entrepreneurship serve the greater good?\", \"Bangkok farmer refuses to sell land and wants to turn into inner city retreat\", \"From office politics to impressing your boss: What is it really like to join a company remotely?\", \"This massive iceberg could cause a tsunami in\", \"These top IT tips can keep your workers secure\", \"An economist explains how to create a fairer society\", \"Why do US presidential elections last so long? And other things you need to know\", \"YouTube bans coronavirus vaccine misinformation\", \"Scientists have created a silicon beating heart\", \"Join us on our Instagram story, as experts take over to talk about gender equality. Click here to find out more\", \"How is driving a fourth wave of environmentalism\", \"Its time to get serious about the causes of pandemics: report\", \"with open office seating are less stressed\", \"We've got a Godzilla problem. Find out more in Sebastian Buckup's talk at TEDxCambridge:\", \"Special Address by , President of the European Parliament with Professor Klaus Schwab Live Stream: Live Blog:\", \"Being multilingual alters your experience of time\", \"keys to unlocking the power of\", \"Nature is everyones business: call for collective action to reverse nature loss\", \"Government and business leaders on managing the crisis\", \"Coronavirus: why can't some people shake off the fatigue?\", \"Kids are so busy that doctors are telling parents to schedule playtime\", \"The story behind Viet Nam's miracle growth\", \"How can we create a fairer economy? Watch our interview with Christine Lagarde (), Managing Director for the International Monetary Fund (), to find out more. Link in bio.\", \"We must look after forests so they look after us\", \"How GDP distorts our view on what is important\", \"Greenland's ice sheet could melt at a rate not seen in the last years\", \"has a bubble barrier to catch canal\", \"Why governments need to respond to the Fourth Industrial Revolution\", \"Here's what happened when kids from the city were sent to live in a rainforest\", \"Why conscious consumption beats retail therapy\", \"declares symbolic 'climate emergency'\", \"Apple is valued at $2 trillion as investor confidence grows\", \"Could the future of electronics lie in paper?\", \"These contactless donation points are helping Londons homeless\", \"Globalism is dead. Long live\", \"In this incredible wildland farm, species thrive and yields are high\", \"A loneliness study, fighting war rape and other top stories of the week\", \"Chart of the day: More women than men earned PhDs in the US last year\", \"shocking facts about inequality, according to latest report\", \"Here's what NASA believed living in space would look like in\", \"Former Fiat engineer aims to put the brakes on COVID\", \". Jeff Maggioncalda is also optimistic: \\\"The promise of online learning and remote work creates the opportunity to learn and earn without having to leave your community.\\\" Governments must focus on connectivity just as they do on power and water.\", \"Fingertip filtering. Submit your solution for the circular economy before November:\", \"These are the countries where internet access is lowest\", \"Trade, entrepreneurship and the future of ASEAN's economy\", \"What today's bailouts can do for tomorrow's economies\", \"What you need to know about the pandemic on August\", \"These are the coolest stories this correspondent has ever covered\", \"What can Hurricane Dorian teach businesses about preparing for disasters?\", \"There is enough for everyone if we all work together, UK supermarkets are besieged by customers\", \"Here are ways for workers to win in the robot age\", \"We need to build maintain and build consumer trust and prioritise employment, says of . Otherwise, we risk a very protracted crisis.\", \"). says quantum computing will break encryption in -10 years' time, so then we will need to develop quantum encryption. And he believes the combination of AI and quantum will solve some of the world's biggest problems.\", \"The Great Reset, with Professor Klaus Schwab, HRH The Prince of Wales , , , , , , Ma Jun,\", \"This UK survey reveals a troubled future for low-skilled workers\", \"Is the energy industry meeting its goals?\", \"Accelerating the Industry Transition with , , John Holland-Kaye and\", \"Globalization has to work for everyone. And we want your thoughts on how it can:\", \"These British retailers are banning glitter this Christmas. Heres why\", \"Assaults on LGBT+ community hit a record high in France last year\", \"Why plastic pollution shouldn't distract from other environmental challenges\", \"Listen to the latest episode of our podcast 'World vs Virus'. Dr Matt McCarthy, David Duong, Todd Pollack of Harvard and John Rafferty discuss life in lockdown. Listen on :\", \"Cultural diversity can drive economies. Here are lessons from India and South Asia\", \"Less fluff, more stuff: The science of productive meetings\", \"Sad but varied. This is the state of modern pop music\", \"Scotland is teaching its school children to be ethical entrepreneurs\", \"Just month in greener play areas could boost kids immune systems, study says\", \"These are the top most gender-equal countries\", \"Here's how your robot co-worker could help you deal with stress at work\", \"This is how jellyfish could light up our homes\", \"This Black British hiker is tackling exclusion from the outdoors\", \"surprising stats about gender inequality that should make you angry\", \"How does your immune system work?\", \"Los Angeles wants to build a bridge across a busy highway to save its mountain lions\", \"We must stop choking the ocean with plastic waste. Heres how\", \"Shanghai tightens airport checks to tackle 'imported' Coronavirus cases\", \"D printing is transforming how we understand history\", \"Sovereign wealth funds are working to become more climate-friendly\", \"Smartphone tech could prevent the deaths of million women and children by\", \"University of Glasgow will pay million in slavery reparations. Should other institutions follow its lead?\", \"Watch Austria's Federal Chancellor Sebastian Kurz on the country's priorities for Europe\", \": This is how a bookish home helps a child to thrive\", \"Is academia losing its chance to capitalize on technology?\", \". called on the EU to support the African Union and broader southern hemisphere in the fight against .\", \"Climate adaptation could reduce violent conflict. Here's why\", \"Could this innovative idea solve urban storm flooding?\", \"The most stunning images NASA has ever taken of our planet\", \"Back to the future: flying cars are becoming a reality\", \"The Prime Minister of Spain on , taxes and more\", \"Doctors in Montreal can now prescribe a visit to an art museum\", \"India wants exclusive rights to the tonnes of data lying with e-commerce firms in the country\", \"Chart of the day: US gun deaths skyrocket, driven by a rise in suicides\", \"This is why bionic jellyfish are the latest environmental tool for scientists\", \"Why can't all plastic waste be recycled?\", \"Bangkok has designed a park for the coming age of flooded cities\", \"President meeting with Prime Minister Nguyn Xun Phc in Ha Noi to discuss and this September in Vit Nam\", \"Climate scientist Johan Rockstrom on why the world must not exceed C warming. Watch his full speech on how to cut our carbon emissions, also featuring Al Gore, here:\", \"Overseas Indians are set to send home a record $80 billion this year\", \"leaders on creating a pipeline for female talent in business\", \"This project maps bees around the globe. Here's why that matters\", \"Your -hour day isn't working. Here's why\", \"Why this is the year we must take action on mental health\", \"How to get your company strategy ready for\", \"Catalyst leaders can elevate their teams to greatness. Here's how\", \": The unbelievably simple way to cut greenhouse gas emissions in half\", \"Held hostage by ransomware? Here's how to respond\", \"Designing the urban freight mobility systems of the future\", \"This billion-year-old fungus could reveal how life migrated to land\", \"Lying about Santa to your kids may be good for them\", \": Over years of US market milestones\", \"This Japanese company pays its employees to get a good nights sleep\", \"The impact of US-China trade tensions\", \"The geography of gender: where women work, economies grow\", \"steps towards wiping out cervical cancer\", \"These are the countries testing most for\", \"From Model T to : a short history of motor vehicle manufacturing\", \"\\\"From now onwards, Pakistan will only partner another country in peace,\\\" says\", \"What do Renaissance paintings tell us about globalisation\", \"The crisis will be remembered as a watershed moment, but not for the right reasons\", \"The argument for suspending debt payments for emerging economies throughout the pandemic\", \"Womens rights in Asia how far have we come?\", \"This is the most in-demand soft skill that companies want\", \"Moderna Inc vaccine trial reports significant findings' in study of eight people\", \"These are the perks that matter most to employees\", \"Tropical forests are now net producers of carbon. This is a problem\", \"Map of the Day: Corporate Governance: and discuss cultivating trust, defining corporate purpose, corporate risk management and more.\", \". has launched to help people cope during lockdown - We'll be sharing musical submissions from singers worldwide to help people cope with anxiety caused by coronavirus. Here is Grammy-winning Cultural Leader Wu Tong. Read more:\", \"Trust links up supply chains. How do you establish it in the digital era?\", \"ways to step up and become a moral leader\", \"Rethinking common business clichs will make you a better leader\", \"The British are the most positive in Europe on the benefits of immigration\", \"The problem with dollar lending outside the US\", \"Technophobe or technophile? We need more conversation about digital transformation\", \"\\\"We have invested over $6 billion in firms that are started by women, by African Americans, by Latinx, Asians and other minorities,\\\" said Afsaneh Beschloss, founder of RockCreek. \\\"In fact, diversity does pay.\\\"\", \"This biodegradable car is made from sugar beet\", \"How failing banks paved Hitler's path to power\", \"Companies have no excuse for diversity fatigue\", \"As coronavirus shakes up the future of work, how much is it fast-tracking what was already in motion?\", \"Here's the neuroscience of loneliness, and why technology can help\", \"These communities are planting forests high in South Americas Andes\", \"How to turn industrial carbon emissions into building materials\", \"What you need to know about on July\", \"African migration: what the numbers really tell us\", \"The Great Trade Reset with , Mattias Hedwall (), Murat Emirdag (), Shi Jingxia and\", \"skills you'll need to survive the rise of\", \"According to NASA in , this is what life in space would look like\", \"There's still time to act. Follow here:\", \"Davos : Meet the Crystal Award winners\", \"Meet the mobile charity that gives the homeless free showers and washes their clothes\", \"How do we save the planet without killing economic growth? Watch our interview with Nauman Saeed Anwar, Manager of Climate Policy Assurance for the Alberta Energy Regulator, to find out more.\", \"How artificial intelligence is redefining the role of manager\", \"The EU has rejected 's draft budget for\", \"People are not ashamed of excluding people with disabilities, says the BBC's , adding that there is a \\\"soft bigotry of low expectations\\\" where disabilities are concerned\", \"The incredible story of how the people of the Warsaw Ghetto beat typhus\", \"Special Address by Volodymyr Zelenskyy, President of Ukraine with Professor Klaus Schwab Live Stream: Live Blog:\", \"Most people would support a ban on the fishing of endangered species, our poll finds\", \"Australian solar could power Singapore within a decade\", \"Principles around accountability in AI need to be turned into software engineering practice, says \\\"The best way to ensure there's no bias in AI is to have the team creating the AI representing the diversity we want it to have.\\\"\", \"Australias bushfires are driving air pollution to record levels\", \"Here are book recommendations from the CEO of Microsoft\", \"Start-ups founded by women generate more revenue and do it with less funding\", \"The rise of the robo-restaurant: AI is ready to take your order\", \"China by numbers, what makes you sick, doubling school learning\", \"ways to vastly improve your communication skills\", \"I have a rare disease. This is my hope for the future of medicine\", \"Learning from Ebola: how Sierra Leone is routinely tackling coronavirus\", \"This is what the American electorate looks like by party, race age, ethnicity and religion\", \"Have young people killed television?\", \"The transition to net-zero will become the most significant in economic history, and an important compliance and risk management consideration for portfolio managers, said David Blood.\", \"African American workers could be badly hit by automation is there a solution?\", \"Map of the Day: Values and discuss the common good, valuing human dignity and trust as a value.\", \"Earth Day : ways to spend lockdown - and save the planet\", \"Chart of the day: Nearly a third of the globe is now on Facebook\", \"This is the toll that everyday racism takes on black men in America\", \"Scientists just got closer to making nuclear fusion work\", \"Heres how the Senegalese are reclaiming African history and art\", \"This AI-operated robotic hand moves with unprecedented dexterity\", \"The Arctic just recorded its hottest day ever. Here's what that means\", \"NASA names its headquarters after 'hidden figure' Mary W. Jackson\", \"Coronavirus isn't an outlier, it's part of our interconnected viral age\", \"This study could spell the end of open-plan offices\", \"Women have only three-quarters of the economic rights of men, the has found\", \"These can plant trees a day\", \"The hidden risk of virtual reality - and what to do about it\", \"Ethics and AI: can we have both?\", \"What this study of knitters tells us about entrepreneurship\", \"Today the launches the campaign to tell the stories of social entrepreneurs working on the health, economic and societal issues caused by coronavirus. Add your story using . Read more:\", \"Can we prevent a surge in pandemic-related homelessness?\", \"Which of tomorrows jobs are you most qualified for?\", \"We are living on \\\"the planet of the chickens,\\\" says this scientist\", \"This is the learning habit that Bill Gates and Benjamin Franklin share\", \"For thousands of years, humans slept in two shifts. Should we do it again?\", \"Companies are evolving when it comes to transgender rights heres how\", \"Coronavirus: the economic recovery wont only be U-shaped itll look like a wheelbarrow\", \"Lynette Wallworth on the devastating reality of : \\\"It is here.\\\"\", \"ways is improving\", \". announces the USA will join the Forum's Trillion Trees Initiative. Find out more:\", \"How do we build a ? The answers won't come from governments, businesses, and academia alone they should also come from you. To have your say, upload a response to on one of our five key questions here:\", \"Can low-carbon investments help economies recover from coronavirus?\", \"From health-for-all to health-for-wealth. Asia-Pacific's healthcare financing needs a rethink\", \"How Goa's digital approach to diabetes can improve universal healthcare\", \"English language skills are lagging behind in these European countries\", \"How knitting has helped this teacher teach maths to her students\", \"The next talent opportunity for the digital workplace? Neurodiversity\", \"What -year-old ships' logbooks tell us about the future of Arctic sea ice\", \"There's a major demographic shift happening\", \"This is how we can open up the tech sector to Africa's women\", \"Trade Uncut with , , and\", \": The story behind Viet Nam's miracle growth\", \"surprising facts about Nigeria\", \"Switzerland fast-tracks emergency aid for small businesses weathering\", \"The decline of our oceans is accelerating, but its not too late to stop it\", \"'We need to be careful. This is still a killer virus and there are still thousands of people every day dying from this virus.' Find out more about our transformation maps:\", \"The experience economy is booming, but it must benefit everyone\", \"Ireland's inspiring idea to go greener\", \"This ancient paper cutting technology may hold the key to the electronics of tomorrow\", \"The power of digital tools to transform mental healthcare\", \"This is how Pakistan is closing its skills gap\", \"ways to make the most from a virtual internship\", \"This company is breeding millions of insects in the heart of London\", \"These satellite pictures show the impact of the Coronavirus\", \"Here's how science can help you beat anxiety\", \"\\\"This time I don't think we're going to go back to the normal conduct that we see after a typical recession. This time the world has been scarred by the prospect of death and a virus that we don't really know much about,\\\" said 's Rubenstein.\", \"Slow but steady: Hollywood makes progress on gender equality, but there's still more to be done\", \"Ending the era of dirty textiles\", \"What is Blue Acceleration and what does it mean for our oceans?\", \"How to follow our meeting in Cape Town\", \"Children are so hungry in one British town they are eating from bins\", \"Here's how work has changed in the past years\", \"Why the next months are crucial to the future of our oceans\", \"Encryption is under threat - this is how it affects you\", \"The five stages of the Chief Digital Officer and why they often fail\", \"'The vodka is strong but the meat is soft.' Why AI hasnt taken over the financial markets. Yet\", \"This British village is heating homes with water from a flooded coal mine\", \"The journey to a peaceful, prosperous and integrated Africa, according to Ethiopia's PM\", \"'There will be a lot of crushed dreams' unless we get the recovery right and support job creation, says . Watch the full session here:\", \"Congratulations to film director and for winning an Emmy award for the documentary 'White Right: Meeting the Enemy'. Read more about her remarkable story:\", \"Why humans are increasingly choosing to live alone\", \"CEOs as activists: should leaders speak up about social causes?\", \"There are now more billionaires in Asia than the US\", \".: how Alfonso Cuarns movie is spurring Mexico to treat domestic workers more fairly\", \"How to survive and thrive in our age of uncertainty\", \"How a wooden bench and grandmothers are tackling depression in\", \"From diamonds to : how can drive responsible and ethical businesses\", \"This is how Spain could give clean, renewable energy to people\", \"Female paleontologists are so fed up of sexism they're wearing beards\", \"Are you breathing plastic air at home? Heres how microplastics are polluting our lungs\", \"surprising ways to beat anxiety\", \"These countries spend the most on university research\", \"The airport is branching out in other innovative directions too:\", \"A vacation from work could be a lifesaver\", \"These countries have the most women in parliament\", \"\\\"As governments ease lockdowns, its important that strong public health measures are in place, not just in the cities,\\\" said\", \"International , in charts from\", \"Watch CEO discuss the future of artificial intelligence\", \"Live now: How should the development and diffusion of dual-use technologies be managed?\", \"How to prevent a historic remittance decline n South Asia\", \"Wolves are back in Switzerland but not everyone is happy about it\", \"Last month volunteers came together to pick up millions of items of trash from beaches\", \"How Indias ultra-rich population is growing faster than anywhere else\", \"These tech start-ups are changing what it means to farm\", \"Happiness or career success: Which comes first?\", \"Why the most important tool in healthcare is trust\", \"Quotes on the future of our ocean from , and more\", \"Why criminal records shouldn't be used to keep people out of college\", \"This technology can make the Mona Lisa talk (sort of)\", \"Cities will lead the electric transport revolution. Heres why\", \"These surfers are using sensors in their board fins to monitor ocean warming\", \"This human vending machine highlights the reality of modern slavery\", \"Brian Moynihan, CEO of , said the number one thing companies and biz can do is to focus on employees and customers\", \"This London street is the first in Britain to ban all petrol and diesel cars\", \"is defusing its demographic time bomb, but the is building one of its own\", \"Achieving net-zero emissions by will rest on pillars\", \"This man is turning cities into giant sponges to save lives\", \"Chart of the Day: Who are the most proud Europeans?\", \"How social innovators are leading the race to zero emissions\", \"These foods will help you eat healthily and save the planet, say researchers\", \"These scientists wiped out a mosquito population by hacking their DNA\", \"AI isnt dangerous, but human bias is\", \"How can we keep AI and algorithms accountable and transparent?\", \"Priorities for saving the private sector\", \"These are s most innovative companies, BCG survey says\", \"This coating could be the end of air conditioning\", \"Finance and the Sustainable Blue Economy, with , (), Ingrid Van Wees (), , (), (), () and\", \". says there's huge potential: \\\"Were seeing an incredible convergence of technologies allowing us to think differently about how we can use digital to enable sustainability... But it requires multi-stakeholder collaboration.\\\"\", \"Lack of opportunity isn't the problem - inequality is\", \"How can government protect society from the trauma of unemployment?\", \"Four tools for increasing sustainable energy financing\", \"Family-friendly Swiss trains are playgrounds on wheels\", \"China's response shows how bold decision-making can contain coronavirus\", \". For , soft skills, including communication and adaptability, are crucial in the jobs market. We need to train young people to have the mindset and confidence to become job creators and entrepreneurs from an early age.\", \"knowledge could be the key to fighting wildfires\", \"Why the fight against is this generation's defining issue\", \"Are algorithms really better than humans at judging your credit score?\", \"Drinking coffee could be prolonging your life, according to recent research\", \"This US startup is making take-out food delivery more sustainable\", \"things we need to do to tackle humanitarian crises in\", \"Researchers have invented a brick that can build itself\", \"stories about our planet, told by beautiful maps\", \"-pop is now so universally beloved that even Algerians speak a little Korean\", \"This is how our body clocks affect our mental and physical performance\", \"What is the Sustainable Development Impact Summit? Here's what you need to know\", \"Next time you fly, could you be boarding a train instead of a plane?\", \"The human costs of epidemics are going down but the costs are going up. Here's why\", \"Green fingers. For more on the goals of and the Trillion Trees Challenge, visit UpLink:\", \"How Europes science offers hope in tackling the climate emergency\", \"These are the tech giants with the most related patents\", \". says we must stop teaching kids history from years ago and focus on STEM subjects. \\\"As part of reopening schools after , every public education system has to think, 'How do we make computer science part of the curriculum?'\\\"\", \"Mental is increasingly topping the workplace agenda\", \"Privacy vs public safety - the pros and cons of encryption\", \"This is how different particles compare in size\", \"This is why mountains matter more than you may think\", \"radical shifts required to achieve universal health coverage worldwide\", \"The Philippines' growing middle class is on track to outspend Italys by\", \"Why quarantine can make you more creative\", \"Coronavirus: What if a vaccine doesn't work?\", \"Is sub-Saharan ready for the electric vehicle revolution?\", \"China is encouraging its senior citizens to go back to\", \"Here's why the business of sustainability has come of age\", \"Leaders are more likely to empower employees with a proactive personality\"], \"type\": \"scatter3d\", \"x\": [-0.003427758765631078, 0.013350761337011314, -0.011065914377143514, -0.0039682300438198485, -0.010157641490993002, -0.0033506695505966136, -0.005066510461627763, -0.0060551854478287665, -0.035526935548494176, -0.013292281799337249, -0.012883957213940103, -0.011013835501769358, 0.010881775760107593, -0.0610674022529803, -0.004719588570659433, -0.019538142610176838, -0.0192547775449929, -0.0009016957723650531, 0.0006890179847042596, -0.029547660617247926, -0.008382783377384757, -0.002411513828213597, 0.003895963951545673, -0.005761521451850512, -0.0017052227666554177, -0.0011872161760298472, -0.028721820710869296, 0.0034903324689626505, -0.01873605116324711, -0.01142877645196989, 0.0006508616744722633, -0.0011308896853707221, 0.012885049396640074, -0.004921466965219649, -0.004605975557255445, -0.10614605285956565, -0.002161803724101204, 0.00530897977729708, -0.002150995018319156, -0.10410819860169424, 0.0009337417000639139, -0.00600965389892214, 0.002317445335827696, -0.004659729426487129, -0.008932581072475734, 0.013165343777464159, 0.012024749270144833, 0.0008915745633978597, -0.01937169135110088, 0.0065025759429596305, -0.017797398048955543, -0.009241395543350262, -0.0014643251528375836, -0.0013017209801197713, -0.0023466032532360646, -0.02062576223565811, -0.0011531680476158813, 0.0010478802969640115, -0.0020992947566745783, -0.00424268665827985, -0.01804925932124423, -0.010872541326335224, -0.0036851556216517065, -0.0018969106238378376, 0.003119935336937315, -0.003929769958567362, 0.006567484354063336, -0.01634420735224831, 0.009839156917068199, -0.006307831316950366, -0.0007576786322199099, 0.0038063282434682884, -0.002059760627348063, 0.013064471280352473, -0.01792812950950537, 0.007955564272252668, -0.0060033462654238996, -0.016239693222100296, -0.00011046683172368188, -0.0007067565509394571, -0.0009220213297155916, -0.0012522632076060346, -0.00027737775581868676, -0.005269698889864218, -0.007644331369941477, -0.005152714509244951, 0.0006193231660870734, -0.01057878799406385, 0.004829606545807458, 0.0026670740994245742, 0.01344863065112317, 0.0010556550859560992, -0.0035520242216779616, 2.4483824037910853e-05, -0.030184680619228008, -0.0035401608489250107, -0.004403353832811519, 0.0021294940186535926, 0.0011002965676768573, -0.017283998660543625, -0.014644929681253714, -0.0027633543843432478, 0.007442207519245918, 0.00010867569264137938, 0.006195309114847146, 0.00021023742491335344, -0.011487097519031554, 0.003976355269598786, -0.010151861807454213, -0.011829917781297624, -0.006240477530561593, -0.0034727402593897746, 0.00266325667656486, -0.0067067542458947955, 0.003141263469939375, -0.014938823379039479, 0.011337604549627423, 0.0005513163763411973, -0.003428785985474414, -0.0013270893182011998, -0.004780666988797656, 0.0009960687125266266, -0.0030053838047216248, -0.00034815315427615064, 0.006982329210285211, -0.0032280046944218404, 0.0006186467477990838, -0.0024934804299739715, -0.018204606415959793, 0.006629464875410264, -0.00096269977468844, -0.003506066952149573, -0.006427059315227747, -0.008195919155748688, -0.002242207534107331, -0.003838011988693572, -0.008797189302428437, 0.003103056675034364, -0.00444489761696153, -0.0033822138627495352, -0.0010644972403069605, -0.0007964645960316271, 0.004687985500479137, -0.022474303703247808, -0.0038326830003487717, -0.017594549714076965, -0.00275584393960009, 0.002612041432829521, -0.02478819317190064, -0.026761540302743067, -0.01660999521054238, -0.0004116901669101201, 0.018346883891715408, -0.004834665702933339, -0.00318065984703741, 0.010984211262751372, 0.004737814041832174, 0.0029345356560905355, -0.010704160432326311, 0.001080846005630788, -0.002920169312069139, -0.028947359645575398, -0.024638301662363825, -0.016781245289796767, -0.005223700738717794, -0.015487466074324106, 0.003800626497360363, -0.00180378607853342, 0.010545139912534434, 0.0018214337164908169, -0.002204292456187688, 0.0016594223871834203, -0.0006630937564186809, -0.007722719136384941, -7.462036817043117e-05, -0.008658702054509675, -0.015993177872619703, -0.004736806995590193, 0.003248431840734585, -0.0063345616123958995, 0.004487630293821248, 0.004187381082024795, -0.005744121147504697, -0.006834958544391199, -0.005505640862856921, -0.001581020556230093, 0.002994733970794961, -0.013467901995939788, 0.007394721547222986, -0.004823093927408879, -0.13491600348667604, 0.00013516868888136367, -0.00787576819027264, 0.0021498648039601515, -0.015339596792996965, -0.0103585673277331, 0.005135828589093586, 0.0004293827654020868, 0.0016963224905061263, -0.0046088092716455795, -0.0008511479289617884, -0.0068728837273631825, -0.028992451220970637, -0.01639178382308532, -0.04304427848058358, 0.002575235405018529, 0.0009267445553248414, 0.005742407331281306, -0.007025016434570428, -0.001988675568153777, -0.018684737037952176, 0.001458374491693583, -0.0073435574113714175, -0.013845054232370506, 0.008255711634467358, 0.016644896966636662, 0.0018005970063227927, -0.008673757980710628, -0.03051686654775571, -0.012999836646874386, -0.014592880676782228, -0.027134032385105634, -0.002852413890787066, 0.0032535136217576024, -0.005078621917960965, 0.000999116228199598, -0.00598731988827949, -0.017196216206888666, -0.047637529220995865, -0.029825275166377736, -0.0020730874811228624, -0.012668773072956016, -0.002695829512848907, -0.020873556664734408, -0.002846374896583583, 0.0032761216402172532, -0.0008604397320359556, 0.0032814849593866303, 0.0008419194732231619, -0.0039124360499120155, -0.03877043849701705, -0.012077306156813454, -0.0023330807436166955, -0.008733232710824388, -0.008192549627758294, -0.003216697440951074, -0.0010254472501408866, 0.013845288615684999, 0.0010207483793401462, -0.03162827836060663, -0.0006729215604091268, -0.003527389491344436, -0.004241780600498602, 0.000852231267359118, 0.008822958355468192, -0.003340221685040887, 0.000493934268215607, 0.0004036637188488142, -0.014179395476499768, 0.006797742065446253, -0.00863958234303302, -0.000850343044206085, -0.0915187746645111, -0.003350691977177485, -0.004952348269451866, -0.005105381146063751, -0.0037890354429479765, -0.010202597746575675, -0.09962694001055285, -0.0038526626623741895, -0.01022717019253531, -0.0020992947566745783, -0.018332318149338108, -0.03346391666231925, -0.010593139891067326, -0.007018443313846929, 0.0005256735591764043, -0.002557558128869421, -0.004192512357401684, 0.002032057858931612, -0.008238480016370392, 0.007463429167979767, -0.0015985267615569877, -0.00708395950145498, -0.009129353238375477, -0.007944533058432754, -0.0022815759102785627, -0.0030381745661158194, -0.00665715388938823, -0.0049238022130610615, -0.015094416832779473, 0.002110511684252224, 4.170827313167201e-05, -0.008070006184875215, -0.006253983663887495, 0.0010623419265955243, -0.002637546448153391, -0.018364281895510738, -0.000483641093112714, -0.005305346647561826, 0.001548203636154971, 0.005100014147365857, -0.003306806703337147, -0.012605095748702076, -0.0014256628551149856, -0.011479458852736898, -0.004520718857609985, -0.003701563036557639, 0.006427146186964974, 0.013125314743104272, 0.0003163747934851824, -0.002996544160818681, 0.0008058041723523637, 0.0006819401892793673, -0.004249886194561074, 0.009888723463096816, -0.0019038031577663774, -0.0023255951506059207, -0.010696303896941413, 0.01015267361113765, -0.016674454258882702, -0.00015593768235048575, 0.012343424012272685, -0.01115220984462676, -0.0075333989515983385, -0.006928044542907051, -0.00887591861968137, -0.0023357947823071843, 0.004098587162714512, 0.016350435418664058, -0.00022484656670432543, 0.008522688678263713, -0.0011369744604707037, -0.016140417713719143, -0.013937654294443888, -0.0015343210953349335, -0.00393243211394083, -3.060926553453604e-05, -0.004736847957672301, -0.0036085012843189235, -0.011174005305813162, -0.030819736864895073, -0.006789374466629656, 0.0018785169694106988, -0.0104343748312599, -0.0014048008065154327, 0.006099414760822064, -0.002089814500605336, 0.042722070329292455, -0.018971697688555455, -0.02785014337090308, -0.01995118536795413, 0.0024666104354948634, 0.0017927791827927336, -0.02625332717619074, -0.003229685204718792, -0.00035733937339590136, 0.0010161387444302325, -0.005768864589339193, -0.004419242612218035, -0.014733903427019635, -0.002306350976891345, 0.0039557045810746354, -0.08039726649576293, -0.006781270680578585, -0.008303844478316884, -0.027134032385105634, -0.004985020577587085, 0.0061228378321219815, -0.0001703289192115769, 0.0005713882031140368, -0.0035380321185132517, -0.0026839922097976047, -0.0019898827480101747, -0.001164936889589005, -0.0031349503567507336, -0.0013527101417002522, -4.7872943139844826e-05, 0.0052207202015002825, -0.02417467772452063, 0.0025885996100013463, 0.008189815732906277, -0.0038999134408786544, -0.0033124879688902985, -0.007239829502447578, -0.01552995856511896, 0.008103224611546628, -0.010732329189356337, -0.003106508622007968, 0.0016268830275553191, -0.0069198507852845275, -0.006834855354111201, 0.0016041924223764211, 0.005805257821434712, 0.0016597933334766347, -0.004075398471203556, 0.0019372976129600462, -0.008333603811829703, -0.0021388096030401367, 0.011074437963456939, -0.0010460155848071846, -0.010722765719989051, -0.009576922814082973, -0.011792979773200206, 0.024408857484026977, -0.00902273042692358, -0.005546187631040675, -0.007823647066956018, 0.053308213297297465, -0.027629057031039177, -0.0031772650549048128, 0.0032049167930998184, -0.0016719902724198928, 0.008617305727777424, -0.012888646271085895, -0.0259779210358447, -0.001290943346030638, -0.025035230272690088, 0.0024898225670211805, -0.023490017524855595, -0.037000601539611676, -0.033104799193376694, -0.007771097584304652, -0.000543005080047015, -0.007353072581774496, -0.011345227862954664, 0.021771420106861224, -0.004126111637704581, -0.021689009954933457, -0.006596835495839635, -0.008733232710824388, -0.002245948009644613, -0.007104896931677981, -0.00159241053071017, -0.012981395472563287, -0.008822096864966522, -0.0003742349071588594, -0.003108814161699336, -0.014915624880393004, -0.0016103286554915164, -0.020955349186998196, 0.006192385286008938, -0.026513329069610483, -0.024985395867870942, -0.016195096441442985, -0.0051219813563058506, -0.002486002884418099, -0.005093212418896509, -0.002414607158808863, 0.00012378728729988938, 0.006404863554997668, 0.009274317290457565, -0.008961784115395749, -0.007749852627106394, -0.005650498836468062, 0.006903485787374107, -0.013329413263726246, -0.016008761366980227, 0.0747294762858553, -0.0012534764775378124, -0.011516959865275938, -0.000788673950545951, -0.0026363685427824002, -0.006926130505306477, -0.0020710355890510655, -0.010875791088037438, 0.009354152015916344, -0.0008701889666704387, -0.004614552126636688, -0.020313683619477794, -0.004943321867071812, -0.002953373323972859, -0.0020714725658929067, -0.005897671407226052, -0.013146257940071744, -0.012492630563222801, 0.006392411553181846, -0.006747529960342611, -0.0067286563091897515, -0.0004759603033243591, 0.0076884183394427055, 0.005146591877939885, -0.010370825644798421, 0.0035800907807878044, -0.002894844632012545, 0.027056703457615305, 0.0014782810864765869, -0.005647119622596706, -0.01582637056891408, -0.0012811934866737895, -0.003849842012375212, -0.009330856975026879, 0.0007672350175226164, 0.004107181936688618, 0.0015756362891131478, 0.007529814438544093, 0.001167540639232232, -0.004318040708374584, -0.0010489070683795496, 9.353814811389335e-05, -0.00631585295754179, -0.003956376463119631, 0.002765701785658984, -0.010906751873477397, -0.003912401976377576, -0.0065941472137129075, -0.005443992973280014, -0.004287240047319198, -0.014727450537202083, -0.0032971438985287655, -0.00027790834050815715, -0.030302699478318984, -0.016785688523416623, -0.003911945120274452, -0.010501544252314272, -0.005348593077071639, -0.00262698306832392, -0.00091477856223153, -0.05253564488426645, -0.0063277038500469465, 0.002516170848664751, 0.0003023302136503236, -0.00774241235863813, -0.0648787738520767, 0.003755061573308078, 7.71835973245019e-05, 0.0012905743887595255, -0.013682360489012259, -0.002879369137554325, -0.0063093573842447764, -0.0072969391530483515, -0.005423776906533696, 0.0016798177520867927, 0.0019088439137436878, -0.008302587000651993, 0.005083437708003686, -0.0036418168065398375, -0.03971208615541194, -0.003500021567752026, -0.005857871566679342, -0.00768999603928536, -0.009554551259565601], \"y\": [-0.047223130247491384, -0.031106819581351676, -0.031988205804580734, -0.020723424911509084, -0.02923830561068975, -0.022321008730888173, -0.02877507517248255, -0.03819795263010824, -0.0008435231087393239, -0.01567802101879193, -0.04941598886762081, -0.029696675259096875, -0.025353450074068824, -0.013343894382605368, -0.02395137312217235, -0.022459917297798605, -0.017125941135092186, -0.040529060318888775, -0.022547345563973545, -0.022052078820990976, -0.03218075104390437, -0.01978868337652251, -0.017758904136227202, -0.021937934335292026, -0.02504480803552173, -0.02305968580108394, -0.024937991529703697, -0.021262598825019484, -0.03992425753446217, -0.023044847222940135, -0.04290685982242621, -0.022943600506658064, -0.023930305222765444, -0.01655655501807183, -0.025217870171401625, 0.035487586829117554, -0.021648161580415284, -0.026085756332723774, -0.022069338106739445, 0.08487499167261423, -0.019998271675864057, -0.02171422081461172, -0.02819855252193891, -0.019454143167708226, -0.01103834802377372, -0.031897075961005085, -0.04264764913645439, -0.026393321815593444, -0.02816936223658104, -0.015039828371527184, -0.0324965864295439, -0.02249698809336079, -0.023370153020196193, -0.020135892576447236, -0.02501125481743347, -0.019633192786625255, -0.03397265549177171, -0.0188464647280632, -0.029315295784147686, -0.027273889234295853, -0.03562331889540367, -0.027447662911469068, -0.022360885353247123, -0.029994843313938997, -0.020408097216666313, -0.04159644605504037, -0.023816933519881983, -0.03233786202407511, -0.015780715260197153, -0.029257492274015272, -0.03595616809696599, -0.026687097093360992, -0.007161401523605425, -0.02562405066576782, -0.04183552091502513, -0.02070944569899924, -0.039732628107593475, -0.030060676810217766, -0.021001297975178943, -0.020648570249138073, -0.020549372236969333, -0.02385183643779427, -0.019744125159256196, -0.018020630021525666, -0.021243007042660012, -0.020305676247642547, -0.025318404571199302, -0.032917071176658805, -0.04429619633204493, -0.01840926805759435, -0.027457733734790008, -0.02297136948306136, -0.023623406899737086, -0.025397969682704052, -0.029418687886641096, -0.02189567432683386, -0.01978670617935768, -0.022224782789209335, -0.02045729519742441, -0.030250571750223384, -0.03005964653734859, -0.0400560156097669, -0.020737415871467026, -0.018251715924315747, -0.0323281338424644, -0.023830106678827654, -0.013497072419820231, -0.034826382563395174, -0.017129336223840826, -0.006731677725656745, -0.03571449208063905, -0.025241624560047374, -0.02055541123856908, -0.02324389357749806, -0.02814020648522921, -0.031133362969699832, -0.029117065954958353, -0.0372149197909691, -0.03147425233481892, -0.03214942858744036, -0.02230220711625926, -0.03687075032684075, -0.020371426624648897, -0.03176316607574623, -0.016922046817282897, -0.024821259826733652, -0.021348144744995017, -0.02730523271181819, -0.029819409772030386, -0.030970313178661286, -0.035483951490132046, -0.023039874989762336, -0.034638773633984495, -0.03065243084774827, -0.02148367891124143, -0.022252255817908007, -0.029711983788566432, -0.028196321025383633, -0.02171926720385748, -0.023403205732905427, -0.01708244128916182, -0.021037388598524123, -0.017751463365336506, -0.017203698368743716, -0.01922664766479846, -0.02234062221214928, -0.021739844077799112, -0.024310306377539063, -0.0206154798125495, -0.020802767398844773, -0.016435368607136732, -0.026339150847393727, -0.024033327793157606, -0.01618072326089002, -0.0361151094139941, -0.020897789647265293, -0.0207220625135311, -0.019733610436246173, -0.03986606894989869, -0.031397178547799366, -0.01707597569551952, -0.015314998803690642, -0.02020411305400803, -0.017891201707099673, -0.03451141940219884, -0.03889779883244758, -0.015002948705725126, -0.03727927938265815, -0.02700457007654371, -0.025545184719424522, -0.029088158853350872, -0.02369197950825857, -0.02196626075140313, -0.01205948477253022, -0.02205416729518425, -0.017558997078143228, -0.017246883940879077, -0.027029631686127008, -0.040613766474590196, -0.0356886392310858, -0.02275257389499907, -0.0188132162947535, -0.02549790231510951, -0.029168358401740747, -0.028861379825856962, -0.020568471189791045, -0.024109940912542375, -0.018457258065522675, 0.0006681358003086493, -0.040727779171098766, 0.06661665238380036, -0.022671068553550125, -0.039762699393638766, -0.02134533378649702, -0.0180973862773668, -0.023937206349807828, -0.04446320749531013, -0.026826468473805824, -0.023700424942124702, -0.021838683230994915, -0.04300788138713759, -0.01503823108093875, -0.015376544508952813, -0.016995731406806724, -0.002400830164852617, -0.037081043333832754, -0.024385729813661588, -0.02016806859767234, -0.01582956309179634, -0.02368414556546073, -0.03555435782273889, -0.021908337060859946, -0.025318120111404333, -0.02455580028333612, -0.01975414964257811, -0.005719232001942, -0.022973283289397312, -0.050959236814176315, -0.018573295962528283, -0.03742879939673468, -0.02276523859098186, -0.015292617404482818, -0.0282142695566273, -0.03248231499453705, -0.02686067037402309, -0.018263236053473436, -0.019624820219606088, -0.016363651525920793, 0.0028873394498160573, -0.002014935501220622, -0.023226556730396492, -0.0160800878113675, -0.026801545038073745, 0.02028314810508896, -0.021424604182865, -0.023315723994987585, -0.04157230259887329, -0.017026542027980516, -0.025334866989928897, -0.013009856707545418, -0.02013795047610061, -0.014712261268269924, -0.02188755383407584, -0.016430823084757913, -0.027815448146097526, -0.035164133687308814, -0.02112670100223234, -0.021674506710131904, -0.02068211013654586, -0.028431053902903815, -0.04498915807040383, -0.019754454880628963, -0.03587810147762631, -0.0227687900587005, -0.02754279930489996, -0.02176013192925142, -0.030973374113462005, -0.025171354908469726, -0.009422633349559893, -0.04360417289361434, -0.016804458877771475, -0.028284324745434793, 0.08178132410185318, -0.03633167366134722, -0.025034720300876615, -0.03736677694790905, -0.041181019582783716, -0.03175012884632985, 0.04626307332898744, -0.01496657116312178, -0.01905903526952911, -0.029315295784147686, -0.029706050528945586, -0.014330493223817091, -0.04592437779655454, -0.021948921239381778, -0.023539886460884552, -0.0291123681458663, -0.02228557386585354, -0.0413197863847207, -0.02541810068424487, -0.022364931727667948, -0.030359086588791422, -0.03476167371362485, -0.031236755369933818, -0.01664982837611763, -0.025575759166390214, -0.02318962193534915, -0.018392335166436655, -0.04181842719307814, -0.029873059621769293, -0.018042506566418048, -0.020710763156686157, -0.029213854540179475, -0.031312497733391696, -0.021010631302752568, -0.04171624818873262, -0.016772791076889743, -0.026901130418140577, -0.035799917747158225, -0.015617895832376315, -0.024263382624532367, -0.03445813927433628, -0.018487630193623643, -0.024576792892013814, -0.02081804799873531, -0.038716460584502246, -0.02852023479844854, -0.023583670277192565, -0.030427327037080436, -0.024138476107718843, -0.021539999649672317, -0.0391975730856229, -0.03036484263686878, -0.022207756249165267, -0.0304235331617743, -0.035056535456419624, -0.023799730314855917, -0.06199071323137404, -0.02225138868911791, -0.026583108060036307, -0.02875224819562744, -0.03171992641578047, -0.017204975640021145, -0.025172835685809174, -0.02464087694582777, -0.029410186050300633, -0.01980317833054169, -0.025936825729180584, -0.022676536143289554, -0.021506047633540595, -0.02457631293451996, -0.024743574154952524, -0.023573019004996476, -0.04761634617767232, -0.019852940888943432, -0.04509965568602405, -0.026167739545843775, -0.0368247248827721, -0.021504527162364864, -0.022161568607273936, -0.01130789032221305, -0.019146565463748735, -0.027137411562708755, -0.0002946721588571402, -0.01949028072695543, -0.0304476240910886, -0.02956663317212799, 0.03344697023900664, -0.013076925643591034, -0.030855843675397423, -0.03133195842069694, -0.028117400283067442, -0.02470562924436856, -0.018402009679090094, -0.025242367849062336, -0.022547084046903157, -0.02440737318183321, -0.023430148032101528, -0.032351919573933456, -0.026286134372961033, -0.02684198642016462, -0.03242094942614483, 0.025060945183743927, -0.024497106212665154, -0.01954251704862221, -0.015292617404482818, -0.028664282330679313, -0.02112041925990309, -0.04665600257397223, -0.02362836501860012, -0.03893847289697161, -0.024603520146621073, -0.022004165718700643, -0.019624669750523748, -0.01372851860632959, -0.03795287526594601, -0.01933172206594937, -0.02528429561001117, -0.05076005403663593, -0.02288580500276088, -0.020830690800236702, -0.026055425388501887, -0.025184076125091544, -0.027119511306355936, -0.030473951458182054, -0.025819085676153184, -0.018336343447120148, -0.02845206789233191, -0.01809608773497772, -0.030454427707535606, -0.015505448971567961, -0.03583078452534447, -0.03136535394022922, -0.03905079292355012, -0.0213272923326261, -0.033174232784156155, -0.02620207972671525, -0.022503943572425723, -0.03129574742174822, -0.02175691016679112, -0.02035872447489451, -0.0213198094237323, -0.03935964565952778, -0.03342808390605242, -0.018752624404775514, -0.02803356787089601, -0.022183027043385036, 0.04734060728661426, 0.0019362119907191096, -0.02357450597720413, -0.026889349137943608, -0.01728369415833977, -0.02771890982177297, -0.025026587501614312, -0.0238869321969268, -0.020841222230860657, -0.030635572962536172, -0.03188491185051355, -0.010917788979951586, -0.023140992518941583, -0.009726043873188608, -0.024149177809584144, -0.04042580027845245, -0.021294489161669504, -0.02391006920901862, -0.028779100412909996, -0.025108118990409174, -0.03126602267568645, -0.022370130224494997, -0.016430823084757913, -0.025435817192300904, -0.01676231986818033, -0.029197501342967, -0.027694059280640483, -0.03633105765399638, -0.020374767755430664, -0.026614518087858592, -0.02246193088142561, -0.02502781199522314, -0.033441828447005266, -0.014310058166507305, -0.020177693284791454, -0.007701488389668641, -0.02894417988824433, -0.026367927887146862, -0.01965449758753413, -0.032132213383397945, -0.02814620532343001, -0.02150994675727112, -0.03379657041715431, -0.03547213621490856, -0.01635997673537444, -0.022083609202612937, -0.024327234907074082, -0.019499013373854658, -0.01901230488255202, -0.019420486092192314, 0.04258838383520748, -0.033813321104556766, -0.030908430613104054, -0.014797778122726507, -0.02021365207635051, -0.019833816460781754, -0.02172540250023454, -0.020651697247875498, -0.02301792631309339, -0.019810225343094984, -0.0258674400165527, -0.02717643785501029, -0.053796978389692246, -0.026294903651875545, -0.0294191903017333, -0.048589744967153015, -0.025724498793337, -0.03392390037360551, -0.038001578176718426, -0.03691925265029468, -0.015607231977472491, -0.02312190618682434, -0.012807038420287395, -0.03176951316459585, -0.036801076551694664, -0.017523459383751498, -0.02154812562517821, -0.054647900705779, -0.020301455837624258, -0.030261505775917297, -0.05329878359184313, -0.026867261631361727, -0.02377352575294404, -0.028504336668760056, -0.022412153115603847, -0.01750353623121623, -0.025367134591401913, -0.0391946595222677, -0.040462215407619344, -0.02848468288335358, -0.02110836741348641, -0.024178026311175643, -0.030294488362380675, -0.026000665409545487, -0.018429068441894077, -0.03132762903035242, -0.01892114341212467, -0.03302398773692043, -0.028320538541506124, -0.025581797135389415, -0.017698559371690625, -0.029251916611382593, -0.0223680916956397, -0.016052870855171472, -0.021171976997838148, -0.01730291965932333, -0.02266492162680256, -0.029175744280318446, -0.022990934472180913, -0.025959873105888112, -0.012408084965740026, -0.01847733963838474, -0.02386910619348009, -0.020895088764573272, -0.018319148793453383, -0.0054980142128276495, -0.01894563522881792, -0.02637082541562759, -0.024875880887745516, -0.02979103939484394, -0.02498334879818075, -0.024685957110612576, -0.020167588181147156, -0.020716553440867383, -0.01874032652469619, -0.017695486868960913, -0.020471973409466476, -0.01798136202458534, -0.028954915981266864, -0.006787142653660643, -0.028461165869036513, -0.022993451350273204, -0.015102605267463758, -0.024714743995660485], \"z\": [0.028039364132661965, -0.07872281781179433, -0.03236795396961626, -0.03345989434012385, -0.012602049749797808, -0.026430776573764216, -0.02490397076581756, 0.01488429409376145, -0.05953778688651124, -0.03590767956795427, 0.005015535240443528, -0.04314170643277419, -0.04069761297969949, -0.033158927831561186, -0.04234940881752621, -0.03912672789352342, -0.04528331843637032, 0.015091341765608913, -0.03147025635848262, -0.011033655493719454, -0.0068343314049888896, -0.03986148746264239, -0.039652775858939865, -0.036212215166997436, -0.02866305735824977, -0.0275255821650934, -0.04173685742785117, -0.029510677794153607, -0.043265954936412075, -0.035613276120248366, -0.058029518229273234, -0.02765765671809176, -0.03766687379957378, -0.025640748774322684, -0.03805456495089651, -0.09163223758438753, -0.029139263162823233, -0.038843053477106905, -0.028972824242558197, -0.005058794530429359, -0.02844633256190994, -0.03686738907703885, -0.03998304720506424, -0.03338363434484747, -0.06426955027532186, -0.03408457445540695, -0.0730698726618966, -0.03089008113227272, -0.005876129826153606, -0.022667113481419768, -0.029085648073308726, -0.03792763991830831, -0.029452642287982958, -0.03085898557704579, -0.030122337895164074, -0.04487839354065319, -0.009537138714496499, -0.03731460791680655, -0.03449121033945548, 0.00281937949581691, -0.04488635665096499, -0.0349882407058267, -0.03284163616608151, -0.05625121178164673, -0.037888998523029536, -0.022215842096304145, -0.03758427339863541, -0.04629888237838713, -0.02796574997628167, -0.03752055194549344, -0.03898918729164386, -0.041717621280963124, -0.036041103891681275, -0.01734992836698697, 0.05132891016333217, -0.0361380360235087, 0.0066497310345019775, -0.06922440307999986, -0.03312062575630234, -0.03748945192857964, -0.02978314693424509, -0.03036616555976385, -0.032983600096809146, -0.036768698573939586, -0.02802791373637727, -0.03405656998243454, -0.031146846976219233, -0.009991737302948462, 0.028110987629305532, -0.03709499945997787, -0.03989752322558197, -0.02672155924533802, -0.03485615081187358, -0.033500162160751364, -0.0424240691844152, -0.03126483385198591, -0.03303472762356305, -0.033698511390282855, -0.03053014687943202, -0.04713584315448166, -0.025785792013079335, 0.022015235453360767, -0.033889032696192097, -0.028744291439004324, -0.05731533037257119, -0.03330241267428787, -0.02320822613451081, -0.005929777871894083, -0.03933442933581343, -0.02868570924152673, -0.027865812461779778, -0.03569975169008975, -0.024370541680495943, -0.038426031351819434, -0.03269770117534567, -0.02139905938141293, -0.0708049775855118, -0.06538964496237815, -0.04320536040200267, -0.0425619229806057, -0.009351908580272813, -0.028653131144459748, -0.020442454484755443, -0.03576434889658679, -0.027535380105709533, -0.029915934770698916, -0.028564333174983414, -0.03677038352621407, -0.03852770927874651, -0.05052559257433019, 0.008029439063808224, -0.03386110356031012, -0.012639593968091117, -0.009071076810803177, -0.030905563597461758, -0.034184501758063736, -0.013503519546501681, -0.05604768705805707, -0.03510755603159539, -0.015074039012863036, -0.03345875480831741, -0.03286460173889512, -0.03991320965354632, -0.02826100120909167, -0.03475866470041276, -0.04058064780560967, -0.033578036722739714, -0.04101543955565862, -0.027636149930292665, -0.05773497128222985, -0.035779224701218616, -0.02702824413934267, -0.02388287080014792, -0.04201528391062969, -0.03664086454855424, -0.02464394716492783, -0.034176063439499235, -0.03336670775352834, -0.01005162641604709, -0.02208547641102489, -0.03245504758576081, -0.02083389584930872, -0.023953112051738272, -0.04404288347343295, -0.03537215120286267, -0.043236960098062084, -0.04213720493789002, -0.03678286167538681, -0.011139980478541183, -0.07210133631457853, -0.02825494609502634, -0.023488304657308636, -0.03127601768984126, -0.028215282086869926, -0.033074478114979725, -0.017497126195386712, -0.04802786766951296, -0.03242537210212035, -0.05191445432014291, -0.001409283576325463, -0.03764769281375122, -0.0331110819190164, -0.04016768138535882, -0.008439691270663486, -0.03365962020135987, -0.03525375097144851, -0.02970385042870944, -0.03609312709549528, -0.028984516579422817, 0.006603247951483998, -0.08341498582938292, -0.03186916022358581, 0.016474868705675307, -0.0246883236599755, -0.035953981287673964, -0.0382233842845917, -0.01282759480002387, -0.029800280695741203, -0.02809422645870423, -0.024435729051266064, -0.00821196659074059, -0.04004158496910632, -0.04598524145349285, -0.03851483232996742, -0.04141696679671562, 0.02429908090990022, -0.029473467618455203, -0.030578408284972262, -0.03319171017280174, -0.02794630939697543, -0.027265601620626807, -0.03233395424883443, -0.03690723115382672, -0.03201372905813183, -0.04976485672778926, -0.028681107926316875, -0.041223029621922896, -0.03650391720690973, -0.05537261105274934, -0.021751459897843318, -0.028352967042517874, -0.05848952362255842, -0.03818775725180057, -0.015811218757966844, -0.03616164613406578, -0.03171717760996982, -0.032521115414941765, -0.03133060030790041, -0.06571328733994303, -0.02642094108675926, -0.03449186066433813, -0.030717732347336994, -0.03263878907851072, -0.039927516196229695, -0.03255232360364274, -0.028521655505363945, -0.05093304836282623, -0.036969855386106386, -0.03652162679562752, -0.039723771551901786, -0.03300419055307395, -0.03432055294330546, -0.03435077523415455, -0.03218440241588578, -0.016536872339832483, -0.02302077625864507, -0.03445198890154714, -0.03603119293629075, -0.031438387788651004, -0.05550482078692992, -0.014073926910741053, -0.03378621463279725, -0.025416924200274478, -0.029438478935059784, -0.0608489491448848, -0.032086533556088155, -0.046984018790035796, -0.026715869727341742, -0.03543972629555725, -0.015550530195019103, -0.011829330911454265, -0.028364311591332833, -0.00697578316833047, -0.05223146514251866, -0.013033592748090322, 0.013736547936579595, -0.027918248526645307, 0.00015976087990564292, -0.06895083153112506, -0.026256231677250226, -0.034771759299666916, -0.03449121033945548, -0.050446591760200936, -0.04495603824481728, 0.035077393044944616, -0.03156151500211218, -0.050940167890848806, -0.036389001256326964, -0.03647928579776766, -0.02872700008537756, -0.03255915342044901, -0.036102432781108085, -0.04123849272064097, 0.0698001943412884, -0.0044354003548595635, -0.02894228882773374, -0.02491202878351832, -0.031221244073988408, -0.043365356839643904, 0.03528909962429671, -0.05021780179738158, -0.03407183864778141, -0.030446929643807547, -0.027746229631825946, -0.024173709679888557, -0.028066265874919238, -0.05623044968754444, -0.03357093477104486, -0.026941095503555536, -0.0262743619537843, -0.02838902886562766, -0.011963718156634875, -0.0077818618656132375, -0.036940766297665954, -0.03378013608025913, -0.035959817084869124, -0.024932337867027272, -0.016598748700073357, -0.0321871411660163, -0.07311099459407978, -0.03266927219395794, -0.030628391701361838, -0.00022568893271035655, -0.019939561422262896, -0.03240953258076071, -0.05087441097340568, -0.009774611409011095, -0.029112862792983495, 0.06765852061325849, -0.03442635947051247, -0.026195461196186865, -0.02904055279382412, -0.031206624618628345, -0.04675719013004269, -0.041918229371790384, -0.024571622879620756, -0.03637270265050979, -0.028398870199513433, -0.05419736532131784, -0.0330936562101473, -0.03460661945040521, -0.041388883608331255, -0.046110711652469515, -0.03186094297783497, -0.0020595218654981227, -0.0317071613310103, 0.03833834738722827, -0.02672939684938925, -0.0015980337397507314, -0.03358595816868495, -0.029428211646790936, -0.012644969006956901, -0.03021131067199515, -0.045162345426955054, -0.024356945554380713, -0.03186927515419636, -0.02718491009558752, -0.03065244976738915, -0.014004147747665237, -0.04104295035111509, -0.03117840122656141, -0.02753763400178891, -0.036699790099560946, -0.027314334495859304, -0.04812586867247105, -0.027122839801546422, -0.03459829001412419, -0.026397414106671836, -0.037085538003521525, -0.05742360316878124, -0.04734586754312514, -0.03185956995496533, -0.038401265291088844, -0.07558516972389383, -0.035578561796258554, -0.029381957934634807, -0.05848952362255842, -0.022952039342594557, -0.04186916994983944, -0.007568563864862811, -0.035728131281883214, -0.020199187233656803, -0.03966234039815543, -0.031941059451643876, -0.03412106177614329, -0.029159607901831593, -0.049199293783179346, -0.03198483781930181, -0.032493057681985876, -0.016488928885481088, -0.03672052719074549, -0.02559340067345527, -0.025083216622126894, -0.03924429960683727, -0.03549849175629585, -0.044615456180075404, -0.0624539796004369, -0.03522576646052849, -0.031584337613612186, -0.02848883013344143, -0.02074926596345176, -0.04245751305441213, -0.03906969974797937, -0.035263375230316564, -0.01198721040485245, -0.03389168670597249, -0.03254993138906815, -0.030349355666356447, -0.03326342957510736, -0.02922086535764967, -0.03119068501960515, -0.0384155026092075, -0.04118791733560567, 0.0060140881858049755, -0.02630534686096966, -0.029396522469968326, -0.03714035280804278, -0.038210261081379336, -0.001707459780195868, -0.033132833970454786, -0.04332260925073392, -0.04555131514187599, -0.03366993785989609, -0.0405505118131843, -0.035749045739899836, -0.014264511753108883, -0.03292307254569557, -0.03954994482558164, -0.005608363697710696, -0.04335187417409221, -0.021290011345291515, -0.0499056895789965, -0.040770466887985496, 0.001151989319511631, -0.025041286699502775, -0.03961664896613222, -0.06387292751815947, -0.027149175125289932, -0.025721309685933426, -0.028344256487525088, -0.03218440241588578, -0.02425050155891237, -0.028581273397143527, -0.04369195629340941, -0.0239735563048265, -0.008417166378210283, -0.0284718229672664, -0.03979891895595446, -0.04491592913418617, -0.038470901258924634, -0.040875225078594216, -0.03552929677218821, -0.03153621954998444, -0.04193464667682197, 0.04542258605428666, -0.032001924781269855, -0.030518876803366998, -0.039603105891445146, -0.026859950140407596, -0.033759006742991024, -0.027246314488852428, -0.08327646783561993, -0.023782869964371792, -0.035131744365181544, -0.04021988830762959, -0.03315805334009131, -0.022290238700998465, -0.04726748612328039, -0.005379900431446945, -0.04773694405422609, -0.024788433666826544, -0.031570789584492207, -0.03244405994969048, -0.03233651535973461, -0.02951622428985018, -0.03617196499088839, -0.032249369567831206, -0.02927764628644911, -0.04110741339354612, -0.04124833745952026, 0.04910826270568083, -0.017672590907160227, -0.030570608036189856, 0.02949446693074389, -0.014627485396152575, -0.003005636646975917, -0.06587648951040047, -0.044627808603123334, -0.0354755068210305, -0.030292519277064653, -0.030538061954761803, -0.012515082438054687, -0.012107312865202762, -0.03357587864792177, -0.04460026241779771, -0.0892841373212362, -0.03301320478126378, -0.038395221650219344, -0.0070519519683630095, -0.039733225477752245, -0.03713669043948122, -0.04263747127301372, -0.03511472620296118, -0.03799835228518929, -0.029212669884679146, -0.0030923487649377654, -0.004250380443600015, -0.03216158667428913, -0.052670422103336216, -0.025270930459230217, -0.04072628552288934, -0.03396998511669892, -0.0366026011861062, -0.028880643710967404, -0.033354609099405866, -0.016694577550282176, -0.0399357724381921, -0.026786504995121987, -0.03679273194668239, -0.03930273050945698, -0.0316567692745646, -0.034856823808758916, -0.05645779168468717, -0.037063401856853175, -0.03768673384623236, -0.03017841844892034, -0.025051249697265188, -0.045383006149849726, -0.06087163329101234, -0.03208375946979811, -0.03414929362358541, -0.030837842653418147, -0.03359122634318577, -0.07285768548033664, -0.03823041145955737, -0.036712134270237874, -0.03197305672298445, -0.02923679791587508, -0.029427737148741293, -0.036539834051765446, -0.03776248509540333, -0.02199587233253986, -0.02725535069645617, -0.028869064458173728, -0.03471985601448783, -0.02726781852342982, -0.032355550403551675, -0.02805630946261943, -0.041311428925566225, -0.03117045702357585, -0.04257353603272034, -0.02831857692904835]}, {\"hoverinfo\": \"text\", \"marker\": {\"color\": \"#87cac1\", \"line\": {\"width\": 1}, \"size\": 8}, \"mode\": \"markers\", \"name\": \"Cluster 1\", \"text\": [\"It knows what you're thinking. Read more:\", \"Bangkok will have a x greater risk of being flooded by . Read more:\", \"We can all help. Read more:\", \"These are the books Bill Gates, Jeff Bezos, and Elon Musk think everyone should read\", \"Small warehouses - big impact on online sales. Read more:\", \"At July's festival of football, she spurned the VIP box to sit with fellow fans. Read more:\", \"It all has to go somewhere... Read more:\", \"It's down to neuroscience. Read more:\", \"Swapping planes for trains. Read more:\", \"Robot baristas, self-driving cars and remote healthcare will all be staple features. Read more:\", \"The Alliance CEOs have a combined annual revenue of $1.5 trillion. Read more:\", \"Books are just the beginning. Read more:\", \"Quote of the Day from Chrystia Freeland (), Canadian Minister of Foreign Affairs. Read more of the top gender quotes from Davos:\", \"Words of wisdom. Read more:\", \"This is a chance for . Read more:\", \"Blues-berries. Read more:\", \"Before, it was a km walk in search of water. Read more:\", \"This is how businesses can play their part to protect the planet. Read more:\", \"A damming statistic. Read more:\", \"Nurturing nature. Read more:\", \"Quote of the Day from Marc , Chair and Chief Executive of . Read more:\", \"Quote of the Day from , Director-General of the . Read more:\", \"It's not rocket science. Read more:\", \"They've been away for years - but they're a furry force for positive change now. Read more:\", \"The French hit the (sustainable energy) target. Read more:\", \"A life boat. Read more:\", \"Entertainment in the eternal city. Read more:\", \"The vegetable American toddlers eat most of? The french fry. Read more:\", \"Make way for Reiwa. Read more:\", \"July was the th month in a row with higher-than-normal temperatures. Read more:\", \"Is this the way to save the ocean from overfishing? Read more:\", \"The depth of the relationship is key. Read more:\", \"An area the size of Mexico. Read more:\", \"Iceland will reopen to tourists next month. Read more:\", \"People vs pandemic. Read more:\", \"Take a look at 'nano-drops'. Read more about the future of healthcare:\", \"The future of going out for dinner? Read more:\", \"How is coronavirus affecting your country? Read more:\", \"The rise of the robots... is actually good news for us humans. Read the Future of Jobs report here:\", \"billion women still dont have the same choice of jobs as men. Read more:\", \"How many of these have you experienced? Read more:\", \"Boosting domestic tourism to restart the economy. Read more:\", \"A sound solution. Read more:\", \"Quote of the Day from Neil Armstrong. Read more about the Apollo moon landing:\", \"More than million Americans live in extreme poverty. Read more:\", \"Estimated arrival time: December . Read more:\", \"Creatives wanted. Read more:\", \"We touch our faces times an hour on average. Read more:\", \"million people depend on a lake that has % vanished. Read more:\", \"Embracing Bespreekbaarheid. Read more:\", \"/17: billion bags sold. /19: billion bags sold. Read more:\", \"Prawn-again seafood. Read more:\", \"It's a numbers game. Read more:\", \"It can spot tumours that could go undetected by human eyes. Read more:\", \"Each pitch cleans million litres a year. Read more:\", \"Social distancing rules are being slowly relaxed. Read more:\", \"A home conversion. Read more:\", \"with a smile. Read more:\", \"Just % of India's police are women. Read more:\", \"In there were just adult kak living in the wild. Read more:\", \"A third of all food grown is wasted. Read more:\", \"He is one of people sent to Manus or Nauru since . Read more:\", \"The rise of the megacity. Read more:\", \"After the disaster, the Lebanese people have opened their homes to strangers. Read more:\", \"Where sleeping on the job is encouraged. Read more:\", \"A greener future is ready to land. Read more:\", \"Superhero science. Read more:\", \"From shrinking mountains to re-discovered buildings. Read more:\", \"Half of them come from just one country. Read more:\", \"Cutting hours, saving jobs Read more:\", \"Stress Anger Productivity Read more:\", \"Biodiversity loss on the present scale has not been seen for millions of years. Read more:\", \"steps to productive home-working. Read more:\", \"The voice of a generation is getting louder. Read more:\", \"A positive story in the middle of lockdown: Living the life on Mars. Read more:\", \"The equivalent of losing a year of education. Read more:\", \"million acres of forest planted since . Read more:\", \"India's coastal waters have warmed by C in the past few decades. Read more:\", \"Waking up to environmental issues. Read more:\", \"\\\"An alternative to austerity\\\". Read more:\", \"Who's a good owner? Read more:\", \"Anti-social anxiety. Read more:\", \"It's not the only country facing catastrophe. Read more:\", \"million pilgrims, weeks, festival. Read more:\", \"The four requirements for fun. Read more:\", \"Keeping workers safe. Read more:\", \"From waste to wonderous. Read more:\", \"Last year % of US workers worked remotely - now nearly half of them do. Read more:\", \"Quote of the Day from Greta Thunberg, Environmental Activist. Read more about Thunberg's actions to reduce her own carbon footprint:\", \"Since , over permanent homes have been provided. Read more:\", \"'If you give it nowhere to go by aggressively going after it, making sure whoever has it is isolated, then it'll burn itself out.' Read more:\", \"The great outdoors is even greater than you might think. Read more:\", \"Tackling workplace 'gapjil'. Read more:\", \"A roaring success. Read more:\", \"One person can make a difference. Read more:\", \"Turning an A into an A+. Read more:\", \"Stockholm is the 'Silicon Valley' of Europe. Read more:\", \"people live on the streets or in shelters in the city. Read more:\", \"An isolation illness. Read more:\", \"Giving the green light to going green. Read more:\", \"Changing the lives of over children. Read more:\"], \"type\": \"scatter3d\", \"x\": [0.18861963123554965, 0.138472758613397, 0.3729144602716638, 0.10666349867833912, 0.12283640118375602, 0.08096195564117037, 0.7259727857029817, 0.241689642641971, 0.1584806408252931, 0.09432766711352208, 0.11549792577388913, 0.21170776182671033, 0.09574880865762872, 0.1883432429109787, 0.27852633138335453, 0.17492708437858281, 0.14755410517154688, 0.17992801968235372, 0.16277817320720855, 0.20886053804760019, 0.14146825018914008, 0.1933696746203756, 0.17660414121170184, 0.13466757428697726, 0.14389026940787294, 0.2293752978437096, 0.15114665284828913, 0.11162885941847672, 0.162358002631061, 0.11078798516290803, 0.1605601638341528, 0.1556887344111325, 0.17335958477971386, 0.14086211230060852, 0.18564681074618958, 0.144036965199015, 0.20062548774225003, 0.1966783175019934, 0.13572373404026428, 0.1360750891107522, 0.25557701976155456, 0.11915422432676191, 0.21926179398234394, 0.10938742651259689, 0.17648962297972504, 0.1354643008080256, 0.1636561826723768, 0.14607638087360236, 0.14352035224101012, 0.16965445889163708, 0.020638114759452087, 0.16742018275096432, 0.22734102288547858, 0.12338976211116796, 0.17129987268675156, 0.11913192945476717, 0.19326084788256015, 0.2196336495118071, 0.18352424769673856, 0.13280420203928023, 0.17467995979417655, 0.13002189546442952, 0.19709109809450376, 0.12200608604059338, 0.15502801758127766, 0.18237477507666638, 0.19495626231950622, 0.14299670069399162, 0.20118907191358731, 0.17676349564381627, 0.15518913338207638, 0.14216460216019097, 0.16864795065763838, 0.14192238663881065, 0.14058705175451416, 0.17171252399298634, 0.16333909066334895, 0.1228704310932536, 0.16696687571113156, 0.18447750228657825, 0.1980278865488372, 0.16912892000742263, 0.18088540249833854, 0.14990163137839052, 0.1678153742108577, 0.1853486428747643, 0.19344009087906677, 0.13770407602795584, 0.09157475906619307, 0.15863254413528483, 0.10526939489578128, 0.15036251006537682, 0.15626717864262424, 0.19009177713601894, 0.1844841702446016, 0.3004861560091755, 0.13497551561083, 0.15651049506660128, 0.1807274668063507, 0.14141855065225067, 0.22300745936332583], \"y\": [0.1989965027320872, 0.10207423846706033, 0.31508409369972046, 0.0679257214851494, 0.08665134264947019, 0.05171907371948214, 0.5843634285369843, 0.1814351962038299, 0.10940150436237048, 0.054398672987903046, 0.06873315706051546, 0.14644070487833866, 0.024338936839175998, 0.13546357762016478, 0.2121465199998206, 0.12440020179673271, 0.09998782384219768, 0.1413621812069194, 0.11578927998012052, 0.15270043365484842, 0.07314844125194202, 0.10744732364040294, 0.14676441824605466, 0.06551866246973395, 0.09489340673610541, 0.1635994339844384, 0.09154113337465475, 0.0705804171013118, 0.11911209933839327, 0.07754601591527747, 0.10436773763280664, 0.11032866726461718, 0.12566754158782836, 0.09847402496301509, 0.20593090255084806, 0.08370598794810644, 0.12600362191238298, 0.16301800111513584, 0.07387256689387107, 0.09112828831034048, 0.19284915701896907, 0.07944744226385538, 0.16356691678055754, 0.05344501156420297, 0.11428681420518928, 0.09603152234651673, 0.11603645898912955, 0.10236692547438027, 0.09839576417854144, 0.12233596575053042, 0.11872507194735435, 0.11952031740599904, 0.16562452038483635, 0.0818349234902882, 0.10387967620126108, 0.08169512245038205, 0.14195639885231073, 0.16358582783581346, 0.11328339876669578, 0.08780150621344458, 0.12755551347319277, 0.0887758400163221, 0.14332142150286334, 0.0801387062487678, 0.1094452350908937, 0.1143559881132428, 0.16302691377865589, 0.0974502225025695, 0.12219486170228405, 0.12478363882598062, 0.10659988261268195, 0.08397466379485098, 0.12203532880822907, 0.09929226443745268, 0.10377610292899199, 0.1110308360833125, 0.10921118920804221, 0.0731669195848982, 0.11590174295946361, 0.13240077984471996, 0.14241218705138264, 0.1239070382970261, 0.1140263138072425, 0.11530901455192785, 0.12023734249377407, 0.13984065056718847, 0.13547421154055705, 0.0812519616425658, 0.03729453989715461, 0.11279807910642181, 0.06261498858150837, 0.1067905974289581, 0.11188274161274699, 0.13597927303046314, 0.12713261501362688, 0.22788081408504704, 0.08922300092919869, 0.08428825876167352, 0.13185756869911086, 0.09917808467756636, 0.16077249623631798], \"z\": [0.015758377896125716, 0.017292037057261744, 0.07045404272780541, 0.0013359261294496351, 0.003057549918423308, -0.006845431443195482, 0.18470594527033785, 0.040680024033857204, 0.014560451634508895, -0.01669471626115389, 0.009759425778180002, 0.028652590306666715, 0.015437106627137046, 0.024763768653694097, 0.05248859053858421, 0.01959748136723795, 0.01144130135727264, 0.010330200083839579, 0.0186138599496309, 0.024827122960147493, 0.017218075382516365, 0.03186878617475526, 0.025618279817058224, 0.017078208097849257, 0.004686394320227454, 0.03520919036607452, 0.04670664837915338, -0.0025247022642811323, 0.012783081500200856, -0.0017043293553207935, 0.005013334964801672, 0.014180142658611079, 0.018777871225450594, 0.012702361155969582, 0.05436636613644464, -0.01913474465566263, -0.01486329631635878, 0.09570287422612288, -0.045520983624727084, 0.005477448272194048, 0.045469970404538984, 0.02910300172193418, 0.027566527342782567, 0.0040860506027736755, 0.004103203522676751, 0.0031702700824387782, 0.01996398892981575, -0.0008663085437449925, 0.011014321229014225, 0.02020250181533988, 0.011238994530126905, 0.020419425970199526, 0.038206028965831335, 0.002477925005791108, 0.009499278621527824, 0.0020721903085397955, 0.025294905261697698, 0.035608472722252454, 0.033009203251417235, 0.007441388202607075, 0.011403947644666646, 0.009872307159074773, 0.021777022628064694, 0.004560948713301193, 0.0053393718392268875, -0.017754908567370494, 0.02902120968464758, 0.008869488304283359, 0.08251827622655807, 0.0017090294282594157, 0.014704096243203103, 0.0021585114276067513, 0.01216727342351319, 0.007611399174502091, 0.014129958127250607, 0.012491986636878926, 0.01886766515558551, 0.008770623953105891, 0.014435051936957976, 0.02247229025737577, 0.022659230007328706, 0.016455593102319747, 0.0768043460706865, 0.019210972107396362, 0.01993068164701974, 0.020107822213057402, 0.018181085600202, 0.006090689532702224, -0.001464935403829864, 0.014829629012916918, -0.0045968489947651545, 0.013461208143405498, 0.014275411881917006, 0.02497120997079064, 0.01978837445704581, 0.05831892924929618, 0.005689273362237542, 0.03602224640383001, 0.023343038584200625, -0.006813219114869692, 0.05593764950703681]}, {\"hoverinfo\": \"text\", \"marker\": {\"color\": \"#70bec5\", \"line\": {\"width\": 1}, \"size\": 8}, \"mode\": \"markers\", \"name\": \"Cluster 2\", \"text\": [\"COVID-19 in Asia: WHO media briefing on May\", \"Why cooking at home during COVID-19 lockdown is reducing food waste\", \"Doctor Copper: this Canadian mining company explains how the red metal fights COVID-19\", \"Heres how COVID-19 is changing the cost of living around the world\", \"What you need to know about the COVID-19 pandemic on May\", \"Young workers hit hardest by COVID-19\", \"Mask mandates and other lockdown policies reduced the spread of COVID-19 in the US\", \"COVID-19 is one of many global risks. Here's what we must do to protect ourselves.\", \"The COVID-19 sex bias: why does it kill more men than women?\", \"How technology will transform learning in the COVID-19 era\", \"The fight against COVID-19 could mean a surge in other diseases like measles and polio as vaccinations are delayed\", \"Hindou Oumarou Ibrahim on what COVID-19 means for indigenous people\", \"How to build a stronger ocean economy after COVID-19\", \"\\\"I think people have to accept that they have to trust someone at some point,\\\" says Pascal Soriot, CEO of , discussing the wealth of regulation and expertise involved in COVID-19 vaccine trials. Watch the session here:\", \"The Multistakeholder Conversation takes place July. Join the discussion around securing a trade and investment response to COVID-19 and how we can recover and build resilience. Discover more:\", \"COVID-19: What the world can learn from regional responses\", \"Is COVID-19 a seasonal disease?\", \"steps for emerging markets to recover from COVID-19\", \"The Cartography of Post-COVID-19 Green Growth with Christine , , , and more\", \"To counter the COVID-19 recession, we need to invest in food systems\", \"Will COVID-19 spell the end for exams?\", \"Ethiopias Prime Minister calls on developed countries to help Africa through COVID-19\", \"COVID-19: Why a fiscal stimulus wont work for every country\", \"COVID-19: Top stories on the coronavirus pandemic, September\", \"COVID-19: How to protect your business from the 'mind-killing' effect of fear\", \"How COVID-19 revealed the need to integrate passenger and freight transport\", \"Tune in pm CET to hear our panel of experts discuss how we can shape green recovery from COVID-19: , Audrey Choi , Chever Voltmer , , , , , &amp;\", \"What you need to know about the COVID-19 pandemic on June\", \"COVID-19 has presented us with a vital opportunity to reset our relationship with nature. Discover how we can enrich the global economy whilst protecting our planet, in our new report:\", \"The Multistakeholder Conversation takes place July. Join in with the discussion around securing a trade and investment response to COVID-19 and how we can recover and build resilience. Discover more:\", \"How to reform NGO funding to deal with threats like COVID-19\", \"Here's what the terrifying Nipah virus can teach us about the spread of COVID-19\", \"key trends on how COVID has impacted women in business\", \"The Forum just hosted its latest COVID Action Platform call, with , , , and .\", \"COVID-19: Suppression is possible but at what cost to our privacy?\", \"World leaders pledge $8 billion to fight COVID-19\", \"How renewable energy can drive a post-COVID recovery\", \"Welcome to the COVID-19 era of world sport\", \"COVID-19 pandemic is litmus test for stakeholder capitalism\", \"COVID-19: What should clothes retailers do with their mountains of unsold stock?\", \"COVID-19 is causing a global food crisis. This is how to address it\", \"Meet the COVID-19 antigen test that can fit in your wallet and takes just minutes\", \"COVID-19 prisoner releases are not a matter of mercy, but of justice\", \"Answering key data governance questions raised by COVID-19\", \"'If emission reductions during COVID-19 had been sustainable, we would be almost halfway to our degree goal in a matter of weeks.' , Director, , Texas Tech University. View the full session here:\", \"How privacy enhancing technologies can help COVID-19 tracing efforts\", \"South Korea's foreign minister explains how the country contained COVID-19\", \"Digital diagnosis: Why teaching computers to read medical records could help against COVID-19\", \"Youth can drive societys response to the COVID-19 crisis. 'Rescuing their Inheritance' by Ashleigh Streeter-Jones and Hamad Almahmeed is available here:\", \"How COVID-19 has exposed the challenges facing the care sector\", \"More than weeks have passed without reporting a COVID-19 fatality. Read more:\", \"COVID-19: It's time to rethink where, how and why we work\", \"Covid-19 indirectly killed far more older adults than we thought\", \"Outbreak or breakout? How to protect prison populations from COVID-19\", \"Viet Nam shows how you can contain COVID-19 with limited resources\", \"People in France cant leave home without this permit during the COVID-19 outbreak\", \"COVID-19: What you need to know about the pandemic on October\", \"COVID-19: How India's government and businesses can lead\", \"Two experts explain what other viruses can teach us about COVID-19 and what they cant\", \"COVID-19: Investing in sustainable infrastructure can rebuild economy\", \"Heres why we need a global agreement on cross-border science to beat COVID-19\", \"These charts reveal vital information about the COVID-19 coronavirus. Learn more about coronavirus:\", \"How a post-COVID-19 revival could kickstart Africas free trade area\", \". followed up by stating the importance of innovation and digitalisation in response to COVID-19, within the travel and tourism industry.\", \"HRH The Prince of Wales says COVID-19 has brought unimaginable devastation to lives and livelihoods - however, with a green recovery, we have the chance to rethink and reset the ways we live and do business. Watch the full session:\", \"How is COVID-19 affecting our day-to-day behaviour?\", \"Pre-existing health conditions can triple death risk from COVID-19\", \"How COVID-19 is changing the economy and what we can do about it, according to\", \"COVID-19: How companies can support society\", \"How to protect jobs during Covid-19: Lessons from the Greek experience\", \"Spurred by COVID-19, African schools innovate to close learning gap\", \"COVID-19: Fiscal policies to support governments now - and for the future\", \"How can we create a more inclusive, resilient and sustainable world after COVID-19? founder Professor Klaus Schwab and Thierry Malleret of discuss the changes we need now in their new book COVID-19: The Great Reset. Find out more:\", \"Using blockchain to monitor the COVID-19 vaccine supply chain\", \"AstraZeneca's COVID-19 vaccine shown to be % effective, results show\"], \"type\": \"scatter3d\", \"x\": [-0.291570748142969, -0.19574030452530786, -0.15771135579953624, -0.27713328604293946, -0.45946905804849975, -0.24877218956284033, -0.18895937100365884, -0.3548663933319542, -0.20132895082388402, -0.25467682629749283, -0.1573646262614091, -0.1678342955868858, -0.2705091336344442, -0.12192996694705083, -0.15561718774330832, -0.30016908402661374, -0.2892441438556346, -0.25462307559106073, -0.2081121586424873, -0.212786062534, -0.2354812268963903, -0.19541296018908222, -0.21267128590956702, -0.32979176212295896, -0.20938158596020942, -0.18533985142150836, -0.12353041348695913, -0.35724370127138716, -0.13450186038092476, -0.15561718774330832, -0.1892600235578957, -0.1937417010698792, -0.13328105608375382, -0.11083481564396211, -0.20551250520383388, -0.27456648885533014, -0.1395370054457276, -0.25477846632079154, -0.22222173682419946, -0.17357082702897883, -0.2614537454966625, -0.1516881633902561, -0.17194984910963326, -0.18867723434423964, -0.13252232870135888, -0.19249883135699686, -0.18585936716865847, -0.07246630350442099, -0.12504725007434814, -0.218650411127227, -0.07720719688636905, -0.29812949072218603, -0.17147361467123737, -0.19572057516342228, -0.18036786337956304, -0.18782647931626875, -0.35415351860840943, -0.28356584538946406, -0.25790172203334255, -0.22916055911594982, -0.22521378595290548, -0.226498496774714, -0.19729360265398416, -0.1585260663633587, -0.13003143913806592, -0.2204655536223496, -0.17644224780155174, -0.3424941773243716, -0.3060944380863478, -0.21151715503770757, -0.17067812900715149, -0.22319210353935684, -0.2530619655738424, -0.22173497350007537, -0.20596050460154275], \"y\": [0.3005322949629681, 0.2200916110477361, 0.13918425311955618, 0.19414578096663557, 0.43690235577471304, 0.24527220980992598, 0.19129101738127216, 0.3468610275408136, 0.18978000573349776, 0.2458230754382705, 0.13765638934301697, 0.16378388181438433, 0.2471083158689694, 0.10140688959134905, 0.1366150413193745, 0.20155655934596195, 0.29991994100047553, 0.25252783038462306, 0.20824587588583302, 0.2027498054310658, 0.23812868894401518, 0.16313897154500015, 0.18917941173161343, 0.3219945928617809, 0.20423294211756698, 0.16936100732540293, 0.11532259242427131, 0.3357220476873492, 0.11996176662479148, 0.1366150413193745, 0.17989963936621536, 0.1887049703232642, 0.10207772206563255, 0.0934065267886899, 0.20392312419880432, 0.19612779037391137, 0.12134347207458104, 0.20041023345289324, 0.21919939376857006, 0.17133004293939705, 0.2513413766878808, 0.14809875543835258, 0.17118700032767412, 0.180205991545103, 0.10798729843065609, 0.1737092394416931, 0.16595516120577236, 0.26279307909269334, 0.10625353008674739, 0.2066630148223321, 0.32022845463809674, 0.30491961623936165, 0.1722214196076778, 0.1945970316325111, 0.1711694314297821, 0.1977989673553867, 0.3327707887637899, 0.2633888534147089, 0.256548016672206, 0.2098251848481676, 0.18931111950931398, 0.16745316721676184, 0.1795417556168187, 0.1462658289920428, 0.10273990227596418, 0.22585521196207636, 0.1693331333170673, 0.307659928641202, 0.30533757977984893, 0.21396574461391685, 0.1679203117001192, 0.2244197256385937, 0.20158132053380395, 0.21897713158586804, 0.21098399671060786], \"z\": [0.03102441261068159, 0.008587139628961328, -0.0018377907687973443, 0.2549641356526175, 0.010036572179456311, 0.025601779105141737, 0.017431987231507417, 0.04792806641749297, 0.020967023133233172, 0.019764341880377005, 0.0038176067994466433, 0.009807470957627686, 0.05225011687127027, -0.005444058898819391, -0.0016707354562420214, 0.23340110350293788, 0.0385247428228691, 0.02297182584894572, 0.0204006984649958, 0.0005797718298383938, 0.023987030703332475, 0.041050352640744775, 0.055729370996535355, 0.028734180985769544, 0.013842232895974046, 5.647737262177991e-05, -0.006503138398401029, 0.000691755175649719, -0.0007703111062333827, -0.0016707354562420214, 0.016298684846035787, 0.025823048487446272, -0.00646894046259343, 0.027862234603411886, 0.018872605517995883, 0.243811087699692, 0.005357754227560278, 0.2332842381146422, 0.017277734668153723, 0.010578684032325023, 0.01080301031696176, 0.004408328683025117, 0.011472764490479452, 0.006078412759675259, 0.012127470494346076, 0.002521082946344058, 0.042254236245923046, 0.03487905492249418, -0.006123833292608086, 0.02041050962188548, 0.06248061662144971, 0.03145682669354405, 0.010202954739858584, 0.022374635179943928, 0.015078079601053456, 0.013867800921073136, 0.00039913535260329276, 0.037042074041639804, 0.03933710168090044, 0.04517102501028172, -0.004967915075785441, 0.00028413788370729436, 0.02202746881771025, -0.0007436660044017785, -0.023999943945399872, 0.03701346682315956, 0.010843642325911807, 0.10871947246612156, 0.02706000734132912, 0.010220404873999387, 0.005145437318571171, -0.009469086208650588, 0.11916091593720668, 0.01535510698204756, 0.02344870208267982]}, {\"hoverinfo\": \"text\", \"marker\": {\"color\": \"#59b2c8\", \"line\": {\"width\": 1}, \"size\": 8}, \"mode\": \"markers\", \"name\": \"Cluster 3\", \"text\": [\"To learn more about our French-speaking Young Global Leaders, view our roundup in French here:\", \"The EU wants member states to aim for % by . Learn more about global recycling:\", \"ways cities are tackling the global affordable housing crisis\", \"Watch the Global Vaccine Summit live here:\", \"Two charts to help you understand global wealth and inequality\", \"As a rising global power, what is Indias vision for the world?\", \"A cycle cemetery. Learn more about global bike initiatives:\", \"More than Young Global Leaders are working together to improve the state of the world. Here's how:\", \"This company is feeding old coffee grains to fly larvae to tackle global food waste. Find out more in video No.3 of our weekly collaboration with :\", \") The Global Social Mobility Index is now available to download. It shows how the majority of economies are failing to provide conditions in which their citizens can thrive\", \"Our response to the global crisis is short-sighted. We need to focus on prevention\", \") He reminded of the progress made in China, but also its roles as a driver of global growth and supporter of sustainable development. As a result, it will continue to support economic globalization and enhanced bi- and multilateral cooperation.\", \"reasons all countries should embrace the Global Compact for\", \"Quote of the Day from Saadia , co-author of the Global Competitiveness Report . Read the full report here:\", \"The Orkneys generate % of the electricity they need. Learn more about the global adoption of renewable energy:\", \"Global Economic Outlook with , , and\", \"This is what chief economists think about the global economy right now\", \"Why natural cycles only play small role in the rate of global warming\", \"We can't abandon global cooperation, but it needs an update\", \"This is how we make sure global rates continue to rise\", \"Heres the real reason why China's economic growth is slowing down, according to Keyu Jin, Professor of Economics at The London School of Economics (). Read about the IMFs forecast for global growth in here:\", \"From C to C: the global impact half a degree makes\", \"Latin America is primed to be the next global tech hotspot\", \"Urban security, health and migration: how cities can tackle global crises\", \"Two thirds of the worlds cobalt comes from just one country. Read more: Learn more about the Global Battery Alliance:\", \"How migrants who send money home have become a global force\", \"It's down to cities to limit global warming to C by\", \"The climate loop: ways global warming is fuelling US fires\", \"Every year, the global economy loses $3.6 trillion to corruption\", \"Watch our session Global Priorities for Ocean Protection here: at pm CET.\", \"These charts show how little the global energy supply has changed since the s\", \"The U.S. dollar is the closest thing we have to a global currency\", \"% of women around the world have suffered physical abuse from an intimate partner. Read the full Global Gender Gap Report here:\", \"These are the biggest global health threats of the decade\", \"Best of Here's why no country is prepared for the wide range of global threats facing us today\", \"Daily global CO2 emissions cut to levels during height of coronavirus crisis\", \"Gender inequality could cost the global economy $160 trillion. Read more:\", \"The impact of the on the global film industry\", \"But Gopinath warns: \\\"While there are signs of stabilization, global outlook remains sluggish\\\"\", \"'Good enough' global cooperation is key to our survival\", \"Global electronic waste up % in five years, and recycling isnt keeping up\", \"From fire to fake snow - the global consequences of the climate crisis\", \"reasons all countries should embrace the Global Compact for Migration\"], \"type\": \"scatter3d\", \"x\": [-0.017473314622362655, -0.0084642534551819, -0.04138893124169295, -0.035553524315146606, -0.03330716317546938, -0.023242533997671715, -0.012312109987217974, -0.0379541296307604, -0.004026369920539924, -0.019113796188143753, -0.04328012173234797, -0.01770885562561402, -0.012770104783063485, 0.12232697661132674, -0.023623513309762492, -0.030317126309085958, -0.025047205753883157, -0.0073304685554688755, -0.037226309898962466, -0.014102833109079931, 0.043767351466511575, -0.021090339430286507, -0.015433834166526742, -0.03895362841368655, 0.09248740169467566, -0.00821153985726751, -0.018239552432400448, -0.025340889464572088, -0.005537002369131513, -0.01396689860018346, -0.024815711369635108, -0.012876958591387907, 0.08031695717852552, -0.03127644654653082, -0.020264708322307836, -0.02581357213138606, 0.11018853065753238, -0.025506696287689503, -0.010547280829879798, -0.014697054641261696, 0.008335340617219567, -0.025906347894619774, -0.011523626557408295], \"y\": [-0.04299407665711714, -0.04702051013390648, -0.04094949966494243, -0.0187080092329791, -0.028381254145792664, -0.08885988261320012, -0.040967555629330084, -0.0876080993419471, -0.021631214671159, -0.028558991548652057, -0.007473448840109755, -0.030919706370831416, -0.03906915905973236, 0.06619212321359576, -0.036601151244760904, -0.03373479079025336, -0.03275717813335607, -0.021586944221954264, -0.013519415624983563, -0.028645770314099525, 0.024105775213961064, -0.0294148851123543, -0.02315527181173612, -0.028497703625129173, 0.007883950416737598, -0.01912311695352404, -0.0398664672848906, -0.0418730285631767, -0.03709927763650831, -0.03483676786871853, -0.02544189188996604, -0.02017831287945068, 0.02792276142010752, -0.02205750563186269, -0.0679175562034592, -0.020294362376211492, 0.07556595916847167, -0.020158131060471894, -0.020342763816129955, -0.022141955084350726, -0.022725962386614208, -0.033902865942202716, -0.03592479320158882], \"z\": [-0.04385598888630039, -0.050274801163012084, -0.015581110585909979, -0.042689442664722584, -0.019963340814165086, 0.18028406383105613, -0.05426831493753931, 0.17812354189557247, -0.04756075829110201, -0.01731796979523881, -0.04623038333988907, -0.026300983004659412, 0.0071572564404804055, 0.00874531532495714, -0.06442597848153299, 0.010407101279827382, -0.004460513473893587, -0.036495810559351256, -0.04846728399496444, -0.04697085989358691, -0.0021422678021300492, -0.03545594647591726, -0.03439155959116287, -0.016626328845388685, 0.1552179738359863, -0.03903207532646204, -0.0009808420299739235, -0.03762215170243946, -0.013223864755553531, -0.04727693090247489, -0.013245907461714602, -0.04051066415329917, 0.12290792919421842, -0.014102489763281382, 0.06381525296547183, -0.045347612265706515, 0.03348647334008379, -0.0466434607126291, -0.032197421430093943, -0.04428340006091378, -0.04515670884490146, -0.03403963593174539, 0.0026328926216131524]}, {\"hoverinfo\": \"text\", \"marker\": {\"color\": \"#42a6cb\", \"line\": {\"width\": 1}, \"size\": 8}, \"mode\": \"markers\", \"name\": \"Cluster 4\", \"text\": [\"Here's what purchasing power parities can tell us about world poverty economics\", \"Almost half of the worlds population still doesnt use a bank account\", \"The World Economic Forum has just opened the Centre for the Fourth Industrial Revolution in Japan. The Tokyo-based centre will bring together leading businesses, start-ups, and more to shape the trajectory of emerging technologies. Read more about :\", \"The World Economic Forums Centre for the Fourth Industrial Revolution in India has just opened. Click here to find out more:\", \"The world is facing a $15 trillion infrastructure gap by . Here's how to bridge it\", \"China now produces two-thirds of the world's solar panels. Read more:\", \"These are all the world's major religions in one map\", \"Here are the top most competitive economies in the world\", \"\\\"A unique moment exists to create a more inclusive, innovative and resilient society.\\\" Read more about how data can help to improve the world in our report, in collaboration with &amp; Company:\", \"The latest from the World Economic Forum is also available in Japanese on Facebook /\", \"The world's second most populated country has a relatively low number of cases.\", \"World Economic Forum - live via\", \"In pictures: social distancing around the world\", \"From cheeseburgers to coral reefs, the science of decision-making can change the world\", \"Around the world, faith in the economy is falling - and fast\", \"What India's route to universal health coverage can teach the world\", \"US now has most coronavirus cases in the world - Today's coronavirus updates\", \"Here is your reading list ahead of the World Economic Forum on Asean :\", \"We need to rethink tech hubs to tackle the world's biggest problems - here's why\", \"This is how much people would pay to use some of the world's most popular apps\", \"Introducing World vs Virus, a World Economic Forum Podcast\", \"These are the world's biggest exporters\", \"'Over-reacting is better than non-reacting' - academics around the world share thoughts on coronavirus\", \"Meet the worlds newest architects: algorithms\", \"million children around the world don't go to school. Read more:\", \"Here's how the pandemic has reimagined the world of work, no matter where you live\", \"The Netherlands has built the world's first used-plastic bike path\", \"This is how the way the world measures success in is changing\", \"These are the world's tallest structures throughout history\", \"podcast on climate and inequality in the post COVID world: Listen here:\", \"Travel the world from your kitchen: cookbooks to read in quarantine\", \"These are the world's most attractive countries for foreign workers\", \"Where are the worlds nuclear weapons?\", \": maps that reveal the worlds remaining wildernesses\", \"The worlds most influential values, in one graphic\", \"No refuge: the impact of coronavirus on the world's most vulnerable\", \"CommonPass: Helping people travel the world in the Covid era\", \"What does a look like to you? The World Economic Forum has identified key questions ahead of this year's Annual Meeting - and they need your answers. Find out how you can shape the future here:\", \"How supporting climate action on a local level can transform the world\", \"Amazon is heres a look back at how it changed the world\", \"More than million people are held in around the world - why haven't almost half the world's countries made it illegal?\", \"ways the world is rallying around Australia as bushfires rage\", \"reasons we should be optimistic about the worlds clean energy future\", \"Episode of is out now! Talking to experts, economists and eco-entrepreneurs about how to balance business with the natural world: : : :\", \"The giraffe puppet changing the world\", \"David Attenborough leads call for world to invest $500 billion a year to protect nature\", \"Home to the world's largest floating solar energy plant. Read more:\", \"Scientists around the world are already fighting the next pandemic\", \"Heres how lockdowns have improved air quality around the world\", \"The Government of Viet Nam and the World Economic Forum launch a public-private platform to address plastic waste and pollution\", \"Your future job may not even exist yet. The world is changing fast, and we want to hear from you on how we can keep it fair: of the , of\", \"Fertility rates around the world are plummeting. Read more to discover which countries populations could halve by :\", \"innovative ideas helping the world's poorest children\", \"This deadly fungus is wiping out amphibians around the world\", \"The worlds most expensive places to own a home\", \"These are some of the top quotes on tech monopolies from the World Economic Forum in China\", \"This why not speak up for the natural world around you? Were calling on world leaders to urgently protect and restore nature. Head to\", \"These are the world's most future-proof\", \"This infographic shows CO2 emissions all around the world\", \"Costa Rica is one of the world's happiest countries. Here's what it does differently\", \"The World Bank predicts areas most at risk to coronavirus\", \"For , Kay Forsythe from , is on our Instagram. Click here to follow: Photo credit: World Federation for Mental Health\", \"of the worlds most polluted cities are in India\"], \"type\": \"scatter3d\", \"x\": [-0.009464041642446153, -0.01269451133865466, 0.049003929376414325, -0.014712493473178347, -0.015367026119702618, 0.123950166087808, -0.02210834402941279, -0.03554790227587063, 0.0643146645888546, -0.02253229884711026, -0.014632897374287312, -0.03187332702052557, -0.02616378734069609, -0.02119393608434566, -0.02417148819260996, -0.02519461642252766, -0.048447326924836866, -0.016305074004760535, -0.043628343333700914, -0.012469236449575795, -0.035859563633285754, -0.02071645745766178, -0.017944753444156733, -0.014367785070280876, 0.1768581551951657, -0.03955043600817226, -0.009039802158015642, -0.04065972577813909, -0.014301543655380193, -0.15711536859881806, 0.10950575230728819, -0.020465026593379357, -0.018500962415222606, -0.016319090621823136, -0.014585826523364246, -0.03711156492165511, -0.12462107694255865, -0.020863185204894417, -0.023473784704947424, -0.03430691862458729, -0.009108259531130647, -0.02373867783221194, -0.0007284924784549531, -0.022851987988638647, -0.01940313562961911, -0.0004939189374834899, 0.1321170258160503, -0.06369073271415897, -0.02616760521221889, -0.020915592618514025, -0.00637054115921144, 0.09779647775646418, -0.02378358008271014, -0.011363983656136467, -0.018241318712564195, -0.021526214219520036, -0.02295389801703734, -0.007100429942110247, -0.022639783350649072, -0.014497081147782444, -0.03633101853851366, -0.021852598750001923, -0.024499579679274214], \"y\": [-0.06010642713398219, -0.06864097632494323, -0.0062455859834983085, -0.08741357151455188, -0.06335135106166492, 0.04739109533303197, -0.09227677609852052, -0.11601498345458092, 0.017686885899346815, -0.07673499290275486, -0.06324592595027148, -0.1328162482004899, -0.07836729478480313, -0.07121280665573881, -0.08256025504803942, -0.06733646774561368, -0.05803019370045952, -0.08040700477310403, -0.06851906736353197, -0.06902950001888229, -0.11489717864084942, -0.0884814635670398, -0.049164511761294195, -0.0682804500819055, 0.08522485070060686, -0.06009915342587198, -0.065221121347477, -0.08962234876024643, -0.07137041598590424, 0.052054403309085014, 0.04960872140778861, -0.08649060481382409, -0.08673254836043394, -0.07362103381429408, -0.06738192186385357, -0.0661296858948579, 0.06011155052520611, -0.07158576173171981, -0.07645840824433524, -0.08456067259912459, -0.0976564862835435, -0.06397867990139862, -0.08440920728720151, -0.05062393687874474, -0.07034766753380912, -0.053851959835661864, 0.046382380790274236, -0.05251415778305064, -0.06149816015923996, -0.06550329961269427, -0.0712030059790424, 0.02593854243300947, -0.07545141695807243, -0.05583777456496925, -0.08051204726686259, -0.08928874345947942, -0.08519202188390039, -0.10271035682619328, -0.07513174989171723, -0.0752306630956861, -0.060855282440970396, -0.056325011463291316, -0.1194368449686828], \"z\": [0.12232595652628674, 0.15303844804045183, 0.09792927206280116, 0.1559885305883708, 0.1320799246680688, 0.19170171160316732, 0.2138628839837392, 0.33929983936399144, 0.09615045220025253, 0.19687963502172734, 0.15641182938669415, 0.34128019883056976, 0.20762771502623661, 0.1320421748157147, 0.20244088683723713, 0.1387493927271018, 0.15262686340098672, 0.20352015408345556, 0.14519916287325388, 0.16241617606740547, 0.3818863636229143, 0.24151906500797984, 0.07990410749347905, 0.14510534792127397, 0.2547018094789479, 0.14822211191302093, 0.12325646167925158, 0.20585982315666845, 0.16781165149473146, 0.2338387187748915, 0.16869177640711724, 0.2153947939842475, 0.23240770124791457, 0.15231483046722546, 0.16025480726144337, 0.16697107550779122, 0.17280457872145114, 0.10038055531827365, 0.14670957159996056, 0.20378944437553065, 0.3105237749962962, 0.12334267776137, 0.13922655918934676, 0.10966487250827099, 0.1717453794503217, 0.10557453210116649, 0.19597032244833906, 0.23912404905703416, 0.1610312056368466, 0.11525443666980638, 0.10228770714157252, 0.17935030360692097, 0.18228355255915032, 0.1283387313674462, 0.2301388144356703, 0.20560351274714683, 0.2261269616267745, 0.21804294244344785, 0.1836882923809274, 0.17180069357177666, 0.16213412917358216, 0.09373289170184398, 0.2877800984905292]}, {\"hoverinfo\": \"text\", \"marker\": {\"color\": \"#3f8fad\", \"line\": {\"width\": 1}, \"size\": 8}, \"mode\": \"markers\", \"name\": \"Cluster 5\", \"text\": [\"This is how climate change is redistributing coral reefs\", \"From the archives: Nobel laureate Mario Molina on how to tackle climate change denial\", \"Change is on the horizon. Read more:\", \"What will G change?\", \"Cancelled races, fainting players: How climate change is affecting\", \"Quote of the Day from Antnio Guterres, Secretary General of the , who delivered a clear message to COP24 in Poland on why we need to act to tackle climate change. Read more:\", \"Most US students arent learning about climate change. Parents and teachers think they should\", \"Climate change after COVID-19: Harder to defeat politically, easier to tackle economically\", \"A casualty of climate change. Read more:\", \"Video game AI will change the future of work. Here's how\", \"The winds of change. Read more:\", \"Technology could change how we address mental , if we can navigate the ethical dilemmas\", \"in people would choose not to fly because of climate change, Ipsos-World Economic Forum poll shows\", \"Best of For small island nations, climate change is not a threat. It's already here\", \"Why income inequality is bad for the climate\", \"Blockchain can change the face of renewable energy in Africa. Heres how\", \"And most of them are at extreme risk from climate change. Read more:\", \"Map of the Day: Climate Change: and look at sustainable land use, building climate coalitions, the social cost of carbon and more.\", \"Green isn't always good. Learn more about the effect climate change is having on the Arctic:\", \"As scientists study the threats posed by , some of the immediate effects of climate change have been a double-edged sword for those in Tasiilaq, Greenland. Read more about the country here :\", \"Best of Davos: The Sahel is engulfed by violence. Climate change, food insecurity and extremists are largely to blame\", \"On our podcast 'World vs Virus' this week, , Executive Director of International explains how we can still fight climate change throughout the crisis. Read more: Listen on :\", \"Businesses are thriving, societies are not. Time for urgent change\", \"What COVID-19 can teach us about battling climate change\", \"climate tipping points the planet is facing\", \"Too many children are unable to achieve their full potential. Here's how we can change that\", \"Technology could change how we treat mental , if we can navigate the ethical dilemmas\", \"Here are ways tech regulators need to change in order to maximize innovation\", \"Here's how AI will change how radiologists work\", \"For small island nations, climate change is not a threat. It's already here\", \"Water wars: How conflicts over resources are set to rise amid climate change:\", \"Zero by : How the world's economy has planned to battle climate change\", \"'Make no mistake - climate change is driving this dramatic increase in wildfires and increased wildfire risk.' - , President &amp; CEO of on the recent environmental destruction. Watch here:\", \"This is how our perception of change over time\", \"., President of the , discusses the urgency of reacting to climate change\"], \"type\": \"scatter3d\", \"x\": [-0.008342381944300446, -0.012025275738310158, 0.21742754865898056, -0.018642444434570173, -0.014012782450320976, 0.06437972447947123, -0.008800841633204229, -0.16927511832857153, 0.17486239338338727, 0.0020997548548489686, 0.240797360905283, -0.017266026608537946, -0.026130142780152014, -0.015243427526248797, -0.012498245152549999, -0.023936705407108072, 0.17599599983839606, -0.006827841477672311, -0.012352995302414047, 0.06405046017750733, -0.006101662042516201, 0.05833836276861964, -0.014751090180180003, -0.2711422038526167, 0.0010209268264278438, -0.008069132822802439, -0.015051812758820442, -0.03846852229253556, -0.011164898154052716, -0.011464883468799404, -0.007117860219752483, -0.030619711259746784, -0.00960728793570379, -0.0012043967815723643, -0.007897506468651096], \"y\": [-0.05810364277127864, -0.043461572035310196, 0.14047562367014893, -0.0829578150722211, -0.042560533395895966, 0.018717424186553304, -0.05487711378861906, 0.13081424792926266, 0.09109965636868694, -0.06502991088948094, 0.15484312889940743, -0.039940461823100154, -0.08877760510849156, -0.09814911887429663, -0.041329243388087696, -0.043219930110387376, 0.10012879458750076, -0.0818341899516653, -0.0711072757689443, 0.017591526528116578, -0.0788615007600434, 0.012055725417389532, -0.031201952084029122, 0.2219096424018499, -0.041718993097067156, -0.03987682723977857, -0.039276303618401384, -0.03786506838690348, -0.055597941911500456, -0.05498796009542831, -0.05320020036975702, -0.1084035208599473, -0.04629130668553816, -0.041166670576073885, -0.054121327658847675], \"z\": [-0.010586076274785614, -0.018479192334191704, 0.059038129387468545, 0.025255259303268066, -0.014012283138664918, -0.0030795288465642868, -0.011496428099474976, 0.021945227758120682, 0.05136833946829604, -0.04907195940839078, 0.06783968815279268, -0.026323257968592494, 0.16515527298810848, 0.06933863741429706, -0.024785192931774523, -0.018842015521033116, 0.060998222213828134, -0.015836719418083425, -0.04350962071041295, 0.023472529712994357, 0.039077216061729245, 0.16606955580544117, -0.03064071664365197, 0.05337853102391126, -0.03128721705024029, -0.01609667869644798, -0.026359702795557532, -0.035439646372847654, -0.017150823829564225, -0.0030319649795122875, -0.021631165592213012, 0.19494169361615257, -0.025035236444736743, -0.019645926196936274, -0.011079026518768706]}, {\"hoverinfo\": \"text\", \"marker\": {\"color\": \"#3c788e\", \"line\": {\"width\": 1}, \"size\": 8}, \"mode\": \"markers\", \"name\": \"Cluster 6\", \"text\": [\"Best of is using hundreds of drones to map the country in incredible detail\", \"What the Best Picture winner shows us about critical and commercial success\", \"Best of Davos: What chocolate and batteries can teach us about Globalization\", \"Coronavirus: Heres what products work best to kill off coronavirus germs\", \"Best of Eating locally grown food is good for your body and the\", \"Best of Australias bushfires are pumping out millions of tonnes of CO2\", \"Best of : Growing up. Read more:\", \"Best of This is how Singapore is inspiring cities to solve their traffic problems\", \"Key quotes on the in Davos from and more\", \"These are the worlds best cities for walking\", \"Best of Davos: Davos CEOs open up on mental health and the toxic toll of our connected lives\", \"This is what told Davos\", \"Only women have ever been nominated for an Oscar for Best Director\", \"Best of This infographic shows C02 emissions all around the world\", \"Best of Davos: The inspiring thing that happened when a Japanese village went almost waste-free\", \"Best of The key to staying active and healthy past\", \"Best of These countries spend the most on university research\", \"Best of Watch this D printer make a boat in world record speed, at record size\", \"The best and worst parenting advice I've heard, by a leading psychologist\", \"Immerse yourself in the latest best seller, a timeless classic or some non-fiction knowledge. Join the today and be a part of the conversation:\", \"Best of Davos: Poverty data never tells the whole story\", \"Best of of Albert Einstein's best quotes\", \"Best of Are you sleeping enough? This infographic shows how you compare to the rest of the world\", \"This is how many women have been nominated for best director in 's entire history\", \"Best of These are all the world's major religions in one map\", \"An might have just become the world's best weather forecaster\", \"Best of Davos: A 'play gap' has opened up worldwide - and it's hurting children's futures\", \"Best of Switzerland has the most highly skilled workers in the world. This is why\", \"These are the world's best young universities\", \"Best of Davos: This is what told Davos\", \"These countries have the best minimum wages\", \"Best of This Asian country has the most complex economy in the world\", \"Best of Bangladesh is booming - and its future looks even brighter\", \"Best of These are the most likely scenarios for the future of\", \"top stories from day two in Davos\", \"Best of A physicist developed a simple formula for achieving long-term success\", \"Best of These are the best universities in the world\", \"Best of Generation Z: What to expect from the newest addition to the workforce\", \"Best of This map shows that Mars and Earth aren't that different\", \"These are the best countries and cities for attracting and developing talent\", \"Best of Why are people religious?\", \"Best of Davos: ways great leaders can build courageous, passionate teams.\"], \"type\": \"scatter3d\", \"x\": [-0.008240074687659511, -0.012555099654622679, -0.01156602240387322, -0.0322782286647283, 0.001007008139121837, 0.008521337475790943, 0.27139582484425784, -0.0076433038148649955, 0.004758934765172709, -0.028184712617921426, -0.01007530152218527, 0.00028640731139958583, -0.006579175309241754, -0.024477877384651202, -0.0003838423716278476, -0.005704291807467079, -0.00963574398935907, -0.010137794997975092, -0.00202309720646186, -0.006075519738165526, -0.014295008392904861, -0.0032783365426709977, -0.02101400012977329, -0.005762987637258887, -0.025918566993078304, -0.014288328579713476, 4.443965526643562e-06, -0.021434336851228253, -0.03486130000260651, -0.004879070979841647, -0.0057338045618631145, -0.028775263756297118, 0.001988764221070943, 0.004093926248547445, 0.005790223432307161, -0.004914861947473605, -0.03400573691807839, -0.005918079889895123, -0.009125699790876756, -0.013732647485023545, -0.0032186745149760366, -0.027025325660488368], \"y\": [-0.08878290093643332, -0.05953746431622547, -0.09365398894593073, -0.06445453680459641, -0.05540079039371605, -0.05079713175202109, 0.11970442017579952, -0.08658727280370927, -0.06653501409802069, -0.1627737903262512, -0.08080435394368919, -0.054972418292891, -0.06745771328710504, -0.11082556712849267, -0.07295939413978748, -0.0604013806672451, -0.10419645585412267, -0.08740917135147884, -0.0571633584235027, -0.04544890334697842, -0.08830893291150028, -0.11339794407860727, -0.0982882385886859, -0.07250982872163043, -0.14114342445170164, -0.11731734927047417, -0.07917592148568381, -0.10837244553749427, -0.17076115213899884, -0.1188127476074444, -0.09091006869121289, -0.1504980560662711, -0.07406266868850948, -0.0848495405723182, -0.060782662619014695, -0.05335668995385407, -0.21567855950446188, -0.060428370300534974, -0.07326713695944843, -0.09627010098110955, -0.08537588328765111, -0.0792719417051183], \"z\": [0.07250707369949187, 0.03914612619680961, 0.06814458105139246, 0.02070437757623523, 0.020327500010950027, 0.03394764032834062, 0.19852430824164408, 0.07129301235626272, 0.008674534386700765, 0.35997670941260995, 0.052224562648169305, 0.008273238799050972, 0.04312111675273313, 0.22680860550867066, 0.03203081343527206, 0.0325957382261357, 0.13100932134713825, 0.14385366841473463, 0.03712731618950103, 0.013645792549741945, 0.07293774469747161, 0.11662607780653263, 0.2093870991244927, 0.04740526317711996, 0.2876966072815184, 0.24763072704665412, 0.025150136049440507, 0.21913265803388327, 0.39517443678503245, 0.1059639325688606, 0.10391420852263564, 0.34212973524492657, 0.013156811706837296, 0.02640204407324992, 0.0207130519095071, 0.01693871506173274, 0.4604661167082074, 0.03205555941392369, 0.04038109368985211, 0.12045388613877166, 0.08462797814548167, 0.04805393835483738]}, {\"hoverinfo\": \"text\", \"marker\": {\"color\": \"#396170\", \"line\": {\"width\": 1}, \"size\": 8}, \"mode\": \"markers\", \"name\": \"Cluster 7\", \"text\": [\"Reducing hunger, cheaply and easily. Learn more about the numbers behind the world's refugees:\", \"Christine : This is what we can still learn from the Great War\", \"There are steps. Learn more about worldwide gun ownership:\", \"Built to last. Learn more about India's plastic roads:\", \"What are you doing with yours? Learn more about food waste:\", \"Quote of the Day from Antonio Guterres , Secretary-General of the United Nations . Learn more about how we can accelerate action on sustainable development:\", \"A cautious return to normal. Learn more about how countries are slowing the spread of coronavirus:\", \"Would you benefit from a 'green prescription'? Learn more about the impact of nature on our health:\", \"Refugees can pay for their shopping by simply looking into a camera. Learn more about blockchain:\", \"The steps. Learn more about gun control around the world:\", \"A great idea and wonderful innovation! Learn more about the Social Entrepreneur awards: Schwab Foundation for Social Entrepreneurship\", \"Moving from knowledge to values. Learn more about the future of education:\", \"Quote of the day. For technology to help save our planet, we must learn to value nature. Learn more about what you can do:\", \"Explore our Air Pollution map. Learn how energy, governance and planetary health all contribute to the quality of the air you breathe.\", \"Find your next favourite novel, discuss your most adored classics and learn something you never knew before in the . Join us today:\", \"It has transformed the country since the introduction of a universal healthcare system in . Learn more about infectious diseases:\", \"Goats are used to trim the grass at their headquarters. Learn more about Google's first years:\", \"Virtual learning has just become a reality. Learn more about VR:\", \"Wearable waste. Learn more about how we can reuse plastic sustainably:\", \"Map of the Day: Private investors Learn more about low return environments, the impacts of monetary policy and investor demand.\", \"They've increased productivity by %. Learn more about Alibaba:\", \"billion people are currently under lockdown. Learn more about how lockdowns work:\", \"The fountains save the equivalent of single-use plastic bottles every year. Learn more about plastic waste:\", \"Emissions - dismissed. Learn more about the future of green architecture:\", \"A peddling paradise. Learn more about cycling in the Netherlands:\", \"The bike ride without boundaries. Learn more about cycling in Europe:\", \"It's the biggest electric bus purchase in Europe. Learn more about air pollution:\", \"A wheel solution. Learn more about how coastal areas are tackling erosion: Do you have ideas about how to build a ? Go to to share them with us\", \"More than just concrete jungles. Learn more about how we're working to encourage more urban forests:\", \"Medical drone use is taking off. Learn more about drone usage in Africa:\", \"Recycling, remaking, rewarding. Learn more about the Tokyo Olympics:\", \"At least people have been killed across the country. Learn more about the bushfire crisis: Do you have ideas about how to build a ? Go to to share them with us\", \"Quote of the day. Learn more about globalization\", \"Barrel fuel. Learn more about what the future holds for clean energy:\", \"Visualising the spread. Learn more about social distancing:\", \"Repairing the damage done in the year . Learn more about reforestation efforts:\", \"Quote of the day. It's time we embrace migration. Learn more about the global benefits:\", \"A simple step, but a staggering impact. Learn more about eradicating poverty:\", \"A wheel solution. Learn more about how coastal areas are tackling erosion:\", \"Mouthwateringly sustainable. Learn more about the future of food:\", \"A fifth of all of the world's trees are located in just one country. To learn more about the goals of and the Trillion Trees Challenge, visit UpLink:\", \"Conservation before concrete. Learn more about the coral reefs:\", \"Which would you pick? Learn more about how holidays have changed this summer:\", \"million tonnes of plastic enter the oceans every year. Learn more about about plastic pollution:\", \"Biodegradable Transparent Scratch-resistant Learn more about bottled innovation:\", \"Map of the Day: Learn more about the emerging multinationals of our world. Understand the associated risks and the raft of new technology they bring with them\", \"These are the most difficult languages for English speakers to learn\", \"The last five years have been the hottest on record. Learn more about the importance of maps in understanding our changing world:\", \"Globally, a third of all food produced is wasted. Learn more about food sustainability:\", \"What can we learn from the Nordic economic model?\", \"% is made up of fishing nets. Learn more about the harmful effects of plastic waste:\", \"Mapping the danger. Learn more about how technology is transforming the way we respond to disasters:\", \"What's your local area like to walk in? Learn more about the future of cities:\", \"Map of the Day: What is a 'digital identity'? Learn more about trust, privacy and data protection online:\", \"All thanks to eating and trampling. Learn more about forest fires:\", \"From power plants to planting trees. Learn more about China tackling food waste:\"], \"type\": \"scatter3d\", \"x\": [-0.018837934323374512, -0.010757164314934588, -0.004760712645089801, -0.0011647685120413245, 0.0023152884069002847, 0.0022986361502709616, -0.01983991937871807, -0.00910706887165334, -0.005884922714839991, -0.023584830613983195, -0.012606470479651176, 0.0018744403927586145, 0.004123671873316162, -0.010116789770644072, -0.003040835137627828, -0.007628599389683736, 0.0028931690870477376, -0.0006862483681431804, 0.0031521414304879454, -0.004650828071104006, -0.0008255411588846921, -0.00384037110729406, 0.013562336135562214, 0.0071422279886691155, -0.004630301390903647, -0.003995610922369507, -0.006796133988476944, -0.007907461006949605, 0.0020926260825529118, -0.013272971212335158, -0.0031590253037229593, -0.014494938603624241, 0.00878582700777978, 0.008805934097742019, -0.013773972910561373, 0.004040305013958005, 0.0020122880132475516, -0.008813466178023997, -0.004946690875652238, 0.006687299111030692, -0.006763702415620963, -0.0031959496485968355, -0.006162023085728882, 0.019533910794355083, -0.005950148899280511, -0.015493968754595824, -0.005932805505355725, -0.012117713606532129, 0.0039530092603324305, -0.013402909525695403, -0.0009357985569428522, -0.019813120743953454, -0.00026830701657225997, -0.0086305675029484, -0.003101602171160815, 0.008180304682530134], \"y\": [-0.07614381679867335, -0.05301881244932921, -0.041609803826796465, -0.06971869155645632, -0.05113186895188654, -0.0504179491668211, -0.04829806915638123, -0.03576268467548102, -0.038399348484118793, -0.0989755551465964, -0.04032354792419609, -0.04940858211878893, -0.08157364173979055, -0.04040977294406761, -0.03688432674896888, -0.04977689551768521, -0.04075935778530204, -0.0429684530339057, -0.04566270142153328, -0.04281456375148739, -0.04421483377460818, -0.031162041586389334, -0.051524152570083824, -0.046980374612406, -0.04351454956104002, -0.0438277600668964, -0.049433782193250446, -0.03464772535169287, -0.04430568706482795, -0.046071423230435324, -0.03988132315408509, -0.04623507564936448, -0.08547766605563586, -0.05309363971350515, -0.04192209928035381, -0.04463980222604648, -0.0552813044424014, -0.03776247568611359, -0.03754240498796913, -0.05577574543074483, -0.08145805320641461, -0.04896324814412978, -0.041578455746859706, -0.052869846098014324, -0.03912642274245463, -0.08285041627594814, -0.04807262157838178, -0.09734342403393074, -0.029488546052041927, -0.06349340702184977, -0.049345419743202674, -0.050769434908145616, -0.0656130055806388, -0.05525218808472159, -0.04598488355676858, -0.04491665519112035], \"z\": [0.10347708074449051, -0.06261745352566295, -0.051792289954080445, -0.05943079989592218, -0.0804602048198306, -0.040230384651542474, -0.02117840072545816, -0.07094230013421453, -0.048890984418258274, 0.15750654765456085, -0.051157458149482686, -0.08825670795351188, -0.0853909508950523, -0.05062337660227236, -0.044425679488770464, -0.021688648645970626, -0.052488113218929794, -0.05926479391143374, -0.06286711739917737, -0.04605938243033825, -0.0511586040068763, -0.042940209674294245, -0.06344114092729805, -0.08320589449299777, -0.050580552484793706, -0.05289996693918589, -0.04351608556748479, -0.04819607990265212, -0.05003606484232969, -0.04635361413241578, -0.049503023256925814, -0.017340861928411493, -0.04835855206289827, -0.08057764039912912, -0.052946727732030574, -0.05471000460010039, -0.06243143365954424, -0.051702108052366386, -0.05148934919412774, -0.09860675898136799, 0.10007735710421703, -0.05485473963080981, -0.04219847173445784, -0.07506285731229541, -0.04896745206882008, 0.0713337932973858, -0.05408455655100931, 0.11905503961624637, -0.0595054517405777, -0.01892804355231156, -0.06791790729858138, -0.060878316650094355, -0.05039858748117663, -0.05617977314523877, -0.049110198878673635, -0.06658786499195868]}, {\"hoverinfo\": \"text\", \"marker\": {\"color\": \"#364a51\", \"line\": {\"width\": 1}, \"size\": 8}, \"mode\": \"markers\", \"name\": \"Cluster 8\", \"text\": [\"New Zealand wants tourists to promise to behave or else\", \"Our new are taking over our Instagram story CEO of is live on our Instagram story. Click here to watch:\", \"In the latest dialogue, discuss the new social contract in a world where millions have lost their jobs and faith in democracy is under pressure.\", \"Everyday plastics emits low levels of greenhouse gas, according to new research\", \"People think artificial intelligence needs more more regulation, a new survey shows\", \"Meatless Monday is expanding to all public schools in New York City\", \"Rare earths are the new battlefront in the US-China trade war. But what are they?\", \"Take a look inside Nightingale, Londons new coronavirus hospital\", \"New Zealand has passed a ban on foreign homebuyers into law\", \"A new learning programme: How robots are helping in classrooms\", \"Why some US Democrats want a Green New Deal to tackle change\", \"The new of artificial intelligence\", \"This tiny new grain could save the planet\", \"Press 'start' for a new perspective. Read more:\", \") also flagged the new multi-stakeholder effort aimed at supporting efforts to grow, conserve and restore one trillion trees by the end of the decade\", \"follow our new Cybersecurity account\", \"The great sustainable reset: The new world of work after the pandemic\", \"Our new book for February has just been announced: The Education of an Idealist\\\" by . Join our to read and discuss it:\", \"New explores our most creative solutions, featuring\", \"This South Korean city once had the biggest coronavirus outbreak outside of China. Now its reported zero new cases\", \"Live now: Can China inspire a new wave of environmental leadership acrpss the globe?\", \"Ethiopia is mending relations with its neighbours under its new prime minister\", \"New WHO foundation will help broaden the agencys donor base\", \"New neighbours: Could Venus really be home to alien life?\", \"How Japan can lead the world in a new era of stakeholder capitalism\", \"If is going to become the new GDP, we need to get at measuring it\", \"How technology is supporting a wave of new sustainable fisheries\", \". told that recent US trade deals represent a new model for the st century. Find out more:\", \"This new iPhone shortcut can record the police with just a few simple words\", \"Best of Older baby boomers are creating new living arrangements for themselves heres how\", \"Facebook is building new maps to track density across the world\", \"Day of the World Economic Forum's Annual Meeting of the New Champions. Catch up with everything that happened in Tianjin, and follow day here:\", \"The collision of these geographies is creating a new world order\", \"surprising places scientists are searching for new drugs\", \"DNA testing saves lives but also risks costing them. New ethical rules for genomic medicine can fix this\", \"This new metric will tell us if a company is helping progress the SDGs. Read more:\", \"Map of the Day: Emerging Multinationals: and explore developing new talent, new technologies, middle-class advantage and more.\", \"Make way for a new superhero the devoted Japanese father\", \"We must work together to build a new world order. This is how we can do it\", \"These are some initial reactions to the new US-Mexico-Canada deal\", \"Facebook's new app uses AI to fix itself\", \"This map shows how new words spread along routes\", \"This new lets blind people 'see' on a scenic car ride\"], \"type\": \"scatter3d\", \"x\": [0.007273131226281946, -0.006114292695770193, -0.0035398190693292694, -0.00022313287858273734, -0.01914759759915549, -0.0021164202866323025, -0.0029717057679930193, -0.01027138939888613, 0.0025837723333715186, 0.0006509978994673928, -0.0016223068466247146, 0.004224097560713924, 0.018086653542644607, 0.16684911796283672, 0.0018880487099928484, 0.004672972333800294, -0.052035337000075545, 0.12417918982512537, 0.004259677327709234, -0.018887283374362997, -0.0015899415969039315, 0.0015594238015740353, -0.005799908272553133, 0.010379454202053405, -0.015303403981861778, -0.01782927708677689, -0.00506984028685642, -0.0005579605621995984, 0.009772577933020747, -0.006023584783308964, -0.009424814383185244, -0.0007012881986670782, -0.01078110387425593, -0.0017879517461679196, 0.0032283825636929358, 0.12539438294528701, 0.0033626504431796163, -0.010097175095396767, -0.020655828175216377, 0.001204029735436146, -0.0007986317686392694, -0.006638962084213193, 0.004709470676290008], \"y\": [-0.028346322299569873, -0.034321150162510715, -0.047466397965467234, -0.029370842188134308, -0.02321413346207805, -0.03815180295325995, -0.03244801291566872, -0.02642546697838629, -0.026390646367102, -0.0283420365178159, -0.03730232275742719, -0.03285104481534124, -0.028685256610579617, 0.10433883373705351, -0.02651929032722021, -0.033670033247509445, -0.06657541687101597, 0.07298392914139078, -0.02447620339279122, -0.03651420124399725, -0.03597000955553169, -0.026051551559019583, -0.023977168920115106, -0.02493432168885312, -0.07065834880833789, -0.021163552556721907, -0.03758462133345349, -0.026650180653512937, -0.02494690890881792, -0.06096776538121746, -0.0734545846860831, -0.08190559104778622, -0.06934000894787387, -0.030479748484239528, -0.02735704441410441, 0.0796731515004377, -0.04184551227386297, -0.0341166075975643, -0.09449654858505069, -0.024540852358899183, -0.03321940694333256, -0.032254246690700684, -0.025481350303974797], \"z\": [-0.03803128684668605, -0.04366575381001139, 0.07808677571476225, -0.04127939633133336, -0.05171662875970514, -0.017828131544901482, -0.04460140808343517, -0.04342842580632518, -0.038751233044923464, -0.04788704985665097, -0.03405620428971609, -0.055438128326787316, -0.04368977860858765, 0.007395000445815592, -0.04080648715693428, -0.044534245339234176, 0.16339445091110474, -0.0067124895362546825, -0.04293972264024218, -0.01378478986871895, -0.04734720578364626, -0.03953099474848076, -0.04299906870730728, -0.038262976070748016, 0.13683807828061947, -0.06297943697389843, -0.0504457435233115, -0.03746457837931715, -0.04057605674586774, 0.014852301602451282, 0.12956044454588225, 0.13181767863813088, 0.13405374197209674, -0.037137786598158654, -0.03574187639061468, -0.012850766475710065, -0.041433358799801596, -0.04718517584217484, 0.20177661998214932, -0.0413899001643279, -0.045775949136697816, -0.03145503245409495, -0.043546014991492556]}],\n",
       "                        {\"autosize\": true, \"height\": 800, \"showlegend\": true, \"template\": {\"data\": {\"bar\": [{\"error_x\": {\"color\": \"#2a3f5f\"}, \"error_y\": {\"color\": \"#2a3f5f\"}, \"marker\": {\"line\": {\"color\": \"#E5ECF6\", \"width\": 0.5}}, \"type\": \"bar\"}], \"barpolar\": [{\"marker\": {\"line\": {\"color\": \"#E5ECF6\", \"width\": 0.5}}, \"type\": \"barpolar\"}], \"carpet\": [{\"aaxis\": {\"endlinecolor\": \"#2a3f5f\", \"gridcolor\": \"white\", \"linecolor\": \"white\", \"minorgridcolor\": \"white\", \"startlinecolor\": \"#2a3f5f\"}, \"baxis\": {\"endlinecolor\": \"#2a3f5f\", \"gridcolor\": \"white\", \"linecolor\": \"white\", \"minorgridcolor\": \"white\", \"startlinecolor\": \"#2a3f5f\"}, \"type\": \"carpet\"}], \"choropleth\": [{\"colorbar\": {\"outlinewidth\": 0, \"ticks\": \"\"}, \"type\": \"choropleth\"}], \"contour\": [{\"colorbar\": {\"outlinewidth\": 0, \"ticks\": \"\"}, \"colorscale\": [[0.0, \"#0d0887\"], [0.1111111111111111, \"#46039f\"], [0.2222222222222222, \"#7201a8\"], [0.3333333333333333, \"#9c179e\"], [0.4444444444444444, \"#bd3786\"], [0.5555555555555556, \"#d8576b\"], [0.6666666666666666, \"#ed7953\"], [0.7777777777777778, \"#fb9f3a\"], [0.8888888888888888, \"#fdca26\"], [1.0, \"#f0f921\"]], \"type\": \"contour\"}], \"contourcarpet\": [{\"colorbar\": {\"outlinewidth\": 0, \"ticks\": \"\"}, \"type\": \"contourcarpet\"}], \"heatmap\": [{\"colorbar\": {\"outlinewidth\": 0, \"ticks\": \"\"}, \"colorscale\": [[0.0, \"#0d0887\"], [0.1111111111111111, \"#46039f\"], [0.2222222222222222, \"#7201a8\"], [0.3333333333333333, \"#9c179e\"], [0.4444444444444444, \"#bd3786\"], [0.5555555555555556, \"#d8576b\"], [0.6666666666666666, \"#ed7953\"], [0.7777777777777778, \"#fb9f3a\"], [0.8888888888888888, \"#fdca26\"], [1.0, \"#f0f921\"]], \"type\": \"heatmap\"}], \"heatmapgl\": [{\"colorbar\": {\"outlinewidth\": 0, \"ticks\": \"\"}, \"colorscale\": [[0.0, \"#0d0887\"], [0.1111111111111111, \"#46039f\"], [0.2222222222222222, \"#7201a8\"], [0.3333333333333333, \"#9c179e\"], [0.4444444444444444, \"#bd3786\"], [0.5555555555555556, \"#d8576b\"], [0.6666666666666666, \"#ed7953\"], [0.7777777777777778, \"#fb9f3a\"], [0.8888888888888888, \"#fdca26\"], [1.0, \"#f0f921\"]], \"type\": \"heatmapgl\"}], \"histogram\": [{\"marker\": {\"colorbar\": {\"outlinewidth\": 0, \"ticks\": \"\"}}, \"type\": \"histogram\"}], \"histogram2d\": [{\"colorbar\": {\"outlinewidth\": 0, \"ticks\": \"\"}, \"colorscale\": [[0.0, \"#0d0887\"], [0.1111111111111111, \"#46039f\"], [0.2222222222222222, \"#7201a8\"], [0.3333333333333333, \"#9c179e\"], [0.4444444444444444, \"#bd3786\"], [0.5555555555555556, \"#d8576b\"], [0.6666666666666666, \"#ed7953\"], [0.7777777777777778, \"#fb9f3a\"], [0.8888888888888888, \"#fdca26\"], [1.0, \"#f0f921\"]], \"type\": \"histogram2d\"}], \"histogram2dcontour\": [{\"colorbar\": {\"outlinewidth\": 0, \"ticks\": \"\"}, \"colorscale\": [[0.0, \"#0d0887\"], [0.1111111111111111, \"#46039f\"], [0.2222222222222222, \"#7201a8\"], [0.3333333333333333, \"#9c179e\"], [0.4444444444444444, \"#bd3786\"], [0.5555555555555556, \"#d8576b\"], [0.6666666666666666, \"#ed7953\"], [0.7777777777777778, \"#fb9f3a\"], [0.8888888888888888, \"#fdca26\"], [1.0, \"#f0f921\"]], \"type\": \"histogram2dcontour\"}], \"mesh3d\": [{\"colorbar\": {\"outlinewidth\": 0, \"ticks\": \"\"}, \"type\": \"mesh3d\"}], \"parcoords\": [{\"line\": {\"colorbar\": {\"outlinewidth\": 0, \"ticks\": \"\"}}, \"type\": \"parcoords\"}], \"pie\": [{\"automargin\": true, \"type\": \"pie\"}], \"scatter\": [{\"marker\": {\"colorbar\": {\"outlinewidth\": 0, \"ticks\": \"\"}}, \"type\": \"scatter\"}], \"scatter3d\": [{\"line\": {\"colorbar\": {\"outlinewidth\": 0, \"ticks\": \"\"}}, \"marker\": {\"colorbar\": {\"outlinewidth\": 0, \"ticks\": \"\"}}, \"type\": \"scatter3d\"}], \"scattercarpet\": [{\"marker\": {\"colorbar\": {\"outlinewidth\": 0, \"ticks\": \"\"}}, \"type\": \"scattercarpet\"}], \"scattergeo\": [{\"marker\": {\"colorbar\": {\"outlinewidth\": 0, \"ticks\": \"\"}}, \"type\": \"scattergeo\"}], \"scattergl\": [{\"marker\": {\"colorbar\": {\"outlinewidth\": 0, \"ticks\": \"\"}}, \"type\": \"scattergl\"}], \"scattermapbox\": [{\"marker\": {\"colorbar\": {\"outlinewidth\": 0, \"ticks\": \"\"}}, \"type\": \"scattermapbox\"}], \"scatterpolar\": [{\"marker\": {\"colorbar\": {\"outlinewidth\": 0, \"ticks\": \"\"}}, \"type\": \"scatterpolar\"}], \"scatterpolargl\": [{\"marker\": {\"colorbar\": {\"outlinewidth\": 0, \"ticks\": \"\"}}, \"type\": \"scatterpolargl\"}], \"scatterternary\": [{\"marker\": {\"colorbar\": {\"outlinewidth\": 0, \"ticks\": \"\"}}, \"type\": \"scatterternary\"}], \"surface\": [{\"colorbar\": {\"outlinewidth\": 0, \"ticks\": \"\"}, \"colorscale\": [[0.0, \"#0d0887\"], [0.1111111111111111, \"#46039f\"], [0.2222222222222222, \"#7201a8\"], [0.3333333333333333, \"#9c179e\"], [0.4444444444444444, \"#bd3786\"], [0.5555555555555556, \"#d8576b\"], [0.6666666666666666, \"#ed7953\"], [0.7777777777777778, \"#fb9f3a\"], [0.8888888888888888, \"#fdca26\"], [1.0, \"#f0f921\"]], \"type\": \"surface\"}], \"table\": [{\"cells\": {\"fill\": {\"color\": \"#EBF0F8\"}, \"line\": {\"color\": \"white\"}}, \"header\": {\"fill\": {\"color\": \"#C8D4E3\"}, \"line\": {\"color\": \"white\"}}, \"type\": \"table\"}]}, \"layout\": {\"annotationdefaults\": {\"arrowcolor\": \"#2a3f5f\", \"arrowhead\": 0, \"arrowwidth\": 1}, \"coloraxis\": {\"colorbar\": {\"outlinewidth\": 0, \"ticks\": \"\"}}, \"colorscale\": {\"diverging\": [[0, \"#8e0152\"], [0.1, \"#c51b7d\"], [0.2, \"#de77ae\"], [0.3, \"#f1b6da\"], [0.4, \"#fde0ef\"], [0.5, \"#f7f7f7\"], [0.6, \"#e6f5d0\"], [0.7, \"#b8e186\"], [0.8, \"#7fbc41\"], [0.9, \"#4d9221\"], [1, \"#276419\"]], \"sequential\": [[0.0, \"#0d0887\"], [0.1111111111111111, \"#46039f\"], [0.2222222222222222, \"#7201a8\"], [0.3333333333333333, \"#9c179e\"], [0.4444444444444444, \"#bd3786\"], [0.5555555555555556, \"#d8576b\"], [0.6666666666666666, \"#ed7953\"], [0.7777777777777778, \"#fb9f3a\"], [0.8888888888888888, \"#fdca26\"], [1.0, \"#f0f921\"]], \"sequentialminus\": [[0.0, \"#0d0887\"], [0.1111111111111111, \"#46039f\"], [0.2222222222222222, \"#7201a8\"], [0.3333333333333333, \"#9c179e\"], [0.4444444444444444, \"#bd3786\"], [0.5555555555555556, \"#d8576b\"], [0.6666666666666666, \"#ed7953\"], [0.7777777777777778, \"#fb9f3a\"], [0.8888888888888888, \"#fdca26\"], [1.0, \"#f0f921\"]]}, \"colorway\": [\"#636efa\", \"#EF553B\", \"#00cc96\", \"#ab63fa\", \"#FFA15A\", \"#19d3f3\", \"#FF6692\", \"#B6E880\", \"#FF97FF\", \"#FECB52\"], \"font\": {\"color\": \"#2a3f5f\"}, \"geo\": {\"bgcolor\": \"white\", \"lakecolor\": \"white\", \"landcolor\": \"#E5ECF6\", \"showlakes\": true, \"showland\": true, \"subunitcolor\": \"white\"}, \"hoverlabel\": {\"align\": \"left\"}, \"hovermode\": \"closest\", \"mapbox\": {\"style\": \"light\"}, \"paper_bgcolor\": \"white\", \"plot_bgcolor\": \"#E5ECF6\", \"polar\": {\"angularaxis\": {\"gridcolor\": \"white\", \"linecolor\": \"white\", \"ticks\": \"\"}, \"bgcolor\": \"#E5ECF6\", \"radialaxis\": {\"gridcolor\": \"white\", \"linecolor\": \"white\", \"ticks\": \"\"}}, \"scene\": {\"xaxis\": {\"backgroundcolor\": \"#E5ECF6\", \"gridcolor\": \"white\", \"gridwidth\": 2, \"linecolor\": \"white\", \"showbackground\": true, \"ticks\": \"\", \"zerolinecolor\": \"white\"}, \"yaxis\": {\"backgroundcolor\": \"#E5ECF6\", \"gridcolor\": \"white\", \"gridwidth\": 2, \"linecolor\": \"white\", \"showbackground\": true, \"ticks\": \"\", \"zerolinecolor\": \"white\"}, \"zaxis\": {\"backgroundcolor\": \"#E5ECF6\", \"gridcolor\": \"white\", \"gridwidth\": 2, \"linecolor\": \"white\", \"showbackground\": true, \"ticks\": \"\", \"zerolinecolor\": \"white\"}}, \"shapedefaults\": {\"line\": {\"color\": \"#2a3f5f\"}}, \"ternary\": {\"aaxis\": {\"gridcolor\": \"white\", \"linecolor\": \"white\", \"ticks\": \"\"}, \"baxis\": {\"gridcolor\": \"white\", \"linecolor\": \"white\", \"ticks\": \"\"}, \"bgcolor\": \"#E5ECF6\", \"caxis\": {\"gridcolor\": \"white\", \"linecolor\": \"white\", \"ticks\": \"\"}}, \"title\": {\"x\": 0.05}, \"xaxis\": {\"automargin\": true, \"gridcolor\": \"white\", \"linecolor\": \"white\", \"ticks\": \"\", \"title\": {\"standoff\": 15}, \"zerolinecolor\": \"white\", \"zerolinewidth\": 2}, \"yaxis\": {\"automargin\": true, \"gridcolor\": \"white\", \"linecolor\": \"white\", \"ticks\": \"\", \"title\": {\"standoff\": 15}, \"zerolinecolor\": \"white\", \"zerolinewidth\": 2}}}, \"width\": 800},\n",
       "                        {\"responsive\": true}\n",
       "                    ).then(function(){\n",
       "                            \n",
       "var gd = document.getElementById('d7bf2ee9-615e-4679-b023-09b7849824ce');\n",
       "var x = new MutationObserver(function (mutations, observer) {{\n",
       "        var display = window.getComputedStyle(gd).display;\n",
       "        if (!display || display === 'none') {{\n",
       "            console.log([gd, 'removed!']);\n",
       "            Plotly.purge(gd);\n",
       "            observer.disconnect();\n",
       "        }}\n",
       "}});\n",
       "\n",
       "// Listen for the removal of the full notebook cells\n",
       "var notebookContainer = gd.closest('#notebook-container');\n",
       "if (notebookContainer) {{\n",
       "    x.observe(notebookContainer, {childList: true});\n",
       "}}\n",
       "\n",
       "// Listen for the clearing of the current output cell\n",
       "var outputEl = gd.closest('.output');\n",
       "if (outputEl) {{\n",
       "    x.observe(outputEl, {childList: true});\n",
       "}}\n",
       "\n",
       "                        })\n",
       "                };\n",
       "                \n",
       "            </script>\n",
       "        </div>\n",
       "</body>\n",
       "</html>"
      ]
     },
     "metadata": {
      "tags": []
     },
     "output_type": "display_data"
    }
   ],
   "source": [
    "import plotly.graph_objects as go\n",
    "\n",
    "fig = go.Figure()\n",
    "\n",
    "for c in range(n_clusters):\n",
    "  fig.add_trace(go.Scatter3d( x = coords[coords.cluster == c]['x'],\n",
    "                                y = coords[coords.cluster == c]['y'],\n",
    "                                z = coords[coords.cluster == c]['z'],\n",
    "                                mode = 'markers', marker_size = 8, marker_line_width = 1,\n",
    "                                name = 'Cluster ' + str(c), marker_color=palette[c], \n",
    "                                text=coords[coords.cluster == c]['text'], hoverinfo='text'))\n",
    "\n",
    "fig.update_layout(width = 800, height = 800, autosize = True, showlegend = True)"
   ]
  },
  {
   "cell_type": "markdown",
   "metadata": {},
   "source": [
    "# Herramienta interactiva"
   ]
  },
  {
   "cell_type": "markdown",
   "metadata": {
    "id": "LrvyISPBRVpI"
   },
   "source": [
    "Con esta herramienta podemos buscar los últimos N tweets de un usuario O de un hashtag, ver en qué temas se agrupan.\n",
    "\n",
    "Instrucciones:\n",
    "\n",
    "- Darle play a la primera celda\n",
    "- Resetear: en el menu, elegir Runtime -> Restart runtime\n",
    "- Poner los parámetros que se quieran (usuario y cantidad de tweets) y ejecutar!\n",
    "\n",
    "Aclaración: puede tardar unos ~2-5 minutos, en especial la primera vez que se ejecuta.)"
   ]
  },
  {
   "cell_type": "code",
   "execution_count": null,
   "metadata": {
    "cellView": "form",
    "id": "tNxJ3jS4QKv3"
   },
   "outputs": [],
   "source": [
    "#@title Darle play a esta celda y cuando termina, clickear en el menú \"Runtime\" o \"Entorno de Ejecución\" y \"Restart Runtime\" o \"Reiniciar entorno de ejecución\"  \n",
    "%%capture\n",
    "# Instalamos twint para bajar tweets\n",
    "!pip3 install --upgrade -e git+https://github.com/twintproject/twint.git@origin/master#egg=twint\n",
    "!pip3 install --upgrade aiohttp_socks\n",
    "!pip install tweet-preprocessor\n",
    "!pip install umap-learn\n",
    "!pip install sentence_transformers\n",
    "!pip install hdbscan\n",
    "!pip install transformers"
   ]
  },
  {
   "cell_type": "code",
   "execution_count": null,
   "metadata": {
    "cellView": "form",
    "colab": {
     "base_uri": "https://localhost:8080/",
     "height": 917
    },
    "id": "eoRqF7mNQOMy",
    "outputId": "ff79491e-972c-407e-ef13-865931c09ec5"
   },
   "outputs": [
    {
     "name": "stdout",
     "output_type": "stream",
     "text": [
      "Descargando Tweets...\n",
      "[!] No more data! Scraping will stop now.\n",
      "found 0 deleted tweets in this search.\n",
      "Got 243 tweets\n",
      "Despertando IAs...\n",
      "Procesando...\n"
     ]
    },
    {
     "data": {
      "text/html": [
       "<html>\n",
       "<head><meta charset=\"utf-8\" /></head>\n",
       "<body>\n",
       "    <div>\n",
       "            <script src=\"https://cdnjs.cloudflare.com/ajax/libs/mathjax/2.7.5/MathJax.js?config=TeX-AMS-MML_SVG\"></script><script type=\"text/javascript\">if (window.MathJax) {MathJax.Hub.Config({SVG: {font: \"STIX-Web\"}});}</script>\n",
       "                <script type=\"text/javascript\">window.PlotlyConfig = {MathJaxConfig: 'local'};</script>\n",
       "        <script src=\"https://cdn.plot.ly/plotly-latest.min.js\"></script>    \n",
       "            <div id=\"1076f676-6d8a-4569-a8af-70f235ec5754\" class=\"plotly-graph-div\" style=\"height:800px; width:1000px;\"></div>\n",
       "            <script type=\"text/javascript\">\n",
       "                \n",
       "                    window.PLOTLYENV=window.PLOTLYENV || {};\n",
       "                    \n",
       "                if (document.getElementById(\"1076f676-6d8a-4569-a8af-70f235ec5754\")) {\n",
       "                    Plotly.newPlot(\n",
       "                        '1076f676-6d8a-4569-a8af-70f235ec5754',\n",
       "                        [{\"hoverinfo\": \"text\", \"marker\": {\"color\": [\"#482475\", \"#482475\", \"#482475\", \"#482475\", \"#482475\", \"#482475\", \"#482475\", \"#482475\", \"#482475\", \"#482475\", \"#482475\", \"#482475\", \"#482475\", \"#482475\", \"#482475\", \"#482475\", \"#482475\", \"#482475\", \"#482475\", \"#482475\", \"#482475\", \"#482475\", \"#482475\", \"#482475\", \"#482475\", \"#482475\", \"#482475\", \"#482475\", \"#482475\", \"#482475\", \"#482475\", \"#482475\", \"#482475\", \"#482475\", \"#482475\", \"#482475\", \"#482475\", \"#482475\", \"#482475\", \"#482475\", \"#482475\", \"#482475\", \"#482475\", \"#482475\", \"#482475\", \"#482475\", \"#482475\", \"#482475\", \"#482475\", \"#482475\", \"#482475\", \"#482475\", \"#482475\", \"#482475\", \"#482475\", \"#482475\", \"#482475\", \"#482475\", \"#482475\", \"#482475\", \"#482475\", \"#482475\", \"#482475\", \"#482475\", \"#482475\", \"#482475\", \"#482475\", \"#482475\", \"#482475\", \"#482475\", \"#482475\", \"#482475\", \"#482475\", \"#482475\", \"#482475\", \"#482475\", \"#482475\", \"#482475\"], \"line\": {\"width\": 1}, \"size\": 8}, \"mode\": \"markers\", \"name\": \"C\\u00ba-1: para el con\", \"text\": [\"Viva la Patria!\", \"Hoy Coro Universitario UCCuyo Te esperamos!\", \"Feliz da a todos los profesionales que con tan<br>noble tarea cuidan y sostienen la salud de la<br>comunidad sanjuanina. Saludamos especialmente a<br>quienes integran la Facultad de Ciencia Mdicas.\", \"Desde la Facultad de Ciencias Medicas-UCCuyo<br>invitan a participar: Conversatorio sobre<br>experiencias en Enfermeria en pandemia COVID. de<br>Mayo. va Zoom:\", \"Conoc el Plan Estratgico Emprendedor: Desde la<br>Secretara de Extensin y Relaciones Institucionales<br>se llevan a cabo una serie de actividades para<br>apoyar la actividad emprendedora. Inscripciones:\", \"Saludamos en su Aniversarios a nuestra querida<br>Facultad Don Bosco de Enologa y Ciencias de la<br>Alimentacin- Rodeo del Medio, Mendoza!\", \"Firma de convenios con la Secretara de Deportes de<br>la provincia se San Juan juntos a la Facultad De<br>Educacin para la realizacin de licenciaturas,<br>tecnicaturas y diplomaturas deportivas Ms info:\", \"Celebramos a los Investigadores Cientficos en la<br>Argentina y especialmente a los equipos de nuestra<br>Universidad que contribuyen al desarrollo de las<br>ciencias.\", \"Honor y Reconocimiento a los hombres que forjaron<br>nuestra Patria!\", \"Memoria del pasado para mejorar el presente y<br>construir un futuro mejor.\", \"Gran clase de Magistral sobre Legitimidad y<br>Credibilidad de Poder Judicial\", \"Convocatoria Beca de Estudio Santander Fecha lmite<br>de postulacin: de mayo de Conoc los requisitos:<br>Informes: internacional.edu.ar\", \"Propuestas Desde la Facultad de Derecho y Ciencias<br>Sociales\", \"de marzo Da Internacional de la Mujer Saludamos a<br>todas las mujeres de nuestra provincia y<br>especialmente a quienes participan de nuestra<br>comunidad educativa.\", \"Maestra en Administracin Estratgica de Negocios<br>Webinar Informativo /02 - hs Por Google meet<br>Inscripcin .\", \"Las prcticas de compromiso social, como<br>actividades solidarias de base comunitaria,<br>atienden el bien comn de toda sociedad.\", \"Acto de reconocimiento de la Cmara Olivcola de San<br>Juan al Panel de Anlisis Sensorial de Aceite de<br>Oliva Virgen, dependiente del Centro Regional de<br>Anlisis Sensorial de Aceite de Oliva y Alimentos<br>(CRESA) en su Aniversario.\", \"Homenaje a los hombres que la forjaron nuestra<br>Patria!\", \"Celebramos juntos todo aquello que nos identifica<br>y une como Nacin.\", \"En su Aniversario hacemos llegar nuestro saludo a<br>la comunidad educativa de la Facultad Don Bosco de<br>la UCCUyo con sede en Mendoza.\", \"Escuela de Cultura Religiosa y Pastoral<br>dependiente del Vicerrectorado de Formacin Invitan<br>a Webinar Carlo Acutis. El ciber apstol de la fe y<br>su mirada sobre el mundo digital. Informes:<br>cultura.edu.ar\", \"Feliz da a todas las mams y particularmente a<br>quienes son parte de nuestra comunidad educativa.\", \"Con la Secretara de Deportes de la provincia de<br>San Juan, la Facultad de Educacin y la Facultad<br>Filosofa y Humanidades de la UCCuyo los invitamos<br>a participar del Foro Virtual. El rol de la mujer<br>en la Educacin Fsica\", \"Trabajamos en acciones conjuntas para asegurar el<br>acceso a la educacin superior universitaria a<br>todos los jvenes del ltimo ao del nivel<br>secundario.\", \"El Panel de Cata de Aceite de Oliva del Centro<br>Regional de Anlisis Sensorial de Alimentos CRESA<br>de la UCCuyo cumple aos.\", \"Expo Vocacional-Futuro -2021 Seguimos con todo en<br>la Oferta Educativa Provincial:\", \"Trabajamos para el futuro Movimiento B en la en la<br>enseanza universitaria-formas de organizacin<br>econmicas para el bienestar de las personas, la<br>sociedad y la Tierra. Inscripciones: nite:\", \"Con la llegada de la primavera saludamos a<br>nuestros Estudiantes quienes tambin se tuvieron<br>que acomodar a esta nueva realidad A seguir este<br>camino con mucha pasin y voluntad!\", \"Educacin, compromiso, desarrollo y trabajo: con y<br>para la comunidad de todo Cuyo. Saludamos a<br>nuestra comunidad educativa y compartimos un ao ms<br>de vida.\", \"Centro Tecnolgico en Robtica y Educacin invita al<br>: aos de Tecnologa Educativa robotica.edu.ar\", \"Ya estamos en Accin: Expo Vocacional-Futuro -2021\", \"Ya arranc! Expo Vocacional-Futuro -2021\", \"Importante trabajo en colaboracin en el rea de<br>Investigacin:\", \"A participar! Seguimos apostando al dilogo y<br>trabajo conjunto para el desarrollo econmico y<br>comunitario.\", \"Seguimos sumando entre todos!\", \"El trabajo en conjunto con otras organizaciones<br>para sumar al crecimiento de Comunidades en San<br>Juan\", \"Confluencia de miradas sobre agricultura y<br>territorio. Debatir y proponer estrategias de<br>promocin social innovadoras, amigables con el<br>medioambiente y econmicamente sostenibles en el<br>tiempo.\", \"Centro de Tecnolgico de Robtica y Educacin UCCuyo\", \"Te esperamos! Ciclo de Conferencias de la Facultad<br>de Derecho UCCuyo Inscripciones:\", \"Recordar que los amigos estn siempre donde los<br>elegimos\", \"Homenaje a los hombres que forjaron nuestra<br>Patria!\", \"Aportando al desarrollo de la provincia nos<br>sumamos a la invitacin para trabajar en forma<br>cooperativa.\", \"Un buen libro no es aquel que piensa por ti, sino<br>aquel que te hace pensar. James McCosh El da del<br>libro es un motivo para promocionar la lectura y<br>valorar ese objeto maravilloso que desborda<br>cultura. Editorial Universitaria UCCuyo\", \"Celebracin de Corpus Christi\", \"Bienvenidos ingresantes a la UCCuyo! Descubr en un<br>click todo lo que tenemos para vos\", \"Martn Rinaldi Tosi es profesor de Fisiologa y<br>Biofsica de la Facultad de Ciencias Mdicas UCCuyo<br>Sede San Luis y su proyecto para estudiar el<br>Covid-19 fue seleccionadoen el puesto entre ms de<br>proyectos:\", \"Continuamos con la labor de formar a los agentes<br>de seguridad de nuestra provincia a travs de<br>nuestra Escuela de Seguridad. Ms informacin:\", \"Aprueban frmaco para el COVID19 estudiado desde la<br>Universidad Catlica de Cuyo.\", \"Aportes desde la Investigacin universitaria en<br>tiempos de pandemia. Conoce ms:\", \"Acompaamos a la comunidad.\", \"Honor y Reconocimiento!\", \"La Editorial Universitaria UCCuyo te invita en<br>este tiempo de resguardo por la preservacin de la<br>salud y la vida de todos (COVID.19), a recorrer su<br>pgina: .\", \"Recordar el pasado y pensar en mejorar el presente<br>para construir un futuro mejor.\", \"Quedate en casa!\", \"Atencin\", \"Quedate en tu casa!\", \"Atencin a la comunidad educativa\", \"Trabajo equipo para seguir aportando al desarrollo<br>de laProvincia de San Juan.\", \"Cooperacin Internacional La Secretaria de Extensin<br>y Relaciones Institucionales recibi desde la<br>Repblica Democrtica del Congo para un study-work a<br>Belange Muganza junto a Chancelle Tumba y para<br>cumplir con tareas de investigacin Maylin Martnez<br>de Cuba.\", \"Celebramos y alentamos a quienes con sus<br>actividades solidarias atienden el bien comn de<br>toda la sociedad.\", \"Novedades en Investigacin Aprobaron proyectos<br>enmarcados en el PICTO Trabajo conjunto entre el<br>Consejo de Investigacin de la UCCuyo e integrantes<br>de la Secretara de Estado de Ciencia, Tecnologa e<br>Innovacin.\", \"En el marco del FESTECA se realizaron las Jornadas<br>Entornos Educativos Saludables en la UCCuyo con la<br>exposicin del proyecto Universidad libre de<br>tabaco.\", \"Saludamos, festejamos y seguimos motivando a<br>nuestros alumnos en el camino de los valores y la<br>perseverancia para lograr sus objetivos con<br>alegria.\", \"Desde compromiso y trabajo con y para la comunidad<br>de todo Cuyo. Saludamos a la comunidad educativa<br>de nuestra institucin y compartimos un ao ms de<br>vida.\", \"Concurso Felicitaciones a Amparo Gonzalez de la<br>Tec. Univ. en Gestin Gastronmica -Facultad de Cs.<br>Qumicas y Tecnolgicas- ganadora con su trucha<br>marinada en aceite de oliva con pastas al pesto,<br>corazones de alcauciles y cabezas de esprragos.\", \"El Instituto Superior de Formacin Docente Santa<br>Mara cumpli sus bodas de Plata y lo celebr con su<br>Acto de Colacin de egresados -2019.\", \"Felicidades a todos los Abogados en su Da\", \"Novedades en Investigacin Investigador de la<br>UCCuyo trabajar en Espaa clulas tumorales de<br>Leucemia Facultad de Ciencias Qumicas y<br>Tecnolgicas - UCCuyo. Becas Iberoamerica.<br>Santander-UCCuyo Investigacin. Ms Informacin:\", \"Proyeccin al medio del Coro de la UCCuyo. Conoc:\", \"En todos los lugares encontramos grandes amigos!<br>Feliz Da del Amigo\", \"Presentacin de los trabajos de investigacin en<br>Nanotecnologa de la Facultad de Ciencias Qumicas y<br>Tecnolgicas de la UCCuyo en la era Edicin de la<br>Gua Quin es Quin en Nanotecnologa en Argentina.\", \"La saluda al Instituto Superior de Formacin<br>Docente Santa Mara en su Aniversario de creacin.\", \"Invitamos a participar de la Presentacin del<br>libro: \\\"Enseanza Bimodal e Investigacin en Ingls<br>Jurdico\\\" Jueves de Marzo. Se entregarn<br>certificaciones. Ms informacin en:<br>sec.extension.edu.ar -999-7207\", \"Conferencia de Prensa / Nuevas Carreras en A cargo<br>de las autoridades de la , se presentaron en<br>sociedad y a la prensa local, las nuevas de a<br>realizarse en el departamento. Le la nota completa<br>aqu &gt;\", \"Cientficos sanjuaninos investigan para detectar y<br>combatir el . La investigacin se desarrolla en el<br>Instituto de Ciencias Biomdicas de la . Le la nota<br>aqu &gt;\", \"Nueva propuesta en posgrado Maestra en Gestin de<br>Nuevas Tecnologas en Comunicacin Comienza en<br>Abril. Duracin: aos. Ms informacin: -5047879 o<br>posgradofilosofia.edu.ar\", \"Curso de Seguridad y Salud Ocupacional - Modalidad<br>Presencial y Virtual - Inscripciones: calle<br>Caseros Sur, Capital. Consultar Arancel a: ASIMRA<br>San Juan (0264) -1452 // UCCuyo San Juan -4711334\", \"La fue anfitriona, el pasado de febrero, del<br>encuentro con el presidente del Consejo Mundial<br>para la Tolerancia y la , Ahmed bin Mohammed Al-<br>Jarwan con quien fue suscripto un Memorndum de<br>Entendimiento. Ver nota &gt;&gt;&gt;\"], \"type\": \"scatter3d\", \"x\": [10.185511589050293, 10.744669914245605, 11.60100269317627, 10.116936683654785, 9.453693389892578, 10.621214866638184, 11.724206924438477, 10.802873611450195, 9.746756553649902, 8.683951377868652, 11.168286323547363, 11.014524459838867, 11.803194999694824, 10.239822387695312, 9.301728248596191, 10.345603942871094, 10.515512466430664, 9.497743606567383, 9.348410606384277, 10.816851615905762, 10.557621002197266, 10.910791397094727, 11.581387519836426, 11.186595916748047, 10.54800796508789, 9.484312057495117, 10.991262435913086, 11.053464889526367, 10.819503784179688, 10.282660484313965, 9.457422256469727, 9.500306129455566, 9.458974838256836, 10.038104057312012, 9.502533912658691, 11.928913116455078, 9.960722923278809, 10.428953170776367, 10.971899032592773, 9.651474952697754, 9.454570770263672, 10.224583625793457, 10.945571899414062, 10.703174591064453, 10.730653762817383, 10.073923110961914, 11.955591201782227, 10.10342788696289, 9.390315055847168, 9.85775089263916, 10.282532691955566, 10.611078262329102, 8.706125259399414, 8.842558860778809, 10.31112289428711, 8.940034866333008, 11.286577224731445, 11.881051063537598, 10.364641189575195, 10.315055847167969, 9.554369926452637, 10.206192970275879, 11.092940330505371, 10.952627182006836, 10.481375694274902, 10.251860618591309, 10.465886116027832, 10.085748672485352, 10.686677932739258, 10.052742004394531, 9.906421661376953, 10.386822700500488, 11.081408500671387, 10.013431549072266, 9.999377250671387, 9.35791301727295, 11.494217872619629, 10.050101280212402], \"y\": [1.459228754043579, 1.2327282428741455, 2.2110695838928223, 0.6571188569068909, 1.1114323139190674, 0.7894032001495361, 1.2640541791915894, 0.8291838765144348, 2.712653875350952, 1.5807241201400757, 0.49623608589172363, 0.03864293545484543, 1.4247163534164429, 1.9280166625976562, 1.053995132446289, 2.3403100967407227, -0.035209767520427704, 2.6262216567993164, 1.3614190816879272, 0.8806537389755249, 1.2776893377304077, 2.6964423656463623, 1.3909286260604858, 2.2750465869903564, -0.04893374443054199, 2.0313303470611572, 2.3093795776367188, 2.6115541458129883, 2.22240948677063, 1.3376667499542236, 2.0379159450531006, 1.984706997871399, 0.4760144352912903, 1.4936991930007935, 2.3793556690216064, 0.8397896885871887, 1.5366291999816895, 1.4051777124404907, 1.361586332321167, 2.570340633392334, 2.5052132606506348, 1.335490107536316, 0.9471504092216492, 1.153304934501648, 1.535786747932434, 0.16943223774433136, 2.578808546066284, 0.5122624039649963, 0.6915595531463623, 2.5936837196350098, 2.919872283935547, 1.0169161558151245, 1.5925166606903076, 2.3145999908447266, 0.0801284909248352, 2.210869312286377, 2.366955518722534, 0.8055821657180786, 0.5071285963058472, 2.677428960800171, 0.4891253411769867, 1.3599053621292114, 2.7648367881774902, 2.1774308681488037, -0.04536481201648712, 0.9109910130500793, 3.033159017562866, -0.05829929560422897, 1.138339638710022, 2.7948973178863525, 0.1885751634836197, 1.0828708410263062, 0.7711697816848755, 1.6360129117965698, -0.0029106317088007927, 1.017012119293213, 0.11521440744400024, 1.2192466259002686], \"z\": [6.949587345123291, 8.37135124206543, 6.297879695892334, 9.095858573913574, 8.259757041931152, 7.090575695037842, 8.474992752075195, 7.190240383148193, 6.4375, 7.768463134765625, 8.216567993164062, 9.33867359161377, 9.246777534484863, 7.390702724456787, 9.48027229309082, 7.312170505523682, 8.23515510559082, 6.573781967163086, 7.602049350738525, 7.156434535980225, 10.08266830444336, 7.109911918640137, 8.642253875732422, 9.437139511108398, 8.423101425170898, 8.85170841217041, 8.955743789672852, 8.232197761535645, 7.392467498779297, 9.717493057250977, 8.817630767822266, 8.800044059753418, 8.363354682922363, 7.84492301940918, 7.466760635375977, 7.817481517791748, 7.904834747314453, 9.793327331542969, 8.939316749572754, 6.974077224731445, 6.6757659912109375, 7.927701473236084, 9.754847526550293, 8.094528198242188, 8.870338439941406, 8.92931079864502, 7.08253812789917, 9.001739501953125, 8.754515647888184, 7.132981300354004, 6.328046798706055, 9.171910285949707, 7.704668998718262, 7.963152885437012, 8.151195526123047, 7.84026575088501, 9.336359024047852, 7.837184906005859, 9.216205596923828, 6.875264644622803, 8.494860649108887, 9.215396881103516, 7.89509391784668, 7.379749298095703, 8.524415969848633, 7.322667121887207, 6.426327228546143, 8.884577751159668, 8.329427719116211, 6.812924385070801, 8.594605445861816, 7.152316093444824, 9.98669719696045, 8.572471618652344, 8.746850967407227, 9.555109024047852, 8.580470085144043, 8.622303009033203]}, {\"hoverinfo\": \"text\", \"marker\": {\"color\": [\"#bddf26\", \"#bddf26\", \"#bddf26\", \"#bddf26\", \"#bddf26\", \"#bddf26\", \"#bddf26\"], \"line\": {\"width\": 1}, \"size\": 8}, \"mode\": \"markers\", \"name\": \"C\\u00ba0: salud mdicas profesionales\", \"text\": [\"Hoy saludamos a quienes incansablemente estn<br>cuidando de nuestra salud. Feliz Da! Especialmente<br>a los profesionales de nuestra Facultad de<br>Ciencias Mdicas.\", \"Saludamos a los profesionales de la salud en su da<br>y particularmente a los formadores y egresados de<br>nuestra Facultad de Ciencias Mdicas.\", \"Saludamos a todos los profesionales que a diario<br>brindan su atencin y servicio en mbitos de la<br>salud en especial a quienes son parte de la<br>Facultad de Ciencias Qumicas y Tecnolgicas.\", \"Saludamos en su da a todos los profesionales<br>nutricionistas. Y destcamos la labor de todos<br>ellos en la Facultad de Ciencias Mdicas.\", \"Hoy saludamos a todos los profesionales de la<br>salud dedicadas y dedicados a la enfermera<br>especialmente a quienes pertenecen a Facultad<br>Ciencias Mdicas\", \"Saludamos a los profesionales de la salud de toda<br>la provincia y especialmente a quienes forman<br>parte de nuestra Facultad Ciencias Mdicas.\", \"Finaliz Programa Equipos de Alto Desempeo para<br>empleados de salud.\"], \"type\": \"scatter3d\", \"x\": [11.839510917663574, 11.95923137664795, 11.899736404418945, 11.884663581848145, 11.90800666809082, 11.873353958129883, 12.028363227844238], \"y\": [2.907071352005005, 3.0957608222961426, 2.920111656188965, 2.8125100135803223, 3.089855194091797, 3.183753490447998, 2.7041354179382324], \"z\": [6.048590660095215, 5.8285675048828125, 6.086874961853027, 6.098114967346191, 5.83138370513916, 5.741787910461426, 6.079620361328125]}, {\"hoverinfo\": \"text\", \"marker\": {\"color\": [\"#7ad151\", \"#7ad151\", \"#7ad151\", \"#7ad151\", \"#7ad151\", \"#7ad151\", \"#7ad151\", \"#7ad151\", \"#7ad151\", \"#7ad151\", \"#7ad151\", \"#7ad151\", \"#7ad151\", \"#7ad151\", \"#7ad151\", \"#7ad151\", \"#7ad151\", \"#7ad151\", \"#7ad151\", \"#7ad151\", \"#7ad151\", \"#7ad151\", \"#7ad151\", \"#7ad151\", \"#7ad151\", \"#7ad151\"], \"line\": {\"width\": 1}, \"size\": 8}, \"mode\": \"markers\", \"name\": \"C\\u00ba1: todos saludamos los\", \"text\": [\"Hoy saludamos a todos los profesionales que<br>fortalecen el crecimiento y desarrollo de las<br>personas que ms lo necesitan, especialmente a<br>quienes forman parte de la Facultad de Filosofa y<br>Humanidades.\", \"Saludamos a todos los profesionales que hacen<br>posible la seguridad en los mbitos de trabajo y<br>especialmente a quienes se desempean en nuestra<br>Facultad de Ciencias Qumicas y Tecnolgicas.\", \"Saludamos en su da a todos aquellos que integran y<br>ensean en la Escuela de Seguridad.\", \"Saludamos en su da a los profesionales de nuestra<br>provincia y especialmente a quienes integran la<br>Facultad de Cienciad Econmicas y Empresariales.\", \"Felicitaciones a los equipos de investigacin de<br>las Facultad de Ciencias Mdicas y Filosofa y<br>Humanidades.\", \"En su da felicitamos a todos los profesionales<br>Psiclogos y especialmente a quienes pertenecen a<br>nuestra Facultad de Filosofia y Humanidades.\", \"Hacemos llegar nuestro saludo a todos los<br>profesionales de la provincia y particularmente a<br>los que pertenecen a la Facultad de Derecho y<br>Ciencias Sociales.\", \"Egresados En un ao muy especial saludamos y<br>felicitamos a todos los nuevos profesionales de<br>cada una de nuestras unidades acadmicas.\", \"Saludamos en su da a quienes eligieron tan noble<br>profesin y con gran afecto a todos los profesores<br>de nuestra Universidad\", \"Saludamos y agradecemos a nuestros colaboradores y<br>a todos los de la provincia en su da.\", \"Saludamos a todos los profesionales y<br>especialmente a quienes forman parte de la<br>Facultad de Ciencias Qumicasy Tecnolgicas.\", \"Queremos saludar a quienes se desempean brindando<br>un soporte esencial para el correcto<br>funcionamiento de las diferentes instituciones y<br>en especial a quienes forman parte de nuestra<br>comunidad educativa. Feliz Da!\", \"Saludamos en su Da a todos los Abogados y<br>especialmente a quienes conforman la Facultad\", \"Saludamos y Agradecemos el servicio a la comunidad<br>de los Agentes de Polica de nuestra provincia.\", \"Afectuoso Saludo para todos los Padres en su Da!\", \"Saludamos a todos los profesionales de la<br>provincia y en especial a quienes se desempean en<br>la Facultad de Ciencias Qumicas y Tecnolgicas.\", \"Feliz Da en especial a los egresados y formadores<br>de nuestra Facultad de Filosofa y Humanidades!\", \"Saludamos a todos los Egresados de la provincia y<br>especialmente a los profesionales de nuestra<br>Facultad de Ciencias Econmicas y Empresariales.\", \"Saludamos en su da a todos los que hacen posible<br>la seguridad en los mbitos de trabajo y<br>especialmente a los profesionales de nuestra<br>Facultad de Ciencias Qumicas y Tecnolgicas\", \"Feliz Da a todos aquellos que integran y ensean en<br>la Escuela de Seguridad.\", \"Saludamos a todos los profesores y en especial a<br>quienes desarrollan sus tareas en nuestra casa<br>acadmica.\", \"Saludamos a todos los profesionales de la Enologa<br>de la provincia.\", \"Saludamos a todas y cada una de las personas que<br>hacen posible el trabajo de los diferentes equipos<br>con responsabilidad y compromiso.\", \"Saludamos y Felicitamos a los autores y tutores de<br>los trabajos premiados de la UCCuyo.\", \"Saludos en su Da a quienes con su servicio ayudan<br>en la labor de la evangelizacin de nios, jvenes y<br>adultos.\", \"[10 de Abril] Da del Investigador Cientfico.<br>Saludamos a todos los profesionales que da a da<br>demuestran su esfuerzo y dedicacin, buscando el<br>crecimiento y avance en nuestra sociedad.\"], \"type\": \"scatter3d\", \"x\": [11.357383728027344, 11.877922058105469, 11.90969467163086, 11.347673416137695, 11.210424423217773, 11.34421157836914, 11.270770072937012, 11.112761497497559, 11.033529281616211, 11.181593894958496, 11.379469871520996, 11.031012535095215, 10.929861068725586, 11.20142936706543, 10.6692533493042, 11.432023048400879, 11.141257286071777, 11.36426830291748, 11.820799827575684, 11.908729553222656, 11.11751937866211, 11.43163013458252, 10.94981861114502, 11.106452941894531, 11.045010566711426, 11.625207901000977], \"y\": [3.26796293258667, 2.7793755531311035, 2.629487991333008, 3.6266865730285645, 3.550767660140991, 3.5376970767974854, 3.4881978034973145, 3.404445171356201, 3.3646271228790283, 3.608851194381714, 3.433908224105835, 2.8786909580230713, 3.189192056655884, 3.6207215785980225, 2.984240770339966, 3.6311123371124268, 3.3751220703125, 3.6467936038970947, 2.785490036010742, 2.653040885925293, 3.2409846782684326, 3.552934408187866, 3.382096290588379, 3.3799002170562744, 2.525144100189209, 2.9076051712036133], \"z\": [6.593350887298584, 6.689723014831543, 6.989953994750977, 5.551291465759277, 6.6440253257751465, 6.490138053894043, 5.494234561920166, 6.222523212432861, 6.409337520599365, 5.45758056640625, 6.081863880157471, 6.744061470031738, 6.383502006530762, 5.448071002960205, 6.395453453063965, 5.662560939788818, 6.91294002532959, 5.572704792022705, 6.686030387878418, 7.081307411193848, 6.2818708419799805, 5.685086250305176, 6.119256496429443, 6.943939208984375, 6.58966064453125, 6.716451644897461]}, {\"hoverinfo\": \"text\", \"marker\": {\"color\": [\"#44bf70\", \"#44bf70\", \"#44bf70\", \"#44bf70\", \"#44bf70\", \"#44bf70\", \"#44bf70\", \"#44bf70\", \"#44bf70\", \"#44bf70\", \"#44bf70\"], \"line\": {\"width\": 1}, \"size\": 8}, \"mode\": \"markers\", \"name\": \"C\\u00ba2: gracias sanjuaninos todos\", \"text\": [\"Gracias por la dedicacin y el esfuerzo de todos<br>das! Saludamos a todos los sanjuaninos y<br>especialmente a quienes integran nuestra comunidad<br>educativa.\", \"Saludamos a los profesionales sanjuaninos y en<br>particular a quienes forman parte de nuestra<br>Facultad Ciencias Mdicas.\", \"de Febrero Da Internacional de la Mujer y la Nia<br>en la Ciencia. En el testimonio de la Dra. Sandra<br>Noriega investigador de la Facultad de Ciencias<br>Qumicas y Tecnolgicas saludamos a todas las<br>mujeres investigadoras de la UCCuyo. Gracias por<br>su aporte y dedicacin!\", \"Felicidades en su da a los profesionales de San<br>Juan y especialmente a quienes conforman la<br>Facultad de Educacin\", \"Conmemorando al gran prcer sanjuanino saludamos a<br>todos los maestros en su da.\", \"Feliz Da San Juan!\", \"Saludamos a todos los trabajadores sanjuaninos y<br>en especial a todos y cada uno de quienes en sus<br>diferentes funciones hacen a nuestra Universidad.\", \"Bienvenidos\", \"Felicidades en su da a los profesionales de San<br>Juan y especialmente a quienes conforman nuestra<br>Facultad De Educacin.\", \"Recordando al Gran Prcer sanjuanino Domingo<br>Faustino Sarmiento saludamos a todos los Maestros<br>de la provincia.\", \"Gracias por tan grato encuentro! Estuvimos<br>presentes en la Asamblea Arquidiocesana realizada<br>en el Colegio Don Bosco-San Juan\"], \"type\": \"scatter3d\", \"x\": [11.265603065490723, 11.437216758728027, 11.060166358947754, 11.429421424865723, 11.161972999572754, 11.249279975891113, 11.330062866210938, 10.9439697265625, 11.517502784729004, 11.205459594726562, 11.42369270324707], \"y\": [2.2424283027648926, 1.9713971614837646, 2.0227653980255127, 1.5768488645553589, 2.375074625015259, 1.4363458156585693, 2.1065280437469482, 1.5548601150512695, 1.6249301433563232, 1.7559679746627808, 1.551582932472229], \"z\": [6.56102991104126, 6.391556739807129, 6.706730365753174, 6.586435317993164, 6.469854354858398, 6.5665106773376465, 6.323192596435547, 6.607868194580078, 6.586165904998779, 6.5018086433410645, 6.673779487609863]}, {\"hoverinfo\": \"text\", \"marker\": {\"color\": [\"#22a884\", \"#22a884\", \"#22a884\", \"#22a884\", \"#22a884\", \"#22a884\", \"#22a884\", \"#22a884\", \"#22a884\", \"#22a884\", \"#22a884\", \"#22a884\", \"#22a884\", \"#22a884\", \"#22a884\", \"#22a884\", \"#22a884\", \"#22a884\", \"#22a884\", \"#22a884\", \"#22a884\", \"#22a884\", \"#22a884\", \"#22a884\"], \"line\": {\"width\": 1}, \"size\": 8}, \"mode\": \"markers\", \"name\": \"C\\u00ba3: institucional informacin ms\", \"text\": [\"de abril Da del Libro Desde Editorial<br>Universitaria UCCuyo los invitamos a conocer<br>nuestro sitio y todas las producciones<br>disponibles:\", \"Participando en el er Encuentro de la Red de<br>Comunicacin de la Aprender para mejorar!\", \"Desde la Facultad de Derecho y Ciencias Sociales:<br>Te ofrecemos lo mejor en capacitacin!\", \"Editorial Universitaria UCCuyo Seguimos<br>trabajando... Conoc las actividades institucional<br>y mucho ms! Edicin Octubre Revista Digital<br>Institucional INFO UCCuyo:\", \"La Facultad de Educacin invita a: Jornada Familia<br>y Discapacidad Inscripciones e informacin:\", \"Departamento de Idiomas invita al XXVI Encuentro<br>Plurilingstico La enseanza de las lenguas en la<br>virtualidad. Aciertos, dificultades y propuestas.<br>Ms informacin:\", \"Editorial Universitaria UCCuyo Ya est disponible<br>la nueva Edicin de nuestra Revista Digital<br>Institucional INFO UCCuyo:\", \"INSCRIPCIONES ABIERTAS Cursos y Diplomatura<br>Estudia a distancia Ms informacin<br>campusvirtual.edu.ar\", \"INSCRIPCIONES ABIERTAS Podes capacitarte a<br>distancia en la UCCuyo Ms informacin<br>campusvirtual.edu.ar\", \"Empiezan las clases! Tutoriales para conocer el<br>Campus Virtual: Si necesitas ayuda:\", \"Departamento de Idiomas Ofrece sus cursos a<br>alumnos y comunidad en general. Te esperamos\", \"Ya est disponible! Todas las noticias y<br>actividades universitarias. Revista Digital<br>Institucional:\", \"Todas las noticias y actividades universitarias.<br>Revista Digital Institucional:\", \"La UCCuyo valid en CONEAU su Sistema Institucional<br>de Educacin a Distancia. Ms informacin:\", \"Firman nuevos convenios entre la UCCuyo y la<br>Municipalidad de Rivadavia. Conoc ms:\", \"Docentes, investigadores, alumnos y pblico en<br>general: cursos % on line Ms informacin:<br>campusvirtual.edu.ar\", \"Toda la informacin de la UCCuyo en la Revista<br>Digital Institucional. Ingres:\", \"Cooperacin Internacional junto a organizaciones<br>que promueven el intercambio estudiantil brindaron<br>informacin a los estudiante de la UCCuyo. Ms<br>informacin:\", \"La UCCuyo dictar nuevas para dirigentes y<br>deportistas de la . Con la presencia de<br>autoridades de gobierno y de la fueron presentados<br>en el saln de actos Eloy Camus del Centro Cvico, .<br>Enterate ms en:\", \"Comenzamos con el Curso de preparacin para el ! Ms<br>Info en: idiomas.edu.ar Quers enterarte sobre los<br>idiomas : , , , y ms? Dejanos tus datos ac &gt;\", \"Informamos que en el da de la fecha, las<br>actividades acadmicas son normales en nuestra<br>institucin.\", \"Comenzaron los Seminarios de Adaptacin<br>Universitaria para los de la . El equipo de<br>profesionales de Orientacin Universitaria estuvo<br>con los alumnos ingresantes de la Facultad de<br>Educacin y la Facultad de Filosofa y Humanidades.\", \"Curso abierto \\\" Tcnicas de Expresin Oral y<br>Escrita\\\" :: Inscripciones abiertas :: Inicia el de<br>Marzo. Ms informacin en: coordiposgrado.edu.ar<br>(0264) -2390 o -4136697\", \"en Caucete! Inscripciones abiertas Comienza en<br>Abril. Carreras y cursos semipresenciales. Ms<br>informacin: infocaucete.edu.ar o -2300/429-2332.\"], \"type\": \"scatter3d\", \"x\": [10.718832015991211, 11.607590675354004, 11.746124267578125, 10.656787872314453, 11.526252746582031, 11.592280387878418, 10.70184326171875, 11.374629020690918, 10.991385459899902, 11.21300983428955, 11.68624496459961, 10.743372917175293, 10.833264350891113, 10.996285438537598, 10.922078132629395, 11.305379867553711, 10.645156860351562, 10.992431640625, 10.639225959777832, 11.577234268188477, 11.577204704284668, 11.625489234924316, 11.537810325622559, 11.345870971679688], \"y\": [1.4915794134140015, 1.538656234741211, 1.517072319984436, 1.6861544847488403, 1.6056944131851196, 1.3989611864089966, 1.8285530805587769, 1.6401108503341675, 1.7816585302352905, 2.127568006515503, 1.5025808811187744, 1.9755254983901978, 1.964312195777893, 1.4612277746200562, 1.254813551902771, 1.846064805984497, 1.8201477527618408, 2.100233316421509, 1.4165270328521729, 1.4448834657669067, 1.7714219093322754, 1.6300827264785767, 1.3111999034881592, 1.4071033000946045], \"z\": [9.36637020111084, 10.435230255126953, 9.281269073486328, 9.899213790893555, 9.758223533630371, 10.507603645324707, 10.016331672668457, 10.082731246948242, 9.850706100463867, 9.705992698669434, 10.397314071655273, 10.157971382141113, 10.063789367675781, 9.721282958984375, 8.789421081542969, 9.91379451751709, 10.058281898498535, 9.726012229919434, 8.852916717529297, 10.431244850158691, 9.724509239196777, 9.95504093170166, 10.413057327270508, 10.228703498840332]}, {\"hoverinfo\": \"text\", \"marker\": {\"color\": [\"#21908d\", \"#21908d\", \"#21908d\", \"#21908d\", \"#21908d\", \"#21908d\", \"#21908d\", \"#21908d\", \"#21908d\", \"#21908d\", \"#21908d\", \"#21908d\", \"#21908d\", \"#21908d\", \"#21908d\", \"#21908d\", \"#21908d\", \"#21908d\", \"#21908d\", \"#21908d\", \"#21908d\", \"#21908d\", \"#21908d\", \"#21908d\", \"#21908d\", \"#21908d\", \"#21908d\", \"#21908d\", \"#21908d\", \"#21908d\", \"#21908d\", \"#21908d\", \"#21908d\", \"#21908d\", \"#21908d\"], \"line\": {\"width\": 1}, \"size\": 8}, \"mode\": \"markers\", \"name\": \"C\\u00ba4: juan del san\", \"text\": [\"La Secretara de Extensin y Relaciones<br>Institucionales como integrante de la Mesa de<br>Responsabilidad Social de la provincia de San Juan<br>invita a la: * V Jornada Provincial de<br>Responsabilidad Social Inscripcin:\", \"Escuela de Cultura Religiosa y Pastoral<br>dependiente del Vicerrectorado: Destinatarios:<br>docentes, alumnos, catequistas, agentes<br>pastorales, seminaristas, sacerdotes, misioneros y<br>pblico en general. Pre- inscripcin:<br>a.v.formacion.edu.ar\", \"Retom sus actividades la Mesa Provincial de<br>Responsabilidad Social. La UCCuyo integra la Mesa<br>Provincial de Responsabilidad Social de manera<br>activa desde su constitucin en el mes de<br>septiembre de . Conoc ms:\", \"Investigacin y Desarrollo Un grupo de cientficos<br>sanjuaninos, integrantes del Instituto de Ciencias<br>Biomdicas de la Universidad Catlica de Cuyo,<br>participaron de un estudio internacional en la<br>lucha contra el Alzheimer.\", \"Diplomatura Iberoamericana en Comunicacin de la<br>Iglesia. % online\", \"Investigacin y Desarrollo Aporte de la UCCuyo al<br>mejoramiento gentico de la raza caprina en Cuyo:<br>desarrollo pecuario en La Tranca, Encn y El<br>Forzudo Universidad Catlica de Cuyo - Sede San<br>Luis Conoc :\", \"El Ministerio de Salud de la provincia de San Juan<br>autoriz, por pedido de la Facultad de Ciencias<br>Mdicas, la concurrencia de los alumnos a las aulas<br>y a los hospitales y centros de salud. Ms<br>informacin:\", \"Natalicio del Dr. Horacio Videla. Intelectual<br>sanjuanino y precursor junto a Mons. Manfredi de<br>la UCCuyo, don su casa y propiedad intelectual a<br>esta universidad para mantener su legado y<br>continuar as con la formacin y crecimiento de toda<br>la comunidad.\", \"A travs de la Facultad de Filosofa y Humanidades<br>se di inicio al Programa de Entrenamiento en<br>Afrontamiento del Estrs y Gestin de las Emociones<br>destinado a integrantes de la Polica de San Juan.<br>Ms informacin:\", \"Escuela de Cultura Religiosa y Pastoral<br>dependiente del Vicerrectorado de Formacin<br>Webinar: Los derechos humanos en torno a la vida:<br>ID de reunin: Cdigo de acceso: Informes:<br>cultura.edu.ar\", \"Seminario de Investigacin UCCuyo Ejes temticos<br>Ciencias econmicas y jurdicas. Ciencias biolgicas<br>y de la salud. Ciencias humanas. Informes:<br>investigacion.edu.ar\", \"Diplomatura Universitaria en Atencin Gerontolgica<br>Integral. La Facultad de Filosofa y Humanidades<br>acord con el Ministerio de Desarrollo Humano<br>promover la formacin de cuidadores domiciliarios.<br>Ms informacin:\", \"La Dra. Diana Bruno del IIPBA de la Facultad de<br>Filosofia y Humanidades form parte del equipo de<br>profesionales investigadores que obtuvieron el<br>primer puesto en un Hackathon organizado por la<br>Embajada de Israel:\", \"Firma de convenio con la Secretara de Ciencia,<br>Tecnologa e Innovacin de la provincia de San Juan<br>para dictar capacitacin en lengua inglesa a<br>agentes provinciales.\", \"La Facultad de Derecho y Ciencias Sociales de la<br>UCCuyo junto a la Defensora del Pueblo de San Juan<br>invitan a la charla. Unirse al zoom:\", \"La comunidad educativa de la UCCuyo saluda en su<br>Da al Dr. Claudio Marcelo Larrea Arnau.\", \"Seguimos en el Ciclo de Conferencias propuestas<br>por la Facultad de Derecho y Ciencias Sociales.\", \"Alumnos de las tres sedes de la UCCuyo fueron<br>beneficiados con diferentes becas que otorga el<br>Banco Santander Ro. Conoc ms:\", \"Nueva propuesta de actualizacin junto a la Corte<br>de Justicia de San Juan. Inscripciones:\", \"Acuerdo San Juan Participamos del Programa de<br>Gobierno provincial al cual nos convocaron para<br>seguir colaborando en el desarrollo y crecimiento<br>de nuestra comunidad\", \"Editorial Universitaria UCCuyo Present el libro El<br>cristianismo en la historia: pasin por el hombre<br>cuyo autor es el Vice Rector de Formacin Presbtero<br>Jos Juan Garcia.\", \"Con el taller del Consejo Planificacin Estratgica<br>SJ , culmin la Diplomatura en Lderes Sociales de<br>la Facultad de Filosofa y Humanidades y Secretara<br>Extensin y RRII- UCCuyo junto con Critas SJ y<br>Comisin Arquidiocesana de Justicia y Paz del<br>Arzobispado SJ de Cuyo.\", \"La Defensora del Pueblo de San Juan junto a la<br>Facultad de Derecho y Ciencias Sociales de la<br>Universidad Catlica de Cuyo firmaron un acuerdo<br>marco de cooperacin acadmica.\", \"Se realizaron en sede San San Juan las Jornadas<br>institucionales Dilogos UCCuyo finalizando as las<br>reuniones para la elaboracin del Plan de<br>Desarrollo Institucional.\", \"En este Da del Estudiante compartimos la historia<br>de gran valenta de Gabriela.\", \"Docente de la UCCuyo es electa como presidente de<br>organismo Internacional de Estudios Patristicos.<br>Conoce :\", \"La UCCuyo particip del Coloquio Desafos de la<br>Educacin Catlica en la sede de la Universidad<br>Catlica Argentina. Ms informacin:\", \"Por una Cultura del Encuentro. Entrega de<br>certificados: Resignificando la enseanza\\\" de la<br>Facultad de Educacin e \\\"Introduccin a la cultura<br>Popular\\\" otorgado por a los agentes del Servicio<br>Penitenciario de San Juan gestionado por\", \"Se presentaron los librosVida moral en los padres<br>de la Iglesia: su presencia hoy del Pbro. Dr. Jos<br>Juan Garca y La libertad en los escritores de<br>orgenes del Pbro. Leonardo Pons en el Centro de<br>Estudios Dr. Horacio Videla. Ms informacin:\", \"VIII DISPUTATIO Universitaria Sanjuanina Disfrutar<br>y enriquecer conocimientos debatiendo temas:<br>filosficos, jurdicos, polticos y teolgicos.<br>Inscripciones abiertas: marceladelcarril.com<br>n.torres.com.ar -455614\", \"Trabajo interdisciplinario de la UCCuyo con su<br>Facultad Ciencias Mdicas y Facultad de Filosofa y<br>Humanidades en la Residencia de Adultos Mayores<br>Eva Pern que suma al bienestar y desarrollo de la<br>comunidad de San Juan. Ms informacin:\", \"Fuerte apuesta a la formacin de Lderes Sociales<br>desde la UCCuyo Facultad de Filosofa y Humanidades<br>- UCCuyo San Juan Ms Informacin:\", \"Apertura de las Jornadas preparatorias del XXX<br>Congreso Nacional de Derecho Procesal-Facultad de<br>Derecho UCCuyo-Poder Judicial de San Juan.\", \"La cens a clubes y entidades deportivas de .<br>Actividad llevada a cabo por la ctedra<br>Psicoestadstica de la Licenciatura en de la<br>Facultad de y . Le la nota aqu &gt;\", \"Voluntarios de la UCCuyo en CUVHONI En un nuevo<br>acercamiento, la UCCuyo acord con CUVHONI, Cuerpo<br>de Voluntarios del Hospital de Nios Juan Carlos<br>Navarro, desarrollar su Programa de Papa<br>Francisco. Conoc ms en la nota:\"], \"type\": \"scatter3d\", \"x\": [12.185799598693848, 11.312178611755371, 12.076172828674316, 10.396263122558594, 11.244473457336426, 10.703673362731934, 11.74772834777832, 10.892078399658203, 11.916901588439941, 11.131091117858887, 11.047884941101074, 11.61502456665039, 11.610377311706543, 11.774687767028809, 11.871505737304688, 11.164628982543945, 11.551438331604004, 11.111079216003418, 11.450248718261719, 11.986221313476562, 11.386775970458984, 11.475364685058594, 12.09587574005127, 11.9162015914917, 11.880945205688477, 11.049236297607422, 11.27548885345459, 11.65560531616211, 11.327173233032227, 11.429681777954102, 12.000421524047852, 11.72507381439209, 11.56567668914795, 11.5360689163208, 11.10886001586914], \"y\": [0.44303977489471436, 0.3459336757659912, 0.5105170011520386, -0.017665332183241844, 0.09883823245763779, 0.23253776133060455, 0.24289296567440033, 0.4664103090763092, 0.8065142631530762, 0.5343630909919739, 0.7769547700881958, 0.9305843710899353, 0.8849793076515198, 0.9193859100341797, 0.908822238445282, 0.37247347831726074, 1.4654618501663208, 0.40728580951690674, 0.5243382453918457, 0.7122781276702881, 0.3069569766521454, 0.7894918918609619, 0.6973738074302673, 0.5712535977363586, 1.3198144435882568, 0.49369093775749207, 0.32680436968803406, 0.776852011680603, 0.34223315119743347, 0.43851593136787415, 0.5606995820999146, 0.9001454710960388, 0.32777002453804016, 1.5116446018218994, 0.30664774775505066], \"z\": [8.47998046875, 9.732653617858887, 8.34036636352539, 9.038846015930176, 9.400474548339844, 8.96082592010498, 8.635461807250977, 8.86790657043457, 9.117847442626953, 9.843606948852539, 9.345568656921387, 9.390295028686523, 9.315075874328613, 8.26571273803711, 9.008158683776855, 9.205194473266602, 9.095279693603516, 8.98596477508545, 8.365962028503418, 7.9665446281433105, 9.716818809509277, 9.217813491821289, 8.550795555114746, 8.327032089233398, 9.368854522705078, 8.985933303833008, 9.106608390808105, 8.725738525390625, 9.854972839355469, 9.500234603881836, 8.808693885803223, 9.197824478149414, 8.541200637817383, 8.881582260131836, 8.712529182434082]}, {\"hoverinfo\": \"text\", \"marker\": {\"color\": [\"#2a788e\", \"#2a788e\", \"#2a788e\", \"#2a788e\", \"#2a788e\", \"#2a788e\", \"#2a788e\", \"#2a788e\", \"#2a788e\", \"#2a788e\", \"#2a788e\", \"#2a788e\", \"#2a788e\", \"#2a788e\", \"#2a788e\", \"#2a788e\", \"#2a788e\"], \"line\": {\"width\": 1}, \"size\": 8}, \"mode\": \"markers\", \"name\": \"C\\u00ba5: valor esperanza amor\", \"text\": [\"Felices Pascuas! Celebremos a Jess en nuestros<br>corazones. Dios Fortalece nuestra F y renueva la<br>Esperanza!\", \"Celebramos la vida desde su concepcin.\", \"El futuro tambin es hoy! Valor Amor y Respeto en<br>cada accin que construye un mundo mejor.\", \"... La Navidad tiene sobre todo esperanza... el<br>sentido luminoso de la vida...\", \"Reconocemos y ponemos en valor la Diversidad<br>Cultural de nuestro gran continente.\", \"Nos sumamos a las celebraciones de los aos de<br>RADU. Webinar Investigacin universitaria en<br>tiempos de pandemia. Los esperamos!\", \"Celebremos la Patria!\", \"Felices Pascuas! La Gloria del milagro de nuestro<br>Dios fortalece nuestra F y renueva la Esperanza.\", \"Semana Santa Puedes acceder a las celebraciones de<br>todo la semana:\", \"Celebramos la vida desde su concepcin\", \"de marzo-Da Internacional de la Mujer-Valor Amor y<br>Respeto en cada accin que construye un mundo<br>mejor.\", \"Sigamos renovando nuestros deseos de amor y<br>esperanza para un mundo mejor Felices Fiestas!\", \"La Celebracin del Aniversario se llev a cabo<br>conjuntamente con el Acto de colacin de grado de<br>la Facultad de Cs. Econmicas y Empresariales. Se<br>conmemor a egresados con aos de graduados,<br>docentes con aos de ejercicio y a personal<br>administrativo jubilado.\", \"Cooperacin Internacional Invita a conocer las<br>oportunidades de formacin\", \"[2 de Abril] Da del Veterano y Cados en la Guerra<br>de Malvinas. Un da para conmemorar a los<br>protagonistas de la historia.\", \"[25 de Marzo] Da del Nio por Nacer. Celebramos la<br>vida desde su concepcin.\", \"de Marzo, Da Internacional de la Mujer. Valor,<br>amor y respeto en cada accin que construye un<br>mundo mejor.\"], \"type\": \"scatter3d\", \"x\": [9.03969955444336, 9.12513542175293, 9.011347770690918, 8.929656028747559, 9.398515701293945, 9.624194145202637, 9.456639289855957, 9.075628280639648, 8.9891996383667, 9.200201034545898, 9.330711364746094, 9.01513385772705, 9.440938949584961, 9.60915756225586, 9.198051452636719, 9.157428741455078, 9.342497825622559], \"y\": [1.8349168300628662, 2.1303956508636475, 1.8543329238891602, 2.019820213317871, 1.888667345046997, 1.5086026191711426, 2.014647960662842, 1.8188894987106323, 1.878203272819519, 2.258226156234741, 1.828961968421936, 2.0367965698242188, 1.746169090270996, 1.7587072849273682, 2.297011613845825, 1.8512539863586426, 1.842699408531189], \"z\": [6.996440887451172, 7.240394592285156, 7.741049289703369, 7.0216898918151855, 7.7963409423828125, 7.69498872756958, 6.897540092468262, 6.874412536621094, 6.937869071960449, 7.253816604614258, 7.715109825134277, 7.162790298461914, 7.104638576507568, 8.206992149353027, 6.811829090118408, 7.265305042266846, 7.763180732727051]}, {\"hoverinfo\": \"text\", \"marker\": {\"color\": [\"#355f8d\", \"#355f8d\", \"#355f8d\", \"#355f8d\", \"#355f8d\", \"#355f8d\", \"#355f8d\", \"#355f8d\", \"#355f8d\", \"#355f8d\", \"#355f8d\", \"#355f8d\", \"#355f8d\", \"#355f8d\", \"#355f8d\", \"#355f8d\", \"#355f8d\", \"#355f8d\", \"#355f8d\", \"#355f8d\", \"#355f8d\", \"#355f8d\", \"#355f8d\", \"#355f8d\", \"#355f8d\", \"#355f8d\", \"#355f8d\", \"#355f8d\", \"#355f8d\", \"#355f8d\"], \"line\": {\"width\": 1}, \"size\": 8}, \"mode\": \"markers\", \"name\": \"C\\u00ba6: inscripcin ests hs\", \"text\": [\"de Mayo Da Internacional de los Museos Te<br>invitamos a Mascareando el museo nformes:<br>gestionmuseos.edu.ar\", \"Conversatorio Objecin de Conciencia y<br>Responsabilidad del Mdico frente al Nio por Nacer.<br>Destinatarios: mdicos, estudiantes de medicina.<br>reunin Zoom: ID de reunin: Cdigo de acceso:\", \"Ya est publicada! Revista Cuadernos N7: Comunicar<br>la Ciencia en Pandemia Docentes e investigadores<br>de la UCCuyo comparten sus producciones<br>cientficas.\", \"La Secretara de Extensin y Relaciones<br>Institucionales desde el Comit de Integracin \\\"Paso<br>Internacional de Agua Negra\\\" invita a participar:<br>Link de inscripcin: Link conexin:\", \"Conversatorio virtual Jueves de noviembre hs.<br>Inscripcin: De autoridades y equipos de gestin<br>(google forms) De participantes (eventbrite)\", \"Pone tu futuro en accin Conoc todo lo que tenemos<br>para vos! Ms informacin: ofertaacademica.edu.ar\", \"Nueva oportunidad! Ms opciones en tu formacin<br>profesional. Propuesta % on line\", \"Jornadas de Actualizacin de Te esperamos<br>Inscribte:\", \"Invitamos al Gran Evento Olivcola Capacitaciones<br>virtuales. Con inscripcin previa: Informes:<br>dircomexterior.com\", \"Ests a tiempo de ser parte del futuro Ms opciones<br>en tu formacin profesional. Propuesta % on line\", \"Hola! No tenemos dicha informacin como cierta. Sin<br>embargo puedes sacarte tus dudas o inquietudes<br>comunicndote con la carrera<br>directorapsicologia.edu.ar\", \"Invitamos a la conferencia virtual sobre La<br>educacin Superior en tiempos de pandemia. de julio<br>- hs Inscripcin gratuita en Acceso:\", \"Sumate! Ciclo de Conferencias de la\", \"Smate a la actualizacin.\", \"Museo y Biblioteca \\\"Hnos. Nacif Weiss\\\" Hoy te<br>invitamos a realizar un recorrido virtual\", \"Tomar la realidad y compartirla para ayudar a<br>entenderla como bsqueda de la verdad con tica y<br>credibilidad.\", \"Informacin importante\", \"Ven y smate a la Experiencia Endeavor<br>CuyoEmprender con Impacto Jueves de octubre<br>Auditorio Eloy Camus- Centro Cvico hs\", \"er Jornada INNOVATUR, con el eje central enmarcado<br>en el lema de la OMT para el \\\"Turismo y Empleo: Un<br>futuro mejor para todos\\\" Las inscripciones estn<br>abiertas en Eventbrite, y pods solicitar tu<br>inscripcin ahora en este link:\", \"Conoc todas las carreras que tenemos para vos! Ven<br>a las Jornadas de Puertas Abiertas de la UCCuyo!<br>Da: Viernes de Agosto Lugar: Secretara de Extensin<br>Hora: hs.\", \"Gestiona los nuevos conocimientos y provoca el<br>cambio: Maestria en Gestin de Nuevas Tecnologas en<br>Comunciacin. Ms opciones en tu formacin<br>profesional. Ms informacin:\", \"Diplomatura en , y Profesionalizacin de la ::<br>Duracin: meses Inicia: Abril Mdulos: cada das Das:<br>Viernes de a hs./ Sbado de a hs. Ms informacin:<br>diploempresasfamiliaressj.com\", \"CPRES Nuevo Cuyo. Fijan las lneas prioritarias de<br>trabajo para el presente ao. Ver nota completa<br>&gt;\", \"[19 de marzo] Da de San Jos obrero.\", \"Ests a tiempo de sumarte! :: Lic. en Educacin<br>Inclusiva :: Ms info: educacion.edu.ar Inscripcin:<br>Ms informacin:\", \"Ests a tiempo de sumarte! :: Lic. en Psicopedagoga<br>:: Duracin: aos Inscripcin: Ms informacin:\", \"Ests a tiempo de sumarte! :: Lic. en Terapia<br>Ocupacional :: Duracin: aos Inscripcin: Ms<br>informacin:\", \"Arranca el primer cuatrimestre Buen comienzo para<br>todos!\", \"Ests a tiempo de sumarte! Lic. en Recursos Humanos<br>:: Duracin: aos Inscripcin: Ms informacin:\", \"Ests a tiempo de sumarte! Lic. en Gestin Ambiental<br>:: Duracin: aos Inscripcin: Ms informacin:\"], \"type\": \"scatter3d\", \"x\": [9.761202812194824, 9.754373550415039, 9.621152877807617, 9.533308029174805, 9.92218017578125, 9.390873908996582, 8.935162544250488, 8.953689575195312, 9.896201133728027, 9.059900283813477, 8.853738784790039, 9.873873710632324, 9.802956581115723, 8.785748481750488, 9.832643508911133, 8.627923011779785, 8.815534591674805, 9.78879451751709, 9.274843215942383, 9.64028263092041, 9.062660217285156, 9.024537086486816, 9.254103660583496, 9.41030502319336, 8.610201835632324, 8.624072074890137, 8.593416213989258, 8.765204429626465, 8.696907997131348, 8.919806480407715], \"y\": [1.798003911972046, 0.8736070990562439, 0.6093795299530029, 0.9758691191673279, 1.6023799180984497, 1.345497727394104, 1.585269808769226, 1.518741488456726, 1.7254055738449097, 1.6330376863479614, 1.0512819290161133, 1.3524096012115479, 1.5837050676345825, 1.481569766998291, 1.7322615385055542, 1.2421197891235352, 1.082525610923767, 1.6593327522277832, 1.523032784461975, 1.3138943910598755, 1.2284187078475952, 1.1579443216323853, 1.1022465229034424, 1.4552286863327026, 1.146501064300537, 1.2167013883590698, 1.3201735019683838, 1.46886146068573, 1.247586965560913, 1.1119273900985718], \"z\": [9.373459815979004, 9.072145462036133, 8.687687873840332, 8.76502799987793, 9.483240127563477, 8.596267700195312, 8.535564422607422, 8.446344375610352, 9.278648376464844, 8.649763107299805, 8.616666793823242, 9.181419372558594, 8.455942153930664, 8.450556755065918, 9.355138778686523, 8.210579872131348, 8.318826675415039, 8.884267807006836, 8.80959701538086, 8.346355438232422, 9.296804428100586, 9.02815055847168, 8.428980827331543, 8.455915451049805, 9.135403633117676, 9.00636100769043, 8.983421325683594, 8.16097640991211, 8.893793106079102, 8.865429878234863]}],\n",
       "                        {\"autosize\": false, \"height\": 800, \"scene\": {\"aspectmode\": \"cube\"}, \"showlegend\": true, \"template\": {\"data\": {\"bar\": [{\"error_x\": {\"color\": \"#2a3f5f\"}, \"error_y\": {\"color\": \"#2a3f5f\"}, \"marker\": {\"line\": {\"color\": \"#E5ECF6\", \"width\": 0.5}}, \"type\": \"bar\"}], \"barpolar\": [{\"marker\": {\"line\": {\"color\": \"#E5ECF6\", \"width\": 0.5}}, \"type\": \"barpolar\"}], \"carpet\": [{\"aaxis\": {\"endlinecolor\": \"#2a3f5f\", \"gridcolor\": \"white\", \"linecolor\": \"white\", \"minorgridcolor\": \"white\", \"startlinecolor\": \"#2a3f5f\"}, \"baxis\": {\"endlinecolor\": \"#2a3f5f\", \"gridcolor\": \"white\", \"linecolor\": \"white\", \"minorgridcolor\": \"white\", \"startlinecolor\": \"#2a3f5f\"}, \"type\": \"carpet\"}], \"choropleth\": [{\"colorbar\": {\"outlinewidth\": 0, \"ticks\": \"\"}, \"type\": \"choropleth\"}], \"contour\": [{\"colorbar\": {\"outlinewidth\": 0, \"ticks\": \"\"}, \"colorscale\": [[0.0, \"#0d0887\"], [0.1111111111111111, \"#46039f\"], [0.2222222222222222, \"#7201a8\"], [0.3333333333333333, \"#9c179e\"], [0.4444444444444444, \"#bd3786\"], [0.5555555555555556, \"#d8576b\"], [0.6666666666666666, \"#ed7953\"], [0.7777777777777778, \"#fb9f3a\"], [0.8888888888888888, \"#fdca26\"], [1.0, \"#f0f921\"]], \"type\": \"contour\"}], \"contourcarpet\": [{\"colorbar\": {\"outlinewidth\": 0, \"ticks\": \"\"}, \"type\": \"contourcarpet\"}], \"heatmap\": [{\"colorbar\": {\"outlinewidth\": 0, \"ticks\": \"\"}, \"colorscale\": [[0.0, \"#0d0887\"], [0.1111111111111111, \"#46039f\"], [0.2222222222222222, \"#7201a8\"], [0.3333333333333333, \"#9c179e\"], [0.4444444444444444, \"#bd3786\"], [0.5555555555555556, \"#d8576b\"], [0.6666666666666666, \"#ed7953\"], [0.7777777777777778, \"#fb9f3a\"], [0.8888888888888888, \"#fdca26\"], [1.0, \"#f0f921\"]], \"type\": \"heatmap\"}], \"heatmapgl\": [{\"colorbar\": {\"outlinewidth\": 0, \"ticks\": \"\"}, \"colorscale\": [[0.0, \"#0d0887\"], [0.1111111111111111, \"#46039f\"], [0.2222222222222222, \"#7201a8\"], [0.3333333333333333, \"#9c179e\"], [0.4444444444444444, \"#bd3786\"], [0.5555555555555556, \"#d8576b\"], [0.6666666666666666, \"#ed7953\"], [0.7777777777777778, \"#fb9f3a\"], [0.8888888888888888, \"#fdca26\"], [1.0, \"#f0f921\"]], \"type\": \"heatmapgl\"}], \"histogram\": [{\"marker\": {\"colorbar\": {\"outlinewidth\": 0, \"ticks\": \"\"}}, \"type\": \"histogram\"}], \"histogram2d\": [{\"colorbar\": {\"outlinewidth\": 0, \"ticks\": \"\"}, \"colorscale\": [[0.0, \"#0d0887\"], [0.1111111111111111, \"#46039f\"], [0.2222222222222222, \"#7201a8\"], [0.3333333333333333, \"#9c179e\"], [0.4444444444444444, \"#bd3786\"], [0.5555555555555556, \"#d8576b\"], [0.6666666666666666, \"#ed7953\"], [0.7777777777777778, \"#fb9f3a\"], [0.8888888888888888, \"#fdca26\"], [1.0, \"#f0f921\"]], \"type\": \"histogram2d\"}], \"histogram2dcontour\": [{\"colorbar\": {\"outlinewidth\": 0, \"ticks\": \"\"}, \"colorscale\": [[0.0, \"#0d0887\"], [0.1111111111111111, \"#46039f\"], [0.2222222222222222, \"#7201a8\"], [0.3333333333333333, \"#9c179e\"], [0.4444444444444444, \"#bd3786\"], [0.5555555555555556, \"#d8576b\"], [0.6666666666666666, \"#ed7953\"], [0.7777777777777778, \"#fb9f3a\"], [0.8888888888888888, \"#fdca26\"], [1.0, \"#f0f921\"]], \"type\": \"histogram2dcontour\"}], \"mesh3d\": [{\"colorbar\": {\"outlinewidth\": 0, \"ticks\": \"\"}, \"type\": \"mesh3d\"}], \"parcoords\": [{\"line\": {\"colorbar\": {\"outlinewidth\": 0, \"ticks\": \"\"}}, \"type\": \"parcoords\"}], \"pie\": [{\"automargin\": true, \"type\": \"pie\"}], \"scatter\": [{\"marker\": {\"colorbar\": {\"outlinewidth\": 0, \"ticks\": \"\"}}, \"type\": \"scatter\"}], \"scatter3d\": [{\"line\": {\"colorbar\": {\"outlinewidth\": 0, \"ticks\": \"\"}}, \"marker\": {\"colorbar\": {\"outlinewidth\": 0, \"ticks\": \"\"}}, \"type\": \"scatter3d\"}], \"scattercarpet\": [{\"marker\": {\"colorbar\": {\"outlinewidth\": 0, \"ticks\": \"\"}}, \"type\": \"scattercarpet\"}], \"scattergeo\": [{\"marker\": {\"colorbar\": {\"outlinewidth\": 0, \"ticks\": \"\"}}, \"type\": \"scattergeo\"}], \"scattergl\": [{\"marker\": {\"colorbar\": {\"outlinewidth\": 0, \"ticks\": \"\"}}, \"type\": \"scattergl\"}], \"scattermapbox\": [{\"marker\": {\"colorbar\": {\"outlinewidth\": 0, \"ticks\": \"\"}}, \"type\": \"scattermapbox\"}], \"scatterpolar\": [{\"marker\": {\"colorbar\": {\"outlinewidth\": 0, \"ticks\": \"\"}}, \"type\": \"scatterpolar\"}], \"scatterpolargl\": [{\"marker\": {\"colorbar\": {\"outlinewidth\": 0, \"ticks\": \"\"}}, \"type\": \"scatterpolargl\"}], \"scatterternary\": [{\"marker\": {\"colorbar\": {\"outlinewidth\": 0, \"ticks\": \"\"}}, \"type\": \"scatterternary\"}], \"surface\": [{\"colorbar\": {\"outlinewidth\": 0, \"ticks\": \"\"}, \"colorscale\": [[0.0, \"#0d0887\"], [0.1111111111111111, \"#46039f\"], [0.2222222222222222, \"#7201a8\"], [0.3333333333333333, \"#9c179e\"], [0.4444444444444444, \"#bd3786\"], [0.5555555555555556, \"#d8576b\"], [0.6666666666666666, \"#ed7953\"], [0.7777777777777778, \"#fb9f3a\"], [0.8888888888888888, \"#fdca26\"], [1.0, \"#f0f921\"]], \"type\": \"surface\"}], \"table\": [{\"cells\": {\"fill\": {\"color\": \"#EBF0F8\"}, \"line\": {\"color\": \"white\"}}, \"header\": {\"fill\": {\"color\": \"#C8D4E3\"}, \"line\": {\"color\": \"white\"}}, \"type\": \"table\"}]}, \"layout\": {\"annotationdefaults\": {\"arrowcolor\": \"#2a3f5f\", \"arrowhead\": 0, \"arrowwidth\": 1}, \"coloraxis\": {\"colorbar\": {\"outlinewidth\": 0, \"ticks\": \"\"}}, \"colorscale\": {\"diverging\": [[0, \"#8e0152\"], [0.1, \"#c51b7d\"], [0.2, \"#de77ae\"], [0.3, \"#f1b6da\"], [0.4, \"#fde0ef\"], [0.5, \"#f7f7f7\"], [0.6, \"#e6f5d0\"], [0.7, \"#b8e186\"], [0.8, \"#7fbc41\"], [0.9, \"#4d9221\"], [1, \"#276419\"]], \"sequential\": [[0.0, \"#0d0887\"], [0.1111111111111111, \"#46039f\"], [0.2222222222222222, \"#7201a8\"], [0.3333333333333333, \"#9c179e\"], [0.4444444444444444, \"#bd3786\"], [0.5555555555555556, \"#d8576b\"], [0.6666666666666666, \"#ed7953\"], [0.7777777777777778, \"#fb9f3a\"], [0.8888888888888888, \"#fdca26\"], [1.0, \"#f0f921\"]], \"sequentialminus\": [[0.0, \"#0d0887\"], [0.1111111111111111, \"#46039f\"], [0.2222222222222222, \"#7201a8\"], [0.3333333333333333, \"#9c179e\"], [0.4444444444444444, \"#bd3786\"], [0.5555555555555556, \"#d8576b\"], [0.6666666666666666, \"#ed7953\"], [0.7777777777777778, \"#fb9f3a\"], [0.8888888888888888, \"#fdca26\"], [1.0, \"#f0f921\"]]}, \"colorway\": [\"#636efa\", \"#EF553B\", \"#00cc96\", \"#ab63fa\", \"#FFA15A\", \"#19d3f3\", \"#FF6692\", \"#B6E880\", \"#FF97FF\", \"#FECB52\"], \"font\": {\"color\": \"#2a3f5f\"}, \"geo\": {\"bgcolor\": \"white\", \"lakecolor\": \"white\", \"landcolor\": \"#E5ECF6\", \"showlakes\": true, \"showland\": true, \"subunitcolor\": \"white\"}, \"hoverlabel\": {\"align\": \"left\"}, \"hovermode\": \"closest\", \"mapbox\": {\"style\": \"light\"}, \"paper_bgcolor\": \"white\", \"plot_bgcolor\": \"#E5ECF6\", \"polar\": {\"angularaxis\": {\"gridcolor\": \"white\", \"linecolor\": \"white\", \"ticks\": \"\"}, \"bgcolor\": \"#E5ECF6\", \"radialaxis\": {\"gridcolor\": \"white\", \"linecolor\": \"white\", \"ticks\": \"\"}}, \"scene\": {\"xaxis\": {\"backgroundcolor\": \"#E5ECF6\", \"gridcolor\": \"white\", \"gridwidth\": 2, \"linecolor\": \"white\", \"showbackground\": true, \"ticks\": \"\", \"zerolinecolor\": \"white\"}, \"yaxis\": {\"backgroundcolor\": \"#E5ECF6\", \"gridcolor\": \"white\", \"gridwidth\": 2, \"linecolor\": \"white\", \"showbackground\": true, \"ticks\": \"\", \"zerolinecolor\": \"white\"}, \"zaxis\": {\"backgroundcolor\": \"#E5ECF6\", \"gridcolor\": \"white\", \"gridwidth\": 2, \"linecolor\": \"white\", \"showbackground\": true, \"ticks\": \"\", \"zerolinecolor\": \"white\"}}, \"shapedefaults\": {\"line\": {\"color\": \"#2a3f5f\"}}, \"ternary\": {\"aaxis\": {\"gridcolor\": \"white\", \"linecolor\": \"white\", \"ticks\": \"\"}, \"baxis\": {\"gridcolor\": \"white\", \"linecolor\": \"white\", \"ticks\": \"\"}, \"bgcolor\": \"#E5ECF6\", \"caxis\": {\"gridcolor\": \"white\", \"linecolor\": \"white\", \"ticks\": \"\"}}, \"title\": {\"x\": 0.05}, \"xaxis\": {\"automargin\": true, \"gridcolor\": \"white\", \"linecolor\": \"white\", \"ticks\": \"\", \"title\": {\"standoff\": 15}, \"zerolinecolor\": \"white\", \"zerolinewidth\": 2}, \"yaxis\": {\"automargin\": true, \"gridcolor\": \"white\", \"linecolor\": \"white\", \"ticks\": \"\", \"title\": {\"standoff\": 15}, \"zerolinecolor\": \"white\", \"zerolinewidth\": 2}}}, \"width\": 1000},\n",
       "                        {\"responsive\": true}\n",
       "                    ).then(function(){\n",
       "                            \n",
       "var gd = document.getElementById('1076f676-6d8a-4569-a8af-70f235ec5754');\n",
       "var x = new MutationObserver(function (mutations, observer) {{\n",
       "        var display = window.getComputedStyle(gd).display;\n",
       "        if (!display || display === 'none') {{\n",
       "            console.log([gd, 'removed!']);\n",
       "            Plotly.purge(gd);\n",
       "            observer.disconnect();\n",
       "        }}\n",
       "}});\n",
       "\n",
       "// Listen for the removal of the full notebook cells\n",
       "var notebookContainer = gd.closest('#notebook-container');\n",
       "if (notebookContainer) {{\n",
       "    x.observe(notebookContainer, {childList: true});\n",
       "}}\n",
       "\n",
       "// Listen for the clearing of the current output cell\n",
       "var outputEl = gd.closest('.output');\n",
       "if (outputEl) {{\n",
       "    x.observe(outputEl, {childList: true});\n",
       "}}\n",
       "\n",
       "                        })\n",
       "                };\n",
       "                \n",
       "            </script>\n",
       "        </div>\n",
       "</body>\n",
       "</html>"
      ]
     },
     "metadata": {
      "tags": []
     },
     "output_type": "display_data"
    }
   ],
   "source": [
    "buscar_por = \"usuario\"  # @param [\"usuario\", \"hashtag\"]\n",
    "usuario = \"UniversidadC\"  # @param {type:\"string\"}\n",
    "hashtag = \"\"  # @param {type:\"string\"}\n",
    "desde = \"2019-01-01\"  # @param {type:\"date\"}\n",
    "desde = desde + ' 00:00:00'\n",
    "idioma = \"es\"  # @param [\"en\", \"es\"]\n",
    "n = 1000  # @param {type:\"integer\"}\n",
    "download_csv = False  \n",
    "\n",
    "if idioma == \"es\":\n",
    "    sentiment_model = \"mrm8488/distill-bert-base-spanish-wwm-cased-finetuned-spa-squad2-es\"\n",
    "elif idioma == \"en\":\n",
    "    sentiment_model = \"distilbert-base-uncased-finetuned-sst-2-english\"\n",
    "else:\n",
    "    sentiment_model = \"nlptown/bert-base-multilingual-uncased-sentiment\"\n",
    "\n",
    "import time\n",
    "import re\n",
    "import textwrap\n",
    "import hdbscan\n",
    "import nest_asyncio\n",
    "import numpy as np\n",
    "import seaborn as sns\n",
    "\n",
    "# Hay que reiniciar la colab. Luego de eso, importamos\n",
    "import twint\n",
    "import umap\n",
    "from sentence_transformers import SentenceTransformer\n",
    "from sklearn.feature_extraction.text import CountVectorizer, TfidfVectorizer\n",
    "\n",
    "import pandas as pd\n",
    "import plotly.graph_objects as go\n",
    "import preprocessor as p\n",
    "\n",
    "from transformers import pipeline\n",
    "from io import BytesIO\n",
    "import seaborn as sns\n",
    "\n",
    "import matplotlib.pyplot as plt\n",
    "import numpy as np\n",
    "import requests as rq\n",
    "from PIL import Image\n",
    "from wordcloud import STOPWORDS, ImageColorGenerator, WordCloud\n",
    "from IPython.utils import io\n",
    "\n",
    "nest_asyncio.apply()\n",
    "pd.options.mode.chained_assignment = None\n",
    "now = time.strftime(\"%Y-%m-%d %H:%M:%S\")\n",
    "\n",
    "def make_cloud(text, img_url=None, width=800, height=800, plot=True, min_font_size=10):\n",
    "    mask = None\n",
    "\n",
    "    if img_url:\n",
    "        mask = np.array(Image.open(BytesIO(rq.get(img_url).content)))\n",
    "        mask[mask > 250] = 255\n",
    "        image_colors = ImageColorGenerator(mask)\n",
    "        width = mask.shape[1]\n",
    "        height = mask.shape[0]\n",
    "\n",
    "    stopwords = set(STOPWORDS)\n",
    "\n",
    "    wordcloud = WordCloud(\n",
    "        width=width,\n",
    "        height=height,\n",
    "        background_color=\"white\",\n",
    "        stopwords=stopwords,\n",
    "        random_state=42,\n",
    "        min_font_size=min_font_size,\n",
    "        mask=mask,\n",
    "        color_func=image_colors if img_url else None,\n",
    "    ).generate(text)\n",
    "\n",
    "    if plot:\n",
    "        plt.figure(figsize=(6, 6))\n",
    "        plt.imshow(wordcloud)\n",
    "        plt.axis(\"off\")\n",
    "        plt.tight_layout(pad=0)\n",
    "        plt.show()\n",
    "\n",
    "    return wordcloud\n",
    "\n",
    "def c_tf_idf(documents, m, ngram_range=(1, 1), stop_words=\"spanish\"):\n",
    "    count = CountVectorizer(ngram_range=ngram_range, stop_words=stop_words).fit(\n",
    "        documents\n",
    "    )\n",
    "    t = count.transform(documents).toarray()\n",
    "    w = t.sum(axis=1)\n",
    "    tf = np.divide(t.T, w)\n",
    "    sum_t = t.sum(axis=0)\n",
    "    idf = np.log(np.divide(m, sum_t)).reshape(-1, 1)\n",
    "    tf_idf = np.multiply(tf, idf)\n",
    "\n",
    "    return tf_idf, count\n",
    "\n",
    "\n",
    "def extract_top_n_words_per_topic(tf_idf, count, docs_per_topic, n=20):\n",
    "    words = count.get_feature_names()\n",
    "    labels = list(docs_per_topic.cluster)\n",
    "    tf_idf_transposed = tf_idf.T\n",
    "    indices = tf_idf_transposed.argsort()[:, -n:]\n",
    "    top_n_words = {\n",
    "        label: [(words[j], tf_idf_transposed[i][j]) for j in indices[i]][::-1]\n",
    "        for i, label in enumerate(labels)\n",
    "    }\n",
    "    return top_n_words\n",
    "\n",
    "\n",
    "def plot_clusters(all_coords: pd.DataFrame, clusters):\n",
    "    \"\"\"all_coords should have title, text, cluster, and color cols. Constructed like:\n",
    "\n",
    "    all_coords = pd.DataFrame(data = reduced, columns = ['x', 'y','z'])\n",
    "    all_coords['title'] = labels\n",
    "    all_coords['text'] = data\n",
    "    all_coords['cluster'] = clusters\"\"\"\n",
    "    fig = go.Figure()\n",
    "\n",
    "    # Group titles and get top N words per cluster\n",
    "    docs_per_topic = all_coords.groupby([\"cluster\"], as_index=False).agg(\n",
    "        {\"text\": \" \".join}\n",
    "    )\n",
    "    tf_idf, count = c_tf_idf(docs_per_topic.text.values, m=len(clusters), stop_words=[])\n",
    "    top_n_words = extract_top_n_words_per_topic(tf_idf, count, docs_per_topic, n=15)\n",
    "    # pprint({k: [w for w,r in v] for k,v in top_n_words.items()}, compact=True)\n",
    "\n",
    "    # @title 3D Plot\n",
    "    max_labels = 3\n",
    "    words_per_cluster = {\n",
    "        n: [p for p, score in l[:max_labels]] for n, l in top_n_words.items()\n",
    "    }\n",
    "\n",
    "    # Clusters\n",
    "    for c in np.unique(clusters):\n",
    "        coords = all_coords[all_coords.cluster == c]\n",
    "        fig.add_trace(\n",
    "            go.Scatter3d(\n",
    "                x=coords[\"x\"],\n",
    "                y=coords[\"y\"],\n",
    "                z=coords[\"z\"],\n",
    "                mode=\"markers\",\n",
    "                marker_size=8,\n",
    "                marker_line_width=1,\n",
    "                name=f\"Cº{str(c)}: {'<br>'.join(textwrap.wrap(' '.join(words_per_cluster[c]), width=50))}\",\n",
    "                marker_color=coords[\"color\"],\n",
    "                text=coords[\"text\"].apply(\n",
    "                    lambda txt: \"<br>\".join(textwrap.wrap(txt, width=50))\n",
    "                ),\n",
    "                hoverinfo=\"text\",\n",
    "            )\n",
    "        )\n",
    "    return fig\n",
    "\n",
    "\n",
    "def get_hashtag(hashtag, until=now, since=desde, n=None):\n",
    "    c = twint.Config()\n",
    "    c.Profile_full = True\n",
    "    c.Pandas = True\n",
    "    c.Search = hashtag\n",
    "    c.Show_hashtags = True\n",
    "    c.Until = until\n",
    "    c.Since = since\n",
    "    c.Count = True\n",
    "    c.Retweets = True\n",
    "    c.Hide_output = True\n",
    "    if n:\n",
    "        c.Limit = n\n",
    "\n",
    "    c.Store_csv = True\n",
    "    c.Output = until + \" to \" + since + \".csv\"\n",
    "\n",
    "    twint.run.Search(c)\n",
    "    tweets = twint.output.panda.Tweets_df[[\"date\", \"tweet\", \"hashtags\"]]\n",
    "    return tweets\n",
    "\n",
    "\n",
    "def get_user(user, until=now, since=desde, n=None):\n",
    "    # Descargamos tweets\n",
    "    c = twint.Config()\n",
    "    c.Username = user\n",
    "    c.Until = until\n",
    "    c.Since = since\n",
    "    c.Hide_output = True\n",
    "    c.Pandas = True\n",
    "    if n:\n",
    "        c.Limit = n\n",
    "    twint.run.Search(c)\n",
    "    tweets = twint.output.panda.Tweets_df[[\"date\", \"tweet\", \"hashtags\"]]\n",
    "    return tweets\n",
    "\n",
    "print(\"Descargando Tweets...\")\n",
    "\n",
    "if buscar_por == \"usuario\":\n",
    "    func = get_user\n",
    "    query = usuario\n",
    "else:\n",
    "    func = get_hashtag\n",
    "    query = hashtag\n",
    "\n",
    "tweets = func(query, n=n)\n",
    "print(f'Got {tweets.shape[0]} tweets')\n",
    "if download_csv:\n",
    "    # Descargar csv a local\n",
    "    tweets.to_csv(f\"{user}.csv\")\n",
    "    from google.colab import files\n",
    "\n",
    "    files.download(f\"{user}.csv\")\n",
    "  \n",
    "\n",
    "print(\"Despertando IAs...\")\n",
    "with io.capture_output() as captured:\n",
    "    sentence_transformers_model = (\n",
    "        \"sentence-transformers/distilbert-multilingual-nli-stsb-quora-ranking\"\n",
    "    )\n",
    "    model = SentenceTransformer(sentence_transformers_model)\n",
    "    #get_sentiment = pipeline(\"sentiment-analysis\", model=sentiment_model)\n",
    "\n",
    "print(\"Procesando...\")\n",
    "tweets[\"tweet\"] = tweets.apply(lambda x: p.clean(x[\"tweet\"]), axis=1)\n",
    "\n",
    "# Por tweets iguales con distintas URLs\n",
    "tweets = tweets.drop_duplicates(\"tweet\")\n",
    "tweets = tweets.loc[(tweets[\"tweet\"].str.len() > 1), :]\n",
    "\n",
    "embeddings = model.encode(tweets[\"tweet\"].tolist())\n",
    "reducer = umap.UMAP(n_components=3).fit(embeddings)\n",
    "umap_embeddings = reducer.transform(embeddings)\n",
    "cluster = hdbscan.HDBSCAN().fit(umap_embeddings)\n",
    "\n",
    "data = tweets[\"tweet\"].tolist()\n",
    "clusters = cluster.labels_\n",
    "\n",
    "all_coords = pd.DataFrame(data=umap_embeddings, columns=[\"x\", \"y\", \"z\"])\n",
    "all_coords[\"text\"] = data\n",
    "all_coords[\"cluster\"] = clusters\n",
    "\n",
    "# for style in ['YlGnBu']:\n",
    "style = \"viridis_r\"\n",
    "# We generate a list of colors\n",
    "palette = sns.color_palette(style, n_colors=len(np.unique(clusters)) + 1).as_hex()\n",
    "all_coords[\"color\"] = [palette[i] for i in clusters]\n",
    "\n",
    "fig = plot_clusters(all_coords, clusters)\n",
    "fig.update_layout(\n",
    "    width=1000,\n",
    "    height=800,\n",
    "    autosize=False,\n",
    "    showlegend=True,\n",
    "    scene={\"aspectmode\": \"cube\"},\n",
    ")\n",
    "fig.show()"
   ]
  },
  {
   "cell_type": "code",
   "execution_count": null,
   "metadata": {
    "cellView": "form",
    "colab": {
     "base_uri": "https://localhost:8080/",
     "height": 463
    },
    "id": "YOHgwz1T6SMD",
    "outputId": "9b1d6d30-a7cd-4d04-9015-6aeff908ef50"
   },
   "outputs": [
    {
     "data": {
      "image/png": "[encoded data removed]",
      "text/plain": [
       "<Figure size 432x432 with 1 Axes>"
      ]
     },
     "metadata": {
      "needs_background": "light",
      "tags": []
     },
     "output_type": "display_data"
    }
   ],
   "source": [
    "#@title Word Cloud\n",
    "img_url = \"https://toppng.com/uploads/preview/human-brain-png-high-quality-image-brain-clipart-115630224411rqb2dvotv.png\"\n",
    "text = \" \".join(twint.output.panda.Tweets_df[\"tweet\"].tolist())\n",
    "make_cloud(text, img_url);"
   ]
  },
  {
   "cell_type": "code",
   "execution_count": null,
   "metadata": {
    "id": "NY5dLOoySV-D"
   },
   "outputs": [],
   "source": [
    "df = pd.read_csv('https://unket.s3-sa-east-1.amazonaws.com/data/tweets_uccuyo.csv')"
   ]
  },
  {
   "cell_type": "code",
   "execution_count": null,
   "metadata": {
    "colab": {
     "base_uri": "https://localhost:8080/",
     "height": 517
    },
    "id": "xRr-EeipQIvB",
    "outputId": "bb8ea0f6-652f-49f1-e528-ceb3966177bd"
   },
   "outputs": [
    {
     "data": {
      "text/html": [
       "<div>\n",
       "<style scoped>\n",
       "    .dataframe tbody tr th:only-of-type {\n",
       "        vertical-align: middle;\n",
       "    }\n",
       "\n",
       "    .dataframe tbody tr th {\n",
       "        vertical-align: top;\n",
       "    }\n",
       "\n",
       "    .dataframe thead th {\n",
       "        text-align: right;\n",
       "    }\n",
       "</style>\n",
       "<table border=\"1\" class=\"dataframe\">\n",
       "  <thead>\n",
       "    <tr style=\"text-align: right;\">\n",
       "      <th></th>\n",
       "      <th>id</th>\n",
       "      <th>conversation_id</th>\n",
       "      <th>created_at</th>\n",
       "      <th>date</th>\n",
       "      <th>timezone</th>\n",
       "      <th>place</th>\n",
       "      <th>tweet</th>\n",
       "      <th>language</th>\n",
       "      <th>hashtags</th>\n",
       "      <th>cashtags</th>\n",
       "      <th>user_id</th>\n",
       "      <th>user_id_str</th>\n",
       "      <th>username</th>\n",
       "      <th>name</th>\n",
       "      <th>day</th>\n",
       "      <th>hour</th>\n",
       "      <th>link</th>\n",
       "      <th>urls</th>\n",
       "      <th>photos</th>\n",
       "      <th>video</th>\n",
       "      <th>thumbnail</th>\n",
       "      <th>retweet</th>\n",
       "      <th>nlikes</th>\n",
       "      <th>nreplies</th>\n",
       "      <th>nretweets</th>\n",
       "      <th>quote_url</th>\n",
       "      <th>search</th>\n",
       "      <th>near</th>\n",
       "      <th>geo</th>\n",
       "      <th>source</th>\n",
       "      <th>user_rt_id</th>\n",
       "      <th>user_rt</th>\n",
       "      <th>retweet_id</th>\n",
       "      <th>reply_to</th>\n",
       "      <th>retweet_date</th>\n",
       "      <th>translate</th>\n",
       "      <th>trans_src</th>\n",
       "      <th>trans_dest</th>\n",
       "    </tr>\n",
       "  </thead>\n",
       "  <tbody>\n",
       "    <tr>\n",
       "      <th>0</th>\n",
       "      <td>1394679059943206915</td>\n",
       "      <td>1394679059943206915</td>\n",
       "      <td>1.621352e+12</td>\n",
       "      <td>2021-05-18 15:39:34</td>\n",
       "      <td>0</td>\n",
       "      <td>NaN</td>\n",
       "      <td>18 de Mayo  🏫Día Internacional de los Museos  ...</td>\n",
       "      <td>es</td>\n",
       "      <td>['uccuyo', 'paravos']</td>\n",
       "      <td>[]</td>\n",
       "      <td>370129152</td>\n",
       "      <td>370129152</td>\n",
       "      <td>UniversidadC</td>\n",
       "      <td>Universidad Católica de Cuyo</td>\n",
       "      <td>2</td>\n",
       "      <td>15</td>\n",
       "      <td>https://twitter.com/UniversidadC/status/139467...</td>\n",
       "      <td>[]</td>\n",
       "      <td>['https://pbs.twimg.com/media/E1rlNEqWEAozk6Y....</td>\n",
       "      <td>1</td>\n",
       "      <td>https://pbs.twimg.com/media/E1rlNEqWEAozk6Y.jpg</td>\n",
       "      <td>False</td>\n",
       "      <td>0</td>\n",
       "      <td>0</td>\n",
       "      <td>0</td>\n",
       "      <td>NaN</td>\n",
       "      <td>None</td>\n",
       "      <td>NaN</td>\n",
       "      <td>NaN</td>\n",
       "      <td>NaN</td>\n",
       "      <td>NaN</td>\n",
       "      <td>NaN</td>\n",
       "      <td>NaN</td>\n",
       "      <td>[]</td>\n",
       "      <td>NaN</td>\n",
       "      <td>NaN</td>\n",
       "      <td>NaN</td>\n",
       "      <td>NaN</td>\n",
       "    </tr>\n",
       "    <tr>\n",
       "      <th>1</th>\n",
       "      <td>1394493325407932417</td>\n",
       "      <td>1394493325407932417</td>\n",
       "      <td>1.621308e+12</td>\n",
       "      <td>2021-05-18 03:21:31</td>\n",
       "      <td>0</td>\n",
       "      <td>NaN</td>\n",
       "      <td>🇦🇷¡Viva la Patria!  #UCCuyo #ParaVos  https://...</td>\n",
       "      <td>es</td>\n",
       "      <td>['uccuyo', 'paravos']</td>\n",
       "      <td>[]</td>\n",
       "      <td>370129152</td>\n",
       "      <td>370129152</td>\n",
       "      <td>UniversidadC</td>\n",
       "      <td>Universidad Católica de Cuyo</td>\n",
       "      <td>2</td>\n",
       "      <td>3</td>\n",
       "      <td>https://twitter.com/UniversidadC/status/139449...</td>\n",
       "      <td>[]</td>\n",
       "      <td>['https://pbs.twimg.com/media/E1o8RqlXoAI8CP_....</td>\n",
       "      <td>1</td>\n",
       "      <td>https://pbs.twimg.com/media/E1o8RqlXoAI8CP_.jpg</td>\n",
       "      <td>False</td>\n",
       "      <td>0</td>\n",
       "      <td>0</td>\n",
       "      <td>0</td>\n",
       "      <td>NaN</td>\n",
       "      <td>None</td>\n",
       "      <td>NaN</td>\n",
       "      <td>NaN</td>\n",
       "      <td>NaN</td>\n",
       "      <td>NaN</td>\n",
       "      <td>NaN</td>\n",
       "      <td>NaN</td>\n",
       "      <td>[]</td>\n",
       "      <td>NaN</td>\n",
       "      <td>NaN</td>\n",
       "      <td>NaN</td>\n",
       "      <td>NaN</td>\n",
       "    </tr>\n",
       "    <tr>\n",
       "      <th>2</th>\n",
       "      <td>1393584430590177280</td>\n",
       "      <td>1393584430590177280</td>\n",
       "      <td>1.621091e+12</td>\n",
       "      <td>2021-05-15 15:09:54</td>\n",
       "      <td>0</td>\n",
       "      <td>NaN</td>\n",
       "      <td>Hoy‼️  👥🎶 Coro Universitario UCCuyo   ¡Te espe...</td>\n",
       "      <td>es</td>\n",
       "      <td>['uccuyo', 'paravos']</td>\n",
       "      <td>[]</td>\n",
       "      <td>370129152</td>\n",
       "      <td>370129152</td>\n",
       "      <td>UniversidadC</td>\n",
       "      <td>Universidad Católica de Cuyo</td>\n",
       "      <td>6</td>\n",
       "      <td>15</td>\n",
       "      <td>https://twitter.com/UniversidadC/status/139358...</td>\n",
       "      <td>[]</td>\n",
       "      <td>['https://pbs.twimg.com/media/E1cBpVXWYA0J6IV....</td>\n",
       "      <td>1</td>\n",
       "      <td>https://pbs.twimg.com/media/E1cBpVXWYA0J6IV.jpg</td>\n",
       "      <td>False</td>\n",
       "      <td>1</td>\n",
       "      <td>0</td>\n",
       "      <td>0</td>\n",
       "      <td>NaN</td>\n",
       "      <td>None</td>\n",
       "      <td>NaN</td>\n",
       "      <td>NaN</td>\n",
       "      <td>NaN</td>\n",
       "      <td>NaN</td>\n",
       "      <td>NaN</td>\n",
       "      <td>NaN</td>\n",
       "      <td>[]</td>\n",
       "      <td>NaN</td>\n",
       "      <td>NaN</td>\n",
       "      <td>NaN</td>\n",
       "      <td>NaN</td>\n",
       "    </tr>\n",
       "    <tr>\n",
       "      <th>3</th>\n",
       "      <td>1392502685463715846</td>\n",
       "      <td>1392502685463715846</td>\n",
       "      <td>1.620833e+12</td>\n",
       "      <td>2021-05-12 15:31:26</td>\n",
       "      <td>0</td>\n",
       "      <td>NaN</td>\n",
       "      <td>👩🏻‍⚕️🩹👨🏽‍⚕️Feliz día a todos los profesionales...</td>\n",
       "      <td>es</td>\n",
       "      <td>['uccuyo', 'paravos']</td>\n",
       "      <td>[]</td>\n",
       "      <td>370129152</td>\n",
       "      <td>370129152</td>\n",
       "      <td>UniversidadC</td>\n",
       "      <td>Universidad Católica de Cuyo</td>\n",
       "      <td>3</td>\n",
       "      <td>15</td>\n",
       "      <td>https://twitter.com/UniversidadC/status/139250...</td>\n",
       "      <td>[]</td>\n",
       "      <td>['https://pbs.twimg.com/media/E1MpzYeXMAEfM8E....</td>\n",
       "      <td>1</td>\n",
       "      <td>https://pbs.twimg.com/media/E1MpzYeXMAEfM8E.jpg</td>\n",
       "      <td>False</td>\n",
       "      <td>0</td>\n",
       "      <td>0</td>\n",
       "      <td>0</td>\n",
       "      <td>NaN</td>\n",
       "      <td>None</td>\n",
       "      <td>NaN</td>\n",
       "      <td>NaN</td>\n",
       "      <td>NaN</td>\n",
       "      <td>NaN</td>\n",
       "      <td>NaN</td>\n",
       "      <td>NaN</td>\n",
       "      <td>[]</td>\n",
       "      <td>NaN</td>\n",
       "      <td>NaN</td>\n",
       "      <td>NaN</td>\n",
       "      <td>NaN</td>\n",
       "    </tr>\n",
       "    <tr>\n",
       "      <th>4</th>\n",
       "      <td>1392173708282933253</td>\n",
       "      <td>1392173708282933253</td>\n",
       "      <td>1.620755e+12</td>\n",
       "      <td>2021-05-11 17:44:12</td>\n",
       "      <td>0</td>\n",
       "      <td>NaN</td>\n",
       "      <td>🏥Desde la Facultad de Ciencias Medicas-UCCuyo ...</td>\n",
       "      <td>es</td>\n",
       "      <td>['uccuyo', 'paravos']</td>\n",
       "      <td>[]</td>\n",
       "      <td>370129152</td>\n",
       "      <td>370129152</td>\n",
       "      <td>UniversidadC</td>\n",
       "      <td>Universidad Católica de Cuyo</td>\n",
       "      <td>2</td>\n",
       "      <td>17</td>\n",
       "      <td>https://twitter.com/UniversidadC/status/139217...</td>\n",
       "      <td>['https://zoom.us/j/97080525865']</td>\n",
       "      <td>['https://pbs.twimg.com/media/E1H-maMWEAI42Ty....</td>\n",
       "      <td>1</td>\n",
       "      <td>https://pbs.twimg.com/media/E1H-maMWEAI42Ty.jpg</td>\n",
       "      <td>False</td>\n",
       "      <td>0</td>\n",
       "      <td>0</td>\n",
       "      <td>0</td>\n",
       "      <td>NaN</td>\n",
       "      <td>None</td>\n",
       "      <td>NaN</td>\n",
       "      <td>NaN</td>\n",
       "      <td>NaN</td>\n",
       "      <td>NaN</td>\n",
       "      <td>NaN</td>\n",
       "      <td>NaN</td>\n",
       "      <td>[]</td>\n",
       "      <td>NaN</td>\n",
       "      <td>NaN</td>\n",
       "      <td>NaN</td>\n",
       "      <td>NaN</td>\n",
       "    </tr>\n",
       "  </tbody>\n",
       "</table>\n",
       "</div>"
      ],
      "text/plain": [
       "                    id      conversation_id  ...  trans_src trans_dest\n",
       "0  1394679059943206915  1394679059943206915  ...        NaN        NaN\n",
       "1  1394493325407932417  1394493325407932417  ...        NaN        NaN\n",
       "2  1393584430590177280  1393584430590177280  ...        NaN        NaN\n",
       "3  1392502685463715846  1392502685463715846  ...        NaN        NaN\n",
       "4  1392173708282933253  1392173708282933253  ...        NaN        NaN\n",
       "\n",
       "[5 rows x 38 columns]"
      ]
     },
     "execution_count": 102,
     "metadata": {
      "tags": []
     },
     "output_type": "execute_result"
    }
   ],
   "source": [
    "df.head()"
   ]
  },
  {
   "cell_type": "code",
   "execution_count": null,
   "metadata": {
    "id": "wuTVMB7beJLE"
   },
   "outputs": [],
   "source": [
    "import pandas as pd"
   ]
  },
  {
   "cell_type": "code",
   "execution_count": null,
   "metadata": {
    "colab": {
     "base_uri": "https://localhost:8080/"
    },
    "id": "RZPYyGs9UWeh",
    "outputId": "de5a52a5-db77-4445-8f61-c6d8508ee700"
   },
   "outputs": [
    {
     "data": {
      "text/plain": [
       "Index(['id', 'conversation_id', 'created_at', 'date', 'timezone', 'place',\n",
       "       'tweet', 'language', 'hashtags', 'cashtags', 'user_id', 'user_id_str',\n",
       "       'username', 'name', 'day', 'hour', 'link', 'urls', 'photos', 'video',\n",
       "       'thumbnail', 'retweet', 'nlikes', 'nreplies', 'nretweets', 'quote_url',\n",
       "       'search', 'near', 'geo', 'source', 'user_rt_id', 'user_rt',\n",
       "       'retweet_id', 'reply_to', 'retweet_date', 'translate', 'trans_src',\n",
       "       'trans_dest'],\n",
       "      dtype='object')"
      ]
     },
     "execution_count": 44,
     "metadata": {},
     "output_type": "execute_result"
    }
   ],
   "source": [
    "df.columns"
   ]
  },
  {
   "cell_type": "code",
   "execution_count": null,
   "metadata": {
    "colab": {
     "base_uri": "https://localhost:8080/",
     "height": 271
    },
    "id": "VTZAdqBMUWei",
    "outputId": "78af982c-94e9-454d-9119-b2723a18e6da"
   },
   "outputs": [
    {
     "data": {
      "text/html": [
       "<div>\n",
       "<style scoped>\n",
       "    .dataframe tbody tr th:only-of-type {\n",
       "        vertical-align: middle;\n",
       "    }\n",
       "\n",
       "    .dataframe tbody tr th {\n",
       "        vertical-align: top;\n",
       "    }\n",
       "\n",
       "    .dataframe thead th {\n",
       "        text-align: right;\n",
       "    }\n",
       "</style>\n",
       "<table border=\"1\" class=\"dataframe\">\n",
       "  <thead>\n",
       "    <tr style=\"text-align: right;\">\n",
       "      <th></th>\n",
       "      <th>id</th>\n",
       "      <th>conversation_id</th>\n",
       "      <th>created_at</th>\n",
       "      <th>date</th>\n",
       "      <th>timezone</th>\n",
       "      <th>place</th>\n",
       "      <th>tweet</th>\n",
       "      <th>language</th>\n",
       "      <th>hashtags</th>\n",
       "      <th>cashtags</th>\n",
       "      <th>user_id</th>\n",
       "      <th>user_id_str</th>\n",
       "      <th>username</th>\n",
       "      <th>name</th>\n",
       "      <th>day</th>\n",
       "      <th>hour</th>\n",
       "      <th>link</th>\n",
       "      <th>urls</th>\n",
       "      <th>photos</th>\n",
       "      <th>video</th>\n",
       "      <th>thumbnail</th>\n",
       "      <th>retweet</th>\n",
       "      <th>nlikes</th>\n",
       "      <th>nreplies</th>\n",
       "      <th>nretweets</th>\n",
       "      <th>quote_url</th>\n",
       "      <th>search</th>\n",
       "      <th>near</th>\n",
       "      <th>geo</th>\n",
       "      <th>source</th>\n",
       "      <th>user_rt_id</th>\n",
       "      <th>user_rt</th>\n",
       "      <th>retweet_id</th>\n",
       "      <th>reply_to</th>\n",
       "      <th>retweet_date</th>\n",
       "      <th>translate</th>\n",
       "      <th>trans_src</th>\n",
       "      <th>trans_dest</th>\n",
       "    </tr>\n",
       "  </thead>\n",
       "  <tbody>\n",
       "    <tr>\n",
       "      <th>45</th>\n",
       "      <td>1335065090522050567</td>\n",
       "      <td>1335065090522050567</td>\n",
       "      <td>1.607139e+12</td>\n",
       "      <td>2020-12-05 03:34:56</td>\n",
       "      <td>0</td>\n",
       "      <td>NaN</td>\n",
       "      <td>🙌 Las prácticas de compromiso social, como act...</td>\n",
       "      <td>es</td>\n",
       "      <td>['uccuyo', 'enacción']</td>\n",
       "      <td>[]</td>\n",
       "      <td>370129152</td>\n",
       "      <td>370129152</td>\n",
       "      <td>UniversidadC</td>\n",
       "      <td>Universidad Católica de Cuyo</td>\n",
       "      <td>6</td>\n",
       "      <td>3</td>\n",
       "      <td>https://twitter.com/UniversidadC/status/133506...</td>\n",
       "      <td>[]</td>\n",
       "      <td>['https://pbs.twimg.com/media/Eocam1GW8AETF0s....</td>\n",
       "      <td>1</td>\n",
       "      <td>https://pbs.twimg.com/media/Eocam1GW8AETF0s.jpg</td>\n",
       "      <td>False</td>\n",
       "      <td>1</td>\n",
       "      <td>0</td>\n",
       "      <td>0</td>\n",
       "      <td>NaN</td>\n",
       "      <td>None</td>\n",
       "      <td>NaN</td>\n",
       "      <td>NaN</td>\n",
       "      <td>NaN</td>\n",
       "      <td>NaN</td>\n",
       "      <td>NaN</td>\n",
       "      <td>NaN</td>\n",
       "      <td>[]</td>\n",
       "      <td>NaN</td>\n",
       "      <td>NaN</td>\n",
       "      <td>NaN</td>\n",
       "      <td>NaN</td>\n",
       "    </tr>\n",
       "    <tr>\n",
       "      <th>112</th>\n",
       "      <td>1277617075113033730</td>\n",
       "      <td>1277617075113033730</td>\n",
       "      <td>1.593443e+12</td>\n",
       "      <td>2020-06-29 14:57:02</td>\n",
       "      <td>0</td>\n",
       "      <td>NaN</td>\n",
       "      <td>🧠⚖️Nueva propuesta de actualización junto a la...</td>\n",
       "      <td>es</td>\n",
       "      <td>['uccuyo', 'enacción']</td>\n",
       "      <td>[]</td>\n",
       "      <td>370129152</td>\n",
       "      <td>370129152</td>\n",
       "      <td>UniversidadC</td>\n",
       "      <td>Universidad Católica de Cuyo</td>\n",
       "      <td>1</td>\n",
       "      <td>14</td>\n",
       "      <td>https://twitter.com/UniversidadC/status/127761...</td>\n",
       "      <td>['https://forms.gle/Q9gvj97inAr9joQ2A']</td>\n",
       "      <td>['https://pbs.twimg.com/media/EbsB8FEXsAAKEoD....</td>\n",
       "      <td>1</td>\n",
       "      <td>https://pbs.twimg.com/media/EbsB8FEXsAAKEoD.jpg</td>\n",
       "      <td>False</td>\n",
       "      <td>0</td>\n",
       "      <td>0</td>\n",
       "      <td>0</td>\n",
       "      <td>NaN</td>\n",
       "      <td>None</td>\n",
       "      <td>NaN</td>\n",
       "      <td>NaN</td>\n",
       "      <td>NaN</td>\n",
       "      <td>NaN</td>\n",
       "      <td>NaN</td>\n",
       "      <td>NaN</td>\n",
       "      <td>[]</td>\n",
       "      <td>NaN</td>\n",
       "      <td>NaN</td>\n",
       "      <td>NaN</td>\n",
       "      <td>NaN</td>\n",
       "    </tr>\n",
       "  </tbody>\n",
       "</table>\n",
       "</div>"
      ],
      "text/plain": [
       "                      id      conversation_id  ...  trans_src trans_dest\n",
       "45   1335065090522050567  1335065090522050567  ...        NaN        NaN\n",
       "112  1277617075113033730  1277617075113033730  ...        NaN        NaN\n",
       "\n",
       "[2 rows x 38 columns]"
      ]
     },
     "execution_count": 45,
     "metadata": {},
     "output_type": "execute_result"
    }
   ],
   "source": [
    "df.sample(2)"
   ]
  },
  {
   "cell_type": "code",
   "execution_count": null,
   "metadata": {
    "colab": {
     "base_uri": "https://localhost:8080/"
    },
    "id": "BcnYijQDUWei",
    "outputId": "e095da94-1a70-42ab-99e1-e439b0667ba4"
   },
   "outputs": [
    {
     "data": {
      "text/plain": [
       "(163, 38)"
      ]
     },
     "execution_count": 108,
     "metadata": {
      "tags": []
     },
     "output_type": "execute_result"
    }
   ],
   "source": [
    "# La propiedad shape nos devuelve una tupla (filas,columnas)\n",
    "df.shape"
   ]
  },
  {
   "cell_type": "code",
   "execution_count": null,
   "metadata": {
    "colab": {
     "base_uri": "https://localhost:8080/"
    },
    "id": "wgh_OGPj9nRC",
    "outputId": "4faa4bdc-db90-4773-989e-162ab6d4fe02"
   },
   "outputs": [
    {
     "data": {
      "text/plain": [
       "0      0\n",
       "1      0\n",
       "2      1\n",
       "3      0\n",
       "4      0\n",
       "      ..\n",
       "158    0\n",
       "159    0\n",
       "160    0\n",
       "161    0\n",
       "162    1\n",
       "Name: nlikes, Length: 163, dtype: int64"
      ]
     },
     "execution_count": 112,
     "metadata": {
      "tags": []
     },
     "output_type": "execute_result"
    }
   ],
   "source": [
    "df['nlikes']"
   ]
  },
  {
   "cell_type": "code",
   "execution_count": null,
   "metadata": {
    "colab": {
     "base_uri": "https://localhost:8080/"
    },
    "id": "d3M17lvXUWek",
    "outputId": "83966904-866d-4e14-e2e6-b88226351435"
   },
   "outputs": [
    {
     "name": "stdout",
     "output_type": "stream",
     "text": [
      "Columnas  Index(['id', 'conversation_id', 'created_at', 'date', 'timezone', 'place',\n",
      "       'tweet', 'language', 'hashtags', 'cashtags', 'user_id', 'user_id_str',\n",
      "       'username', 'name', 'day', 'hour', 'link', 'urls', 'photos', 'video',\n",
      "       'thumbnail', 'retweet', 'nlikes', 'nreplies', 'nretweets', 'quote_url',\n",
      "       'search', 'near', 'geo', 'source', 'user_rt_id', 'user_rt',\n",
      "       'retweet_id', 'reply_to', 'retweet_date', 'translate', 'trans_src',\n",
      "       'trans_dest'],\n",
      "      dtype='object')\n",
      "Index  RangeIndex(start=0, stop=163, step=1)\n",
      "Dimensiones  (163, 38)\n"
     ]
    }
   ],
   "source": [
    "# Propiedades importantes de los dataframes\n",
    "print('Columnas ', df.columns)\n",
    "print('Index ', df.index)\n",
    "print('Dimensiones ',df.shape)"
   ]
  },
  {
   "cell_type": "code",
   "execution_count": null,
   "metadata": {
    "colab": {
     "base_uri": "https://localhost:8080/",
     "height": 517
    },
    "id": "DBxnLSRUUWek",
    "outputId": "842e0749-5380-44d4-9690-feb31ef837b4"
   },
   "outputs": [
    {
     "data": {
      "text/html": [
       "<div>\n",
       "<style scoped>\n",
       "    .dataframe tbody tr th:only-of-type {\n",
       "        vertical-align: middle;\n",
       "    }\n",
       "\n",
       "    .dataframe tbody tr th {\n",
       "        vertical-align: top;\n",
       "    }\n",
       "\n",
       "    .dataframe thead th {\n",
       "        text-align: right;\n",
       "    }\n",
       "</style>\n",
       "<table border=\"1\" class=\"dataframe\">\n",
       "  <thead>\n",
       "    <tr style=\"text-align: right;\">\n",
       "      <th></th>\n",
       "      <th>id</th>\n",
       "      <th>conversation_id</th>\n",
       "      <th>created_at</th>\n",
       "      <th>date</th>\n",
       "      <th>timezone</th>\n",
       "      <th>place</th>\n",
       "      <th>tweet</th>\n",
       "      <th>language</th>\n",
       "      <th>hashtags</th>\n",
       "      <th>cashtags</th>\n",
       "      <th>user_id</th>\n",
       "      <th>user_id_str</th>\n",
       "      <th>username</th>\n",
       "      <th>name</th>\n",
       "      <th>day</th>\n",
       "      <th>hour</th>\n",
       "      <th>link</th>\n",
       "      <th>urls</th>\n",
       "      <th>photos</th>\n",
       "      <th>video</th>\n",
       "      <th>thumbnail</th>\n",
       "      <th>retweet</th>\n",
       "      <th>nlikes</th>\n",
       "      <th>nreplies</th>\n",
       "      <th>nretweets</th>\n",
       "      <th>quote_url</th>\n",
       "      <th>search</th>\n",
       "      <th>near</th>\n",
       "      <th>geo</th>\n",
       "      <th>source</th>\n",
       "      <th>user_rt_id</th>\n",
       "      <th>user_rt</th>\n",
       "      <th>retweet_id</th>\n",
       "      <th>reply_to</th>\n",
       "      <th>retweet_date</th>\n",
       "      <th>translate</th>\n",
       "      <th>trans_src</th>\n",
       "      <th>trans_dest</th>\n",
       "    </tr>\n",
       "  </thead>\n",
       "  <tbody>\n",
       "    <tr>\n",
       "      <th>0</th>\n",
       "      <td>1394679059943206915</td>\n",
       "      <td>1394679059943206915</td>\n",
       "      <td>1.621352e+12</td>\n",
       "      <td>2021-05-18 15:39:34</td>\n",
       "      <td>0</td>\n",
       "      <td>NaN</td>\n",
       "      <td>18 de Mayo  🏫Día Internacional de los Museos  ...</td>\n",
       "      <td>es</td>\n",
       "      <td>['uccuyo', 'paravos']</td>\n",
       "      <td>[]</td>\n",
       "      <td>370129152</td>\n",
       "      <td>370129152</td>\n",
       "      <td>UniversidadC</td>\n",
       "      <td>Universidad Católica de Cuyo</td>\n",
       "      <td>2</td>\n",
       "      <td>15</td>\n",
       "      <td>https://twitter.com/UniversidadC/status/139467...</td>\n",
       "      <td>[]</td>\n",
       "      <td>['https://pbs.twimg.com/media/E1rlNEqWEAozk6Y....</td>\n",
       "      <td>1</td>\n",
       "      <td>https://pbs.twimg.com/media/E1rlNEqWEAozk6Y.jpg</td>\n",
       "      <td>False</td>\n",
       "      <td>0</td>\n",
       "      <td>0</td>\n",
       "      <td>0</td>\n",
       "      <td>NaN</td>\n",
       "      <td>None</td>\n",
       "      <td>NaN</td>\n",
       "      <td>NaN</td>\n",
       "      <td>NaN</td>\n",
       "      <td>NaN</td>\n",
       "      <td>NaN</td>\n",
       "      <td>NaN</td>\n",
       "      <td>[]</td>\n",
       "      <td>NaN</td>\n",
       "      <td>NaN</td>\n",
       "      <td>NaN</td>\n",
       "      <td>NaN</td>\n",
       "    </tr>\n",
       "    <tr>\n",
       "      <th>1</th>\n",
       "      <td>1394493325407932417</td>\n",
       "      <td>1394493325407932417</td>\n",
       "      <td>1.621308e+12</td>\n",
       "      <td>2021-05-18 03:21:31</td>\n",
       "      <td>0</td>\n",
       "      <td>NaN</td>\n",
       "      <td>🇦🇷¡Viva la Patria!  #UCCuyo #ParaVos  https://...</td>\n",
       "      <td>es</td>\n",
       "      <td>['uccuyo', 'paravos']</td>\n",
       "      <td>[]</td>\n",
       "      <td>370129152</td>\n",
       "      <td>370129152</td>\n",
       "      <td>UniversidadC</td>\n",
       "      <td>Universidad Católica de Cuyo</td>\n",
       "      <td>2</td>\n",
       "      <td>3</td>\n",
       "      <td>https://twitter.com/UniversidadC/status/139449...</td>\n",
       "      <td>[]</td>\n",
       "      <td>['https://pbs.twimg.com/media/E1o8RqlXoAI8CP_....</td>\n",
       "      <td>1</td>\n",
       "      <td>https://pbs.twimg.com/media/E1o8RqlXoAI8CP_.jpg</td>\n",
       "      <td>False</td>\n",
       "      <td>0</td>\n",
       "      <td>0</td>\n",
       "      <td>0</td>\n",
       "      <td>NaN</td>\n",
       "      <td>None</td>\n",
       "      <td>NaN</td>\n",
       "      <td>NaN</td>\n",
       "      <td>NaN</td>\n",
       "      <td>NaN</td>\n",
       "      <td>NaN</td>\n",
       "      <td>NaN</td>\n",
       "      <td>[]</td>\n",
       "      <td>NaN</td>\n",
       "      <td>NaN</td>\n",
       "      <td>NaN</td>\n",
       "      <td>NaN</td>\n",
       "    </tr>\n",
       "    <tr>\n",
       "      <th>2</th>\n",
       "      <td>1393584430590177280</td>\n",
       "      <td>1393584430590177280</td>\n",
       "      <td>1.621091e+12</td>\n",
       "      <td>2021-05-15 15:09:54</td>\n",
       "      <td>0</td>\n",
       "      <td>NaN</td>\n",
       "      <td>Hoy‼️  👥🎶 Coro Universitario UCCuyo   ¡Te espe...</td>\n",
       "      <td>es</td>\n",
       "      <td>['uccuyo', 'paravos']</td>\n",
       "      <td>[]</td>\n",
       "      <td>370129152</td>\n",
       "      <td>370129152</td>\n",
       "      <td>UniversidadC</td>\n",
       "      <td>Universidad Católica de Cuyo</td>\n",
       "      <td>6</td>\n",
       "      <td>15</td>\n",
       "      <td>https://twitter.com/UniversidadC/status/139358...</td>\n",
       "      <td>[]</td>\n",
       "      <td>['https://pbs.twimg.com/media/E1cBpVXWYA0J6IV....</td>\n",
       "      <td>1</td>\n",
       "      <td>https://pbs.twimg.com/media/E1cBpVXWYA0J6IV.jpg</td>\n",
       "      <td>False</td>\n",
       "      <td>1</td>\n",
       "      <td>0</td>\n",
       "      <td>0</td>\n",
       "      <td>NaN</td>\n",
       "      <td>None</td>\n",
       "      <td>NaN</td>\n",
       "      <td>NaN</td>\n",
       "      <td>NaN</td>\n",
       "      <td>NaN</td>\n",
       "      <td>NaN</td>\n",
       "      <td>NaN</td>\n",
       "      <td>[]</td>\n",
       "      <td>NaN</td>\n",
       "      <td>NaN</td>\n",
       "      <td>NaN</td>\n",
       "      <td>NaN</td>\n",
       "    </tr>\n",
       "    <tr>\n",
       "      <th>3</th>\n",
       "      <td>1392502685463715846</td>\n",
       "      <td>1392502685463715846</td>\n",
       "      <td>1.620833e+12</td>\n",
       "      <td>2021-05-12 15:31:26</td>\n",
       "      <td>0</td>\n",
       "      <td>NaN</td>\n",
       "      <td>👩🏻‍⚕️🩹👨🏽‍⚕️Feliz día a todos los profesionales...</td>\n",
       "      <td>es</td>\n",
       "      <td>['uccuyo', 'paravos']</td>\n",
       "      <td>[]</td>\n",
       "      <td>370129152</td>\n",
       "      <td>370129152</td>\n",
       "      <td>UniversidadC</td>\n",
       "      <td>Universidad Católica de Cuyo</td>\n",
       "      <td>3</td>\n",
       "      <td>15</td>\n",
       "      <td>https://twitter.com/UniversidadC/status/139250...</td>\n",
       "      <td>[]</td>\n",
       "      <td>['https://pbs.twimg.com/media/E1MpzYeXMAEfM8E....</td>\n",
       "      <td>1</td>\n",
       "      <td>https://pbs.twimg.com/media/E1MpzYeXMAEfM8E.jpg</td>\n",
       "      <td>False</td>\n",
       "      <td>0</td>\n",
       "      <td>0</td>\n",
       "      <td>0</td>\n",
       "      <td>NaN</td>\n",
       "      <td>None</td>\n",
       "      <td>NaN</td>\n",
       "      <td>NaN</td>\n",
       "      <td>NaN</td>\n",
       "      <td>NaN</td>\n",
       "      <td>NaN</td>\n",
       "      <td>NaN</td>\n",
       "      <td>[]</td>\n",
       "      <td>NaN</td>\n",
       "      <td>NaN</td>\n",
       "      <td>NaN</td>\n",
       "      <td>NaN</td>\n",
       "    </tr>\n",
       "    <tr>\n",
       "      <th>4</th>\n",
       "      <td>1392173708282933253</td>\n",
       "      <td>1392173708282933253</td>\n",
       "      <td>1.620755e+12</td>\n",
       "      <td>2021-05-11 17:44:12</td>\n",
       "      <td>0</td>\n",
       "      <td>NaN</td>\n",
       "      <td>🏥Desde la Facultad de Ciencias Medicas-UCCuyo ...</td>\n",
       "      <td>es</td>\n",
       "      <td>['uccuyo', 'paravos']</td>\n",
       "      <td>[]</td>\n",
       "      <td>370129152</td>\n",
       "      <td>370129152</td>\n",
       "      <td>UniversidadC</td>\n",
       "      <td>Universidad Católica de Cuyo</td>\n",
       "      <td>2</td>\n",
       "      <td>17</td>\n",
       "      <td>https://twitter.com/UniversidadC/status/139217...</td>\n",
       "      <td>['https://zoom.us/j/97080525865']</td>\n",
       "      <td>['https://pbs.twimg.com/media/E1H-maMWEAI42Ty....</td>\n",
       "      <td>1</td>\n",
       "      <td>https://pbs.twimg.com/media/E1H-maMWEAI42Ty.jpg</td>\n",
       "      <td>False</td>\n",
       "      <td>0</td>\n",
       "      <td>0</td>\n",
       "      <td>0</td>\n",
       "      <td>NaN</td>\n",
       "      <td>None</td>\n",
       "      <td>NaN</td>\n",
       "      <td>NaN</td>\n",
       "      <td>NaN</td>\n",
       "      <td>NaN</td>\n",
       "      <td>NaN</td>\n",
       "      <td>NaN</td>\n",
       "      <td>[]</td>\n",
       "      <td>NaN</td>\n",
       "      <td>NaN</td>\n",
       "      <td>NaN</td>\n",
       "      <td>NaN</td>\n",
       "    </tr>\n",
       "  </tbody>\n",
       "</table>\n",
       "</div>"
      ],
      "text/plain": [
       "                    id      conversation_id  ...  trans_src trans_dest\n",
       "0  1394679059943206915  1394679059943206915  ...        NaN        NaN\n",
       "1  1394493325407932417  1394493325407932417  ...        NaN        NaN\n",
       "2  1393584430590177280  1393584430590177280  ...        NaN        NaN\n",
       "3  1392502685463715846  1392502685463715846  ...        NaN        NaN\n",
       "4  1392173708282933253  1392173708282933253  ...        NaN        NaN\n",
       "\n",
       "[5 rows x 38 columns]"
      ]
     },
     "execution_count": 120,
     "metadata": {
      "tags": []
     },
     "output_type": "execute_result"
    }
   ],
   "source": [
    "# Consultar las primeras filas\n",
    "df.head()"
   ]
  },
  {
   "cell_type": "markdown",
   "metadata": {
    "id": "JG8xU_A7UWek"
   },
   "source": [
    "Si queremos extraer una serie del DataFrame, podemos hacerlo de la misma forma en que extraemos un valor de un diccionario.\n",
    "\n"
   ]
  },
  {
   "cell_type": "code",
   "execution_count": null,
   "metadata": {
    "id": "NQmtker_UWel"
   },
   "outputs": [],
   "source": [
    "serie_mes = df['nlikes']"
   ]
  },
  {
   "cell_type": "code",
   "execution_count": null,
   "metadata": {
    "colab": {
     "base_uri": "https://localhost:8080/"
    },
    "id": "2jHnhRbm-esd",
    "outputId": "92d6e916-67a8-4973-ad18-4c8685d2b980"
   },
   "outputs": [
    {
     "data": {
      "text/plain": [
       "0      0\n",
       "1      0\n",
       "2      1\n",
       "3      0\n",
       "4      0\n",
       "      ..\n",
       "158    0\n",
       "159    0\n",
       "160    0\n",
       "161    0\n",
       "162    1\n",
       "Name: nlikes, Length: 163, dtype: int64"
      ]
     },
     "execution_count": 126,
     "metadata": {
      "tags": []
     },
     "output_type": "execute_result"
    }
   ],
   "source": [
    "serie_mes"
   ]
  },
  {
   "cell_type": "code",
   "execution_count": null,
   "metadata": {
    "colab": {
     "base_uri": "https://localhost:8080/"
    },
    "id": "4nNk35zbUWel",
    "outputId": "48d8656b-f351-4ac8-dca7-2255e5f2e320"
   },
   "outputs": [
    {
     "data": {
      "text/plain": [
       "pandas.core.series.Series"
      ]
     },
     "execution_count": 123,
     "metadata": {
      "tags": []
     },
     "output_type": "execute_result"
    }
   ],
   "source": [
    "type(serie_mes)"
   ]
  }
 ],
 "metadata": {
  "colab": {
   "collapsed_sections": [],
   "name": "Clase 5: Análisis de datos I.ipynb",
   "provenance": []
  },
  "kernelspec": {
   "display_name": "Python 3",
   "language": "python",
   "name": "python3"
  },
  "language_info": {
   "codemirror_mode": {
    "name": "ipython",
    "version": 3
   },
   "file_extension": ".py",
   "mimetype": "text/x-python",
   "name": "python",
   "nbconvert_exporter": "python",
   "pygments_lexer": "ipython3",
   "version": "3.8.8"
  }
 },
 "nbformat": 4,
 "nbformat_minor": 4
}
