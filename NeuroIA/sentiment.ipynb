{
 "cells": [
  {
   "cell_type": "markdown",
   "metadata": {
    "id": "t9cx37UvrZO0"
   },
   "source": [
    "<a href=\"https://colab.research.google.com/github/institutohumai/cursos-python/blob/neuro/NeuroIA/sentiment.ipynb\"> <img src='https://colab.research.google.com/assets/colab-badge.svg' /> </a>\n",
    "    <div align=\"center\"> Recordá abrir en una nueva pestaña </div>\n",
    "    "
   ]
  },
  {
   "cell_type": "markdown",
   "metadata": {
    "id": "5EeMD_Eyy6Id"
   },
   "source": [
    "# NLP\n",
    "\n",
    "Vamos a ver un ejemplo sencillo de clasificación de texto, haciendo un sentiment análisis de frases o positivas o negativas.\n",
    "\n",
    "Para esto usamos la librería sklearn, con el método TF-IDF y un clasificador Naïve Bayes."
   ]
  },
  {
   "cell_type": "code",
   "execution_count": null,
   "metadata": {
    "colab": {
     "base_uri": "https://localhost:8080/"
    },
    "id": "uaP-lYUKrZO1",
    "outputId": "d646d45b-7e30-4083-bf6d-1a6705a7e297"
   },
   "outputs": [
    {
     "name": "stdout",
     "output_type": "stream",
     "text": [
      "--2020-11-10 20:10:37--  https://datasets-humai.s3.amazonaws.com/datasets/sentiment.csv\n",
      "Resolving datasets-humai.s3.amazonaws.com (datasets-humai.s3.amazonaws.com)... 52.216.108.67\n",
      "Connecting to datasets-humai.s3.amazonaws.com (datasets-humai.s3.amazonaws.com)|52.216.108.67|:443... connected.\n",
      "HTTP request sent, awaiting response... 200 OK\n",
      "Length: 125932 (123K) [text/csv]\n",
      "Saving to: ‘sentiment.csv’\n",
      "\n",
      "sentiment.csv       100%[===================>] 122.98K   604KB/s    in 0.2s    \n",
      "\n",
      "2020-11-10 20:10:37 (604 KB/s) - ‘sentiment.csv’ saved [125932/125932]\n",
      "\n"
     ]
    }
   ],
   "source": [
    "!wget https://datasets-humai.s3.amazonaws.com/datasets/sentiment.csv"
   ]
  },
  {
   "cell_type": "code",
   "execution_count": null,
   "metadata": {
    "id": "-SURyyTirZO6"
   },
   "outputs": [],
   "source": [
    "import pandas as pd\n",
    "from sklearn.model_selection import train_test_split\n",
    "from sklearn.naive_bayes import MultinomialNB\n",
    "from sklearn.feature_extraction.text import TfidfVectorizer\n",
    "from sklearn.pipeline import make_pipeline\n",
    "from sklearn.metrics import confusion_matrix,accuracy_score\n",
    "import seaborn as sns\n",
    "import matplotlib.pyplot as plt"
   ]
  },
  {
   "cell_type": "code",
   "execution_count": null,
   "metadata": {
    "id": "E56rERUwrZO9"
   },
   "outputs": [],
   "source": [
    "df = pd.read_csv('sentiment.csv')"
   ]
  },
  {
   "cell_type": "code",
   "execution_count": null,
   "metadata": {
    "colab": {
     "base_uri": "https://localhost:8080/",
     "height": 202
    },
    "id": "fs4rp7gzrZPA",
    "outputId": "2ad436d3-7f17-4776-a7a8-f279be3ccf7c"
   },
   "outputs": [
    {
     "data": {
      "text/html": [
       "<div>\n",
       "<style scoped>\n",
       "    .dataframe tbody tr th:only-of-type {\n",
       "        vertical-align: middle;\n",
       "    }\n",
       "\n",
       "    .dataframe tbody tr th {\n",
       "        vertical-align: top;\n",
       "    }\n",
       "\n",
       "    .dataframe thead th {\n",
       "        text-align: right;\n",
       "    }\n",
       "</style>\n",
       "<table border=\"1\" class=\"dataframe\">\n",
       "  <thead>\n",
       "    <tr style=\"text-align: right;\">\n",
       "      <th></th>\n",
       "      <th>Sentiment</th>\n",
       "      <th>Phrase</th>\n",
       "    </tr>\n",
       "  </thead>\n",
       "  <tbody>\n",
       "    <tr>\n",
       "      <th>0</th>\n",
       "      <td>NEGATIVE</td>\n",
       "      <td>Muy aburrida la clase siempre con presentacion...</td>\n",
       "    </tr>\n",
       "    <tr>\n",
       "      <th>1</th>\n",
       "      <td>NEGATIVE</td>\n",
       "      <td>La clase es tediosa y el profesor no sabe como...</td>\n",
       "    </tr>\n",
       "    <tr>\n",
       "      <th>2</th>\n",
       "      <td>NEGATIVE</td>\n",
       "      <td>Las clases son muy tediosas ya que solo usa di...</td>\n",
       "    </tr>\n",
       "    <tr>\n",
       "      <th>3</th>\n",
       "      <td>NEGATIVE</td>\n",
       "      <td>El profesor es decepcionante y forma de evalua...</td>\n",
       "    </tr>\n",
       "    <tr>\n",
       "      <th>4</th>\n",
       "      <td>POSITIVE</td>\n",
       "      <td>Es una buena persona y su desempeño en clase e...</td>\n",
       "    </tr>\n",
       "  </tbody>\n",
       "</table>\n",
       "</div>"
      ],
      "text/plain": [
       "  Sentiment                                             Phrase\n",
       "0  NEGATIVE  Muy aburrida la clase siempre con presentacion...\n",
       "1  NEGATIVE  La clase es tediosa y el profesor no sabe como...\n",
       "2  NEGATIVE  Las clases son muy tediosas ya que solo usa di...\n",
       "3  NEGATIVE  El profesor es decepcionante y forma de evalua...\n",
       "4  POSITIVE  Es una buena persona y su desempeño en clase e..."
      ]
     },
     "execution_count": 4,
     "metadata": {
      "tags": []
     },
     "output_type": "execute_result"
    }
   ],
   "source": [
    "df.head()"
   ]
  },
  {
   "cell_type": "code",
   "execution_count": null,
   "metadata": {
    "colab": {
     "base_uri": "https://localhost:8080/"
    },
    "id": "vw4EOJIArZPE",
    "outputId": "ae75b171-4c75-44fa-935f-0bbe1b70ea2b"
   },
   "outputs": [
    {
     "data": {
      "text/plain": [
       "POSITIVE    941\n",
       "NEGATIVE    743\n",
       "Name: Sentiment, dtype: int64"
      ]
     },
     "execution_count": 5,
     "metadata": {
      "tags": []
     },
     "output_type": "execute_result"
    }
   ],
   "source": [
    "df['Sentiment'].value_counts()"
   ]
  },
  {
   "cell_type": "code",
   "execution_count": null,
   "metadata": {
    "id": "8RD7wAxtrZPH"
   },
   "outputs": [],
   "source": [
    "train,test = train_test_split(df, test_size=0.33)"
   ]
  },
  {
   "cell_type": "code",
   "execution_count": null,
   "metadata": {
    "id": "biJxodKlrZPL"
   },
   "outputs": [],
   "source": [
    "# Separamos en X e y\n",
    "train_y = train.iloc[:,0]\n",
    "train_X = train.iloc[:,1]\n",
    "test_y = test.iloc[:,0]\n",
    "test_X = test.iloc[:,1]"
   ]
  },
  {
   "cell_type": "code",
   "execution_count": null,
   "metadata": {
    "id": "niP3wiuzrZPO"
   },
   "outputs": [],
   "source": [
    "# Vectorizamos los textos por TF-IDF\n",
    "vec = TfidfVectorizer(min_df=3)\n",
    "model = MultinomialNB()\n",
    "clf = make_pipeline(vec,model)\n",
    "clf = clf.fit(train_X, train_y)"
   ]
  },
  {
   "cell_type": "code",
   "execution_count": null,
   "metadata": {
    "colab": {
     "base_uri": "https://localhost:8080/"
    },
    "id": "-Vhh11A4rZPV",
    "outputId": "656958de-21c0-4111-f0d7-d6e65be289de"
   },
   "outputs": [
    {
     "data": {
      "text/plain": [
       "1605       Tener un planteamiento mejor genera confusion \n",
       "1027                el profesor no respeta hora de salida\n",
       "782     NO CONTESTA DE UNA BUENA FORMA Y ES MUY IMPACI...\n",
       "642     Identifico mucho compromiso y gusto por la doc...\n",
       "570     LA PROFESORA ES MUY PACIENTE CON NOSOTROS, ES ...\n",
       "                              ...                        \n",
       "57      Estoy inconforme con su manera de evaluar ya q...\n",
       "1059    la maestra toma en cuenta errores insignifican...\n",
       "1400    No confió en su sonrisa a la hora de los exame...\n",
       "1315    Es muy llevadito, es irrespetuoso con la mayor...\n",
       "1220    No me gusta su clase además ella solo deja tra...\n",
       "Name: Phrase, Length: 556, dtype: object"
      ]
     },
     "execution_count": 9,
     "metadata": {
      "tags": []
     },
     "output_type": "execute_result"
    }
   ],
   "source": [
    "test_X"
   ]
  },
  {
   "cell_type": "code",
   "execution_count": null,
   "metadata": {
    "id": "ZXrmV8pHrZPY"
   },
   "outputs": [],
   "source": [
    "predictions = clf.predict(test_X)"
   ]
  },
  {
   "cell_type": "code",
   "execution_count": null,
   "metadata": {
    "colab": {
     "base_uri": "https://localhost:8080/"
    },
    "id": "LVdNZITGrZPc",
    "outputId": "df12973e-672f-4970-8ee8-cea578e1a2e3"
   },
   "outputs": [
    {
     "data": {
      "text/plain": [
       "0.8453237410071942"
      ]
     },
     "execution_count": 11,
     "metadata": {
      "tags": []
     },
     "output_type": "execute_result"
    }
   ],
   "source": [
    "accuracy_score(test_y,predictions)"
   ]
  },
  {
   "cell_type": "code",
   "execution_count": null,
   "metadata": {
    "id": "QcyyJo59rZPk"
   },
   "outputs": [],
   "source": [
    "df_cm = confusion_matrix(test_y,predictions,labels=test_y.unique())"
   ]
  },
  {
   "cell_type": "code",
   "execution_count": null,
   "metadata": {
    "colab": {
     "base_uri": "https://localhost:8080/",
     "height": 312
    },
    "id": "W_oq59CArZPo",
    "outputId": "d4e8cb27-32f4-4912-bf7d-6189bdd2c78e"
   },
   "outputs": [
    {
     "data": {
      "image/png": "[encoded data removed]",
      "text/plain": [
       "<Figure size 432x288 with 2 Axes>"
      ]
     },
     "metadata": {
      "needs_background": "light",
      "tags": []
     },
     "output_type": "display_data"
    }
   ],
   "source": [
    "heatmap = sns.heatmap(df_cm, annot=True, fmt=\"d\")\n",
    "heatmap.yaxis.set_ticklabels(test_y.unique(), rotation=0, ha='right')\n",
    "heatmap.xaxis.set_ticklabels(test_y.unique(), rotation=45, ha='right')\n",
    "plt.ylabel('Valor Verdadero')\n",
    "plt.xlabel('Valor Predicho');"
   ]
  },
  {
   "cell_type": "code",
   "execution_count": null,
   "metadata": {
    "colab": {
     "base_uri": "https://localhost:8080/"
    },
    "id": "jmFSUkwNrZPt",
    "outputId": "b25c6cd6-4e2e-4e1e-b1c7-05f6fb3bce98"
   },
   "outputs": [
    {
     "data": {
      "text/plain": [
       "array(['POSITIVE'], dtype='<U8')"
      ]
     },
     "execution_count": 17,
     "metadata": {
      "tags": []
     },
     "output_type": "execute_result"
    }
   ],
   "source": [
    "clf.predict(['Esta clase está genial, aguante el machine learning'])"
   ]
  },
  {
   "cell_type": "code",
   "execution_count": null,
   "metadata": {
    "colab": {
     "base_uri": "https://localhost:8080/"
    },
    "id": "3y25D9U9yNP2",
    "outputId": "611166bf-9bf3-4f07-e28a-6d6746d4b66a"
   },
   "outputs": [
    {
     "data": {
      "text/plain": [
       "array(['NEGATIVE'], dtype='<U8')"
      ]
     },
     "execution_count": 18,
     "metadata": {
      "tags": []
     },
     "output_type": "execute_result"
    }
   ],
   "source": [
    "clf.predict(['Uf qué cagada, voy a tener que estudiar matemáticas'])"
   ]
  },
  {
   "cell_type": "markdown",
   "metadata": {
    "id": "4bCsHM7yyg8g"
   },
   "source": [
    "¿Qué usos de aplicación se les ocurren para algoritmos similares?"
   ]
  }
 ],
 "metadata": {
  "colab": {
   "collapsed_sections": [],
   "name": "Ejemplo Sentiment.ipynb",
   "provenance": []
  },
  "kernelspec": {
   "display_name": "conda_python3",
   "language": "python",
   "name": "conda_python3"
  },
  "language_info": {
   "codemirror_mode": {
    "name": "ipython",
    "version": 3
   },
   "file_extension": ".py",
   "mimetype": "text/x-python",
   "name": "python",
   "nbconvert_exporter": "python",
   "pygments_lexer": "ipython3",
   "version": "3.6.10"
  }
 },
 "nbformat": 4,
 "nbformat_minor": 4
}
