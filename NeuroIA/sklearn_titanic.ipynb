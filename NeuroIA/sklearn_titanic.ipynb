{
 "cells": [
  {
   "cell_type": "markdown",
   "metadata": {
    "id": "5WaagkrqAsWT"
   },
   "source": [
    "<a href=\"https://colab.research.google.com/github/institutohumai/cursos-python/blob/neuro/NeuroIA/sklearn_titanic.ipynb\"> <img src='https://colab.research.google.com/assets/colab-badge.svg' /> </a>\n",
    "    <div align=\"center\"> Recordá abrir en una nueva pestaña </div>\n",
    "    "
   ]
  },
  {
   "cell_type": "markdown",
   "metadata": {
    "id": "CcQt1l8pkUz6"
   },
   "source": [
    "## Sci-kit Learn\n",
    "\n",
    "La librería [sci-kit learn](https://scikit-learn.org/stable/) es una ámpliamente utilizada para prototipado y desarrollo de modelos de Machine Learning. \n",
    "\n",
    "Este paquete nos ofrece versiones eficientes de una gran variedad de algoritmos, accesibles mediante una API homogénea que facilita el desarrollo y permite probar distintos algorítmos con mínima modificación del código.\n"
   ]
  },
  {
   "cell_type": "markdown",
   "metadata": {
    "id": "YZBhbP_IkgiF"
   },
   "source": [
    "<img src='https://scikit-learn.org/stable/_static/ml_map.png' width=800px>\n",
    "\n",
    "Podemos ver el [índice de algoritmos en sklearn](https://scikit-learn.org/stable/user_guide).\n",
    "\n",
    "En el desarrollo de sci-kit, se tuvieron en cuenta algunos principios:\n",
    "- Consistencia: todos los objetos comparten una inferfaz uniforme\n",
    "- Inspección: podemos acceder a los parámetros como atributos públicos\n",
    "- Jerarquía limitada de objetos: solo los algorítmos se representan como clases de Python, mientras que los datasets utilizan formatos estándar: Numpy Arrays, DataFrames de Pandas, y matrices de SciPy.\n",
    "- Composición: permitiendo siempre que es posible la concatenación de procesos en secuencias\n",
    "- Valores default apropiados: en el caso de hiperparámetros necesarios en los modelos\n",
    "\n",
    "Para más detalle consultar el [paper de sklearn](https://arxiv.org/abs/1309.0238)"
   ]
  },
  {
   "cell_type": "markdown",
   "metadata": {
    "id": "5Ml-sAeMnbIw"
   },
   "source": [
    "Todo este repertorio de estimadores va a usar la misma inferfaz, o API, que se ve algo así:\n",
    "\n",
    "```python\n",
    "from sklearn.familia_de_modelos import Modelo\n",
    "mi_modelo = Modelo(hiperparámetros)\n",
    "mi_modelo.fit(X, y)\n",
    "\n",
    "predicción = mi_modelo.predict(nuevo_X)\n",
    "```\n",
    "\n",
    "Para ajustar nuestros modelos de machine learning, la _Estimator API_ de sklearn toma una matriz de features **X** y un vector **y** (en el caso de ML supervisado), donde **X** tiene la forma ``(n_observaciones, n_variables)`` e **y** ``(n_observaciones)``"
   ]
  },
  {
   "cell_type": "markdown",
   "metadata": {
    "id": "xAf15qTGprbc"
   },
   "source": [
    "![](https://raw.githubusercontent.com/jakevdp/PythonDataScienceHandbook/master/notebooks/figures/05.02-samples-features.png)"
   ]
  },
  {
   "cell_type": "markdown",
   "metadata": {
    "id": "MrnzBYiTqNBC"
   },
   "source": [
    "Ejercicio para pensar: \n",
    "\n",
    "¿Cómo querríamos que sea la matriz **X**? \n",
    "\n",
    "¿Qué preprocesamiento podríamos necesitar hacer?\n",
    "\n",
    "¿Cómo sería en el caso de trabajar con...\n",
    "- Variables Categóricas?\n",
    "- Datos desbalanceados?\n",
    "- Texto?\n",
    "- Imagenes?"
   ]
  },
  {
   "cell_type": "markdown",
   "metadata": {
    "id": "5vDvcqRXp4pC"
   },
   "source": [
    "#### Vamos por un primer ejemplo"
   ]
  },
  {
   "cell_type": "markdown",
   "metadata": {
    "id": "LqY7HTvaAsWk"
   },
   "source": [
    "## Machine learning from disaster\n",
    "\n",
    "En esta notebook vamos a analizar los datos de sobrevivientes del Titanic y a construir un pipeline de inferencia que nos permita predecir cuál era la probabilidad de sobrevivir de cada pasajero.\n",
    "\n",
    "Finalmente, vamos a evaluar cuál era la probabilidad de supervivencia de los protagonistas de la película: Jack y Rose. "
   ]
  },
  {
   "cell_type": "code",
   "execution_count": 1,
   "metadata": {
    "colab": {
     "base_uri": "https://localhost:8080/"
    },
    "id": "0oz6SekxAsWW",
    "outputId": "4c672f9b-0647-46b2-8a31-0759414f89d8"
   },
   "outputs": [
    {
     "name": "stdout",
     "output_type": "stream",
     "text": [
      "--2020-11-27 18:39:17--  https://datasets-humai.s3.amazonaws.com/datasets/titanic.csv\n",
      "Resolving datasets-humai.s3.amazonaws.com (datasets-humai.s3.amazonaws.com)... 52.216.28.116\n",
      "Connecting to datasets-humai.s3.amazonaws.com (datasets-humai.s3.amazonaws.com)|52.216.28.116|:443... connected.\n",
      "HTTP request sent, awaiting response... 200 OK\n",
      "Length: 60326 (59K) [text/csv]\n",
      "Saving to: ‘titanic.csv’\n",
      "\n",
      "titanic.csv         100%[===================>]  58.91K   121KB/s    in 0.5s    \n",
      "\n",
      "2020-11-27 18:39:18 (121 KB/s) - ‘titanic.csv’ saved [60326/60326]\n",
      "\n"
     ]
    }
   ],
   "source": [
    "# Descargamos dataset \n",
    "!wget https://datasets-humai.s3.amazonaws.com/datasets/titanic.csv"
   ]
  },
  {
   "cell_type": "markdown",
   "metadata": {
    "id": "euHTuME6rFYg"
   },
   "source": [
    "Las variables con las que contamos son:\n",
    "```Pclass Passenger Class (1 = 1st; 2 = 2nd; 3 = 3rd)\n",
    "survival: Survival (0 = No; 1 = Yes)\n",
    "name: Name\n",
    "sex: Sex\n",
    "age: Age\n",
    "sibsp: Number of Siblings/Spouses Aboard\n",
    "parch: Number of Parents/Children Aboard\n",
    "ticket: Ticket Number\n",
    "fare: Passenger Fare (British pound)\n",
    "cabin: Cabin\n",
    "embarked: Port of Embarkation (C = Cherbourg; Q = Queenstown; S = Southampton)\n",
    "boat: Lifeboat\n",
    "body: Body Identification Number\n",
    "home.dest: Home/Destination\n",
    "```\n",
    "\n"
   ]
  },
  {
   "cell_type": "markdown",
   "metadata": {
    "id": "qagYXfDmAsWm"
   },
   "source": [
    "### Análisis exploratorio de datos"
   ]
  },
  {
   "cell_type": "code",
   "execution_count": 2,
   "metadata": {
    "id": "b99s8LV_AsWo"
   },
   "outputs": [],
   "source": [
    "# Ya conocidas\n",
    "import pandas as pd\n",
    "import seaborn as sns\n",
    "import matplotlib.pyplot as plt\n",
    "\n",
    "# Preprocesamiento\n",
    "from sklearn.pipeline import Pipeline\n",
    "from sklearn.impute import SimpleImputer\n",
    "from sklearn.preprocessing import OneHotEncoder\n",
    "from sklearn.compose import ColumnTransformer\n",
    "\n",
    "# Entrenamiento\n",
    "from sklearn.model_selection import train_test_split\n",
    "\n",
    "# Modelos\n",
    "from sklearn.ensemble import RandomForestClassifier\n",
    "\n",
    "# Métricas\n",
    "from sklearn.metrics import confusion_matrix, roc_auc_score, classification_report"
   ]
  },
  {
   "cell_type": "code",
   "execution_count": 3,
   "metadata": {
    "id": "3Rzqj_CfAsW1"
   },
   "outputs": [],
   "source": [
    "# Leemos dataset\n",
    "df = pd.read_csv('titanic.csv',sep='|')"
   ]
  },
  {
   "cell_type": "code",
   "execution_count": 4,
   "metadata": {
    "colab": {
     "base_uri": "https://localhost:8080/",
     "height": 237
    },
    "id": "8GM5XVFYAsW8",
    "outputId": "41d06812-0666-4498-de39-21bca433e086"
   },
   "outputs": [
    {
     "data": {
      "text/html": [
       "<div>\n",
       "<style scoped>\n",
       "    .dataframe tbody tr th:only-of-type {\n",
       "        vertical-align: middle;\n",
       "    }\n",
       "\n",
       "    .dataframe tbody tr th {\n",
       "        vertical-align: top;\n",
       "    }\n",
       "\n",
       "    .dataframe thead th {\n",
       "        text-align: right;\n",
       "    }\n",
       "</style>\n",
       "<table border=\"1\" class=\"dataframe\">\n",
       "  <thead>\n",
       "    <tr style=\"text-align: right;\">\n",
       "      <th></th>\n",
       "      <th>PassengerId</th>\n",
       "      <th>Survived</th>\n",
       "      <th>Pclass</th>\n",
       "      <th>Name</th>\n",
       "      <th>Sex</th>\n",
       "      <th>Age</th>\n",
       "      <th>SibSp</th>\n",
       "      <th>Parch</th>\n",
       "      <th>Ticket</th>\n",
       "      <th>Fare</th>\n",
       "      <th>Cabin</th>\n",
       "      <th>Embarked</th>\n",
       "    </tr>\n",
       "  </thead>\n",
       "  <tbody>\n",
       "    <tr>\n",
       "      <th>0</th>\n",
       "      <td>1</td>\n",
       "      <td>0</td>\n",
       "      <td>3</td>\n",
       "      <td>Braund, Mr. Owen Harris</td>\n",
       "      <td>male</td>\n",
       "      <td>22.0</td>\n",
       "      <td>1</td>\n",
       "      <td>0</td>\n",
       "      <td>A/5 21171</td>\n",
       "      <td>7.2500</td>\n",
       "      <td>NaN</td>\n",
       "      <td>S</td>\n",
       "    </tr>\n",
       "    <tr>\n",
       "      <th>1</th>\n",
       "      <td>2</td>\n",
       "      <td>1</td>\n",
       "      <td>1</td>\n",
       "      <td>Cumings, Mrs. John Bradley (Florence Briggs Th...</td>\n",
       "      <td>female</td>\n",
       "      <td>38.0</td>\n",
       "      <td>1</td>\n",
       "      <td>0</td>\n",
       "      <td>PC 17599</td>\n",
       "      <td>71.2833</td>\n",
       "      <td>C85</td>\n",
       "      <td>C</td>\n",
       "    </tr>\n",
       "    <tr>\n",
       "      <th>2</th>\n",
       "      <td>3</td>\n",
       "      <td>1</td>\n",
       "      <td>3</td>\n",
       "      <td>Heikkinen, Miss. Laina</td>\n",
       "      <td>female</td>\n",
       "      <td>26.0</td>\n",
       "      <td>0</td>\n",
       "      <td>0</td>\n",
       "      <td>STON/O2. 3101282</td>\n",
       "      <td>7.9250</td>\n",
       "      <td>NaN</td>\n",
       "      <td>S</td>\n",
       "    </tr>\n",
       "    <tr>\n",
       "      <th>3</th>\n",
       "      <td>4</td>\n",
       "      <td>1</td>\n",
       "      <td>1</td>\n",
       "      <td>Futrelle, Mrs. Jacques Heath (Lily May Peel)</td>\n",
       "      <td>female</td>\n",
       "      <td>35.0</td>\n",
       "      <td>1</td>\n",
       "      <td>0</td>\n",
       "      <td>113803</td>\n",
       "      <td>53.1000</td>\n",
       "      <td>C123</td>\n",
       "      <td>S</td>\n",
       "    </tr>\n",
       "    <tr>\n",
       "      <th>4</th>\n",
       "      <td>5</td>\n",
       "      <td>0</td>\n",
       "      <td>3</td>\n",
       "      <td>Allen, Mr. William Henry</td>\n",
       "      <td>male</td>\n",
       "      <td>35.0</td>\n",
       "      <td>0</td>\n",
       "      <td>0</td>\n",
       "      <td>373450</td>\n",
       "      <td>8.0500</td>\n",
       "      <td>NaN</td>\n",
       "      <td>S</td>\n",
       "    </tr>\n",
       "  </tbody>\n",
       "</table>\n",
       "</div>"
      ],
      "text/plain": [
       "   PassengerId  Survived  Pclass  \\\n",
       "0            1         0       3   \n",
       "1            2         1       1   \n",
       "2            3         1       3   \n",
       "3            4         1       1   \n",
       "4            5         0       3   \n",
       "\n",
       "                                                Name     Sex   Age  SibSp  \\\n",
       "0                            Braund, Mr. Owen Harris    male  22.0      1   \n",
       "1  Cumings, Mrs. John Bradley (Florence Briggs Th...  female  38.0      1   \n",
       "2                             Heikkinen, Miss. Laina  female  26.0      0   \n",
       "3       Futrelle, Mrs. Jacques Heath (Lily May Peel)  female  35.0      1   \n",
       "4                           Allen, Mr. William Henry    male  35.0      0   \n",
       "\n",
       "   Parch            Ticket     Fare Cabin Embarked  \n",
       "0      0         A/5 21171   7.2500   NaN        S  \n",
       "1      0          PC 17599  71.2833   C85        C  \n",
       "2      0  STON/O2. 3101282   7.9250   NaN        S  \n",
       "3      0            113803  53.1000  C123        S  \n",
       "4      0            373450   8.0500   NaN        S  "
      ]
     },
     "execution_count": 4,
     "metadata": {},
     "output_type": "execute_result"
    }
   ],
   "source": [
    "df.head()"
   ]
  },
  {
   "cell_type": "markdown",
   "metadata": {
    "id": "KEnFT12pAsXD"
   },
   "source": [
    "### Evaluando el balanceo de la clase\n",
    "\n",
    "La primera pregunta: ¿Cuántos casos tenemos de cada clase? Si los datos están muy desbalanaceados podemos evaluar técnicas de Resampling."
   ]
  },
  {
   "cell_type": "code",
   "execution_count": 5,
   "metadata": {
    "colab": {
     "base_uri": "https://localhost:8080/"
    },
    "id": "_DI3-BvLAsXE",
    "outputId": "dcbf3bee-eb33-41bc-de23-b0ff93d56db9"
   },
   "outputs": [
    {
     "data": {
      "text/plain": [
       "0    549\n",
       "1    342\n",
       "Name: Survived, dtype: int64"
      ]
     },
     "execution_count": 5,
     "metadata": {},
     "output_type": "execute_result"
    }
   ],
   "source": [
    "df['Survived'].value_counts()"
   ]
  },
  {
   "cell_type": "markdown",
   "metadata": {
    "id": "cv3oUwCnAsXJ"
   },
   "source": [
    "### Otras exploraciones de los datos"
   ]
  },
  {
   "cell_type": "code",
   "execution_count": 6,
   "metadata": {
    "colab": {
     "base_uri": "https://localhost:8080/"
    },
    "id": "zx2_wrjBAsXK",
    "outputId": "99411804-a5e2-4b54-a4b8-b3530ae7961e"
   },
   "outputs": [
    {
     "data": {
      "text/plain": [
       "0    0.616162\n",
       "1    0.383838\n",
       "Name: Survived, dtype: float64"
      ]
     },
     "execution_count": 6,
     "metadata": {},
     "output_type": "execute_result"
    }
   ],
   "source": [
    "df['Survived'].value_counts(normalize=True)"
   ]
  },
  {
   "cell_type": "markdown",
   "metadata": {
    "id": "8rkP65JGAsXQ"
   },
   "source": [
    "¿Cuántos pasajeros había en cada clase?"
   ]
  },
  {
   "cell_type": "code",
   "execution_count": 7,
   "metadata": {
    "colab": {
     "base_uri": "https://localhost:8080/"
    },
    "id": "UZMhepTdAsXR",
    "outputId": "5bd84f1e-8a20-4300-ffa3-4ae94eb4de95"
   },
   "outputs": [
    {
     "data": {
      "text/plain": [
       "3    0.551066\n",
       "1    0.242424\n",
       "2    0.206510\n",
       "Name: Pclass, dtype: float64"
      ]
     },
     "execution_count": 7,
     "metadata": {},
     "output_type": "execute_result"
    }
   ],
   "source": [
    "df['Pclass'].value_counts(normalize=True)"
   ]
  },
  {
   "cell_type": "markdown",
   "metadata": {
    "id": "N8InOXKDAsXV"
   },
   "source": [
    "¿Cuántos son hombres y cuántos mujeres?"
   ]
  },
  {
   "cell_type": "code",
   "execution_count": 8,
   "metadata": {
    "colab": {
     "base_uri": "https://localhost:8080/"
    },
    "id": "0C4SSJVXAsXV",
    "outputId": "bf103744-5b06-4f17-b475-cc450c4ab5b2"
   },
   "outputs": [
    {
     "data": {
      "text/plain": [
       "male      0.647587\n",
       "female    0.352413\n",
       "Name: Sex, dtype: float64"
      ]
     },
     "execution_count": 8,
     "metadata": {},
     "output_type": "execute_result"
    }
   ],
   "source": [
    "df['Sex'].value_counts(normalize=True)"
   ]
  },
  {
   "cell_type": "code",
   "execution_count": 9,
   "metadata": {
    "colab": {
     "base_uri": "https://localhost:8080/"
    },
    "id": "WsugGLn4AsXZ",
    "outputId": "3d563733-f65e-4f37-baaa-bd55417fb526"
   },
   "outputs": [
    {
     "data": {
      "text/plain": [
       "S    0.724409\n",
       "C    0.188976\n",
       "Q    0.086614\n",
       "Name: Embarked, dtype: float64"
      ]
     },
     "execution_count": 9,
     "metadata": {},
     "output_type": "execute_result"
    }
   ],
   "source": [
    "df['Embarked'].value_counts(normalize=True)"
   ]
  },
  {
   "cell_type": "markdown",
   "metadata": {
    "id": "RCSxkbxzAsXc"
   },
   "source": [
    "¿Cómo se distribuye la edad?"
   ]
  },
  {
   "cell_type": "code",
   "execution_count": 10,
   "metadata": {
    "colab": {
     "base_uri": "https://localhost:8080/",
     "height": 265
    },
    "id": "U7_92nP7AsXc",
    "outputId": "fe7f0636-c903-4475-8ef7-025a232c7288"
   },
   "outputs": [
    {
     "data": {
      "image/png": "[encoded data removed]",
      "text/plain": [
       "<Figure size 432x288 with 1 Axes>"
      ]
     },
     "metadata": {
      "needs_background": "light"
     },
     "output_type": "display_data"
    }
   ],
   "source": [
    "df['Age'].hist();"
   ]
  },
  {
   "cell_type": "markdown",
   "metadata": {
    "id": "ydtw40zNAsXg"
   },
   "source": [
    "¿Cómo se distribuye la tarifa pagada?"
   ]
  },
  {
   "cell_type": "code",
   "execution_count": 11,
   "metadata": {
    "colab": {
     "base_uri": "https://localhost:8080/",
     "height": 265
    },
    "id": "qaM1IgOmAsXh",
    "outputId": "501570c9-cf98-4e0f-e89a-e79112d70f5d"
   },
   "outputs": [
    {
     "data": {
      "image/png": "[encoded data removed]",
      "text/plain": [
       "<Figure size 432x288 with 1 Axes>"
      ]
     },
     "metadata": {
      "needs_background": "light"
     },
     "output_type": "display_data"
    }
   ],
   "source": [
    "df['Fare'].hist();"
   ]
  },
  {
   "cell_type": "markdown",
   "metadata": {
    "id": "4k5qFUijAsXj"
   },
   "source": [
    "#### Descartando variables específicas\n",
    "\n",
    "El ID de pasajero, el número de ticket y el número de cabina son variables demasiado específicas como para aprovecharlas en una predicción. Podemos descartarlas. Lo mismo podemos decir del nombre. \n"
   ]
  },
  {
   "cell_type": "code",
   "execution_count": 12,
   "metadata": {
    "id": "HzOHbzNDAsXk"
   },
   "outputs": [],
   "source": [
    "df = df.drop(['PassengerId','Cabin','Ticket','Name'],axis=1)"
   ]
  },
  {
   "cell_type": "markdown",
   "metadata": {
    "id": "uG3noCd4AsXn"
   },
   "source": [
    "#### Calculando las variables Dummy\n",
    "\n",
    "Ahora tenemos que transformar las categóricas en representaciones numéricas que nuestro algoritmo pueda entender. \n"
   ]
  },
  {
   "cell_type": "code",
   "execution_count": 13,
   "metadata": {
    "id": "qOYKg11bAsXo"
   },
   "outputs": [],
   "source": [
    "df_dummies = pd.get_dummies(df)"
   ]
  },
  {
   "cell_type": "code",
   "execution_count": 14,
   "metadata": {
    "colab": {
     "base_uri": "https://localhost:8080/",
     "height": 202
    },
    "id": "XauRto-rAsXq",
    "outputId": "234d126d-d6b1-4c71-e01f-641601743199"
   },
   "outputs": [
    {
     "data": {
      "text/html": [
       "<div>\n",
       "<style scoped>\n",
       "    .dataframe tbody tr th:only-of-type {\n",
       "        vertical-align: middle;\n",
       "    }\n",
       "\n",
       "    .dataframe tbody tr th {\n",
       "        vertical-align: top;\n",
       "    }\n",
       "\n",
       "    .dataframe thead th {\n",
       "        text-align: right;\n",
       "    }\n",
       "</style>\n",
       "<table border=\"1\" class=\"dataframe\">\n",
       "  <thead>\n",
       "    <tr style=\"text-align: right;\">\n",
       "      <th></th>\n",
       "      <th>Survived</th>\n",
       "      <th>Pclass</th>\n",
       "      <th>Age</th>\n",
       "      <th>SibSp</th>\n",
       "      <th>Parch</th>\n",
       "      <th>Fare</th>\n",
       "      <th>Sex_female</th>\n",
       "      <th>Sex_male</th>\n",
       "      <th>Embarked_C</th>\n",
       "      <th>Embarked_Q</th>\n",
       "      <th>Embarked_S</th>\n",
       "    </tr>\n",
       "  </thead>\n",
       "  <tbody>\n",
       "    <tr>\n",
       "      <th>0</th>\n",
       "      <td>0</td>\n",
       "      <td>3</td>\n",
       "      <td>22.0</td>\n",
       "      <td>1</td>\n",
       "      <td>0</td>\n",
       "      <td>7.2500</td>\n",
       "      <td>0</td>\n",
       "      <td>1</td>\n",
       "      <td>0</td>\n",
       "      <td>0</td>\n",
       "      <td>1</td>\n",
       "    </tr>\n",
       "    <tr>\n",
       "      <th>1</th>\n",
       "      <td>1</td>\n",
       "      <td>1</td>\n",
       "      <td>38.0</td>\n",
       "      <td>1</td>\n",
       "      <td>0</td>\n",
       "      <td>71.2833</td>\n",
       "      <td>1</td>\n",
       "      <td>0</td>\n",
       "      <td>1</td>\n",
       "      <td>0</td>\n",
       "      <td>0</td>\n",
       "    </tr>\n",
       "    <tr>\n",
       "      <th>2</th>\n",
       "      <td>1</td>\n",
       "      <td>3</td>\n",
       "      <td>26.0</td>\n",
       "      <td>0</td>\n",
       "      <td>0</td>\n",
       "      <td>7.9250</td>\n",
       "      <td>1</td>\n",
       "      <td>0</td>\n",
       "      <td>0</td>\n",
       "      <td>0</td>\n",
       "      <td>1</td>\n",
       "    </tr>\n",
       "    <tr>\n",
       "      <th>3</th>\n",
       "      <td>1</td>\n",
       "      <td>1</td>\n",
       "      <td>35.0</td>\n",
       "      <td>1</td>\n",
       "      <td>0</td>\n",
       "      <td>53.1000</td>\n",
       "      <td>1</td>\n",
       "      <td>0</td>\n",
       "      <td>0</td>\n",
       "      <td>0</td>\n",
       "      <td>1</td>\n",
       "    </tr>\n",
       "    <tr>\n",
       "      <th>4</th>\n",
       "      <td>0</td>\n",
       "      <td>3</td>\n",
       "      <td>35.0</td>\n",
       "      <td>0</td>\n",
       "      <td>0</td>\n",
       "      <td>8.0500</td>\n",
       "      <td>0</td>\n",
       "      <td>1</td>\n",
       "      <td>0</td>\n",
       "      <td>0</td>\n",
       "      <td>1</td>\n",
       "    </tr>\n",
       "  </tbody>\n",
       "</table>\n",
       "</div>"
      ],
      "text/plain": [
       "   Survived  Pclass   Age  SibSp  Parch     Fare  Sex_female  Sex_male  \\\n",
       "0         0       3  22.0      1      0   7.2500           0         1   \n",
       "1         1       1  38.0      1      0  71.2833           1         0   \n",
       "2         1       3  26.0      0      0   7.9250           1         0   \n",
       "3         1       1  35.0      1      0  53.1000           1         0   \n",
       "4         0       3  35.0      0      0   8.0500           0         1   \n",
       "\n",
       "   Embarked_C  Embarked_Q  Embarked_S  \n",
       "0           0           0           1  \n",
       "1           1           0           0  \n",
       "2           0           0           1  \n",
       "3           0           0           1  \n",
       "4           0           0           1  "
      ]
     },
     "execution_count": 14,
     "metadata": {},
     "output_type": "execute_result"
    }
   ],
   "source": [
    "df_dummies.head()"
   ]
  },
  {
   "cell_type": "markdown",
   "metadata": {
    "id": "fm1VL_bjAsXt"
   },
   "source": [
    "### Matriz de correlaciones\n"
   ]
  },
  {
   "cell_type": "code",
   "execution_count": 15,
   "metadata": {
    "colab": {
     "base_uri": "https://localhost:8080/",
     "height": 267
    },
    "id": "tY3wU6B1AsXt",
    "outputId": "5fb2ba4a-a97b-4009-81c9-8b27deff0e71"
   },
   "outputs": [
    {
     "data": {
      "text/html": [
       "<style  type=\"text/css\" >\n",
       "    #T_0249c636_30f9_11eb_aa3c_1de831a9b986row0_col0 {\n",
       "            background-color:  #b40426;\n",
       "            color:  #f1f1f1;\n",
       "        }    #T_0249c636_30f9_11eb_aa3c_1de831a9b986row0_col1 {\n",
       "            background-color:  #6485ec;\n",
       "            color:  #000000;\n",
       "        }    #T_0249c636_30f9_11eb_aa3c_1de831a9b986row0_col2 {\n",
       "            background-color:  #80a3fa;\n",
       "            color:  #000000;\n",
       "        }    #T_0249c636_30f9_11eb_aa3c_1de831a9b986row0_col3 {\n",
       "            background-color:  #7ea1fa;\n",
       "            color:  #000000;\n",
       "        }    #T_0249c636_30f9_11eb_aa3c_1de831a9b986row0_col4 {\n",
       "            background-color:  #92b4fe;\n",
       "            color:  #000000;\n",
       "        }    #T_0249c636_30f9_11eb_aa3c_1de831a9b986row0_col5 {\n",
       "            background-color:  #e2dad5;\n",
       "            color:  #000000;\n",
       "        }    #T_0249c636_30f9_11eb_aa3c_1de831a9b986row0_col6 {\n",
       "            background-color:  #f29072;\n",
       "            color:  #000000;\n",
       "        }    #T_0249c636_30f9_11eb_aa3c_1de831a9b986row0_col7 {\n",
       "            background-color:  #85a8fc;\n",
       "            color:  #000000;\n",
       "        }    #T_0249c636_30f9_11eb_aa3c_1de831a9b986row0_col8 {\n",
       "            background-color:  #e5d8d1;\n",
       "            color:  #000000;\n",
       "        }    #T_0249c636_30f9_11eb_aa3c_1de831a9b986row0_col9 {\n",
       "            background-color:  #aac7fd;\n",
       "            color:  #000000;\n",
       "        }    #T_0249c636_30f9_11eb_aa3c_1de831a9b986row0_col10 {\n",
       "            background-color:  #afcafc;\n",
       "            color:  #000000;\n",
       "        }    #T_0249c636_30f9_11eb_aa3c_1de831a9b986row1_col0 {\n",
       "            background-color:  #6384eb;\n",
       "            color:  #000000;\n",
       "        }    #T_0249c636_30f9_11eb_aa3c_1de831a9b986row1_col1 {\n",
       "            background-color:  #b40426;\n",
       "            color:  #f1f1f1;\n",
       "        }    #T_0249c636_30f9_11eb_aa3c_1de831a9b986row1_col2 {\n",
       "            background-color:  #3b4cc0;\n",
       "            color:  #f1f1f1;\n",
       "        }    #T_0249c636_30f9_11eb_aa3c_1de831a9b986row1_col3 {\n",
       "            background-color:  #9ebeff;\n",
       "            color:  #000000;\n",
       "        }    #T_0249c636_30f9_11eb_aa3c_1de831a9b986row1_col4 {\n",
       "            background-color:  #80a3fa;\n",
       "            color:  #000000;\n",
       "        }    #T_0249c636_30f9_11eb_aa3c_1de831a9b986row1_col5 {\n",
       "            background-color:  #3b4cc0;\n",
       "            color:  #f1f1f1;\n",
       "        }    #T_0249c636_30f9_11eb_aa3c_1de831a9b986row1_col6 {\n",
       "            background-color:  #cbd8ee;\n",
       "            color:  #000000;\n",
       "        }    #T_0249c636_30f9_11eb_aa3c_1de831a9b986row1_col7 {\n",
       "            background-color:  #ecd3c5;\n",
       "            color:  #000000;\n",
       "        }    #T_0249c636_30f9_11eb_aa3c_1de831a9b986row1_col8 {\n",
       "            background-color:  #9fbfff;\n",
       "            color:  #000000;\n",
       "        }    #T_0249c636_30f9_11eb_aa3c_1de831a9b986row1_col9 {\n",
       "            background-color:  #d7dce3;\n",
       "            color:  #000000;\n",
       "        }    #T_0249c636_30f9_11eb_aa3c_1de831a9b986row1_col10 {\n",
       "            background-color:  #d8dce2;\n",
       "            color:  #000000;\n",
       "        }    #T_0249c636_30f9_11eb_aa3c_1de831a9b986row2_col0 {\n",
       "            background-color:  #9fbfff;\n",
       "            color:  #000000;\n",
       "        }    #T_0249c636_30f9_11eb_aa3c_1de831a9b986row2_col1 {\n",
       "            background-color:  #5e7de7;\n",
       "            color:  #000000;\n",
       "        }    #T_0249c636_30f9_11eb_aa3c_1de831a9b986row2_col2 {\n",
       "            background-color:  #b40426;\n",
       "            color:  #f1f1f1;\n",
       "        }    #T_0249c636_30f9_11eb_aa3c_1de831a9b986row2_col3 {\n",
       "            background-color:  #3b4cc0;\n",
       "            color:  #f1f1f1;\n",
       "        }    #T_0249c636_30f9_11eb_aa3c_1de831a9b986row2_col4 {\n",
       "            background-color:  #485fd1;\n",
       "            color:  #f1f1f1;\n",
       "        }    #T_0249c636_30f9_11eb_aa3c_1de831a9b986row2_col5 {\n",
       "            background-color:  #c5d6f2;\n",
       "            color:  #000000;\n",
       "        }    #T_0249c636_30f9_11eb_aa3c_1de831a9b986row2_col6 {\n",
       "            background-color:  #d1dae9;\n",
       "            color:  #000000;\n",
       "        }    #T_0249c636_30f9_11eb_aa3c_1de831a9b986row2_col7 {\n",
       "            background-color:  #e8d6cc;\n",
       "            color:  #000000;\n",
       "        }    #T_0249c636_30f9_11eb_aa3c_1de831a9b986row2_col8 {\n",
       "            background-color:  #d2dbe8;\n",
       "            color:  #000000;\n",
       "        }    #T_0249c636_30f9_11eb_aa3c_1de831a9b986row2_col9 {\n",
       "            background-color:  #a5c3fe;\n",
       "            color:  #000000;\n",
       "        }    #T_0249c636_30f9_11eb_aa3c_1de831a9b986row2_col10 {\n",
       "            background-color:  #c6d6f1;\n",
       "            color:  #000000;\n",
       "        }    #T_0249c636_30f9_11eb_aa3c_1de831a9b986row3_col0 {\n",
       "            background-color:  #a9c6fd;\n",
       "            color:  #000000;\n",
       "        }    #T_0249c636_30f9_11eb_aa3c_1de831a9b986row3_col1 {\n",
       "            background-color:  #c3d5f4;\n",
       "            color:  #000000;\n",
       "        }    #T_0249c636_30f9_11eb_aa3c_1de831a9b986row3_col2 {\n",
       "            background-color:  #485fd1;\n",
       "            color:  #f1f1f1;\n",
       "        }    #T_0249c636_30f9_11eb_aa3c_1de831a9b986row3_col3 {\n",
       "            background-color:  #b40426;\n",
       "            color:  #f1f1f1;\n",
       "        }    #T_0249c636_30f9_11eb_aa3c_1de831a9b986row3_col4 {\n",
       "            background-color:  #e4d9d2;\n",
       "            color:  #000000;\n",
       "        }    #T_0249c636_30f9_11eb_aa3c_1de831a9b986row3_col5 {\n",
       "            background-color:  #d2dbe8;\n",
       "            color:  #000000;\n",
       "        }    #T_0249c636_30f9_11eb_aa3c_1de831a9b986row3_col6 {\n",
       "            background-color:  #ead4c8;\n",
       "            color:  #000000;\n",
       "        }    #T_0249c636_30f9_11eb_aa3c_1de831a9b986row3_col7 {\n",
       "            background-color:  #cdd9ec;\n",
       "            color:  #000000;\n",
       "        }    #T_0249c636_30f9_11eb_aa3c_1de831a9b986row3_col8 {\n",
       "            background-color:  #c1d4f4;\n",
       "            color:  #000000;\n",
       "        }    #T_0249c636_30f9_11eb_aa3c_1de831a9b986row3_col9 {\n",
       "            background-color:  #a3c2fe;\n",
       "            color:  #000000;\n",
       "        }    #T_0249c636_30f9_11eb_aa3c_1de831a9b986row3_col10 {\n",
       "            background-color:  #d7dce3;\n",
       "            color:  #000000;\n",
       "        }    #T_0249c636_30f9_11eb_aa3c_1de831a9b986row4_col0 {\n",
       "            background-color:  #c1d4f4;\n",
       "            color:  #000000;\n",
       "        }    #T_0249c636_30f9_11eb_aa3c_1de831a9b986row4_col1 {\n",
       "            background-color:  #b5cdfa;\n",
       "            color:  #000000;\n",
       "        }    #T_0249c636_30f9_11eb_aa3c_1de831a9b986row4_col2 {\n",
       "            background-color:  #6384eb;\n",
       "            color:  #000000;\n",
       "        }    #T_0249c636_30f9_11eb_aa3c_1de831a9b986row4_col3 {\n",
       "            background-color:  #ead5c9;\n",
       "            color:  #000000;\n",
       "        }    #T_0249c636_30f9_11eb_aa3c_1de831a9b986row4_col4 {\n",
       "            background-color:  #b40426;\n",
       "            color:  #f1f1f1;\n",
       "        }    #T_0249c636_30f9_11eb_aa3c_1de831a9b986row4_col5 {\n",
       "            background-color:  #dbdcde;\n",
       "            color:  #000000;\n",
       "        }    #T_0249c636_30f9_11eb_aa3c_1de831a9b986row4_col6 {\n",
       "            background-color:  #f4c5ad;\n",
       "            color:  #000000;\n",
       "        }    #T_0249c636_30f9_11eb_aa3c_1de831a9b986row4_col7 {\n",
       "            background-color:  #b9d0f9;\n",
       "            color:  #000000;\n",
       "        }    #T_0249c636_30f9_11eb_aa3c_1de831a9b986row4_col8 {\n",
       "            background-color:  #cad8ef;\n",
       "            color:  #000000;\n",
       "        }    #T_0249c636_30f9_11eb_aa3c_1de831a9b986row4_col9 {\n",
       "            background-color:  #97b8ff;\n",
       "            color:  #000000;\n",
       "        }    #T_0249c636_30f9_11eb_aa3c_1de831a9b986row4_col10 {\n",
       "            background-color:  #d6dce4;\n",
       "            color:  #000000;\n",
       "        }    #T_0249c636_30f9_11eb_aa3c_1de831a9b986row5_col0 {\n",
       "            background-color:  #e1dad6;\n",
       "            color:  #000000;\n",
       "        }    #T_0249c636_30f9_11eb_aa3c_1de831a9b986row5_col1 {\n",
       "            background-color:  #3b4cc0;\n",
       "            color:  #f1f1f1;\n",
       "        }    #T_0249c636_30f9_11eb_aa3c_1de831a9b986row5_col2 {\n",
       "            background-color:  #abc8fd;\n",
       "            color:  #000000;\n",
       "        }    #T_0249c636_30f9_11eb_aa3c_1de831a9b986row5_col3 {\n",
       "            background-color:  #b2ccfb;\n",
       "            color:  #000000;\n",
       "        }    #T_0249c636_30f9_11eb_aa3c_1de831a9b986row5_col4 {\n",
       "            background-color:  #b6cefa;\n",
       "            color:  #000000;\n",
       "        }    #T_0249c636_30f9_11eb_aa3c_1de831a9b986row5_col5 {\n",
       "            background-color:  #b40426;\n",
       "            color:  #f1f1f1;\n",
       "        }    #T_0249c636_30f9_11eb_aa3c_1de831a9b986row5_col6 {\n",
       "            background-color:  #f1cdba;\n",
       "            color:  #000000;\n",
       "        }    #T_0249c636_30f9_11eb_aa3c_1de831a9b986row5_col7 {\n",
       "            background-color:  #c3d5f4;\n",
       "            color:  #000000;\n",
       "        }    #T_0249c636_30f9_11eb_aa3c_1de831a9b986row5_col8 {\n",
       "            background-color:  #f0cdbb;\n",
       "            color:  #000000;\n",
       "        }    #T_0249c636_30f9_11eb_aa3c_1de831a9b986row5_col9 {\n",
       "            background-color:  #8db0fe;\n",
       "            color:  #000000;\n",
       "        }    #T_0249c636_30f9_11eb_aa3c_1de831a9b986row5_col10 {\n",
       "            background-color:  #aec9fc;\n",
       "            color:  #000000;\n",
       "        }    #T_0249c636_30f9_11eb_aa3c_1de831a9b986row6_col0 {\n",
       "            background-color:  #f7aa8c;\n",
       "            color:  #000000;\n",
       "        }    #T_0249c636_30f9_11eb_aa3c_1de831a9b986row6_col1 {\n",
       "            background-color:  #93b5fe;\n",
       "            color:  #000000;\n",
       "        }    #T_0249c636_30f9_11eb_aa3c_1de831a9b986row6_col2 {\n",
       "            background-color:  #7b9ff9;\n",
       "            color:  #000000;\n",
       "        }    #T_0249c636_30f9_11eb_aa3c_1de831a9b986row6_col3 {\n",
       "            background-color:  #a6c4fe;\n",
       "            color:  #000000;\n",
       "        }    #T_0249c636_30f9_11eb_aa3c_1de831a9b986row6_col4 {\n",
       "            background-color:  #bed2f6;\n",
       "            color:  #000000;\n",
       "        }    #T_0249c636_30f9_11eb_aa3c_1de831a9b986row6_col5 {\n",
       "            background-color:  #d5dbe5;\n",
       "            color:  #000000;\n",
       "        }    #T_0249c636_30f9_11eb_aa3c_1de831a9b986row6_col6 {\n",
       "            background-color:  #b40426;\n",
       "            color:  #f1f1f1;\n",
       "        }    #T_0249c636_30f9_11eb_aa3c_1de831a9b986row6_col7 {\n",
       "            background-color:  #3b4cc0;\n",
       "            color:  #f1f1f1;\n",
       "        }    #T_0249c636_30f9_11eb_aa3c_1de831a9b986row6_col8 {\n",
       "            background-color:  #d8dce2;\n",
       "            color:  #000000;\n",
       "        }    #T_0249c636_30f9_11eb_aa3c_1de831a9b986row6_col9 {\n",
       "            background-color:  #bad0f8;\n",
       "            color:  #000000;\n",
       "        }    #T_0249c636_30f9_11eb_aa3c_1de831a9b986row6_col10 {\n",
       "            background-color:  #b5cdfa;\n",
       "            color:  #000000;\n",
       "        }    #T_0249c636_30f9_11eb_aa3c_1de831a9b986row7_col0 {\n",
       "            background-color:  #3b4cc0;\n",
       "            color:  #f1f1f1;\n",
       "        }    #T_0249c636_30f9_11eb_aa3c_1de831a9b986row7_col1 {\n",
       "            background-color:  #ccd9ed;\n",
       "            color:  #000000;\n",
       "        }    #T_0249c636_30f9_11eb_aa3c_1de831a9b986row7_col2 {\n",
       "            background-color:  #abc8fd;\n",
       "            color:  #000000;\n",
       "        }    #T_0249c636_30f9_11eb_aa3c_1de831a9b986row7_col3 {\n",
       "            background-color:  #688aef;\n",
       "            color:  #000000;\n",
       "        }    #T_0249c636_30f9_11eb_aa3c_1de831a9b986row7_col4 {\n",
       "            background-color:  #3b4cc0;\n",
       "            color:  #f1f1f1;\n",
       "        }    #T_0249c636_30f9_11eb_aa3c_1de831a9b986row7_col5 {\n",
       "            background-color:  #88abfd;\n",
       "            color:  #000000;\n",
       "        }    #T_0249c636_30f9_11eb_aa3c_1de831a9b986row7_col6 {\n",
       "            background-color:  #3b4cc0;\n",
       "            color:  #f1f1f1;\n",
       "        }    #T_0249c636_30f9_11eb_aa3c_1de831a9b986row7_col7 {\n",
       "            background-color:  #b40426;\n",
       "            color:  #f1f1f1;\n",
       "        }    #T_0249c636_30f9_11eb_aa3c_1de831a9b986row7_col8 {\n",
       "            background-color:  #bed2f6;\n",
       "            color:  #000000;\n",
       "        }    #T_0249c636_30f9_11eb_aa3c_1de831a9b986row7_col9 {\n",
       "            background-color:  #98b9ff;\n",
       "            color:  #000000;\n",
       "        }    #T_0249c636_30f9_11eb_aa3c_1de831a9b986row7_col10 {\n",
       "            background-color:  #dfdbd9;\n",
       "            color:  #000000;\n",
       "        }    #T_0249c636_30f9_11eb_aa3c_1de831a9b986row8_col0 {\n",
       "            background-color:  #d3dbe7;\n",
       "            color:  #000000;\n",
       "        }    #T_0249c636_30f9_11eb_aa3c_1de831a9b986row8_col1 {\n",
       "            background-color:  #7a9df8;\n",
       "            color:  #000000;\n",
       "        }    #T_0249c636_30f9_11eb_aa3c_1de831a9b986row8_col2 {\n",
       "            background-color:  #9dbdff;\n",
       "            color:  #000000;\n",
       "        }    #T_0249c636_30f9_11eb_aa3c_1de831a9b986row8_col3 {\n",
       "            background-color:  #779af7;\n",
       "            color:  #000000;\n",
       "        }    #T_0249c636_30f9_11eb_aa3c_1de831a9b986row8_col4 {\n",
       "            background-color:  #779af7;\n",
       "            color:  #000000;\n",
       "        }    #T_0249c636_30f9_11eb_aa3c_1de831a9b986row8_col5 {\n",
       "            background-color:  #e4d9d2;\n",
       "            color:  #000000;\n",
       "        }    #T_0249c636_30f9_11eb_aa3c_1de831a9b986row8_col6 {\n",
       "            background-color:  #e7d7ce;\n",
       "            color:  #000000;\n",
       "        }    #T_0249c636_30f9_11eb_aa3c_1de831a9b986row8_col7 {\n",
       "            background-color:  #d2dbe8;\n",
       "            color:  #000000;\n",
       "        }    #T_0249c636_30f9_11eb_aa3c_1de831a9b986row8_col8 {\n",
       "            background-color:  #b40426;\n",
       "            color:  #f1f1f1;\n",
       "        }    #T_0249c636_30f9_11eb_aa3c_1de831a9b986row8_col9 {\n",
       "            background-color:  #86a9fc;\n",
       "            color:  #000000;\n",
       "        }    #T_0249c636_30f9_11eb_aa3c_1de831a9b986row8_col10 {\n",
       "            background-color:  #3b4cc0;\n",
       "            color:  #f1f1f1;\n",
       "        }    #T_0249c636_30f9_11eb_aa3c_1de831a9b986row9_col0 {\n",
       "            background-color:  #b1cbfc;\n",
       "            color:  #000000;\n",
       "        }    #T_0249c636_30f9_11eb_aa3c_1de831a9b986row9_col1 {\n",
       "            background-color:  #dcdddd;\n",
       "            color:  #000000;\n",
       "        }    #T_0249c636_30f9_11eb_aa3c_1de831a9b986row9_col2 {\n",
       "            background-color:  #8db0fe;\n",
       "            color:  #000000;\n",
       "        }    #T_0249c636_30f9_11eb_aa3c_1de831a9b986row9_col3 {\n",
       "            background-color:  #81a4fb;\n",
       "            color:  #000000;\n",
       "        }    #T_0249c636_30f9_11eb_aa3c_1de831a9b986row9_col4 {\n",
       "            background-color:  #6384eb;\n",
       "            color:  #000000;\n",
       "        }    #T_0249c636_30f9_11eb_aa3c_1de831a9b986row9_col5 {\n",
       "            background-color:  #97b8ff;\n",
       "            color:  #000000;\n",
       "        }    #T_0249c636_30f9_11eb_aa3c_1de831a9b986row9_col6 {\n",
       "            background-color:  #e6d7cf;\n",
       "            color:  #000000;\n",
       "        }    #T_0249c636_30f9_11eb_aa3c_1de831a9b986row9_col7 {\n",
       "            background-color:  #d3dbe7;\n",
       "            color:  #000000;\n",
       "        }    #T_0249c636_30f9_11eb_aa3c_1de831a9b986row9_col8 {\n",
       "            background-color:  #b1cbfc;\n",
       "            color:  #000000;\n",
       "        }    #T_0249c636_30f9_11eb_aa3c_1de831a9b986row9_col9 {\n",
       "            background-color:  #b40426;\n",
       "            color:  #f1f1f1;\n",
       "        }    #T_0249c636_30f9_11eb_aa3c_1de831a9b986row9_col10 {\n",
       "            background-color:  #6c8ff1;\n",
       "            color:  #000000;\n",
       "        }    #T_0249c636_30f9_11eb_aa3c_1de831a9b986row10_col0 {\n",
       "            background-color:  #8db0fe;\n",
       "            color:  #000000;\n",
       "        }    #T_0249c636_30f9_11eb_aa3c_1de831a9b986row10_col1 {\n",
       "            background-color:  #c3d5f4;\n",
       "            color:  #000000;\n",
       "        }    #T_0249c636_30f9_11eb_aa3c_1de831a9b986row10_col2 {\n",
       "            background-color:  #8badfd;\n",
       "            color:  #000000;\n",
       "        }    #T_0249c636_30f9_11eb_aa3c_1de831a9b986row10_col3 {\n",
       "            background-color:  #9bbcff;\n",
       "            color:  #000000;\n",
       "        }    #T_0249c636_30f9_11eb_aa3c_1de831a9b986row10_col4 {\n",
       "            background-color:  #8caffe;\n",
       "            color:  #000000;\n",
       "        }    #T_0249c636_30f9_11eb_aa3c_1de831a9b986row10_col5 {\n",
       "            background-color:  #8caffe;\n",
       "            color:  #000000;\n",
       "        }    #T_0249c636_30f9_11eb_aa3c_1de831a9b986row10_col6 {\n",
       "            background-color:  #cbd8ee;\n",
       "            color:  #000000;\n",
       "        }    #T_0249c636_30f9_11eb_aa3c_1de831a9b986row10_col7 {\n",
       "            background-color:  #ecd3c5;\n",
       "            color:  #000000;\n",
       "        }    #T_0249c636_30f9_11eb_aa3c_1de831a9b986row10_col8 {\n",
       "            background-color:  #3b4cc0;\n",
       "            color:  #f1f1f1;\n",
       "        }    #T_0249c636_30f9_11eb_aa3c_1de831a9b986row10_col9 {\n",
       "            background-color:  #3b4cc0;\n",
       "            color:  #f1f1f1;\n",
       "        }    #T_0249c636_30f9_11eb_aa3c_1de831a9b986row10_col10 {\n",
       "            background-color:  #b40426;\n",
       "            color:  #f1f1f1;\n",
       "        }</style><table id=\"T_0249c636_30f9_11eb_aa3c_1de831a9b986\" ><thead>    <tr>        <th class=\"blank level0\" ></th>        <th class=\"col_heading level0 col0\" >Survived</th>        <th class=\"col_heading level0 col1\" >Pclass</th>        <th class=\"col_heading level0 col2\" >Age</th>        <th class=\"col_heading level0 col3\" >SibSp</th>        <th class=\"col_heading level0 col4\" >Parch</th>        <th class=\"col_heading level0 col5\" >Fare</th>        <th class=\"col_heading level0 col6\" >Sex_female</th>        <th class=\"col_heading level0 col7\" >Sex_male</th>        <th class=\"col_heading level0 col8\" >Embarked_C</th>        <th class=\"col_heading level0 col9\" >Embarked_Q</th>        <th class=\"col_heading level0 col10\" >Embarked_S</th>    </tr></thead><tbody>\n",
       "                <tr>\n",
       "                        <th id=\"T_0249c636_30f9_11eb_aa3c_1de831a9b986level0_row0\" class=\"row_heading level0 row0\" >Survived</th>\n",
       "                        <td id=\"T_0249c636_30f9_11eb_aa3c_1de831a9b986row0_col0\" class=\"data row0 col0\" >1.000000</td>\n",
       "                        <td id=\"T_0249c636_30f9_11eb_aa3c_1de831a9b986row0_col1\" class=\"data row0 col1\" >-0.338481</td>\n",
       "                        <td id=\"T_0249c636_30f9_11eb_aa3c_1de831a9b986row0_col2\" class=\"data row0 col2\" >-0.077221</td>\n",
       "                        <td id=\"T_0249c636_30f9_11eb_aa3c_1de831a9b986row0_col3\" class=\"data row0 col3\" >-0.035322</td>\n",
       "                        <td id=\"T_0249c636_30f9_11eb_aa3c_1de831a9b986row0_col4\" class=\"data row0 col4\" >0.081629</td>\n",
       "                        <td id=\"T_0249c636_30f9_11eb_aa3c_1de831a9b986row0_col5\" class=\"data row0 col5\" >0.257307</td>\n",
       "                        <td id=\"T_0249c636_30f9_11eb_aa3c_1de831a9b986row0_col6\" class=\"data row0 col6\" >0.543351</td>\n",
       "                        <td id=\"T_0249c636_30f9_11eb_aa3c_1de831a9b986row0_col7\" class=\"data row0 col7\" >-0.543351</td>\n",
       "                        <td id=\"T_0249c636_30f9_11eb_aa3c_1de831a9b986row0_col8\" class=\"data row0 col8\" >0.168240</td>\n",
       "                        <td id=\"T_0249c636_30f9_11eb_aa3c_1de831a9b986row0_col9\" class=\"data row0 col9\" >0.003650</td>\n",
       "                        <td id=\"T_0249c636_30f9_11eb_aa3c_1de831a9b986row0_col10\" class=\"data row0 col10\" >-0.155660</td>\n",
       "            </tr>\n",
       "            <tr>\n",
       "                        <th id=\"T_0249c636_30f9_11eb_aa3c_1de831a9b986level0_row1\" class=\"row_heading level0 row1\" >Pclass</th>\n",
       "                        <td id=\"T_0249c636_30f9_11eb_aa3c_1de831a9b986row1_col0\" class=\"data row1 col0\" >-0.338481</td>\n",
       "                        <td id=\"T_0249c636_30f9_11eb_aa3c_1de831a9b986row1_col1\" class=\"data row1 col1\" >1.000000</td>\n",
       "                        <td id=\"T_0249c636_30f9_11eb_aa3c_1de831a9b986row1_col2\" class=\"data row1 col2\" >-0.369226</td>\n",
       "                        <td id=\"T_0249c636_30f9_11eb_aa3c_1de831a9b986row1_col3\" class=\"data row1 col3\" >0.083081</td>\n",
       "                        <td id=\"T_0249c636_30f9_11eb_aa3c_1de831a9b986row1_col4\" class=\"data row1 col4\" >0.018443</td>\n",
       "                        <td id=\"T_0249c636_30f9_11eb_aa3c_1de831a9b986row1_col5\" class=\"data row1 col5\" >-0.549500</td>\n",
       "                        <td id=\"T_0249c636_30f9_11eb_aa3c_1de831a9b986row1_col6\" class=\"data row1 col6\" >-0.131900</td>\n",
       "                        <td id=\"T_0249c636_30f9_11eb_aa3c_1de831a9b986row1_col7\" class=\"data row1 col7\" >0.131900</td>\n",
       "                        <td id=\"T_0249c636_30f9_11eb_aa3c_1de831a9b986row1_col8\" class=\"data row1 col8\" >-0.243292</td>\n",
       "                        <td id=\"T_0249c636_30f9_11eb_aa3c_1de831a9b986row1_col9\" class=\"data row1 col9\" >0.221009</td>\n",
       "                        <td id=\"T_0249c636_30f9_11eb_aa3c_1de831a9b986row1_col10\" class=\"data row1 col10\" >0.081720</td>\n",
       "            </tr>\n",
       "            <tr>\n",
       "                        <th id=\"T_0249c636_30f9_11eb_aa3c_1de831a9b986level0_row2\" class=\"row_heading level0 row2\" >Age</th>\n",
       "                        <td id=\"T_0249c636_30f9_11eb_aa3c_1de831a9b986row2_col0\" class=\"data row2 col0\" >-0.077221</td>\n",
       "                        <td id=\"T_0249c636_30f9_11eb_aa3c_1de831a9b986row2_col1\" class=\"data row2 col1\" >-0.369226</td>\n",
       "                        <td id=\"T_0249c636_30f9_11eb_aa3c_1de831a9b986row2_col2\" class=\"data row2 col2\" >1.000000</td>\n",
       "                        <td id=\"T_0249c636_30f9_11eb_aa3c_1de831a9b986row2_col3\" class=\"data row2 col3\" >-0.308247</td>\n",
       "                        <td id=\"T_0249c636_30f9_11eb_aa3c_1de831a9b986row2_col4\" class=\"data row2 col4\" >-0.189119</td>\n",
       "                        <td id=\"T_0249c636_30f9_11eb_aa3c_1de831a9b986row2_col5\" class=\"data row2 col5\" >0.096067</td>\n",
       "                        <td id=\"T_0249c636_30f9_11eb_aa3c_1de831a9b986row2_col6\" class=\"data row2 col6\" >-0.093254</td>\n",
       "                        <td id=\"T_0249c636_30f9_11eb_aa3c_1de831a9b986row2_col7\" class=\"data row2 col7\" >0.093254</td>\n",
       "                        <td id=\"T_0249c636_30f9_11eb_aa3c_1de831a9b986row2_col8\" class=\"data row2 col8\" >0.036261</td>\n",
       "                        <td id=\"T_0249c636_30f9_11eb_aa3c_1de831a9b986row2_col9\" class=\"data row2 col9\" >-0.022405</td>\n",
       "                        <td id=\"T_0249c636_30f9_11eb_aa3c_1de831a9b986row2_col10\" class=\"data row2 col10\" >-0.032523</td>\n",
       "            </tr>\n",
       "            <tr>\n",
       "                        <th id=\"T_0249c636_30f9_11eb_aa3c_1de831a9b986level0_row3\" class=\"row_heading level0 row3\" >SibSp</th>\n",
       "                        <td id=\"T_0249c636_30f9_11eb_aa3c_1de831a9b986row3_col0\" class=\"data row3 col0\" >-0.035322</td>\n",
       "                        <td id=\"T_0249c636_30f9_11eb_aa3c_1de831a9b986row3_col1\" class=\"data row3 col1\" >0.083081</td>\n",
       "                        <td id=\"T_0249c636_30f9_11eb_aa3c_1de831a9b986row3_col2\" class=\"data row3 col2\" >-0.308247</td>\n",
       "                        <td id=\"T_0249c636_30f9_11eb_aa3c_1de831a9b986row3_col3\" class=\"data row3 col3\" >1.000000</td>\n",
       "                        <td id=\"T_0249c636_30f9_11eb_aa3c_1de831a9b986row3_col4\" class=\"data row3 col4\" >0.414838</td>\n",
       "                        <td id=\"T_0249c636_30f9_11eb_aa3c_1de831a9b986row3_col5\" class=\"data row3 col5\" >0.159651</td>\n",
       "                        <td id=\"T_0249c636_30f9_11eb_aa3c_1de831a9b986row3_col6\" class=\"data row3 col6\" >0.114631</td>\n",
       "                        <td id=\"T_0249c636_30f9_11eb_aa3c_1de831a9b986row3_col7\" class=\"data row3 col7\" >-0.114631</td>\n",
       "                        <td id=\"T_0249c636_30f9_11eb_aa3c_1de831a9b986row3_col8\" class=\"data row3 col8\" >-0.059528</td>\n",
       "                        <td id=\"T_0249c636_30f9_11eb_aa3c_1de831a9b986row3_col9\" class=\"data row3 col9\" >-0.026354</td>\n",
       "                        <td id=\"T_0249c636_30f9_11eb_aa3c_1de831a9b986row3_col10\" class=\"data row3 col10\" >0.070941</td>\n",
       "            </tr>\n",
       "            <tr>\n",
       "                        <th id=\"T_0249c636_30f9_11eb_aa3c_1de831a9b986level0_row4\" class=\"row_heading level0 row4\" >Parch</th>\n",
       "                        <td id=\"T_0249c636_30f9_11eb_aa3c_1de831a9b986row4_col0\" class=\"data row4 col0\" >0.081629</td>\n",
       "                        <td id=\"T_0249c636_30f9_11eb_aa3c_1de831a9b986row4_col1\" class=\"data row4 col1\" >0.018443</td>\n",
       "                        <td id=\"T_0249c636_30f9_11eb_aa3c_1de831a9b986row4_col2\" class=\"data row4 col2\" >-0.189119</td>\n",
       "                        <td id=\"T_0249c636_30f9_11eb_aa3c_1de831a9b986row4_col3\" class=\"data row4 col3\" >0.414838</td>\n",
       "                        <td id=\"T_0249c636_30f9_11eb_aa3c_1de831a9b986row4_col4\" class=\"data row4 col4\" >1.000000</td>\n",
       "                        <td id=\"T_0249c636_30f9_11eb_aa3c_1de831a9b986row4_col5\" class=\"data row4 col5\" >0.216225</td>\n",
       "                        <td id=\"T_0249c636_30f9_11eb_aa3c_1de831a9b986row4_col6\" class=\"data row4 col6\" >0.245489</td>\n",
       "                        <td id=\"T_0249c636_30f9_11eb_aa3c_1de831a9b986row4_col7\" class=\"data row4 col7\" >-0.245489</td>\n",
       "                        <td id=\"T_0249c636_30f9_11eb_aa3c_1de831a9b986row4_col8\" class=\"data row4 col8\" >-0.011069</td>\n",
       "                        <td id=\"T_0249c636_30f9_11eb_aa3c_1de831a9b986row4_col9\" class=\"data row4 col9\" >-0.081228</td>\n",
       "                        <td id=\"T_0249c636_30f9_11eb_aa3c_1de831a9b986row4_col10\" class=\"data row4 col10\" >0.063036</td>\n",
       "            </tr>\n",
       "            <tr>\n",
       "                        <th id=\"T_0249c636_30f9_11eb_aa3c_1de831a9b986level0_row5\" class=\"row_heading level0 row5\" >Fare</th>\n",
       "                        <td id=\"T_0249c636_30f9_11eb_aa3c_1de831a9b986row5_col0\" class=\"data row5 col0\" >0.257307</td>\n",
       "                        <td id=\"T_0249c636_30f9_11eb_aa3c_1de831a9b986row5_col1\" class=\"data row5 col1\" >-0.549500</td>\n",
       "                        <td id=\"T_0249c636_30f9_11eb_aa3c_1de831a9b986row5_col2\" class=\"data row5 col2\" >0.096067</td>\n",
       "                        <td id=\"T_0249c636_30f9_11eb_aa3c_1de831a9b986row5_col3\" class=\"data row5 col3\" >0.159651</td>\n",
       "                        <td id=\"T_0249c636_30f9_11eb_aa3c_1de831a9b986row5_col4\" class=\"data row5 col4\" >0.216225</td>\n",
       "                        <td id=\"T_0249c636_30f9_11eb_aa3c_1de831a9b986row5_col5\" class=\"data row5 col5\" >1.000000</td>\n",
       "                        <td id=\"T_0249c636_30f9_11eb_aa3c_1de831a9b986row5_col6\" class=\"data row5 col6\" >0.182333</td>\n",
       "                        <td id=\"T_0249c636_30f9_11eb_aa3c_1de831a9b986row5_col7\" class=\"data row5 col7\" >-0.182333</td>\n",
       "                        <td id=\"T_0249c636_30f9_11eb_aa3c_1de831a9b986row5_col8\" class=\"data row5 col8\" >0.269335</td>\n",
       "                        <td id=\"T_0249c636_30f9_11eb_aa3c_1de831a9b986row5_col9\" class=\"data row5 col9\" >-0.117216</td>\n",
       "                        <td id=\"T_0249c636_30f9_11eb_aa3c_1de831a9b986row5_col10\" class=\"data row5 col10\" >-0.166603</td>\n",
       "            </tr>\n",
       "            <tr>\n",
       "                        <th id=\"T_0249c636_30f9_11eb_aa3c_1de831a9b986level0_row6\" class=\"row_heading level0 row6\" >Sex_female</th>\n",
       "                        <td id=\"T_0249c636_30f9_11eb_aa3c_1de831a9b986row6_col0\" class=\"data row6 col0\" >0.543351</td>\n",
       "                        <td id=\"T_0249c636_30f9_11eb_aa3c_1de831a9b986row6_col1\" class=\"data row6 col1\" >-0.131900</td>\n",
       "                        <td id=\"T_0249c636_30f9_11eb_aa3c_1de831a9b986row6_col2\" class=\"data row6 col2\" >-0.093254</td>\n",
       "                        <td id=\"T_0249c636_30f9_11eb_aa3c_1de831a9b986row6_col3\" class=\"data row6 col3\" >0.114631</td>\n",
       "                        <td id=\"T_0249c636_30f9_11eb_aa3c_1de831a9b986row6_col4\" class=\"data row6 col4\" >0.245489</td>\n",
       "                        <td id=\"T_0249c636_30f9_11eb_aa3c_1de831a9b986row6_col5\" class=\"data row6 col5\" >0.182333</td>\n",
       "                        <td id=\"T_0249c636_30f9_11eb_aa3c_1de831a9b986row6_col6\" class=\"data row6 col6\" >1.000000</td>\n",
       "                        <td id=\"T_0249c636_30f9_11eb_aa3c_1de831a9b986row6_col7\" class=\"data row6 col7\" >-1.000000</td>\n",
       "                        <td id=\"T_0249c636_30f9_11eb_aa3c_1de831a9b986row6_col8\" class=\"data row6 col8\" >0.082853</td>\n",
       "                        <td id=\"T_0249c636_30f9_11eb_aa3c_1de831a9b986row6_col9\" class=\"data row6 col9\" >0.074115</td>\n",
       "                        <td id=\"T_0249c636_30f9_11eb_aa3c_1de831a9b986row6_col10\" class=\"data row6 col10\" >-0.125722</td>\n",
       "            </tr>\n",
       "            <tr>\n",
       "                        <th id=\"T_0249c636_30f9_11eb_aa3c_1de831a9b986level0_row7\" class=\"row_heading level0 row7\" >Sex_male</th>\n",
       "                        <td id=\"T_0249c636_30f9_11eb_aa3c_1de831a9b986row7_col0\" class=\"data row7 col0\" >-0.543351</td>\n",
       "                        <td id=\"T_0249c636_30f9_11eb_aa3c_1de831a9b986row7_col1\" class=\"data row7 col1\" >0.131900</td>\n",
       "                        <td id=\"T_0249c636_30f9_11eb_aa3c_1de831a9b986row7_col2\" class=\"data row7 col2\" >0.093254</td>\n",
       "                        <td id=\"T_0249c636_30f9_11eb_aa3c_1de831a9b986row7_col3\" class=\"data row7 col3\" >-0.114631</td>\n",
       "                        <td id=\"T_0249c636_30f9_11eb_aa3c_1de831a9b986row7_col4\" class=\"data row7 col4\" >-0.245489</td>\n",
       "                        <td id=\"T_0249c636_30f9_11eb_aa3c_1de831a9b986row7_col5\" class=\"data row7 col5\" >-0.182333</td>\n",
       "                        <td id=\"T_0249c636_30f9_11eb_aa3c_1de831a9b986row7_col6\" class=\"data row7 col6\" >-1.000000</td>\n",
       "                        <td id=\"T_0249c636_30f9_11eb_aa3c_1de831a9b986row7_col7\" class=\"data row7 col7\" >1.000000</td>\n",
       "                        <td id=\"T_0249c636_30f9_11eb_aa3c_1de831a9b986row7_col8\" class=\"data row7 col8\" >-0.082853</td>\n",
       "                        <td id=\"T_0249c636_30f9_11eb_aa3c_1de831a9b986row7_col9\" class=\"data row7 col9\" >-0.074115</td>\n",
       "                        <td id=\"T_0249c636_30f9_11eb_aa3c_1de831a9b986row7_col10\" class=\"data row7 col10\" >0.125722</td>\n",
       "            </tr>\n",
       "            <tr>\n",
       "                        <th id=\"T_0249c636_30f9_11eb_aa3c_1de831a9b986level0_row8\" class=\"row_heading level0 row8\" >Embarked_C</th>\n",
       "                        <td id=\"T_0249c636_30f9_11eb_aa3c_1de831a9b986row8_col0\" class=\"data row8 col0\" >0.168240</td>\n",
       "                        <td id=\"T_0249c636_30f9_11eb_aa3c_1de831a9b986row8_col1\" class=\"data row8 col1\" >-0.243292</td>\n",
       "                        <td id=\"T_0249c636_30f9_11eb_aa3c_1de831a9b986row8_col2\" class=\"data row8 col2\" >0.036261</td>\n",
       "                        <td id=\"T_0249c636_30f9_11eb_aa3c_1de831a9b986row8_col3\" class=\"data row8 col3\" >-0.059528</td>\n",
       "                        <td id=\"T_0249c636_30f9_11eb_aa3c_1de831a9b986row8_col4\" class=\"data row8 col4\" >-0.011069</td>\n",
       "                        <td id=\"T_0249c636_30f9_11eb_aa3c_1de831a9b986row8_col5\" class=\"data row8 col5\" >0.269335</td>\n",
       "                        <td id=\"T_0249c636_30f9_11eb_aa3c_1de831a9b986row8_col6\" class=\"data row8 col6\" >0.082853</td>\n",
       "                        <td id=\"T_0249c636_30f9_11eb_aa3c_1de831a9b986row8_col7\" class=\"data row8 col7\" >-0.082853</td>\n",
       "                        <td id=\"T_0249c636_30f9_11eb_aa3c_1de831a9b986row8_col8\" class=\"data row8 col8\" >1.000000</td>\n",
       "                        <td id=\"T_0249c636_30f9_11eb_aa3c_1de831a9b986row8_col9\" class=\"data row8 col9\" >-0.148258</td>\n",
       "                        <td id=\"T_0249c636_30f9_11eb_aa3c_1de831a9b986row8_col10\" class=\"data row8 col10\" >-0.778359</td>\n",
       "            </tr>\n",
       "            <tr>\n",
       "                        <th id=\"T_0249c636_30f9_11eb_aa3c_1de831a9b986level0_row9\" class=\"row_heading level0 row9\" >Embarked_Q</th>\n",
       "                        <td id=\"T_0249c636_30f9_11eb_aa3c_1de831a9b986row9_col0\" class=\"data row9 col0\" >0.003650</td>\n",
       "                        <td id=\"T_0249c636_30f9_11eb_aa3c_1de831a9b986row9_col1\" class=\"data row9 col1\" >0.221009</td>\n",
       "                        <td id=\"T_0249c636_30f9_11eb_aa3c_1de831a9b986row9_col2\" class=\"data row9 col2\" >-0.022405</td>\n",
       "                        <td id=\"T_0249c636_30f9_11eb_aa3c_1de831a9b986row9_col3\" class=\"data row9 col3\" >-0.026354</td>\n",
       "                        <td id=\"T_0249c636_30f9_11eb_aa3c_1de831a9b986row9_col4\" class=\"data row9 col4\" >-0.081228</td>\n",
       "                        <td id=\"T_0249c636_30f9_11eb_aa3c_1de831a9b986row9_col5\" class=\"data row9 col5\" >-0.117216</td>\n",
       "                        <td id=\"T_0249c636_30f9_11eb_aa3c_1de831a9b986row9_col6\" class=\"data row9 col6\" >0.074115</td>\n",
       "                        <td id=\"T_0249c636_30f9_11eb_aa3c_1de831a9b986row9_col7\" class=\"data row9 col7\" >-0.074115</td>\n",
       "                        <td id=\"T_0249c636_30f9_11eb_aa3c_1de831a9b986row9_col8\" class=\"data row9 col8\" >-0.148258</td>\n",
       "                        <td id=\"T_0249c636_30f9_11eb_aa3c_1de831a9b986row9_col9\" class=\"data row9 col9\" >1.000000</td>\n",
       "                        <td id=\"T_0249c636_30f9_11eb_aa3c_1de831a9b986row9_col10\" class=\"data row9 col10\" >-0.496624</td>\n",
       "            </tr>\n",
       "            <tr>\n",
       "                        <th id=\"T_0249c636_30f9_11eb_aa3c_1de831a9b986level0_row10\" class=\"row_heading level0 row10\" >Embarked_S</th>\n",
       "                        <td id=\"T_0249c636_30f9_11eb_aa3c_1de831a9b986row10_col0\" class=\"data row10 col0\" >-0.155660</td>\n",
       "                        <td id=\"T_0249c636_30f9_11eb_aa3c_1de831a9b986row10_col1\" class=\"data row10 col1\" >0.081720</td>\n",
       "                        <td id=\"T_0249c636_30f9_11eb_aa3c_1de831a9b986row10_col2\" class=\"data row10 col2\" >-0.032523</td>\n",
       "                        <td id=\"T_0249c636_30f9_11eb_aa3c_1de831a9b986row10_col3\" class=\"data row10 col3\" >0.070941</td>\n",
       "                        <td id=\"T_0249c636_30f9_11eb_aa3c_1de831a9b986row10_col4\" class=\"data row10 col4\" >0.063036</td>\n",
       "                        <td id=\"T_0249c636_30f9_11eb_aa3c_1de831a9b986row10_col5\" class=\"data row10 col5\" >-0.166603</td>\n",
       "                        <td id=\"T_0249c636_30f9_11eb_aa3c_1de831a9b986row10_col6\" class=\"data row10 col6\" >-0.125722</td>\n",
       "                        <td id=\"T_0249c636_30f9_11eb_aa3c_1de831a9b986row10_col7\" class=\"data row10 col7\" >0.125722</td>\n",
       "                        <td id=\"T_0249c636_30f9_11eb_aa3c_1de831a9b986row10_col8\" class=\"data row10 col8\" >-0.778359</td>\n",
       "                        <td id=\"T_0249c636_30f9_11eb_aa3c_1de831a9b986row10_col9\" class=\"data row10 col9\" >-0.496624</td>\n",
       "                        <td id=\"T_0249c636_30f9_11eb_aa3c_1de831a9b986row10_col10\" class=\"data row10 col10\" >1.000000</td>\n",
       "            </tr>\n",
       "    </tbody></table>"
      ],
      "text/plain": [
       "<pandas.io.formats.style.Styler at 0x7fee28dac850>"
      ]
     },
     "execution_count": 15,
     "metadata": {},
     "output_type": "execute_result"
    }
   ],
   "source": [
    "corr = df_dummies.corr()\n",
    "corr.style.background_gradient(cmap='coolwarm')"
   ]
  },
  {
   "cell_type": "markdown",
   "metadata": {
    "id": "Gl2UoBfsAsXx"
   },
   "source": [
    "### Revisión de valores faltantes\n",
    "\n",
    "Evaluemos ahora los valores faltantes. Una buena estrategia de imputación para empezar es reemplazar los valores faltantes en columnas numéricas con la mediana y en columnas categóricas con el valore más frecuente. "
   ]
  },
  {
   "cell_type": "code",
   "execution_count": 16,
   "metadata": {
    "colab": {
     "base_uri": "https://localhost:8080/"
    },
    "id": "uk8gTR8cAsXy",
    "outputId": "00824a76-e16d-41f0-ebf0-956075885b65"
   },
   "outputs": [
    {
     "data": {
      "text/plain": [
       "Survived      0\n",
       "Pclass        0\n",
       "Sex           0\n",
       "Age         177\n",
       "SibSp         0\n",
       "Parch         0\n",
       "Fare          0\n",
       "Embarked      2\n",
       "dtype: int64"
      ]
     },
     "execution_count": 16,
     "metadata": {},
     "output_type": "execute_result"
    }
   ],
   "source": [
    "df.isnull().sum(axis = 0)"
   ]
  },
  {
   "cell_type": "markdown",
   "metadata": {
    "id": "Mmg_CSKZAsX1"
   },
   "source": [
    "### Separación de datos entre train y test"
   ]
  },
  {
   "cell_type": "code",
   "execution_count": 23,
   "metadata": {
    "id": "qRG265J1AsX1"
   },
   "outputs": [],
   "source": [
    "X = df.drop('Survived',axis=1)\n",
    "y = df['Survived']"
   ]
  },
  {
   "cell_type": "code",
   "execution_count": 24,
   "metadata": {},
   "outputs": [],
   "source": [
    "X_train, X_test, y_train, y_test = train_test_split(X, y, test_size=0.2)"
   ]
  },
  {
   "cell_type": "markdown",
   "metadata": {},
   "source": [
    "### Ajustando el modelo"
   ]
  },
  {
   "cell_type": "code",
   "execution_count": 25,
   "metadata": {},
   "outputs": [
    {
     "data": {
      "text/plain": [
       "RandomForestClassifier(bootstrap=True, ccp_alpha=0.0, class_weight=None,\n",
       "                       criterion='gini', max_depth=None, max_features='auto',\n",
       "                       max_leaf_nodes=None, max_samples=None,\n",
       "                       min_impurity_decrease=0.0, min_impurity_split=None,\n",
       "                       min_samples_leaf=1, min_samples_split=2,\n",
       "                       min_weight_fraction_leaf=0.0, n_estimators=100,\n",
       "                       n_jobs=None, oob_score=False, random_state=None,\n",
       "                       verbose=0, warm_start=False)"
      ]
     },
     "execution_count": 25,
     "metadata": {},
     "output_type": "execute_result"
    }
   ],
   "source": [
    "df_clean = df_dummies.fillna(df_dummies.median())\n",
    "\n",
    "X = df_clean.drop('Survived',axis=1)\n",
    "y = df_clean['Survived']\n",
    "\n",
    "X_train, X_test, y_train, y_test = train_test_split(X, y, test_size=0.2)\n",
    "\n",
    "clf = RandomForestClassifier()\n",
    "clf.fit(X_train, y_train)"
   ]
  },
  {
   "cell_type": "code",
   "execution_count": 26,
   "metadata": {},
   "outputs": [
    {
     "data": {
      "text/plain": [
       "array([0, 0, 1, 1, 1, 1, 1, 0, 0, 1, 0, 0, 1, 1, 0, 1, 0, 1, 0, 0, 0, 0,\n",
       "       0, 0, 1, 0, 0, 0, 1, 1, 1, 0, 0, 1, 0, 1, 0, 1, 0, 0, 0, 1, 0, 0,\n",
       "       1, 0, 0, 1, 1, 1, 0, 0, 0, 1, 1, 0, 1, 0, 0, 0, 0, 0, 1, 0, 0, 0,\n",
       "       0, 1, 0, 1, 1, 0, 0, 0, 0, 0, 0, 0, 1, 1, 0, 0, 0, 1, 0, 0, 0, 0,\n",
       "       1, 0, 0, 1, 0, 0, 0, 0, 1, 0, 0, 0, 0, 0, 1, 1, 0, 1, 0, 0, 1, 0,\n",
       "       0, 1, 0, 1, 1, 1, 1, 0, 1, 0, 0, 1, 0, 0, 1, 0, 0, 0, 1, 1, 0, 0,\n",
       "       0, 1, 1, 1, 0, 1, 1, 1, 0, 0, 1, 0, 1, 0, 0, 1, 0, 0, 0, 0, 0, 0,\n",
       "       1, 0, 1, 0, 0, 0, 0, 1, 0, 1, 0, 1, 1, 1, 0, 1, 0, 0, 0, 1, 0, 0,\n",
       "       1, 0, 0])"
      ]
     },
     "execution_count": 26,
     "metadata": {},
     "output_type": "execute_result"
    }
   ],
   "source": [
    "clf.predict(X_test)"
   ]
  },
  {
   "cell_type": "markdown",
   "metadata": {
    "id": "tmR6m0VJAsX6"
   },
   "source": [
    "### Pipeline de inferencia\n",
    "\n",
    "Para tener un modelo robusto, necesitamos crear un pipeline de inferencia que realice todos los pasos necesarios de pre-procesamiento (por ejemplo el cálculo de variables dummies) y realice también la imputación cuando los datos son faltantes. "
   ]
  },
  {
   "cell_type": "code",
   "execution_count": null,
   "metadata": {
    "colab": {
     "base_uri": "https://localhost:8080/"
    },
    "id": "JBNLR7nJAsX7",
    "outputId": "9cadc142-6395-4266-d4b9-3f85746cf4be"
   },
   "outputs": [
    {
     "data": {
      "text/plain": [
       "Pipeline(memory=None,\n",
       "         steps=[('preprocessor',\n",
       "                 ColumnTransformer(n_jobs=None, remainder='drop',\n",
       "                                   sparse_threshold=0.3,\n",
       "                                   transformer_weights=None,\n",
       "                                   transformers=[('num',\n",
       "                                                  Pipeline(memory=None,\n",
       "                                                           steps=[('imputer',\n",
       "                                                                   SimpleImputer(add_indicator=False,\n",
       "                                                                                 copy=True,\n",
       "                                                                                 fill_value=None,\n",
       "                                                                                 missing_values=nan,\n",
       "                                                                                 strategy='median',\n",
       "                                                                                 verbose=0))],\n",
       "                                                           verbose=False),\n",
       "                                                  ['Age', 'Fare']),\n",
       "                                                 ('cat',\n",
       "                                                  Pipel...\n",
       "                 RandomForestClassifier(bootstrap=True, ccp_alpha=0.0,\n",
       "                                        class_weight=None, criterion='gini',\n",
       "                                        max_depth=None, max_features='auto',\n",
       "                                        max_leaf_nodes=None, max_samples=None,\n",
       "                                        min_impurity_decrease=0.0,\n",
       "                                        min_impurity_split=None,\n",
       "                                        min_samples_leaf=1, min_samples_split=2,\n",
       "                                        min_weight_fraction_leaf=0.0,\n",
       "                                        n_estimators=100, n_jobs=None,\n",
       "                                        oob_score=False, random_state=None,\n",
       "                                        verbose=0, warm_start=False))],\n",
       "         verbose=False)"
      ]
     },
     "execution_count": 23,
     "metadata": {
      "tags": []
     },
     "output_type": "execute_result"
    }
   ],
   "source": [
    "numeric_features = ['Age', 'Fare']\n",
    "numeric_transformer = Pipeline(steps=[\n",
    "    ('imputer', SimpleImputer(strategy='median'))])\n",
    "\n",
    "categorical_features = ['Embarked', 'Sex', 'Pclass']\n",
    "categorical_transformer = Pipeline(steps=[\n",
    "    ('imputer', SimpleImputer(strategy='most_frequent', fill_value='missing')),\n",
    "    ('onehot', OneHotEncoder(handle_unknown='ignore'))])\n",
    "\n",
    "preprocessor = ColumnTransformer(\n",
    "    transformers=[\n",
    "        ('num', numeric_transformer, numeric_features),\n",
    "        ('cat', categorical_transformer, categorical_features)])\n",
    "\n",
    "clf = Pipeline(steps=[('preprocessor', preprocessor),\n",
    "                      ('classifier', RandomForestClassifier())])\n",
    "\n",
    "\n",
    "\n",
    "clf.fit(X_train, y_train)"
   ]
  },
  {
   "cell_type": "markdown",
   "metadata": {
    "id": "fcMDSo_BAsX-"
   },
   "source": [
    "### Predicción sobre los datos de prueba y evaluación del modelo"
   ]
  },
  {
   "cell_type": "code",
   "execution_count": null,
   "metadata": {
    "id": "OQufDTEGAsX-"
   },
   "outputs": [],
   "source": [
    "predicciones = clf.predict_proba(X_test)"
   ]
  },
  {
   "cell_type": "code",
   "execution_count": null,
   "metadata": {
    "colab": {
     "base_uri": "https://localhost:8080/"
    },
    "id": "ps59P4xKAsYB",
    "outputId": "d104cae2-e6f2-422f-d07c-5b8f223baddd"
   },
   "outputs": [
    {
     "data": {
      "text/plain": [
       "(179, 2)"
      ]
     },
     "execution_count": 33,
     "metadata": {
      "tags": []
     },
     "output_type": "execute_result"
    }
   ],
   "source": [
    "predicciones.shape"
   ]
  },
  {
   "cell_type": "code",
   "execution_count": null,
   "metadata": {
    "id": "iMuBRBeIAsYE"
   },
   "outputs": [],
   "source": [
    "# Vamos a quedarnos con todas las filas y la primera columna\n",
    "preds_proba = predicciones[:,1]"
   ]
  },
  {
   "cell_type": "code",
   "execution_count": null,
   "metadata": {
    "id": "l70yEAkxrg7A"
   },
   "outputs": [],
   "source": [
    "preds_proba"
   ]
  },
  {
   "cell_type": "code",
   "execution_count": null,
   "metadata": {
    "id": "PkXhkCMeAsYI"
   },
   "outputs": [],
   "source": [
    "preds_exacta = predicciones.argmax(axis=1)"
   ]
  },
  {
   "cell_type": "code",
   "execution_count": null,
   "metadata": {
    "colab": {
     "base_uri": "https://localhost:8080/"
    },
    "id": "pwQ8Kir9AsYL",
    "outputId": "69affd3f-3dd4-4648-8cdc-59596cfe7863"
   },
   "outputs": [
    {
     "data": {
      "text/plain": [
       "array([0, 0, 1, 0, 0, 0, 1, 1, 0, 0, 0, 1, 0, 1, 0, 0, 1, 1, 1, 0, 0, 0,\n",
       "       1, 1, 0, 0, 0, 0, 0, 0, 1, 0, 0, 0, 0, 0, 0, 0, 1, 1, 0, 1, 0, 0,\n",
       "       1, 0, 1, 0, 1, 0, 1, 1, 0, 1, 0, 1, 1, 0, 1, 0, 0, 1, 1, 1, 0, 0,\n",
       "       1, 0, 0, 1, 1, 0, 0, 1, 1, 0, 0, 0, 1, 0, 0, 1, 0, 0, 0, 0, 1, 1,\n",
       "       0, 0, 0, 1, 1, 0, 1, 1, 0, 0, 1, 0, 1, 0, 0, 1, 0, 0, 1, 1, 0, 0,\n",
       "       0, 1, 0, 0, 1, 0, 1, 0, 0, 0, 1, 0, 0, 1, 1, 1, 1, 0, 0, 0, 1, 0,\n",
       "       1, 1, 0, 0, 1, 1, 0, 1, 0, 1, 1, 1, 1, 1, 0, 1, 0, 0, 0, 0, 0, 1,\n",
       "       0, 0, 1, 0, 1, 0, 0, 0, 1, 1, 1, 1, 1, 0, 0, 0, 0, 0, 1, 0, 0, 0,\n",
       "       0, 0, 0])"
      ]
     },
     "execution_count": 36,
     "metadata": {
      "tags": []
     },
     "output_type": "execute_result"
    }
   ],
   "source": [
    "preds_exacta"
   ]
  },
  {
   "cell_type": "markdown",
   "metadata": {
    "id": "kC3UXEuvAsYN"
   },
   "source": [
    "#### Matriz de confusión"
   ]
  },
  {
   "cell_type": "code",
   "execution_count": null,
   "metadata": {
    "id": "xF0wR7eeAsYO"
   },
   "outputs": [],
   "source": [
    "df_cm = confusion_matrix(y_test.values, preds_exacta)"
   ]
  },
  {
   "cell_type": "code",
   "execution_count": null,
   "metadata": {
    "colab": {
     "base_uri": "https://localhost:8080/",
     "height": 281
    },
    "id": "MhjRAYnNAsYQ",
    "outputId": "a09b6619-1bf0-4603-e76e-ae00928c4d64"
   },
   "outputs": [
    {
     "data": {
      "image/png": "[encoded data removed]",
      "text/plain": [
       "<Figure size 432x288 with 2 Axes>"
      ]
     },
     "metadata": {
      "needs_background": "light",
      "tags": []
     },
     "output_type": "display_data"
    }
   ],
   "source": [
    "heatmap = sns.heatmap(df_cm, annot=True, fmt=\"d\")\n",
    "heatmap.yaxis.set_ticklabels([0,1], rotation=0, ha='right')\n",
    "heatmap.xaxis.set_ticklabels([0,1], rotation=45, ha='right')\n",
    "plt.ylabel('Valor Verdadero')\n",
    "plt.xlabel('Valor Predicho');"
   ]
  },
  {
   "cell_type": "markdown",
   "metadata": {
    "id": "fJ_EJxo3v_VA"
   },
   "source": [
    "### Reporte de clasificación"
   ]
  },
  {
   "cell_type": "code",
   "execution_count": null,
   "metadata": {
    "colab": {
     "base_uri": "https://localhost:8080/"
    },
    "id": "r9Ao7m9VwE_c",
    "outputId": "0a905ed7-6054-44a4-c48b-985de26b13f0"
   },
   "outputs": [
    {
     "name": "stdout",
     "output_type": "stream",
     "text": [
      "              precision    recall  f1-score   support\n",
      "\n",
      "           0       0.82      0.81      0.82       107\n",
      "           1       0.73      0.74      0.73        72\n",
      "\n",
      "    accuracy                           0.78       179\n",
      "   macro avg       0.77      0.77      0.77       179\n",
      "weighted avg       0.78      0.78      0.78       179\n",
      "\n"
     ]
    }
   ],
   "source": [
    "print(classification_report(y_test, preds_exacta))"
   ]
  },
  {
   "cell_type": "markdown",
   "metadata": {
    "id": "Pp8jpRdmAsYS"
   },
   "source": [
    "#### Área debajo de la curva\n",
    "\n",
    "¿Cuál es la calidad del ordenamiento que hace este modelo a través de las probabilidades predichas?"
   ]
  },
  {
   "cell_type": "code",
   "execution_count": null,
   "metadata": {
    "colab": {
     "base_uri": "https://localhost:8080/"
    },
    "id": "Xa1UJeIWAsYS",
    "outputId": "dcbe66a7-3af0-435e-a367-ceb8ad13be1a"
   },
   "outputs": [
    {
     "data": {
      "text/plain": [
       "0.8433930425752857"
      ]
     },
     "execution_count": 39,
     "metadata": {
      "tags": []
     },
     "output_type": "execute_result"
    }
   ],
   "source": [
    "roc_auc_score(y_test,preds_proba)"
   ]
  },
  {
   "cell_type": "markdown",
   "metadata": {
    "id": "TbFw3ZxfAsYW"
   },
   "source": [
    "### ¿Qué pasará con Jack y Rose?"
   ]
  },
  {
   "cell_type": "code",
   "execution_count": null,
   "metadata": {
    "colab": {
     "base_uri": "https://localhost:8080/",
     "height": 202
    },
    "id": "pC3s_eu6AsYW",
    "outputId": "525971c2-18c4-4414-8023-01c4c6d44dc8"
   },
   "outputs": [
    {
     "data": {
      "text/html": [
       "<div>\n",
       "<style scoped>\n",
       "    .dataframe tbody tr th:only-of-type {\n",
       "        vertical-align: middle;\n",
       "    }\n",
       "\n",
       "    .dataframe tbody tr th {\n",
       "        vertical-align: top;\n",
       "    }\n",
       "\n",
       "    .dataframe thead th {\n",
       "        text-align: right;\n",
       "    }\n",
       "</style>\n",
       "<table border=\"1\" class=\"dataframe\">\n",
       "  <thead>\n",
       "    <tr style=\"text-align: right;\">\n",
       "      <th></th>\n",
       "      <th>Pclass</th>\n",
       "      <th>Sex</th>\n",
       "      <th>Age</th>\n",
       "      <th>SibSp</th>\n",
       "      <th>Parch</th>\n",
       "      <th>Fare</th>\n",
       "      <th>Embarked</th>\n",
       "    </tr>\n",
       "  </thead>\n",
       "  <tbody>\n",
       "    <tr>\n",
       "      <th>872</th>\n",
       "      <td>1</td>\n",
       "      <td>male</td>\n",
       "      <td>33.0</td>\n",
       "      <td>0</td>\n",
       "      <td>0</td>\n",
       "      <td>5.0000</td>\n",
       "      <td>S</td>\n",
       "    </tr>\n",
       "    <tr>\n",
       "      <th>748</th>\n",
       "      <td>1</td>\n",
       "      <td>male</td>\n",
       "      <td>19.0</td>\n",
       "      <td>1</td>\n",
       "      <td>0</td>\n",
       "      <td>53.1000</td>\n",
       "      <td>S</td>\n",
       "    </tr>\n",
       "    <tr>\n",
       "      <th>718</th>\n",
       "      <td>3</td>\n",
       "      <td>male</td>\n",
       "      <td>NaN</td>\n",
       "      <td>0</td>\n",
       "      <td>0</td>\n",
       "      <td>15.5000</td>\n",
       "      <td>Q</td>\n",
       "    </tr>\n",
       "    <tr>\n",
       "      <th>48</th>\n",
       "      <td>3</td>\n",
       "      <td>male</td>\n",
       "      <td>NaN</td>\n",
       "      <td>2</td>\n",
       "      <td>0</td>\n",
       "      <td>21.6792</td>\n",
       "      <td>C</td>\n",
       "    </tr>\n",
       "    <tr>\n",
       "      <th>550</th>\n",
       "      <td>1</td>\n",
       "      <td>male</td>\n",
       "      <td>17.0</td>\n",
       "      <td>0</td>\n",
       "      <td>2</td>\n",
       "      <td>110.8833</td>\n",
       "      <td>C</td>\n",
       "    </tr>\n",
       "  </tbody>\n",
       "</table>\n",
       "</div>"
      ],
      "text/plain": [
       "     Pclass   Sex   Age  SibSp  Parch      Fare Embarked\n",
       "872       1  male  33.0      0      0    5.0000        S\n",
       "748       1  male  19.0      1      0   53.1000        S\n",
       "718       3  male   NaN      0      0   15.5000        Q\n",
       "48        3  male   NaN      2      0   21.6792        C\n",
       "550       1  male  17.0      0      2  110.8833        C"
      ]
     },
     "execution_count": 40,
     "metadata": {
      "tags": []
     },
     "output_type": "execute_result"
    }
   ],
   "source": [
    "X_train.head()"
   ]
  },
  {
   "cell_type": "code",
   "execution_count": null,
   "metadata": {
    "id": "Mg4qRSSAAsYY"
   },
   "outputs": [],
   "source": [
    "Jack = {'Pclass':3, 'Sex':'male', 'Age':21, 'SibSp':0, 'Parch':0, 'Fare':None, 'Embarked':'Q'}\n",
    "Rose = {'Pclass':1, 'Sex':'female', 'Age':21, 'SibSp':1, 'Parch':1, 'Fare':None, 'Embarked':'S'}"
   ]
  },
  {
   "cell_type": "code",
   "execution_count": null,
   "metadata": {
    "id": "AehXXIHdAsYa"
   },
   "outputs": [],
   "source": [
    "df_Jack_Rose = pd.DataFrame([Jack, Rose])"
   ]
  },
  {
   "cell_type": "code",
   "execution_count": null,
   "metadata": {
    "colab": {
     "base_uri": "https://localhost:8080/",
     "height": 110
    },
    "id": "6t-zkKJ0AsYd",
    "outputId": "e2a25c95-afbd-47c1-86e9-c7087cb1cc96"
   },
   "outputs": [
    {
     "data": {
      "text/html": [
       "<div>\n",
       "<style scoped>\n",
       "    .dataframe tbody tr th:only-of-type {\n",
       "        vertical-align: middle;\n",
       "    }\n",
       "\n",
       "    .dataframe tbody tr th {\n",
       "        vertical-align: top;\n",
       "    }\n",
       "\n",
       "    .dataframe thead th {\n",
       "        text-align: right;\n",
       "    }\n",
       "</style>\n",
       "<table border=\"1\" class=\"dataframe\">\n",
       "  <thead>\n",
       "    <tr style=\"text-align: right;\">\n",
       "      <th></th>\n",
       "      <th>No Survived</th>\n",
       "      <th>Survived</th>\n",
       "    </tr>\n",
       "  </thead>\n",
       "  <tbody>\n",
       "    <tr>\n",
       "      <th>Jack</th>\n",
       "      <td>0.926667</td>\n",
       "      <td>0.073333</td>\n",
       "    </tr>\n",
       "    <tr>\n",
       "      <th>Rose</th>\n",
       "      <td>0.052500</td>\n",
       "      <td>0.947500</td>\n",
       "    </tr>\n",
       "  </tbody>\n",
       "</table>\n",
       "</div>"
      ],
      "text/plain": [
       "      No Survived  Survived\n",
       "Jack     0.926667  0.073333\n",
       "Rose     0.052500  0.947500"
      ]
     },
     "execution_count": 43,
     "metadata": {
      "tags": []
     },
     "output_type": "execute_result"
    }
   ],
   "source": [
    "pd.DataFrame(clf.predict_proba(df_Jack_Rose), columns = ['No Survived','Survived'], index=['Jack','Rose'])"
   ]
  },
  {
   "cell_type": "code",
   "execution_count": null,
   "metadata": {
    "id": "j2a-RK52AsYf"
   },
   "outputs": [],
   "source": []
  }
 ],
 "metadata": {
  "colab": {
   "collapsed_sections": [],
   "name": "Overview - Sklearn - Titanic.ipynb",
   "provenance": []
  },
  "kernelspec": {
   "display_name": "Python 3",
   "language": "python",
   "name": "python3"
  },
  "language_info": {
   "codemirror_mode": {
    "name": "ipython",
    "version": 3
   },
   "file_extension": ".py",
   "mimetype": "text/x-python",
   "name": "python",
   "nbconvert_exporter": "python",
   "pygments_lexer": "ipython3",
   "version": "3.8.8"
  }
 },
 "nbformat": 4,
 "nbformat_minor": 4
}
