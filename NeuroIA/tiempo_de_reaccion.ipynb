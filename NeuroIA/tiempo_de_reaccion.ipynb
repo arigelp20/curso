{
 "cells": [
  {
   "cell_type": "markdown",
   "metadata": {},
   "source": [
    "<a href=\"https://colab.research.google.com/github/institutohumai/cursos-python/blob/neuro/NeuroIA/tiempo_de_reaccion.ipynb\"> <img src='https://colab.research.google.com/assets/colab-badge.svg' /> </a>\n",
    "    <div align=\"center\"> Recordá abrir en una nueva pestaña </div>"
   ]
  },
  {
   "cell_type": "markdown",
   "metadata": {},
   "source": [
    "# Experimento sencillo de Tiempo de Reacción en Python"
   ]
  },
  {
   "cell_type": "markdown",
   "metadata": {},
   "source": [
    "Crear una función *tomar_experimento* que ejecute una prueba de tiempo de reacción. Para esto, recibe como argumento \"rango_pausa\", que es el rango de segundos máximo que puede demorar entre un estímulo y el siguiente.\n",
    "\n",
    "Usando:\n",
    "\n",
    "- La función **time.time()** para devolver el tiempo actual en segundos\n",
    "- La función **random.random()** para generar un número aleatorio entre 0 y 1 y variar el tiempo de pausa\n",
    "- La función **time.sleep(s)** para hacer una pausa de *s* segundos\n",
    "- Y la función **input()** que aguarda una entrada del usuario, bloqueando la ejecución hasta que ingresa la tecla *ENTER*. "
   ]
  },
  {
   "cell_type": "code",
   "execution_count": 10,
   "metadata": {},
   "outputs": [
    {
     "name": "stdout",
     "output_type": "stream",
     "text": [
      "Apretar Enter!\n"
     ]
    },
    {
     "name": "stdin",
     "output_type": "stream",
     "text": [
      " \n"
     ]
    },
    {
     "name": "stdout",
     "output_type": "stream",
     "text": [
      "Apretar Enter!\n"
     ]
    },
    {
     "name": "stdin",
     "output_type": "stream",
     "text": [
      " \n"
     ]
    }
   ],
   "source": [
    "import time\n",
    "import random\n",
    "\n",
    "n_trials = 2\n",
    "rango_pausa = 1\n",
    "datos = []\n",
    "\n",
    "for n in range(n_trials):\n",
    "    pausa = random.random() * rango_pausa\n",
    "    time.sleep(pausa)     # esperar tiempo aleatorio\n",
    "    print('Apretar Enter!')\n",
    "    t0 = time.time()      # tiempo inicial\n",
    "    input()               # esperar reacción\n",
    "    t1 = time.time() - t0 # cálculo diferencia de tiempo\n",
    "    datos.append(t1)      # guardar dato"
   ]
  },
  {
   "cell_type": "markdown",
   "metadata": {},
   "source": [
    "Hacer funciones que calculen promedio y desvio estandar de una lista:"
   ]
  },
  {
   "cell_type": "markdown",
   "metadata": {},
   "source": [
    "### Media o promedio\n",
    "\n",
    "Es el valor medio de nuestro conjunto de valores. Se consigue mediante la suma de los valores dividida la cantidad de estos: $${{\\mu}={\\frac {1}{n}}\\sum _{i=1}^{n}x_{i}={\\frac {x_{1}+x_{2}+\\cdots +x_{n}}{n}}}$$"
   ]
  },
  {
   "cell_type": "code",
   "execution_count": null,
   "metadata": {},
   "outputs": [],
   "source": [
    "def promedio(datos):\n",
    "    pass"
   ]
  },
  {
   "cell_type": "markdown",
   "metadata": {},
   "source": [
    "### Varianza\n",
    "\n",
    "$$\\sigma _{n}^{2}={\\frac {1}{n - 1}}\\sum _{i=1}^{n}\\left(x_{i}-{\\overline {x}}\\right)^{2}$$"
   ]
  },
  {
   "cell_type": "code",
   "execution_count": null,
   "metadata": {},
   "outputs": [],
   "source": [
    "def var(datos):\n",
    "    pass"
   ]
  },
  {
   "cell_type": "markdown",
   "metadata": {},
   "source": [
    "### Desvio Estandar\n",
    "\n",
    "$${\\sigma={\\sqrt {{\\frac {1}{n}}\\sum _{i=1}^{n}\\left(x_{i}-{\\overline {x}}\\right)^{2}}}}$$ "
   ]
  },
  {
   "cell_type": "code",
   "execution_count": null,
   "metadata": {},
   "outputs": [],
   "source": [
    "def sd(datos):\n",
    "    pass"
   ]
  },
  {
   "cell_type": "markdown",
   "metadata": {},
   "source": [
    "### Extra\n",
    "\n",
    "Calculamos estadísticos para nuestros datos:"
   ]
  },
  {
   "cell_type": "code",
   "execution_count": 2,
   "metadata": {},
   "outputs": [],
   "source": [
    "import numpy as np"
   ]
  },
  {
   "cell_type": "code",
   "execution_count": 3,
   "metadata": {},
   "outputs": [],
   "source": [
    "filename = 'UCCuyo - Neuropsia'\n",
    "key = 'UCCuyo/admins.json'\n",
    "\n",
    "cl = get_gsheet(filename, key)"
   ]
  },
  {
   "cell_type": "code",
   "execution_count": 4,
   "metadata": {},
   "outputs": [],
   "source": [
    "sheet = cl.worksheet('Experimento')\n",
    "data = sheet.get_all_records()"
   ]
  },
  {
   "cell_type": "code",
   "execution_count": 38,
   "metadata": {},
   "outputs": [],
   "source": [
    "resultados = []\n",
    "for d in data:\n",
    "    nombre = d['Nombre']\n",
    "    tiempos = d['Datos'].split(', ')\n",
    "    \n",
    "    tiempos = [float(t) for t in tiempos]\n",
    "    \n",
    "    resultado = {'mu':np.mean(tiempos),\n",
    "                'std':np.std(tiempos)}\n",
    "    \n",
    "    resultados.append(resultado)"
   ]
  },
  {
   "cell_type": "code",
   "execution_count": 39,
   "metadata": {},
   "outputs": [
    {
     "data": {
      "text/plain": [
       "[{'mu': 0.771403431892395, 'std': 0.5560289621353149}]"
      ]
     },
     "execution_count": 39,
     "metadata": {},
     "output_type": "execute_result"
    }
   ],
   "source": [
    "resultados"
   ]
  }
 ],
 "metadata": {
  "kernelspec": {
   "display_name": "Python 3",
   "language": "python",
   "name": "python3"
  },
  "language_info": {
   "codemirror_mode": {
    "name": "ipython",
    "version": 3
   },
   "file_extension": ".py",
   "mimetype": "text/x-python",
   "name": "python",
   "nbconvert_exporter": "python",
   "pygments_lexer": "ipython3",
   "version": "3.8.8"
  }
 },
 "nbformat": 4,
 "nbformat_minor": 4
}
