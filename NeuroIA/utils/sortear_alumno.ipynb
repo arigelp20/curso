{
 "cells": [
  {
   "cell_type": "markdown",
   "metadata": {},
   "source": [
    "<a href=\"https://colab.research.google.com/github/institutohumai/cursos-python/blob/neuro/NeuroIA/utils/sortear_alumno.ipynb\"> <img src='https://colab.research.google.com/assets/colab-badge.svg' /> </a>\n",
    "    <div align=\"center\"> Recordá abrir en una nueva pestaña </div>"
   ]
  },
  {
   "cell_type": "code",
   "execution_count": 2,
   "metadata": {},
   "outputs": [],
   "source": [
    "import gspread\n",
    "from oauth2client.service_account import ServiceAccountCredentials\n",
    "import pandas as pd\n",
    "import numpy as np\n",
    "\n",
    "def get_gsheet(filename, key_path):\n",
    "    \"\"\"Devuelve un cliente para G Sheets\"\"\"\n",
    "    scope = ['https://spreadsheets.google.com/feeds',\n",
    "             'https://www.googleapis.com/auth/drive']\n",
    "    creds = ServiceAccountCredentials.from_json_keyfile_name(key_path, scope)\n",
    "    client = gspread.authorize(creds)\n",
    "    cl = client.open(filename)\n",
    "    return cl"
   ]
  },
  {
   "cell_type": "code",
   "execution_count": 2,
   "metadata": {},
   "outputs": [],
   "source": [
    "filename = 'UCCuyo - NeuroPsIA - Alumnos'\n",
    "key = 'UCCuyo/admins.json'\n",
    "\n",
    "cl = get_gsheet(filename, key)"
   ]
  },
  {
   "cell_type": "code",
   "execution_count": 3,
   "metadata": {},
   "outputs": [],
   "source": [
    "sheet = cl.worksheet('Hoja 1')\n",
    "data = sheet.get_all_records()"
   ]
  },
  {
   "cell_type": "code",
   "execution_count": 23,
   "metadata": {},
   "outputs": [],
   "source": [
    "asistentes = []\n",
    "for alumno in data:\n",
    "    if alumno['2'] == 'Si':\n",
    "        asistentes.append(alumno['Nombre'])\n",
    "    elif alumno['1'] == 'Si':\n",
    "        asistentes.append(alumno['Nombre'])"
   ]
  },
  {
   "cell_type": "code",
   "execution_count": null,
   "metadata": {},
   "outputs": [],
   "source": [
    "np.random.choice(asistentes)"
   ]
  }
 ],
 "metadata": {
  "kernelspec": {
   "display_name": "Python 3",
   "language": "python",
   "name": "python3"
  },
  "language_info": {
   "codemirror_mode": {
    "name": "ipython",
    "version": 3
   },
   "file_extension": ".py",
   "mimetype": "text/x-python",
   "name": "python",
   "nbconvert_exporter": "python",
   "pygments_lexer": "ipython3",
   "version": "3.8.8"
  }
 },
 "nbformat": 4,
 "nbformat_minor": 4
}
