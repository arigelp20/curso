{
 "cells": [
  {
   "cell_type": "markdown",
   "metadata": {},
   "source": [
    "<a href=\"https://colab.research.google.com/github/institutohumai/cursos-python/blob/master/Scraping/1_HTTP_Inicial/web_scraping_http_inicial.ipynb\" target=\"_parent\"><img src=\"https://colab.research.google.com/assets/colab-badge.svg\" alt=\"Open In Colab\" data-canonical-src=\"https://colab.research.google.com/assets/colab-badge.svg\"></a>"
   ]
  },
  {
   "cell_type": "markdown",
   "metadata": {
    "id": "dJikR8QwA0Zt"
   },
   "source": [
    "# **Web Scraping: Extrayendo datos de Internet**"
   ]
  },
  {
   "cell_type": "markdown",
   "metadata": {
    "id": "bTg_uMsf2sXB"
   },
   "source": [
    "## **¿Qué es el web scraping?**  🤔\n",
    "\n",
    "*La práctica de **recopilar datos** a través de cualquier medio que no sea un programa que interactúa con una API o un humano que usa un navegador web. **Normalmente mediante un programa automatizado** que consulta un servidor web, solicita datos (generalmente en forma de HTML y otros archivos que componen las páginas web) y luego analiza esos datos para extraer la información necesaria.*\n",
    "\n",
    "<br>\n",
    "\n",
    "<center>\n",
    "<img src=\"https://images-na.ssl-images-amazon.com/images/I/517z2NUzcEL._SX198_BO1,204,203,200_QL40_ML2_.jpg\">\n",
    "</center>\n",
    "\n",
    "<br>\n",
    "\n",
    "*Por otro lado, el **web crawling o indexación** se utiliza para indexar la información de la página mediante bots también conocidos como crawlers (lo que hacen los motores de búsqueda). Se trata de ver una página como un todo e indexarla. Cuando un bot rastrea un sitio web, **recorre todas las páginas y todos los enlaces**, hasta la última línea del sitio web, en busca de **CUALQUIER información**.*"
   ]
  },
  {
   "cell_type": "markdown",
   "metadata": {
    "id": "wDfhvFueahvR"
   },
   "source": [
    "## **Antes de empezar** ⚠️\n",
    "\n",
    "1. *Aspectos éticos y legales del web scraping*\n",
    "  * El web scraping es una forma automática de guardar información que se presenta en nuestro navegador muy utilizada tanto en la industria como en la academia, sus aspectos legales dependerán de cada sitio y de cada estado. Respecto a la ética es importante que nos detengamos a pensar si estamos o no generando algun perjuicio. En ambos casos el debate está abierto y hay mucha bibliografía al respecto como por ejemplo [este trabajo](https://www.researchgate.net/profile/Vlad-Krotov/publication/324907302_Legality_and_Ethics_of_Web_Scraping/links/5aea622345851588dd8287dc/Legality-and-Ethics-of-Web-Scraping.pdf)\n",
    "\n",
    "2. *No reinventar la rueda*\n",
    "  * Emprender un proyecto de web scraping a veces es rapido y sencillo, pero normalmente requiere tiempo y esfuerzo. Siempre es aconsejable asegurarse de que valga la pena y antes iniciar hacerse algunas preguntas:<br>\n",
    "    - ¿La informacion que necesito ya se encuentra disponible? (ej: APIs)\n",
    "    - ¿Vale la pena automatizarlo o es algo que lleva poco trabajo a mano?\n",
    "\n",
    "\n",
    "\n"
   ]
  },
  {
   "cell_type": "markdown",
   "metadata": {
    "id": "JodftJTr_eGi"
   },
   "source": [
    "## **Conceptos básicos sobre la web** \n",
    "\n",
    "#### HTML, CSS y JavaScript son los tres lenguajes principales con los que está hecho la parte de la web que vemos (*front-end*).\n",
    "\n",
    "<center>\n",
    "<img src=\"https://www.nicepng.com/png/detail/142-1423886_html5-css3-js-html-css-javascript.png\" width=\"400\">\n",
    "\n",
    "<img src=\"https://geekflare.com/wp-content/uploads/2019/12/css-gif.gif\" width=\"243\">\n",
    "\n",
    "\n",
    "</center>\n",
    "\n",
    "<br>\n",
    "<br>\n",
    "\n",
    "| ESTRUCTURA  | ESTILO | FUNCIONALIDAD|\n",
    "|-----|----------------| ---------- |\n",
    "|HTML| CSS | JAVASCRIPT|\n",
    "\n",
    "<font color=\"gray\">\n",
    "Fuente de las imágenes: <br>\n",
    "https://geekflare.com/es/css-formatting-optimization-tools/ <br>\n",
    "https://www.nicepng.com/ourpic/u2q8i1o0e6q8r5t4_html5-css3-js-html-css-javascript/\n",
    "</font>\n",
    "\n"
   ]
  },
  {
   "cell_type": "markdown",
   "metadata": {
    "id": "UvoyAdrL2pGS"
   },
   "source": [
    "## Introducción a HTML"
   ]
  },
  {
   "cell_type": "markdown",
   "metadata": {
    "id": "WZ8PvQ87A0Z1"
   },
   "source": [
    "El lenguaje principal de la internet es HTML, cuando nosotros vemos algo así:\n",
    "\n",
    "![](https://github.com/institutohumai/cursos-python/blob/master/Scraping/1_HTTP_Inicial/multimedia/hello-world.jpeg?raw=1)\n",
    "\n",
    "Eso se genera a partir de una código que luce así\n",
    "\n",
    "```html\n",
    "<html>\n",
    "  <header>\n",
    "    <title>Web Scraping - Instituto Humai</title>\n",
    "  </header>\n",
    "  <body>\n",
    "    <h1>¡Hola!</h1>\n",
    "    <p>Esto es un sitio web</p>\n",
    "  </body>\n",
    "</html>\n",
    "```\n",
    "\n",
    "**_Nota_**: Para saber más sobre HTML podés consultar [acá](https://www.w3schools.com/TAGS/default.ASP) la lista de etiquetas de este lenguaje."
   ]
  },
  {
   "cell_type": "markdown",
   "metadata": {
    "id": "B6sSeFHDGY26"
   },
   "source": [
    "\n",
    "```html\n",
    "  <head>\n",
    "    <title>Mi primer pagina</title>\n",
    "  </head>\n",
    "  <body>\n",
    "    <h1 id='titulo'>Hola</h1>\n",
    "    <h2 style='color:red;'>Subtitulo en rojo</h2>\n",
    "    <p>Primer parrafo</p>\n",
    "    <hr>\n",
    "    <img src=\"https://i.pinimg.com/564x/8f/14/25/8f142555ef5006abd82d8c5c7f9f8570.jpg\" alt=\"gato\" width=400>\n",
    "  </body>\n",
    "```\n",
    "<center>\n",
    "<img src=\"https://i.ibb.co/9pqvGSv/HTML-gatito.png\"  width=800> <br>\n",
    "<h3>Probar el código: <a>https://codepen.io/GEJ1/pen/GRmVNPb</a></h3>\n",
    "</center>\n"
   ]
  },
  {
   "cell_type": "markdown",
   "metadata": {
    "id": "MrnbZl5CETFL"
   },
   "source": [
    "## DOM (Document Object Model)\n",
    "\n",
    "\n",
    "Interfaz independiente del lenguaje que trata un documento XML o HTML como una estructura de tipo **árbol**\n",
    "<figure>\n",
    "<img src=\"https://upload.wikimedia.org/wikipedia/commons/thumb/5/5a/DOM-model.svg/330px-DOM-model.svg.png\" width=\"500\">\n",
    "\n",
    "```html\n",
    "<html>\n",
    "  <head>\n",
    "    <title>My title</title>\n",
    "  </head>\n",
    "  <body>\n",
    "    <h1>A heading</h1>\n",
    "    <a href>Link text</a>\n",
    "  </body>\n",
    "</html>\n",
    "```\n",
    "</figure>\n",
    "\n",
    "<font color=\"gray\"> Fuente: https://en.wikipedia.org/wiki/Document_Object_Model\n",
    "<br>Autor: Birger Eriksson\n",
    "</font>\n"
   ]
  },
  {
   "cell_type": "markdown",
   "metadata": {
    "id": "B3s4n2eqA0Z3"
   },
   "source": [
    "## ¿Cómo consigo el código HTML?\n",
    "\n",
    "Ahora que sabemos cuál es el componente principal de los sitios webs podemos intentar programar a nuestra computadora para leer HTML y extraer información útil.\n",
    "\n",
    "Para conseguir el código de un sitio web podemos presionar `ctrl+u` en el navegador.\n",
    "\n",
    "Para hacer lo mismo desde Python podemos hacer lo siguiente:"
   ]
  },
  {
   "cell_type": "code",
   "execution_count": 1,
   "metadata": {
    "colab": {
     "base_uri": "https://localhost:8080/"
    },
    "id": "lCA6aQ1gA0Z5",
    "outputId": "5835ff58-4cab-4ac0-8b24-69c2319703b7"
   },
   "outputs": [
    {
     "name": "stdout",
     "output_type": "stream",
     "text": [
      "<!DOCTYPE html>\n",
      "<html class=\"client-nojs\" lang=\"es\" dir=\"ltr\">\n",
      "<head>\n",
      "<meta charset=\"UTF-8\"/>\n",
      "<title>HTML - Wikipedia, la enciclopedia libre</title>\n",
      "<script>document.documentElement.className=\"client-js\";RLCONF={\"wgBreakFrames\":false,\"wgSeparatorTransformTable\":[\",\\t.\",\" \\t,\"],\"wgDigitTransformTable\":[\"\",\"\"],\"wgDefaultDateFormat\":\"dmy\",\"wgMonthNames\":[\"\",\"enero\",\"febrero\",\"marzo\",\"abril\",\"mayo\",\"junio\",\"julio\",\"agosto\",\"septiembre\",\"octubre\",\"noviembre\",\"diciembre\"],\"wgRequestId\":\"7c00b1a5-1eb0-4c39-8264-79af0ad32084\",\"wgCSPNonce\":false,\"wgCanonicalNamespace\":\"\",\"wgCanonicalSpecialPageName\":false,\"wgNamespaceNumber\":0,\"wgPageName\":\"HTML\",\"wgTitle\":\"HTML\",\"wgCurRevisionId\":148034443,\"wgRevisionId\":148034443,\"wgArticleId\":1366,\"wgIsArticle\":true,\"wgIsRedirect\":false,\"wgAction\":\"view\",\"wgUserName\":null,\"wgUserGroups\":[\"*\"],\"wgCategories\":[\"Wikipedia:Artículos con datos por trasladar a Wikidata\",\"Wikipedia:Artículos con identificadores BNE\",\"Wikipedia:Artículos con identificadores BNF\",\"Wi\n"
     ]
    }
   ],
   "source": [
    "#Importamos la libreria necesaria\n",
    "import requests\n",
    "\n",
    "un_sitio_web = \"https://es.wikipedia.org/wiki/HTML\"\n",
    "\n",
    "# esto descarga la información del sitio web\n",
    "# Es similar a lo que hace un navegador web antes de mostrar el contenido de forma amigable para un humano\n",
    "resultado = requests.get(un_sitio_web)\n",
    "\n",
    "# accedemos al código a través del atributo \"text\" del resultado\n",
    "codigo_html = resultado.text\n",
    "print(codigo_html[:1000])"
   ]
  },
  {
   "cell_type": "code",
   "execution_count": 3,
   "metadata": {},
   "outputs": [
    {
     "data": {
      "text/plain": [
       "requests.models.Response"
      ]
     },
     "execution_count": 3,
     "metadata": {},
     "output_type": "execute_result"
    }
   ],
   "source": [
    "type(resultado)"
   ]
  },
  {
   "cell_type": "markdown",
   "metadata": {
    "id": "fyGIaAQNA0Z7"
   },
   "source": [
    "### ¿Qué acabamos de hacer?\n",
    "\n",
    "Veamos algunos detalles más sobre cómo descargar el contenido de un sitio web (O cómo se le suele decir en la jerga de la programación _realizar un request_). Como dijimos, en python se puede utilizar la función get de la libreria requests para hacer esto, veamos con mayor profundidad cómo se utiliza."
   ]
  },
  {
   "cell_type": "code",
   "execution_count": 8,
   "metadata": {
    "colab": {
     "base_uri": "https://localhost:8080/"
    },
    "id": "ekwXCdmkA0Z8",
    "outputId": "4d45032f-fe4d-4ec8-d6d1-e8ca976c8fa0"
   },
   "outputs": [
    {
     "name": "stdout",
     "output_type": "stream",
     "text": [
      "------------------------------\n",
      "Respuesta sin headers\n",
      "{\n",
      "  \"headers\": {\n",
      "    \"Accept\": \"*/*\", \n",
      "    \"Accept-Encoding\": \"gzip, deflate, br\", \n",
      "    \"Host\": \"httpbin.org\", \n",
      "    \"User-Agent\": \"python-requests/2.28.1\", \n",
      "    \"X-Amzn-Trace-Id\": \"Root=1-63aa00c9-720c3cc13af2cb4f1a7e733a\"\n",
      "  }\n",
      "}\n",
      "\n",
      "------------------------------\n",
      "Respuesta con headers\n",
      "{\n",
      "  \"headers\": {\n",
      "    \"Accept\": \"*/*\", \n",
      "    \"Accept-Encoding\": \"gzip, deflate, br\", \n",
      "    \"Host\": \"httpbin.org\", \n",
      "    \"User-Agent\": \"Mozilla/5.0 (X11; Linux x86_64) AppleWebKit/537.36 (KHTML, like Gecko) Chrome/84.0.4147.105 Safari/537.36\", \n",
      "    \"X-Amzn-Trace-Id\": \"Root=1-63aa00c9-146c57442fb150495d32ed33\"\n",
      "  }\n",
      "}\n",
      "\n"
     ]
    }
   ],
   "source": [
    "# httpbin es una pagina para testear pedidos HTTP, en particular la siguiente URL nos devuelve nuestro header.\n",
    "url = 'http://httpbin.org/headers' \n",
    "resp = requests.get(url)\n",
    "\n",
    "print('------------------------------')\n",
    "print('Respuesta sin headers')\n",
    "print(resp.text)\n",
    "\n",
    "print('------------------------------')\n",
    "print('Respuesta con headers')\n",
    "nuestros_headers = {\n",
    "    'user-agent': 'Mozilla/5.0 (X11; Linux x86_64) AppleWebKit/537.36 (KHTML, like Gecko) Chrome/84.0.4147.105 Safari/537.36'\n",
    "    }\n",
    "resp_con_headers = requests.get(url, headers = nuestros_headers)\n",
    "print(resp_con_headers.text)\n"
   ]
  },
  {
   "cell_type": "markdown",
   "metadata": {
    "id": "XhxvusaLA0Z8"
   },
   "source": [
    "A parte de la _url_, muchas veces se especifican los _headers_, estos son objetos que proveen datos sobre nuestro _request_, por ejemplo en el campo user-agent brindamos detalles sobre quienes somos (Nuestro sistema operativo, navegador web y demás). En este caso, como no estamos usando un navegador sino que hacemos el _request_ desde Python normalmente se omite este campo, o en caso de ser obligatorio se puede inventar, ya que algunos sitios nos van a ignorar a menos que especifiquemos este campo.\n",
    "\n",
    "Pueden ver más en esta [Lista de Headers](https://en.wikipedia.org/wiki/List_of_HTTP_header_fields)\n",
    "\n",
    "- Consultas\n",
    "    - ¿Por qué los sitios te podrían bloquear/ignorar?\n",
    "    - ¿De donde saco un user-agent?\n"
   ]
  },
  {
   "cell_type": "markdown",
   "metadata": {
    "id": "MdRjN5y1CuBK"
   },
   "source": [
    "### Protocolo HTTP"
   ]
  },
  {
   "cell_type": "markdown",
   "metadata": {
    "id": "2w07ITLwHmi8"
   },
   "source": [
    "La web utiliza ampliamente el protocolo HTTP (de _Hypertext Transfer Protocol_) para interactuar con sus recursos. Este protocolo indica cómo estructurar un mensaje de texto que describa la petición (**request**) del usuario a un servidor. Hay distintos tipos de peticios que un usuario puede realizar, algunas de ellas son:\n",
    "\n",
    "* **GET**: Solicita una representación de un recurso alojado en el servidor.\n",
    "* **POST**: Envía datos al servidor para crear un recurso nuevo.\n",
    "* **PUT**: Crea o modifica un recurso del servidor.\n",
    "* **DELETE**: Elimina un recurso del servidor.\n",
    "\n",
    "Existen otros métodos que no nos van a ser relevantes por ahora.\n",
    "\n",
    "Cada vez que vamos al navegador y escribimos la dirección de una página web, **estamos haciendo un GET request** a un servidor. \n",
    "Esto es una petición para adquirir el código de un recurso que queremos visualizar en el navegador. "
   ]
  },
  {
   "cell_type": "markdown",
   "metadata": {
    "id": "U_wuF5Mq1ikJ"
   },
   "source": [
    "Como vimos antes la función `get` retorna un objeto, el cual llamamos _resp_, este es un elemento de la clase **_Response_** y tiene distintos atributos a los que podemos acceder.\n",
    "\n",
    "El objeto **_Response_** de requests tiene los siguientes elementos principales:\n",
    "\n",
    "- **.text**: devuelve el contenido como string.\n",
    "- **.content**: devuelve el contenido en bytes.\n",
    "- **.json()**: el contenido en formato JSON, si es posible.\n",
    "- **.status_code**: el código de respuesta.\n",
    "\n",
    "\n",
    "El código de status (*status code*) nos informa del estado de nuestra *request*\n",
    "\n",
    "Códigos posibles:\n",
    "\n",
    "- 1xx Mensaje de información\n",
    "- 2xx Éxito\n",
    "- 3xx Redirigir a otra URL\n",
    "- 4xx Error del cliente\n",
    "- 5xx Error del servidor\n",
    "\n",
    "<center>\n",
    "<img alt=\"http-status-codes\" src=\"https://miro.medium.com/max/1400/1*w_iicbG7L3xEQTArjHUS6g.jpeg\" width=\"500\"> <br>\n",
    "<font color='gray'>Fuente: https://www.youtube.com/watch?v=LtNSd_4txVc\n",
    "</font>\n",
    "</center>\n",
    "\n"
   ]
  },
  {
   "cell_type": "code",
   "execution_count": 5,
   "metadata": {
    "colab": {
     "base_uri": "https://localhost:8080/"
    },
    "id": "BJoW-QxnA0Z9",
    "outputId": "937f0449-5e68-42d8-a573-f85d29aaa35b"
   },
   "outputs": [
    {
     "data": {
      "text/plain": [
       "200"
      ]
     },
     "execution_count": 5,
     "metadata": {},
     "output_type": "execute_result"
    }
   ],
   "source": [
    "#Vemos el código de estado\n",
    "# 200 es que esta todo bien, 5xx o 4xx es que esta todo mal (Por ejemplo el clasico 404)\n",
    "resp.status_code"
   ]
  },
  {
   "cell_type": "code",
   "execution_count": 6,
   "metadata": {},
   "outputs": [
    {
     "data": {
      "text/plain": [
       "{'headers': {'Accept': '*/*',\n",
       "  'Accept-Encoding': 'gzip, deflate, br',\n",
       "  'Host': 'httpbin.org',\n",
       "  'User-Agent': 'python-requests/2.28.1',\n",
       "  'X-Amzn-Trace-Id': 'Root=1-63a9fefa-362318491a25a71763a914f9'}}"
      ]
     },
     "execution_count": 6,
     "metadata": {},
     "output_type": "execute_result"
    }
   ],
   "source": [
    "resp.json()"
   ]
  },
  {
   "cell_type": "code",
   "execution_count": 9,
   "metadata": {
    "id": "LyzTCE9lA0Z-",
    "outputId": "ebd2d06b-21ac-43d8-979e-9b11961ce684"
   },
   "outputs": [
    {
     "data": {
      "text/plain": [
       "{'User-Agent': 'python-requests/2.28.1', 'Accept-Encoding': 'gzip, deflate, br', 'Accept': '*/*', 'Connection': 'keep-alive'}"
      ]
     },
     "execution_count": 9,
     "metadata": {},
     "output_type": "execute_result"
    }
   ],
   "source": [
    "#Vemos los headers que enviamos\n",
    "resp.request.headers"
   ]
  },
  {
   "cell_type": "markdown",
   "metadata": {
    "id": "tgd3ifvlA0Z_"
   },
   "source": [
    "El atributo que nos interesa particularmente es resp.text, que guardan el contenido de la página.\n",
    "\n",
    "Como vamos a descargar el codigo de un sitio frecuentemente armamos una funcion para no reescribir lo mismo muchas veces"
   ]
  },
  {
   "cell_type": "code",
   "execution_count": 10,
   "metadata": {
    "id": "ZtjjqrYdA0Z_"
   },
   "outputs": [],
   "source": [
    "def codigo_html(url):\n",
    "    headers = {\n",
    "        'user-agent': 'Mozilla/5.0 (X11; Linux x86_64) AppleWebKit/537.36 (KHTML, like Gecko) Chrome/84.0.4147.105 Safari/537.36'\n",
    "        }\n",
    "    resp = requests.get(url, headers = headers)\n",
    "    return resp.text"
   ]
  },
  {
   "cell_type": "code",
   "execution_count": 11,
   "metadata": {
    "colab": {
     "base_uri": "https://localhost:8080/"
    },
    "id": "dp8KOmTafohn",
    "outputId": "5220527c-3b25-4e89-f13d-fd6fd930b6ee"
   },
   "outputs": [
    {
     "name": "stdout",
     "output_type": "stream",
     "text": [
      "Este es el contenido en bytes: \n",
      " b'\\xff\\xd8\\xff\\xe0\\x00\\x10JFIF\\x00\\x01\\x01\\x00\\x00\\x01\\x00\\x01\\x00\\x00\\xff\\xdb\\x00C\\x00\\n\\x07\\x07\\x08\\x07\\x06\\n\\x08\\x08\\x08\\x0b\\n\\n\\x0b\\x0e\\x18\\x10\\x0e\\r\\r\\x0e\\x1d\\x15\\x16\\x11\\x18#\\x1f%$\"\\x1f\"!&+7/&)4)!\"0A149;>>>%.DIC<H7=>;\\xff\\xdb\\x00C\\x01\\n\\x0b\\x0b\\x0e\\r\\x0e'\n"
     ]
    }
   ],
   "source": [
    "# Tambien podemos scrapear otro tipo de a que no sea texto\n",
    "import requests\n",
    "\n",
    "# defino la URL\n",
    "image_url = 'https://www.octoparse.com/media/7179/find-data.jpg'\n",
    "\n",
    "# Hago una peticion y guardo la respuesta\n",
    "image_response = requests.get(image_url)\n",
    "\n",
    "# Accedemos al contenido de la imagen en bytes\n",
    "image_response_content = image_response.content\n",
    "\n",
    "print(f'Este es el contenido en bytes: \\n {image_response_content[:100]}')"
   ]
  },
  {
   "cell_type": "code",
   "execution_count": 12,
   "metadata": {
    "id": "XCeM77vEf70c"
   },
   "outputs": [
    {
     "name": "stdout",
     "output_type": "stream",
     "text": [
      "Esta imagen la bajamos de internet usando Python! \n",
      " \n"
     ]
    },
    {
     "data": {
      "image/png": "[encoded data removed]",
      "text/plain": [
       "<PIL.JpegImagePlugin.JpegImageFile image mode=RGB size=550x400 at 0x2B98FBDDA90>"
      ]
     },
     "execution_count": 12,
     "metadata": {},
     "output_type": "execute_result"
    }
   ],
   "source": [
    "# Importamos librerias para manejar imagenes (no tienen nada que ver con el scrapeo)\n",
    "from PIL import Image\n",
    "from io import BytesIO\n",
    "\n",
    "# Mostramos la imagen\n",
    "image_from_url = Image.open(BytesIO(image_response_content))\n",
    "print('Esta imagen la bajamos de internet usando Python! \\n ')\n",
    "image_from_url"
   ]
  },
  {
   "cell_type": "markdown",
   "metadata": {
    "id": "h1cGseCPA0aA"
   },
   "source": [
    "### Documentación\n",
    "La función get y la clase Response fueron desarrolladas por lxs programadores que crearon la librería requests. Si quieren saber mas sobre algún detalle siempre es recomendable buscar en la [documentación oficial de la librería](https://docs.python-requests.org/en/latest/)."
   ]
  },
  {
   "cell_type": "markdown",
   "metadata": {
    "id": "NYNXMrDgA0aA"
   },
   "source": [
    "## ¿Cómo extraigo datos útiles del código HTML?\n",
    "\n",
    "- Veamos un ejemplo inspeccionando con chrome un sitio web:\n",
    "1. Nos posicionamos sobre el elemento que nos interesa.\n",
    "2. Presionamos click derecho -> *inspeccionar elemento* para abrir las *herramientas de desarrollo* (o presionando `CTRL + SHIFT + I`)\n",
    "4. Esto nos da acceso al codigo de HTML correspondiente al elemento de la pagina que nos interesa.\n",
    "\n",
    "\n",
    "<img src=\"https://i.ibb.co/1RSNcs5/inspect.png\" alt=\"inspect\" width=\"1100\">\n",
    "\n",
    "<hr>\n",
    "<br>\n",
    "<br>\n",
    "\n",
    "En **Elements** vamos a poder inspeccionar el código HTML, para ubicar los datos de nuestro interés. Para identificar la ubicación de uno, podemos posicionarnos con el cursor sobre el sitio, hacer click derecho, y seleccionar \"Inspeccionar elemento\".\n",
    "\n",
    "En la solapa **Network** podemos ver todos los paquetes HTTP que realiza nuestro navegador interactuando con un sitio. Identificando los paquetes de las APIs que traen los datos, podemos _scrapear_ datos más facilmente. **[Esto lo verán en la clase de APIs]**\n",
    "\n",
    "<br>\n",
    "<br>\n",
    "\n",
    "<img src='https://i2.wp.com/abodeqa.com/wp-content/uploads/2019/02/Inspect-Element-Using-Select-Tool.gif'>\n",
    "\n"
   ]
  },
  {
   "cell_type": "markdown",
   "metadata": {
    "id": "j208C_1eH8Z4"
   },
   "source": [
    "### **Método 1: Expresiones regulares**"
   ]
  },
  {
   "cell_type": "markdown",
   "metadata": {
    "id": "IIprwSHYA0aA"
   },
   "source": [
    "RegEx para los amigos. Son un mini lenguaje de programación diseñado para realizar búsquedas en strings."
   ]
  },
  {
   "cell_type": "markdown",
   "metadata": {
    "id": "BhrBctRSA0aB"
   },
   "source": [
    "Las funciones principales de la librería re son:\n",
    "- re.findall(pattern, string) para encontrar todos los resultados de una búsqueda\n",
    "- re.search(pattern, string) para encontrar el primer resultado que coincida\n",
    "- re.sub(pattern, replace, string) para substituir un texto por otro\n",
    "\n",
    "Recursos útiles\n",
    "\n",
    "- [Testeo de regex online](https://regex101.com/)\n",
    "- [CheatSheet](https://www.dataquest.io/wp-content/uploads/2019/03/python-regular-expressions-cheat-sheet.pdf)"
   ]
  },
  {
   "cell_type": "markdown",
   "metadata": {
    "id": "XIxDi3ZiA0aG"
   },
   "source": [
    "#### Aplicandolo a la web\n",
    "##### Ejemplo 1: Usamos regex para extraer los títulos del diario La Prensa.\n",
    "\n",
    "\n",
    "```html\n",
    "<h2 class=\"entry__title\"><a href=\"http://www.laprensa.com.ar/491843-Dilemas-de-la-batalla-cultural-I.note.aspx\" target=\"_self\" onclick=\"javascript:if(typeof(_gaq)!='undefined'){_gaq.push(['_trackEvent', 'Notas', 'Cultura', 'Dilemas de la batalla cultural (I)'])};\">Dilemas de la batalla cultural (I)</a></h2>\n",
    "```\n"
   ]
  },
  {
   "cell_type": "code",
   "execution_count": 13,
   "metadata": {
    "id": "kz1d61KNA0aH"
   },
   "outputs": [],
   "source": [
    "#Usamos el navegador para identificar la estructura de los datos que queremos extraer y creamos el patrón de búsqueda\n",
    "regla_de_busqueda = r'_self\">(.+)</a></h2>'"
   ]
  },
  {
   "cell_type": "code",
   "execution_count": 17,
   "metadata": {
    "id": "rTtKkAsfA0aH"
   },
   "outputs": [],
   "source": [
    "#Usamos findall para encontrar todas las coincidencias\n",
    "import re\n",
    "import requests\n",
    "titles = [m+'\\n' for m in re.findall(regla_de_busqueda, codigo_html(\"http://www.laprensa.com.ar/\"))]"
   ]
  },
  {
   "cell_type": "code",
   "execution_count": 18,
   "metadata": {
    "colab": {
     "base_uri": "https://localhost:8080/"
    },
    "id": "Ssh-aWNdA0aH",
    "outputId": "21f20fd7-d2b1-4508-f907-ff27cf3f0aed"
   },
   "outputs": [
    {
     "name": "stdout",
     "output_type": "stream",
     "text": [
      "['El Gobierno de la Ciudad rechazó el pago de la coparticipación en bonos\\n', 'Alberto Fernández anunció que acatará el fallo de la Corte por la coparticipación\\n', 'Fuerte suba del dólar blue, que cerró en 346 pesos\\n', '\\u200bMurió la niña de 5 años alcanzada por una bala perdida cuando celebraba Navidad en Rosario\\n', 'Más luces que sombras entre las series\\n', 'Un viaje por los vientos de poder\\n']\n"
     ]
    }
   ],
   "source": [
    "print(titles)"
   ]
  },
  {
   "cell_type": "markdown",
   "metadata": {
    "id": "H8oKjJkHFj2K"
   },
   "source": [
    "####  <font color='red'> Ejercicio </font>\n",
    "\n",
    "####  Modifiquen la regla de búsqueda para que descargue los links a las notas en vez del título"
   ]
  },
  {
   "cell_type": "code",
   "execution_count": 1,
   "metadata": {
    "id": "-Q2ms9IQFvBS"
   },
   "outputs": [],
   "source": [
    "# Resolución\n"
   ]
  },
  {
   "cell_type": "markdown",
   "metadata": {
    "id": "ahxVvZazA0aI"
   },
   "source": [
    "### **Método 2: BeautifulSoup**\n",
    "* Esta librería provee un *parser* de html, o sea un programa que entiende el código, permitiendonos hacer consultas más sofisticadas de forma simple, por ejemplo \"buscame todos los titulos h2 del sitio\".\n",
    "\n",
    "\n",
    "* Se usa para extraer los datos de archivos HTML. Crea un árbol de análisis a partir del código fuente de la página que se puede utilizar para extraer datos de forma jerárquica y más legible.\n",
    "\n",
    "<center>\n",
    "<img alt=\"\" width=\"700\" role=\"presentation\" src=\"https://miro.medium.com/max/700/0*ETFzXPCNHkPpqNv_.png\"> <br>\n",
    "\n",
    "<font color=\"gray\">\n",
    "Fuente: https://medium.com/milooproject/python-simple-crawling-using-beautifulsoup-8247657c2de5\n",
    "<font>\n",
    "</center>"
   ]
  },
  {
   "cell_type": "markdown",
   "metadata": {
    "id": "BGXRo8BWtIDc"
   },
   "source": [
    "## Generalidades"
   ]
  },
  {
   "cell_type": "code",
   "execution_count": 19,
   "metadata": {
    "id": "YLnDRuoftSDX"
   },
   "outputs": [],
   "source": [
    "from bs4 import BeautifulSoup\n",
    "from IPython.display import HTML\n",
    "import requests\n",
    "\n",
    "# Vamos a jugar un poco con la pagina de Exactas\n",
    "url_base = 'https://exactas.uba.ar/'\n",
    "endpoint_calendario = 'calendario-academico/'\n",
    "html_obtenido = requests.get(url_base + endpoint_calendario)\n",
    "soup = BeautifulSoup(html_obtenido.text, \"html.parser\")\n",
    "# print(soup)\n",
    "# print(type(soup))\n",
    "# print(soup.prettify())\n",
    "\n",
    "## Tambien podemos mostrar renderizar el html aca en Colab :D\n",
    "# HTML(html_obtenido.text)"
   ]
  },
  {
   "cell_type": "code",
   "execution_count": 22,
   "metadata": {
    "colab": {
     "base_uri": "https://localhost:8080/"
    },
    "id": "Jo7AkWAhh23W",
    "outputId": "85a59c11-911f-4d1e-813d-f4451d216238"
   },
   "outputs": [
    {
     "name": "stdout",
     "output_type": "stream",
     "text": [
      "<h3>INSCRIPCIÓN PRIMER CUATRIMESTRE 2023</h3>\n",
      "INSCRIPCIÓN PRIMER CUATRIMESTRE 2023\n"
     ]
    }
   ],
   "source": [
    "# Si queremos quedarnos con un tag\n",
    "\n",
    "# El método \"find\" busca el primer elemento de la pagina con ese tag\n",
    "primer_h3 = soup.find('h3')\n",
    "print(primer_h3)\n",
    "\n",
    "# para eliminar la etiqueta:\n",
    "print(soup.h3.text)"
   ]
  },
  {
   "cell_type": "code",
   "execution_count": 23,
   "metadata": {
    "colab": {
     "base_uri": "https://localhost:8080/"
    },
    "id": "Az5VWD8qh5XP",
    "outputId": "02266c23-c07d-4395-a874-ba3a8f35429c"
   },
   "outputs": [
    {
     "name": "stdout",
     "output_type": "stream",
     "text": [
      "[<h3>INSCRIPCIÓN PRIMER CUATRIMESTRE 2023</h3>, <h3>EXÁMENES DE FEBRERO-MARZO 2023</h3>, <h3>PRIMER BIMESTRE 2023 (8 semanas)</h3>, <h3>SEGUNDO BIMESTRE 2023 (8 semanas)</h3>, <h3>INSCRIPCIÓN SEGUNDO CUATRIMESTRE 2023</h3>, <h3>INSCRIPCIÓN A DOCTORADO 2023</h3>, <h3>SEMANAS DE LAS CIENCIAS 2023</h3>, <h3>ACTOS DE COLACIÓN DE GRADO Y POSGRADO 2023</h3>, <h3><strong>FERIADOS</strong></h3>, <h3 class=\"widget-title\"><a href=\"https://exactas.uba.ar/agenda/\">Agenda →</a></h3>]\n"
     ]
    }
   ],
   "source": [
    "# El método \"find_all\" busca TODOS los elementos de la pagina con ese tag y devuelve una lista que los contiene (en realidad devuelve un objeto de la clase \"bs4.element.ResultSet\")\n",
    "h3_todos = soup.find_all('h3')\n",
    "print(h3_todos)\n",
    "\n",
    "# Si usamos el parametro limit = 1, emulamos al metodo find:\n",
    "# h3_uno_solo = soup.find_all('h3',limit=1)\n",
    "# print(h3_uno_solo)"
   ]
  },
  {
   "cell_type": "code",
   "execution_count": 24,
   "metadata": {
    "colab": {
     "base_uri": "https://localhost:8080/"
    },
    "id": "g_pjutuZh9wz",
    "outputId": "3e8d647b-e906-47f2-c953-d706ff0fca9a"
   },
   "outputs": [
    {
     "name": "stdout",
     "output_type": "stream",
     "text": [
      "INSCRIPCIÓN PRIMER CUATRIMESTRE 2023\n",
      "EXÁMENES DE FEBRERO-MARZO 2023\n",
      "PRIMER BIMESTRE 2023 (8 semanas)\n",
      "SEGUNDO BIMESTRE 2023 (8 semanas)\n",
      "INSCRIPCIÓN SEGUNDO CUATRIMESTRE 2023\n",
      "INSCRIPCIÓN A DOCTORADO 2023\n",
      "SEMANAS DE LAS CIENCIAS 2023\n",
      "ACTOS DE COLACIÓN DE GRADO Y POSGRADO 2023\n",
      "FERIADOS\n"
     ]
    }
   ],
   "source": [
    "# podemos iterar sobre el objeto\n",
    "for fecha in h3_todos[:-1]:\n",
    "  # Extraemos el texto que se encuentra dentro del tag\n",
    "  print(fecha.text)"
   ]
  },
  {
   "cell_type": "code",
   "execution_count": 25,
   "metadata": {
    "colab": {
     "base_uri": "https://localhost:8080/"
    },
    "id": "2KTxwctZiAC4",
    "outputId": "84e6b16d-8533-4f13-fa1a-6d60540ca1e2"
   },
   "outputs": [
    {
     "name": "stdout",
     "output_type": "stream",
     "text": [
      "Agenda →\n",
      "\n",
      "28 diciembre, 2022,  : Inscripción a la Colonia de Vacaciones 2023  | + INFO\n",
      "29 diciembre, 2022,  : Especialización en Comunicación Pública de la Ciencia y la Tecnología  | + INFO\n",
      "30 diciembre, 2022,  : Selección de instructoras/es 2023 para la XIV edición del curso previo de matemática. Programa de Ingresantes CBC Exactas  | + INFO\n",
      "10 enero, 2023,  : Encuesta de Exposición a Riesgos 2022  | + INFO\n",
      "30 enero, 2023,  : Exactas Programa  | + INFO\n",
      "10 febrero, 2023,  : Exactas Programa  | + INFO\n",
      "\n"
     ]
    }
   ],
   "source": [
    "# Busco por clase, escribo class_ porque \"class\" es una palabra reservada en Python\n",
    "eventos_proximos = soup.find('aside', class_ = 'widget_my_calendar_upcoming_widget')\n",
    "for evento in eventos_proximos:\n",
    "  print(evento.text)"
   ]
  },
  {
   "cell_type": "code",
   "execution_count": 26,
   "metadata": {
    "colab": {
     "base_uri": "https://localhost:8080/"
    },
    "id": "fVxip8F0iEYA",
    "outputId": "3dd08db4-40f6-4282-e57d-ea5918866770"
   },
   "outputs": [
    {
     "name": "stdout",
     "output_type": "stream",
     "text": [
      "Conocé Exactas: https://exactas.uba.ar/institucional/la-facultad/\n",
      "Carreras de Grado: https://exactas.uba.ar/ensenanza/carreras-de-grado/\n",
      "Carreras de Posgrado: https://exactas.uba.ar/ensenanza/carreras-de-posgrado/\n",
      "Cursos de Posgrado: https://exactas.uba.ar/ensenanza/cursos-de-posgrado/\n",
      "Estudiantes extranjeros: https://exactas.uba.ar/informacion-para-estudiantes-extranjeros/\n",
      "Orientación Vocacional: https://exactas.uba.ar/extension/ov/\n",
      "Becas para estudio: https://exactas.uba.ar/becas-para-estudio/\n",
      "Carreras de Grado: https://exactas.uba.ar/ensenanza/carreras-de-grado/\n",
      "Calendario Académico: https://exactas.uba.ar/calendario-academico/\n",
      "Inscripción de ingresantes: https://exactas.uba.ar/inscripcion-ingresantes/\n",
      "Inscripción a materias: http://inscripciones.exactas.uba.ar/exactas/\n",
      "Programa de Ingresantes: https://exactas.uba.ar/cbc/\n",
      "Becas para estudio: https://exactas.uba.ar/becas-para-estudio/\n",
      "Becas de Investigación: https://exactas.uba.ar/becas-de-investigacion/\n",
      "Distribución de Aulas Facultad: https://exactas.uba.ar/distribucion-de-aulas/\n",
      "Distribución de aulas CBC: https://exactas.uba.ar/distribucion-de-aulas-cbc/\n",
      "Orientación Vocacional: https://exactas.uba.ar/extension/ov/\n",
      "Bibliotecas: https://exactas.uba.ar/ensenanza/bibliotecas/\n",
      "Pasantías Educativas: https://exactas.uba.ar/pasantias-educativas/\n",
      "Campus Virtual: http://campus.exactas.uba.ar/\n",
      "Diplomas y certificados: https://exactas.uba.ar/diplomas-y-certificados/\n",
      "Movilidad Internacional: https://exactas.uba.ar/movilidad-internacional/\n",
      "Ofertas de trabajo profesional: https://exactas.uba.ar/ofertas-de-trabajo-profesional/\n",
      "Programa de Formación y Trabajo en Biblioteca: https://exactas.uba.ar/programa-de-formacion-y-trabajo/\n",
      "Prácticas sociales educativas: https://exactas.uba.ar/practicas-sociales-educativas/\n",
      "Concursos: https://exactas.uba.ar/institucional/concursos/\n",
      "Sistema de Inscripciones: http://inscripciones.exactas.uba.ar\n",
      "Calendario Académico: https://exactas.uba.ar/calendario-academico/\n",
      "Distribución de aulas Facultad: https://exactas.uba.ar/distribucion-de-aulas/\n",
      "Trámites: https://exactas.uba.ar/tramites/\n",
      "Campus Virtual: http://campus.exactas.uba.ar/\n",
      "Movilidad Internacional: https://exactas.uba.ar/movilidad-internacional/\n",
      "Concursos Nodocentes: https://exactas.uba.ar/institucional/concursos/concursos-no-docentes/\n",
      "Trámites: https://exactas.uba.ar/tramites/\n",
      "Recursos Humanos UBA: https://rrhh.uba.ar/SitePages/Portal-UBA.aspx\n",
      "Carreras de Posgrado: https://exactas.uba.ar/ensenanza/carreras-de-posgrado/\n",
      "Cursos de Posgrado: https://exactas.uba.ar/ensenanza/cursos-de-posgrado/\n",
      "Juras: https://exactas.uba.ar/juras/\n",
      "Becas de Investigación: https://exactas.uba.ar/becas-de-investigacion/\n",
      "Padrón de Graduadas/os: https://exactas.uba.ar/padron-de-graduados-as/\n",
      "Base y Lista de Graduadas/os: https://exactas.uba.ar/base-y-lista-de-graduados/\n",
      "Información y actividades: https://exactas.uba.ar/area-de-graduados/\n",
      "Ofertas de trabajo profesional: https://exactas.uba.ar/ofertas-de-trabajo-profesional/\n",
      "Becas de Investigación: https://exactas.uba.ar/becas-de-investigacion/\n",
      "Incentivos: https://exactas.uba.ar/incentivos/\n",
      "Subsidios: https://exactas.uba.ar/subsidios/\n",
      "Gestión de convenios: https://exactas.uba.ar/gestion-de-convenios/\n",
      "Propiedad Intelectual – Patentamiento: https://exactas.uba.ar/vinculacion/propiedad-intelectual/\n",
      "Facilidades y Equipos: https://exactas.uba.ar/centros-de-servicios/\n",
      "Bioterio: https://exactas.uba.ar/bioterio-central/\n",
      "Experimentación animal: https://exactas.uba.ar/cicual/\n",
      "Movilidad Internacional: https://exactas.uba.ar/movilidad-internacional/\n",
      "Viajes Internacionales: https://exactas.uba.ar/viajes-internacionales/\n",
      "Proxy de Revistas: https://exactas.uba.ar/proxy-de-revistas/\n",
      "Trámites: https://exactas.uba.ar/tramites/\n",
      "Bibliotecas: https://exactas.uba.ar/ensenanza/bibliotecas/\n",
      "Comisión de Hábitat: https://exactas.uba.ar/comision-de-habitat/\n",
      "Exactas Verde: https://exactas.uba.ar/exactas-verde/\n",
      "Talleres Culturales: https://exactas.uba.ar/talleres-culturales/\n",
      "Deportes: https://exactas.uba.ar/deportes/\n",
      "Jardín Maternal: http://jardin.exactas.uba.ar/\n",
      "Cursos de Idiomas: https://exactas.uba.ar/cursos-de-idiomas/\n",
      "Comedores: https://exactas.uba.ar/comedores/\n",
      "Avisos Exactas: https://exactas.uba.ar/avisos-exactas/\n",
      "Intranet: http://intranet.exactas.uba.ar/\n",
      "Directorio Telefónico: https://exactas.uba.ar/directorio-telefonico/\n",
      "Digesto normativo: https://exactas.uba.ar/institucional/la-facultad/digesto-normativo/\n",
      "Elecciones Consejo Directivo: https://exactas.uba.ar/elecciones-consejo-directivo/\n",
      "Contacto: https://exactas.uba.ar/contacto/\n",
      ": https://twitter.com/exactas_uba\n",
      ": https://www.facebook.com/UBAExactas\n",
      ": https://www.youtube.com/exactasubaoficial\n",
      ": https://www.linkedin.com/company/facultad-de-ciencias-exactas-y-naturales-uba\n",
      ": https://www.instagram.com/exactas_uba/\n",
      "\n",
      "\n",
      "\n",
      "\n",
      ": https://exactas.uba.ar/\n",
      "La Facultad: https://exactas.uba.ar/institucional/la-facultad/\n",
      "Decanato y Secretarías: https://exactas.uba.ar/institucional/autoridades/decanato-y-secretarias/\n",
      "Consejo Directivo: https://exactas.uba.ar/institucional/autoridades/informacion-del-consejo/\n",
      "Concursos: https://exactas.uba.ar/institucional/concursos/\n",
      "Seguridad laboral y ambiental: https://exactas.uba.ar/higieneyseguridad/\n",
      "Memoria y Derechos Humanos: https://exactas.uba.ar/institucional/memoria-derechos-humanos/\n",
      "Programa por la Igualdad de Género: https://exactas.uba.ar/genex/\n",
      "Programa de Historia de la FCEN: https://exactas.uba.ar/institucional/programa-de-historia-de-la-fcen/\n",
      "Carreras de Grado: https://exactas.uba.ar/ensenanza/carreras-de-grado/\n",
      "Carreras de Posgrado: https://exactas.uba.ar/ensenanza/carreras-de-posgrado/\n",
      "Departamentos Docentes: https://exactas.uba.ar/ensenanza/departamentos-docentes/\n",
      "Bibliotecas: https://exactas.uba.ar/ensenanza/bibliotecas/\n",
      "Programas Temáticos: https://exactas.uba.ar/investigacion/areas-de-investigacion/\n",
      "Institutos de investigación: https://exactas.uba.ar/investigacion/institutos-de-investigacion/\n",
      "Oficina de Vinculación y Transferencia Tecnológica: https://exactas.uba.ar/vinculacion/\n",
      "Facilidades y Equipamiento para la Investigación, la Vinculación y la Transferencia Tecnológica: https://exactas.uba.ar/sic/\n",
      "Comunicación Pública de la Ciencia: https://exactas.uba.ar/extension/comunicacion-publica-de-la-ciencia/\n",
      "Museos de Exactas UBA: https://exactas.uba.ar/extension/museos/\n",
      "Exactas con la Sociedad: https://exactas.uba.ar/extension/exactas-con-la-sociedad/\n",
      "Educación en Cárceles: https://exactas.uba.ar/extension/educacion-en-carceles/\n",
      "\n",
      "\n",
      "\n",
      "\n",
      ": https://exactas.uba.ar/\n",
      "La Facultad: https://exactas.uba.ar/institucional/la-facultad/\n",
      "Decanato y Secretarías: https://exactas.uba.ar/institucional/autoridades/decanato-y-secretarias/\n",
      "Consejo Directivo: https://exactas.uba.ar/institucional/autoridades/informacion-del-consejo/\n",
      "Concursos: https://exactas.uba.ar/institucional/concursos/\n",
      "Seguridad laboral y ambiental: https://exactas.uba.ar/higieneyseguridad/\n",
      "Memoria y Derechos Humanos: https://exactas.uba.ar/institucional/memoria-derechos-humanos/\n",
      "Programa por la Igualdad de Género: https://exactas.uba.ar/genex/\n",
      "Programa de Historia de la FCEN: https://exactas.uba.ar/institucional/programa-de-historia-de-la-fcen/\n",
      "Carreras de Grado: https://exactas.uba.ar/ensenanza/carreras-de-grado/\n",
      "Carreras de Posgrado: https://exactas.uba.ar/ensenanza/carreras-de-posgrado/\n",
      "Departamentos Docentes: https://exactas.uba.ar/ensenanza/departamentos-docentes/\n",
      "Bibliotecas: https://exactas.uba.ar/ensenanza/bibliotecas/\n",
      "Programas Temáticos: https://exactas.uba.ar/investigacion/areas-de-investigacion/\n",
      "Institutos de investigación: https://exactas.uba.ar/investigacion/institutos-de-investigacion/\n",
      "Oficina de Vinculación y Transferencia Tecnológica: https://exactas.uba.ar/vinculacion/\n",
      "Facilidades y Equipamiento para la Investigación, la Vinculación y la Transferencia Tecnológica: https://exactas.uba.ar/sic/\n",
      "Comunicación Pública de la Ciencia: https://exactas.uba.ar/extension/comunicacion-publica-de-la-ciencia/\n",
      "Museos de Exactas UBA: https://exactas.uba.ar/extension/museos/\n",
      "Exactas con la Sociedad: https://exactas.uba.ar/extension/exactas-con-la-sociedad/\n",
      "Educación en Cárceles: https://exactas.uba.ar/extension/educacion-en-carceles/\n",
      "Inicio: https://exactas.uba.ar\n",
      "Exactas ante el coronavirus / Dictado de clases: https://exactas.uba.ar/coronavirus/dictado-de-clases/\n",
      ": https://exactas.uba.ar/wp-content/uploads/2022/12/Almanaque-2023.pdf\n",
      ": https://exactas.uba.ar/coronavirus\n",
      "Agenda →: https://exactas.uba.ar/agenda/\n",
      "+ INFO: https://exactas.uba.ar/agenda/?mc_id=1693\n",
      "+ INFO: https://exactas.uba.ar/agenda/?mc_id=1606\n",
      "+ INFO: https://exactas.uba.ar/agenda/?mc_id=1733\n",
      "+ INFO: https://exactas.uba.ar/agenda/?mc_id=1700\n",
      "+ INFO: https://exactas.uba.ar/agenda/?mc_id=1734\n",
      "+ INFO: https://exactas.uba.ar/agenda/?mc_id=1735\n",
      "La Facultad: https://exactas.uba.ar/institucional/la-facultad/\n",
      "Decanato y Secretarías: https://exactas.uba.ar/institucional/autoridades/decanato-y-secretarias/\n",
      "Consejo Directivo: https://exactas.uba.ar/institucional/autoridades/informacion-del-consejo/\n",
      "Concursos: https://exactas.uba.ar/institucional/concursos/\n",
      "Seguridad laboral y ambiental: https://exactas.uba.ar/higieneyseguridad/\n",
      "Memoria y Derechos Humanos: https://exactas.uba.ar/institucional/memoria-derechos-humanos/\n",
      "Programa por la Igualdad de Género: https://exactas.uba.ar/genex/\n",
      "Programa de Historia de la FCEN: https://exactas.uba.ar/institucional/programa-de-historia-de-la-fcen/\n",
      "Carreras de Grado: https://exactas.uba.ar/ensenanza/carreras-de-grado/\n",
      "Carreras de Posgrado: https://exactas.uba.ar/ensenanza/carreras-de-posgrado/\n",
      "Departamentos Docentes: https://exactas.uba.ar/ensenanza/departamentos-docentes/\n",
      "Bibliotecas: https://exactas.uba.ar/ensenanza/bibliotecas/\n",
      "Programas Temáticos: https://exactas.uba.ar/investigacion/areas-de-investigacion/\n",
      "Institutos de investigación: https://exactas.uba.ar/investigacion/institutos-de-investigacion/\n",
      "Oficina de Vinculación y Transferencia Tecnológica: https://exactas.uba.ar/vinculacion/\n",
      "Facilidades y Equipamiento para la Investigación, la Vinculación y la Transferencia Tecnológica: https://exactas.uba.ar/sic/\n",
      "Comunicación Pública de la Ciencia: https://exactas.uba.ar/extension/comunicacion-publica-de-la-ciencia/\n",
      "Museos de Exactas UBA: https://exactas.uba.ar/extension/museos/\n",
      "Exactas con la Sociedad: https://exactas.uba.ar/extension/exactas-con-la-sociedad/\n",
      "Educación en Cárceles: https://exactas.uba.ar/extension/educacion-en-carceles/\n",
      "Campus Virtual: http://campus.exactas.uba.ar\n",
      "Trámites: http://exactas.uba.ar/tramites/\n",
      "Intranet: http://intranet.exactas.uba.ar/\n",
      "Webmail: http://webmail.exactas.uba.ar/\n",
      "Contacto: /contacto/\n",
      "UBA: http://www.uba.ar/\n",
      ": https://exactas.uba.ar\n",
      "Inicio: https://exactas.uba.ar/\n",
      "Institucional: #\n",
      "La Facultad: https://exactas.uba.ar/institucional/la-facultad/\n",
      "Decanato y Secretarías: https://exactas.uba.ar/institucional/autoridades/decanato-y-secretarias/\n",
      "Consejo Directivo: https://exactas.uba.ar/institucional/autoridades/informacion-del-consejo/\n",
      "Concursos: https://exactas.uba.ar/institucional/concursos/\n",
      "Seguridad laboral y ambiental: https://exactas.uba.ar/higieneyseguridad/\n",
      "Memoria y Derechos Humanos: https://exactas.uba.ar/institucional/memoria-derechos-humanos/\n",
      "Programa por la Igualdad de Género: https://exactas.uba.ar/genex/\n",
      "Programa de Historia de la FCEN: https://exactas.uba.ar/institucional/programa-de-historia-de-la-fcen/\n",
      "Carreras de Grado: https://exactas.uba.ar/ensenanza/carreras-de-grado/\n",
      "Carreras de Posgrado: https://exactas.uba.ar/ensenanza/carreras-de-posgrado/\n",
      "Departamentos Docentes: https://exactas.uba.ar/ensenanza/departamentos-docentes/\n",
      "Bibliotecas: https://exactas.uba.ar/ensenanza/bibliotecas/\n",
      "Programas Temáticos: https://exactas.uba.ar/investigacion/areas-de-investigacion/\n",
      "Institutos de investigación: https://exactas.uba.ar/investigacion/institutos-de-investigacion/\n",
      "Oficina de Vinculación y Transferencia Tecnológica: https://exactas.uba.ar/vinculacion/\n",
      "Facilidades y Equipamiento para la Investigación, la Vinculación y la Transferencia Tecnológica: https://exactas.uba.ar/sic/\n",
      "Comunicación Pública de la Ciencia: https://exactas.uba.ar/extension/comunicacion-publica-de-la-ciencia/\n",
      "Museos de Exactas UBA: https://exactas.uba.ar/extension/museos/\n",
      "Exactas con la Sociedad: https://exactas.uba.ar/extension/exactas-con-la-sociedad/\n",
      "Educación en Cárceles: https://exactas.uba.ar/extension/educacion-en-carceles/\n",
      "Conocé Exactas: http://exactas.uba.ar/es/la-facultad/\n",
      "Carreras de Grado: https://exactas.uba.ar/ensenanza/carreras-de-grado/\n",
      "Carreras de Posgrado: https://exactas.uba.ar/ensenanza/carreras-de-posgrado/\n",
      "Cursos de Posgrado: https://exactas.uba.ar/ensenanza/cursos-de-posgrado/\n",
      "Estudiantes extranjeros: https://exactas.uba.ar/informacion-para-estudiantes-extranjeros/\n",
      "Orientación Vocacional: https://exactas.uba.ar/extension/ov/\n",
      "Becas para estudio: https://exactas.uba.ar/becas-para-estudio/\n",
      "Carreras de Grado: https://exactas.uba.ar/ensenanza/carreras-de-grado/\n",
      "Calendario Académico: https://exactas.uba.ar/calendario-academico/\n",
      "Inscripción de ingresantes: https://exactas.uba.ar/inscripcion-ingresantes/\n",
      "Inscripción a materias: http://inscripciones.exactas.uba.ar/exactas/\n",
      "Programa de Ingresantes: https://exactas.uba.ar/cbc/\n",
      "Becas para estudio: https://exactas.uba.ar/becas-para-estudio/\n",
      "Becas de Investigación: https://exactas.uba.ar/becas-de-investigacion/\n",
      "Distribución de aulas Facultad: https://exactas.uba.ar/distribucion-de-aulas/\n",
      "Orientación Vocacional: https://exactas.uba.ar/extension/ov/\n",
      "Bibliotecas: https://exactas.uba.ar/ensenanza/bibliotecas/\n",
      "Pasantías Educativas: https://exactas.uba.ar/pasantias-educativas/\n",
      "Campus Virtual: http://campus.exactas.uba.ar/\n",
      "Diplomas y certificados: https://exactas.uba.ar/diplomas-y-certificados/\n",
      "Movilidad Internacional: https://exactas.uba.ar/movilidad-internacional/\n",
      "Ofertas de trabajo profesional: https://exactas.uba.ar/ofertas-de-trabajo-profesional/\n",
      "Programa de Formación y Trabajo en Biblioteca: https://exactas.uba.ar/programa-de-formacion-y-trabajo/\n",
      "Prácticas sociales educativas: https://exactas.uba.ar/practicas-sociales-educativas/\n",
      "Concursos: https://exactas.uba.ar/institucional/concursos/\n",
      "Sistema de Inscripciones: http://inscripciones.exactas.uba.ar\n",
      "Calendario Académico: https://exactas.uba.ar/calendario-academico/\n",
      "Distribución de aulas Facultad: https://exactas.uba.ar/distribucion-de-aulas/\n",
      "Trámites: https://exactas.uba.ar/tramites/\n",
      "Campus Virtual: http://campus.exactas.uba.ar/\n",
      "Movilidad Internacional: https://exactas.uba.ar/movilidad-internacional/\n",
      "Concursos Nodocentes: https://exactas.uba.ar/institucional/concursos/concursos-no-docentes/\n",
      "Trámites: https://exactas.uba.ar/tramites/\n",
      "Recursos Humanos UBA: https://rrhh.uba.ar/SitePages/Portal-UBA.aspx\n",
      "Carreras de Posgrado: https://exactas.uba.ar/ensenanza/carreras-de-posgrado/\n",
      "Cursos de Posgrado: https://exactas.uba.ar/ensenanza/cursos-de-posgrado/\n",
      "Juras: https://exactas.uba.ar/juras/\n",
      "Becas de Investigación: https://exactas.uba.ar/becas-de-investigacion/\n",
      "Padrón de Graduadas/os: https://exactas.uba.ar/padron-de-graduados-as/\n",
      "Base y Lista de Graduadas/os: https://exactas.uba.ar/base-y-lista-de-graduados/\n",
      "Información y actividades: https://exactas.uba.ar/area-de-graduados/\n",
      "Ofertas de trabajo profesional: https://exactas.uba.ar/ofertas-de-trabajo-profesional/\n",
      "Becas de Investigación: https://exactas.uba.ar/becas-de-investigacion/\n",
      "Incentivos: https://exactas.uba.ar/incentivos/\n",
      "Subsidios: https://exactas.uba.ar/subsidios/\n",
      "Gestión de convenios: https://exactas.uba.ar/gestion-de-convenios/\n",
      "Propiedad Intelectual – Patentamiento: https://exactas.uba.ar/vinculacion/propiedad-intelectual/\n",
      "Facilidades y Equipos: https://exactas.uba.ar/centros-de-servicios/\n",
      "Bioterio: https://exactas.uba.ar/bioterio-central/\n",
      "Experimentación animal: https://exactas.uba.ar/cicual/\n",
      "Movilidad Internacional: https://exactas.uba.ar/movilidad-internacional/\n",
      "Viajes Internacionales: https://exactas.uba.ar/viajes-internacionales/\n",
      "Proxy de Revistas: https://exactas.uba.ar/proxy-de-revistas/\n",
      "Trámites: https://exactas.uba.ar/tramites/\n",
      "Bibliotecas: https://exactas.uba.ar/ensenanza/bibliotecas/\n",
      "Comisión de Hábitat: https://exactas.uba.ar/comision-de-habitat/\n",
      "Exactas Verde: https://exactas.uba.ar/exactas-verde/\n",
      "Talleres Culturales: https://exactas.uba.ar/talleres-culturales/\n",
      "Deportes: https://exactas.uba.ar/deportes/\n",
      "Cursos de Idiomas: https://exactas.uba.ar/cursos-de-idiomas/\n",
      "Jardín Maternal: http://jardin.exactas.uba.ar/\n",
      "Comedores: https://exactas.uba.ar/comedores/\n",
      "Avisos Exactas: https://exactas.uba.ar/avisos-exactas/\n",
      "Intranet: http://intranet.exactas.uba.ar/\n",
      "Directorio Telefónico: https://exactas.uba.ar/directorio-telefonico/\n",
      "Digesto normativo: https://exactas.uba.ar/institucional/la-facultad/digesto-normativo/\n",
      "Elecciones Consejo Directivo: https://exactas.uba.ar/elecciones-consejo-directivo/\n",
      "Contacto: https://exactas.uba.ar/contacto/\n"
     ]
    }
   ],
   "source": [
    "# Todos los links. Esto podría ser útil para seguir scrapeando todo el sitio haciendo requests en ellos\n",
    "a_todos = soup.find_all('a', href=True)\n",
    "for a in a_todos:\n",
    "  print(f\"{a.text}: {a['href']}\")"
   ]
  },
  {
   "cell_type": "code",
   "execution_count": null,
   "metadata": {
    "colab": {
     "base_uri": "https://localhost:8080/"
    },
    "id": "HuLP4tVviG-D",
    "outputId": "e25e19ba-dbb7-4fa5-abce-3e5c15cf5b0a"
   },
   "outputs": [
    {
     "name": "stdout",
     "output_type": "stream",
     "text": [
      " Dia: Viernes | fecha: 1 de enero | evento: Año Nuevo \n",
      " Dia: Lunes | fecha: 15 de febrero | evento: Carnaval \n",
      " Dia: Martes | fecha: 16 de febrero | evento: Carnaval \n",
      " Dia: Miércoles | fecha: 24 de marzo | evento: Día Nacional de la Memoria por la Verdad y la Justicia \n",
      " Dia: Domingo | fecha: 28 de marzo | evento: Pascua Judía \n",
      " Dia: Lunes | fecha: 29 de marzo | evento: Pascua Judía \n",
      " Dia: Jueves | fecha: 1 de abril | evento: Jueves Santo \n",
      " Dia: Viernes | fecha: 2 de abril | evento: Viernes Santo y Día del Veterano y de los Caídos en la Guerra de Malvinas \n",
      " Dia: Sábado | fecha: 3 de abril | evento: Pascua Judía \n",
      " Dia: Domingo | fecha: 4 de abril | evento: Pascua Judía \n",
      " Dia: Sábado | fecha: 24 de abril | evento: Día de Acción por la Tolerancia y el Respeto entre los Pueblos \n",
      " Dia: Sábado | fecha: 1 de mayo | evento: Día del Trabajador \n",
      " Dia: Jueves | fecha: 13 de mayo | evento: Fiesta de la Ruptura del Ayuno del Sagrado Mes de Ramadán \n",
      " Dia: Lunes | fecha: 24 de mayo | evento: Feriado con fines turísticos \n",
      " Dia: Martes | fecha: 25 de mayo | evento: Día de la Revolución de Mayo \n",
      " Dia: Domingo | fecha: 20 de junio | evento: Paso a la Inmortalidad del General Belgrano \n",
      " Dia: Lunes | fecha: 21 de junio | evento: Paso a la Inmortalidad del General Güemes \n",
      " Dia: Viernes | fecha: 9 de julio | evento: Día de la Independencia \n",
      " Dia: Martes | fecha: 20 de julio | evento: Fiesta del Sacrificio \n",
      " Dia: Domingo | fecha: 8 de agosto | evento: Año Nuevo Islámico \n",
      " Dia: Lunes | fecha: 16 de agosto | evento: Paso a la Inmortalidad del General San Martín \n",
      " Dia: Martes | fecha: 7 de septiembre | evento: Año Nuevo Judío \n",
      " Dia: Miércoles | fecha: 8 de septiembre | evento: Año Nuevo Judío \n",
      " Dia: Jueves | fecha: 16 de septiembre | evento: Día del Perdón \n",
      " Dia: Martes | fecha: 21 de septiembre | evento: Día del Estudiante \n",
      " Dia: Viernes | fecha: 8 de octubre | evento: Feriado con fines turísticos \n",
      " Dia: Lunes | fecha: 11 de octubre | evento: Día del Respeto a la Diversidad Cultural \n",
      " Dia: Sábado | fecha: 20 de noviembre | evento: Día de la Soberanía Nacional \n",
      " Dia: Lunes | fecha: 22 de noviembre | evento: Feriado con fines turísticos \n",
      " Dia: Miércoles | fecha: 8 de diciembre | evento: Inmaculada Concepción de María \n",
      " Dia: Sábado | fecha: 25 de diciembre | evento: Navidad \n"
     ]
    }
   ],
   "source": [
    "# Podemos tambien scrapear un tabla y traernos los feriados\n",
    "tabla_feriados = soup.find_all('td')\n",
    "\n",
    "# Con 'attr' podemos acceder a cualquier atributo de a etiqueta usando un diccionario\n",
    "dias = soup.find_all('td', attrs={'style':'width: 74px;'}) \n",
    "fechas = soup.find_all('td', attrs={'style':'width: 127px;'}) \n",
    "eventos = soup.find_all('td', attrs={'style':'width: 438px;'}) \n",
    "# print(tabla_feriados)\n",
    "\n",
    "for pos in range(len(dias)):\n",
    "  print(f\" Dia: {dias[pos].text.strip()} | fecha: {fechas[pos].text.strip()} | evento: {eventos[pos].text.strip()} \")"
   ]
  },
  {
   "cell_type": "code",
   "execution_count": 28,
   "metadata": {
    "colab": {
     "base_uri": "https://localhost:8080/",
     "height": 183
    },
    "id": "8H_4LzMqk218",
    "outputId": "507ac860-6d4c-467a-c2d5-338f65da6d19"
   },
   "outputs": [
    {
     "name": "stdout",
     "output_type": "stream",
     "text": [
      "Última actualización: 3/6/2021 \n",
      "igual\n",
      "igual\n",
      "igual\n",
      "igual\n",
      "igual\n",
      "Actualizaron!! \n",
      "\n",
      "Se actualizo el: 3/6/2021\n"
     ]
    },
    {
     "ename": "NameError",
     "evalue": "name 'output' is not defined",
     "output_type": "error",
     "traceback": [
      "\u001b[1;31m---------------------------------------------------------------------------\u001b[0m",
      "\u001b[1;31mNameError\u001b[0m                                 Traceback (most recent call last)",
      "\u001b[1;32m<ipython-input-28-047e084adb03>\u001b[0m in \u001b[0;36m<module>\u001b[1;34m\u001b[0m\n\u001b[0;32m     49\u001b[0m \u001b[1;33m\u001b[0m\u001b[0m\n\u001b[0;32m     50\u001b[0m \u001b[1;31m# Corremos la funcion\u001b[0m\u001b[1;33m\u001b[0m\u001b[1;33m\u001b[0m\u001b[0m\n\u001b[1;32m---> 51\u001b[1;33m \u001b[0mavisame_si_actualizaron\u001b[0m\u001b[1;33m(\u001b[0m\u001b[0mfecha_previa\u001b[0m\u001b[1;33m)\u001b[0m\u001b[1;33m\u001b[0m\u001b[1;33m\u001b[0m\u001b[0m\n\u001b[0m\u001b[0;32m     52\u001b[0m \u001b[1;33m\u001b[0m\u001b[0m\n",
      "\u001b[1;32m<ipython-input-28-047e084adb03>\u001b[0m in \u001b[0;36mavisame_si_actualizaron\u001b[1;34m(fecha_previa)\u001b[0m\n\u001b[0;32m     43\u001b[0m       \u001b[0mprint\u001b[0m\u001b[1;33m(\u001b[0m\u001b[1;34mf'Se actualizo el: {fecha_datetime.day}/{fecha_datetime.month}/{fecha_datetime.year}'\u001b[0m\u001b[1;33m)\u001b[0m\u001b[1;33m\u001b[0m\u001b[1;33m\u001b[0m\u001b[0m\n\u001b[0;32m     44\u001b[0m       \u001b[1;31m# Para que ladre un perro avisandonos\u001b[0m\u001b[1;33m\u001b[0m\u001b[1;33m\u001b[0m\u001b[0m\n\u001b[1;32m---> 45\u001b[1;33m       \u001b[0moutput\u001b[0m\u001b[1;33m.\u001b[0m\u001b[0meval_js\u001b[0m\u001b[1;33m(\u001b[0m\u001b[1;34m'new Audio(\"https://assets.mixkit.co/sfx/preview/mixkit-dog-barking-twice-1.mp3\").play()'\u001b[0m\u001b[1;33m)\u001b[0m\u001b[1;33m\u001b[0m\u001b[1;33m\u001b[0m\u001b[0m\n\u001b[0m\u001b[0;32m     46\u001b[0m       \u001b[1;32mbreak\u001b[0m\u001b[1;33m\u001b[0m\u001b[1;33m\u001b[0m\u001b[0m\n\u001b[0;32m     47\u001b[0m \u001b[1;33m\u001b[0m\u001b[0m\n",
      "\u001b[1;31mNameError\u001b[0m: name 'output' is not defined"
     ]
    }
   ],
   "source": [
    "# Obtener la última actualización\n",
    "\n",
    "# Para exprresiones regulares\n",
    "import re\n",
    "# Para manejo de fechas\n",
    "from datetime import datetime\n",
    "\n",
    "def calendario_ultima_actualizacion():\n",
    "  ultima_actualizacion = soup.select('#post-256') \n",
    "  ultima_actualizacion= ultima_actualizacion[0].text\n",
    "  # Expresion que busca algo del estilo x/x/xxxx (donde x es un número)\n",
    "  match = re.search(r'\\d/\\d/\\d{4}', ultima_actualizacion)\n",
    "  fecha = match.group()\n",
    "  fecha_datetime = datetime.strptime(fecha, '%d/%m/%Y').date()\n",
    "  return fecha_datetime\n",
    "\n",
    "fecha_datetime = calendario_ultima_actualizacion()\n",
    "print(f\"Última actualización: {fecha_datetime.day}/{fecha_datetime.month}/{fecha_datetime.year} \")\n",
    "\n",
    "# Ahora podemos crear un programa que nos avise si se actualiza el calendario\n",
    "\n",
    "def avisame_si_actualizaron(fecha_previa):\n",
    "  # Esto esta solo para cortar el while\n",
    "  contador_anti_explosion = 0\n",
    "  fecha_datetime = calendario_ultima_actualizacion()\n",
    "  fecha_previa = f'{fecha_previa.day}/{fecha_previa.month}/{fecha_previa.year}'\n",
    "\n",
    "  while True:\n",
    "    fecha_actual = f'{fecha_datetime.day}/{fecha_datetime.month}/{fecha_datetime.year}'\n",
    "\n",
    "    if fecha_actual == fecha_previa and contador_anti_explosion < 5:\n",
    "      url_base = 'https://exactas.uba.ar/'\n",
    "      endpoint_calendario = 'calendario-academico/'\n",
    "      html_obtenido = requests.get(url_base + endpoint_calendario)\n",
    "      soup = BeautifulSoup(html_obtenido.text, \"html.parser\")\n",
    "      fecha_datetime = calendario_ultima_actualizacion()\n",
    "      print('igual')\n",
    "      contador_anti_explosion += 1\n",
    "\n",
    "    else:\n",
    "      print('Actualizaron!! \\n')\n",
    "      #from google.colab import output\n",
    "      print(f'Se actualizo el: {fecha_datetime.day}/{fecha_datetime.month}/{fecha_datetime.year}')\n",
    "      # Para que ladre un perro avisandonos \n",
    "      output.eval_js('new Audio(\"https://assets.mixkit.co/sfx/preview/mixkit-dog-barking-twice-1.mp3\").play()')\n",
    "      break\n",
    "\n",
    "fecha_previa = calendario_ultima_actualizacion()\n",
    "\n",
    "# Corremos la funcion\n",
    "avisame_si_actualizaron(fecha_previa)\n",
    "\n"
   ]
  },
  {
   "cell_type": "markdown",
   "metadata": {
    "id": "wfxO0wO5ubqt"
   },
   "source": [
    "<font color='red'>Ejercicio</font>\n",
    "\n",
    "* Generar diccionario cuyas claves sean los nombres de las carreras de grado vigentes en Exactas y sus valores el link asociado a cada una de ellas. https://exactas.uba.ar/ensenanza/carreras-de-grado/\n",
    "\n",
    "**¡A trabajar!**\n",
    "\n",
    "<img src=\"https://img.icons8.com/ios/452/spade.png\" width=\"80\" height=\"auto\"/>\n"
   ]
  },
  {
   "cell_type": "code",
   "execution_count": 2,
   "metadata": {
    "id": "WCmp2i2a5nqr"
   },
   "outputs": [],
   "source": [
    "# Resolución\n"
   ]
  },
  {
   "cell_type": "markdown",
   "metadata": {
    "id": "GNkLPmfyA0aJ"
   },
   "source": [
    "#### Ejemplo 2: Cortazar"
   ]
  },
  {
   "cell_type": "code",
   "execution_count": 32,
   "metadata": {
    "id": "vgHsDKT6A0aJ"
   },
   "outputs": [
    {
     "name": "stdout",
     "output_type": "stream",
     "text": [
      "Guardando alguien-que-anda-por-ahi\n",
      "Guardando almuerzos\n",
      "Guardando amor-77\n",
      "Guardando apocalipsis-de-solentiname\n",
      "Guardando axolotl\n",
      "Guardando bestiario\n",
      "Guardando carta-a-una-senorita-en-paris\n",
      "Guardando cartas-de-mama\n",
      "Guardando casa-tomada\n",
      "Guardando cefalea\n",
      "Guardando circe\n",
      "Guardando condor-y-cronopio\n",
      "Guardando conducta-en-los-velorios\n",
      "Guardando conservacion-de-los-recuerdos\n",
      "Guardando continuidad-de-los-parques\n",
      "Guardando cortisimo-metraje\n",
      "Guardando deshoras\n",
      "Guardando despues-del-almuerzo\n",
      "Guardando el-diario-a-diario\n",
      "Guardando el-otro-cielo\n",
      "Guardando el-perseguidor-cortazar\n",
      "Guardando en-un-vaso-de-agua-fria-o-preferentemente-tibia\n",
      "Guardando epigrafe-de-rayuela\n",
      "Guardando final-del-juego\n",
      "Guardando grafitti-cortazar\n",
      "Guardando historia-cortazar\n",
      "Guardando historia-veridica\n",
      "Guardando instrucciones-para-cantar\n",
      "Guardando instrucciones-para-dar-cuerda-al-reloj\n",
      "Guardando instrucciones-para-john-howell\n",
      "Guardando instrucciones-para-llorar\n",
      "Guardando instrucciones-para-subir-una-escalera\n",
      "Guardando la-autopista-del-sur\n",
      "Guardando la-caricia-mas-profunda\n",
      "Guardando la-fe-en-el-tercer-mundo\n",
      "Guardando la-isla-a-mediodia\n",
      "Guardando la-noche-boca-arriba\n",
      "Guardando la-puerta-condenada\n",
      "Guardando la-salud-de-los-enfermos\n",
      "Guardando la-senorita-cora\n",
      "Guardando las-armas-secretas\n",
      "Guardando las-babas-del-diablo\n",
      "Guardando las-lineas-de-la-mano\n",
      "Guardando las-menades\n",
      "Guardando las-puertas-del-cielo\n",
      "Guardando lejana\n",
      "Guardando liliana-llorando\n",
      "Guardando los-buenos-servicios\n",
      "Guardando los-testigos\n",
      "Guardando los-venenos\n",
      "Guardando lucas-sus-roces-sociales\n",
      "Guardando lugar-llamado-kindberg\n",
      "Guardando manuscrito-hallado-en-un-bolsillo\n",
      "Guardando omnibus\n",
      "Guardando pagina-asesina\n",
      "Guardando patio-de-tarde\n",
      "Guardando perdida-y-recuperacion-del-pelo-cortazar\n",
      "Guardando peripecias-del-agua\n",
      "Guardando por-escrito-gallina-una\n",
      "Guardando queremos-tanto-a-glenda\n",
      "Guardando rayuela-capitulo-68\n",
      "Guardando relato-con-un-fondo-de-agua\n",
      "Guardando reunion\n",
      "Guardando secuencias\n",
      "Guardando tema-para-un-tapiz\n",
      "Guardando teoria-del-cangrejo\n",
      "Guardando todos-los-fuegos-el-fuego\n",
      "Guardando torito\n",
      "Guardando una-flor-amarilla\n",
      "Guardando usted-se-tendio-a-tu-lado\n",
      "Guardando verano-cortazar\n",
      "Guardando vestir-una-sombra\n",
      "Guardando vialidad\n"
     ]
    }
   ],
   "source": [
    "# Creo carpeta donde voy a guardar los cuentos\n",
    "!mkdir -p multimedia\\cortazar\\  # en windows es \\, en linux / \n",
    "\n",
    "import re\n",
    "codigo_html_crudo = codigo_html('http://ciudadseva.com/autor/julio-cortazar/cuentos/')\n",
    "\n",
    "regla_para_url_de_un_cuento = r'(https://ciudadseva.com/texto/.+/)'\n",
    "\n",
    "for url_de_un_cuento in re.findall(regla_para_url_de_un_cuento, codigo_html_crudo):\n",
    "    codigo_html_interpretado = BeautifulSoup(codigo_html(url_de_un_cuento), 'html.parser')\n",
    "    elem = codigo_html_interpretado.find(\"div\", { \"class\" : \"text-justify\" })\n",
    "    cuento = elem.text\n",
    "    \n",
    "    # Asi podemos guardar los resultados\n",
    "    nombre_del_archivo = url_de_un_cuento.split('/')[-2]\n",
    "    with open (f\"multimedia/cortazar/{nombre_del_archivo}.txt\", 'w') as out:\n",
    "        print(f'Guardando {nombre_del_archivo}')\n",
    "        out.write(cuento)"
   ]
  },
  {
   "cell_type": "markdown",
   "metadata": {
    "id": "pVzzO2iXA0aK"
   },
   "source": [
    "## Práctica: Mercadolibre"
   ]
  },
  {
   "cell_type": "markdown",
   "metadata": {
    "id": "oUGQfsEwSMXj"
   },
   "source": [
    "<font color='red'> Ejercicio </font>\n",
    "\n",
    "Descargá y calculá el promedio de los precios que aparecen en la primer página de mercado libre al buscar gibson"
   ]
  },
  {
   "cell_type": "code",
   "execution_count": null,
   "metadata": {
    "id": "VqFNpq-tA0aK"
   },
   "outputs": [],
   "source": [
    "# Resolución\n",
    "\n",
    "import requests\n",
    "import re\n",
    "\n",
    "def precios_gibson():\n",
    "    url = \"https://listado.mercadolibre.com.ar/gibson\"\n",
    "    soup = BeautifulSoup(codigo_html(url), 'html.parser')\n",
    "    prices = []\n",
    "    # COMPLETAR\n",
    "\n",
    "    return prices\n",
    "\n"
   ]
  },
  {
   "cell_type": "markdown",
   "metadata": {
    "id": "QAOTO4i5VFqg"
   },
   "source": [
    "## Usando cookies 🍪\n",
    "\n",
    "Las [*cookies*](https://es.wikipedia.org/wiki/Cookie_(inform%C3%A1tica)) son bloques de datos creados por un servidor con información enviada por un sitio web y almacenada en el navegador del usuario, de manera que el sitio web puede consultar la actividad previa del navegador. \n",
    "\n",
    "Sus principales funciones son:\n",
    "\n",
    "* Recordar accesos para saber si ya se ha visitado la página (ejemplo: cuando nos *loggeamos* se guardan cookies).\n",
    "\n",
    "* Conocer información sobre los hábitos de navegación.\n",
    "\n",
    "También hay otro tipo de información que se guarda en algunas páginas que son las *sessions*, básicamente es un dato similar a una cookie pero que se guarda en el servidor en lugar de hacerlo en el cliente (nuestro navegador).\n",
    "\n",
    "Para algunos proyectos de *web scraping* puede ser útil interactuar con ellas."
   ]
  },
  {
   "cell_type": "code",
   "execution_count": null,
   "metadata": {
    "colab": {
     "base_uri": "https://localhost:8080/"
    },
    "id": "J9ToN5a0JswW",
    "outputId": "2c084848-3908-4fd6-eb5d-695a7949a11a"
   },
   "outputs": [],
   "source": [
    "import requests\n",
    "from IPython.display import HTML\n",
    "\n",
    "response = requests.get('https://www.kaggle.com/')\n",
    "\n",
    "# Obtenemos el atributo cookies\n",
    "cookies = response.cookies\n",
    "print(type(cookies))\n",
    "print([cookies])"
   ]
  },
  {
   "cell_type": "code",
   "execution_count": null,
   "metadata": {
    "colab": {
     "base_uri": "https://localhost:8080/"
    },
    "id": "GpPlQ7brg1__",
    "outputId": "4362a5f2-3ca0-4ce7-c62f-39c4a11f2725"
   },
   "outputs": [
    {
     "name": "stdout",
     "output_type": "stream",
     "text": [
      "domain:  www.kaggle.com\n",
      "name:  CLIENT-TOKEN\n",
      "value:  eyJhbGciOiJub25lIiwidHlwIjoiSldUIn0.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.\n",
      "------------------------\n",
      "domain:  www.kaggle.com\n",
      "name:  CSRF-TOKEN\n",
      "value:  CfDJ8LdUzqlsSWBPr4Ce3rb9VL8ZAvOxaIXRSNBQa4LDjb5ajR4LbGFqXlsl1yHPrV3-4aCQ9zQJsspddpRP-u_1VB_mh9mhEOlCPyuF7C5tzGyPmO5005DM4S1KXCGe9Su9jvie5MPmMzGhJmDcYEyVtVM\n",
      "------------------------\n",
      "domain:  www.kaggle.com\n",
      "name:  GCLB\n",
      "value:  CJXT5cu1xKWCJQ\n",
      "------------------------\n",
      "domain:  www.kaggle.com\n",
      "name:  XSRF-TOKEN\n",
      "value:  CfDJ8LdUzqlsSWBPr4Ce3rb9VL8ngJLc_OhYwFZd-CQxmyZnGEOVwga5FCx9v39D0ziPmJK1gV_aBrZQjwCPaxqiYKpKgUbfyo9OoBPYTjY5jbRdrq2xMpa8bso__32bhpu0nD7dsPqMG_tdxfdClHPO1Rs\n",
      "------------------------\n",
      "domain:  www.kaggle.com\n",
      "name:  ka_sessionid\n",
      "value:  f87ccffa4c82c115675514b69dac9406\n",
      "------------------------\n"
     ]
    }
   ],
   "source": [
    "# iteramos sobre las cookies en el cookie jar\n",
    "for cookie in cookies:\n",
    "  print('domain: ' ,cookie.domain)\n",
    "  print('name: ', cookie.name)\n",
    "  print('value: ', cookie.value)\n",
    "  print('------------------------')"
   ]
  },
  {
   "cell_type": "markdown",
   "metadata": {
    "id": "Jziv4geBHFmS"
   },
   "source": [
    "Podemos enviar cookies junto con nuestro request. Esto puede ser util para ciertos sitios que usan la ausencia de cookies como criterio para bloquear el acceso."
   ]
  },
  {
   "cell_type": "code",
   "execution_count": null,
   "metadata": {
    "colab": {
     "base_uri": "https://localhost:8080/"
    },
    "id": "8CM8ZB9cG0T8",
    "outputId": "8a7c0e39-1b4f-448f-c93d-6a4884934787"
   },
   "outputs": [
    {
     "name": "stdout",
     "output_type": "stream",
     "text": [
      "{'name': 'mi nombre', 'password': 'superSeguro1234'}\n"
     ]
    },
    {
     "data": {
      "text/plain": [
       "<Response [200]>"
      ]
     },
     "execution_count": 68,
     "metadata": {},
     "output_type": "execute_result"
    }
   ],
   "source": [
    "url = 'https://www.kaggle.com/'\n",
    "\n",
    "mis_cookies = {\n",
    "    'name':'mi nombre',\n",
    "    'password':'superSeguro1234'\n",
    "    }\n",
    "print(mis_cookies)\n",
    "\n",
    "# Mando mis propias cookies\n",
    "respuesta = requests.get(url, cookies=mis_cookies)\n",
    "\n",
    "respuesta"
   ]
  },
  {
   "cell_type": "markdown",
   "metadata": {
    "id": "w52rjRnsA0aK"
   },
   "source": [
    "## ¿Entonces me puedo descargar todo internet?\n",
    "\n",
    "En la próximas clases veremos algunas limitaciones de este método y sus alternativas. Mas allá de eso es importante ponerse de vez en cuando en el lugar del sitio del cual estamos descargando datos.\n",
    "\n",
    "\n",
    "Muchas veces las páginas web obtienen sus ingresos a partir del uso de usuarios tradicionales (humanos) pero no de los scrapers (máquinas). Por lo que estos no generan ganancias al sitio y encima pueden causar congestión en los servidores (Pudiendo causar incluso la rotura del sitio similar a lo que pasa con los [ataques DDOS](https://es.wikipedia.org/wiki/Ataque_de_denegaci%C3%B3n_de_servicio)).\n",
    "\n",
    "Por esta razón los sitios webs suelen tener una pagina [/robots.txt](https://es.wikipedia.org/wiki/Est%C3%A1ndar_de_exclusi%C3%B3n_de_robots) donde especifican que tipo de scrapeo prefieren evitar para poder mantener su sitio funcionando correctamente sin problemas.\n",
    "\n",
    "Pueden ver, como ejemplos:\n",
    "\n",
    "- https://www.google.com/robots.txt\n",
    "- https://en.wikipedia.org/robots.txt"
   ]
  }
 ],
 "metadata": {
  "colab": {
   "name": "2021_web_scraping_http_inicial.ipynb",
   "provenance": []
  },
  "instance_type": "ml.t3.medium",
  "interpreter": {
   "hash": "916dbcbb3f70747c44a77c7bcd40155683ae19c65e1c03b4aa3499c5328201f1"
  },
  "kernelspec": {
   "display_name": "Python 3",
   "language": "python",
   "name": "python3"
  },
  "language_info": {
   "codemirror_mode": {
    "name": "ipython",
    "version": 3
   },
   "file_extension": ".py",
   "mimetype": "text/x-python",
   "name": "python",
   "nbconvert_exporter": "python",
   "pygments_lexer": "ipython3",
   "version": "3.9.12"
  }
 },
 "nbformat": 4,
 "nbformat_minor": 2
}
